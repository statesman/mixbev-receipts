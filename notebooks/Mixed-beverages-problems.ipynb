{
 "cells": [
  {
   "cell_type": "markdown",
   "metadata": {
    "deletable": true,
    "editable": true
   },
   "source": [
    "# Mixed beverage data problems\n",
    "\n",
    "This Jupyter Notebook is part of a series that outlines problems with  [Mixed Beverage Gross Receipts](https://comptroller.texas.gov/taxes/mixed-beverage/receipts.php) files from the Texas Comptroller's [data center](https://comptroller.texas.gov/transparency/open-data/search-datasets/). It uses a python library called [agate](http://agate.readthedocs.io/) to clean and process that data.\n",
    "\n",
    "The mixbev_cleanup function does more than it needs to in this case since we just need to pivot by Report Date, but that extra cleaning does not hurt or change the result.\n",
    "\n",
    "This is a screenshot of the dataset site source code from May 27th, showing which files are connected to which title for the 2017 files:\n",
    "\n",
    "![2017_data](../data_problem/Screen_Shot_2017-05-27_at_9.40.44 PM.png)"
   ]
  },
  {
   "cell_type": "code",
   "execution_count": 1,
   "metadata": {
    "collapsed": false,
    "deletable": true,
    "editable": true
   },
   "outputs": [],
   "source": [
    "# imports the libraries we will use\n",
    "import agate\n",
    "from decimal import Decimal\n",
    "import re\n",
    "\n",
    "# this surpresses the timezone warning\n",
    "# Might comment out during development so other warnings\n",
    "# are not surpressed\n",
    "import warnings\n",
    "warnings.filterwarnings('ignore')"
   ]
  },
  {
   "cell_type": "code",
   "execution_count": 2,
   "metadata": {
    "collapsed": true
   },
   "outputs": [],
   "source": [
    "# Sets the tax rate to convert Report Tax to Gross Receipts\n",
    "# It's 6.7 since January 1, 2014\n",
    "tax_rate = Decimal('6.7')\n",
    "\n",
    "# sets the column names of the original data set.\n",
    "column_names = [\n",
    "    'TABC Permit Number',\n",
    "    'Trade Name',\n",
    "    'Location Address',\n",
    "    'Location City',\n",
    "    'Location State',\n",
    "    'Location Zip Code',\n",
    "    'Location County Code',\n",
    "    'Blank',\n",
    "    'Report Period',\n",
    "    'Report Tax'\n",
    "]\n",
    "# Helps us import some text fields that may be considered numbers in error.\n",
    "specified_types = {\n",
    "    'Location Zip Code': agate.Text(),\n",
    "    'Location County Code': agate.Text()\n",
    "}\n",
    "\n",
    "### MIXBEV CLEAN FUNCTION\n",
    "# This function cleans a raw mixbev file in a number of ways.\n",
    "# Details are outlined in comments below\n",
    "###\n",
    "def process_mixbev(title, path):\n",
    "\n",
    "    # splits the path to get the file name\n",
    "    file_name = path.rsplit('/', 1)[-1]\n",
    "\n",
    "    # creates file location to downloaded data\n",
    "    file_location = '../data_problem/' + file_name\n",
    "    \n",
    "    # this imports the file specified above, along with the proper types\n",
    "    mixbev_raw = agate.Table.from_csv(file_location, column_names, encoding='iso-8859-1', column_types=specified_types)\n",
    "\n",
    "    # mixbev_trim creates a new interim table with results of compute function\n",
    "    # that takes the four columns that need trimming and strips them of white space,\n",
    "    # adding them to the end of the table with new names.\n",
    "    # The last computation does the math to create the Gross Receipts\n",
    "    # column based on the tax_rate variable set above\n",
    "\n",
    "    mixbev_trim = mixbev_raw.compute([\n",
    "        ('Permit', agate.Formula(agate.Text(), lambda r: r['TABC Permit Number'].strip())),\n",
    "        ('Name', agate.Formula(agate.Text(), lambda r: r['Trade Name'].strip())),\n",
    "        ('Address', agate.Formula(agate.Text(), lambda r: r['Location Address'].strip())),\n",
    "        ('City', agate.Formula(agate.Text(), lambda r: r['Location City'].strip())),\n",
    "        ('Receipts_compute', agate.Formula(agate.Number(), lambda r: (r['Report Tax'] / tax_rate) * 100))\n",
    "    ])\n",
    "\n",
    "    # the Receipts_compute computation above returns as a decimal number,\n",
    "    # so this function rounds those numbers.\n",
    "    def round_receipt(row):\n",
    "        return row['Receipts_compute'].quantize(Decimal('0.01'))\n",
    "\n",
    "    # This compute method uses round_receipt function above,\n",
    "    # putting the results into a new table.\n",
    "    mixbev_round = mixbev_trim.compute([\n",
    "        ('Receipts', agate.Formula(agate.Number(), round_receipt))\n",
    "    ])\n",
    "\n",
    "    # creates new table, selecting just the columns we need\n",
    "    # then renames some of them for ease later.\n",
    "    mixbev_cleaned = mixbev_round.select([\n",
    "        'Permit',\n",
    "        'Name',\n",
    "        'Address',\n",
    "        'City',\n",
    "        'Location State',\n",
    "        'Location Zip Code',\n",
    "        'Location County Code',\n",
    "        'Report Period',\n",
    "        'Report Tax',\n",
    "        'Receipts'\n",
    "    ]).rename(column_names = {\n",
    "        'Location State': 'State',\n",
    "        'Location Zip Code': 'Zip',\n",
    "        'Location County Code': 'CountyCode',\n",
    "        'Report Period': 'Period',\n",
    "        'Report Tax': 'Tax'\n",
    "    })\n",
    "\n",
    "    # Concatenates the name and address for a new column, Establishment\n",
    "    # This is so we can find individual locations that might have the same\n",
    "    # name but different addresses\n",
    "    mixbev_cleaned_est = mixbev_cleaned.compute([\n",
    "        ('Establishment', agate.Formula(agate.Text(), lambda row: '%(Name)s %(Address)s' % row))\n",
    "    ])\n",
    "\n",
    "    # importing countes.csv, ensuring that the 'code' column is text\n",
    "    counties = agate.Table.from_csv('../resource-files/counties.csv', column_types={'code': agate.Text()})\n",
    "\n",
    "    # joines the counties table to the mixed bev cleaned data with establishments\n",
    "    mixbev_joined = mixbev_cleaned_est.join(counties, 'CountyCode', 'code')\n",
    "\n",
    "    # get just the columns we need and rename county\n",
    "    # THIS is the finished, cleaned mixbev table\n",
    "    mixbev = mixbev_joined.select([\n",
    "        'Permit',\n",
    "        'Name',\n",
    "        'Address',\n",
    "        'Establishment',\n",
    "        'City',\n",
    "        'State',\n",
    "        'Zip',\n",
    "        'county',\n",
    "        'Period',\n",
    "        'Tax',\n",
    "        'Receipts'\n",
    "    ]).rename(column_names = {\n",
    "        'county': 'County'\n",
    "    })\n",
    "\n",
    "    # Pivot the mixbev table by Period. Default it give a Count of the records\n",
    "    # We then order the table by Count in descending order\n",
    "    mixbev_by_period = mixbev.pivot('Period').order_by('Count', reverse=True)\n",
    "\n",
    "    \n",
    "    print('The entry titled:\\n {}\\n\\nThe file name is:\\n {}\\n'.format(\n",
    "            title,\n",
    "            file_name\n",
    "        ))\n",
    "\n",
    "    print('The count of records by Report Period is:\\n')\n",
    "    \n",
    "    # prints the table of period and number of records\n",
    "    mixbev_by_period.limit(5).print_table(max_rows=None)\n",
    "    \n",
    "    return(mixbev)"
   ]
  },
  {
   "cell_type": "markdown",
   "metadata": {
    "deletable": true,
    "editable": true
   },
   "source": [
    "### Looking at dates of the records\n",
    "\n",
    "This basically confirms that the file has multiple dates, and that we are looking at the right month of data. Typically a data set will have mostly reports from the previous month, but there are always also submissions from other months. We want to filter out those other months, which we do based on the `month_studied` variable set near the top of the file, which should match the period at the top of the table below.\n"
   ]
  },
  {
   "cell_type": "markdown",
   "metadata": {
    "deletable": true,
    "editable": true
   },
   "source": [
    "### Investigate mixbev files\n",
    "\n",
    "I downloaded the file from Texas Transparency, but these values are saved to explain/print them:\n",
    "\n",
    "- `mon_year_file_path` is the url to the file on the comptroller's website\n",
    "- `mon_year_downloaded` is the file location once downloaded\n",
    "- `mon_year_file_name` is the filename as it existed the comptrollers' website\n",
    "- `mon_year_title` is the title used for that file on the agency's website\n"
   ]
  },
  {
   "cell_type": "code",
   "execution_count": null,
   "metadata": {
    "collapsed": false,
    "deletable": true,
    "editable": true
   },
   "outputs": [
    {
     "name": "stdout",
     "output_type": "stream",
     "text": [
      "The entry titled:\n",
      " Mixed Beverage Tax Receipts - DEC 2016\n",
      "\n",
      "The file name is:\n",
      " MIXEDBEV_12_2016.CSV\n",
      "\n",
      "The count of records by Report Period is:\n",
      "\n",
      "| Period  |  Count |\n",
      "| ------- | ------ |\n",
      "| 2016/11 | 14,224 |\n",
      "| 2016/10 |  1,624 |\n",
      "| 2016/09 |    158 |\n",
      "| 2016/08 |     48 |\n",
      "| 2016/12 |     41 |\n"
     ]
    }
   ],
   "source": [
    "### Mixed Beverage Tax Receipts - DEC 2016\n",
    "dec_2016_title = 'Mixed Beverage Tax Receipts - DEC 2016'\n",
    "dec_2016_file_path = 'https://comptroller.texas.gov/auto-data/odc/MIXEDBEV_12_2016.CSV'\n",
    "\n",
    "dec_mixbev = process_mixbev(dec_2016_title, dec_2016_file_path)"
   ]
  },
  {
   "cell_type": "code",
   "execution_count": null,
   "metadata": {
    "collapsed": false
   },
   "outputs": [],
   "source": [
    "### Mixed Beverage Tax Receipts - JAN 2017\n",
    "jan_2017_title = 'Mixed Beverage Tax Receipts - JAN 2017'\n",
    "jan_2017_file_path = 'https://comptroller.texas.gov/auto-data/odc/MIXEDBEV_03_2017.CSV'\n",
    "\n",
    "jan_2017_mixbev = process_mixbev(jan_2017_title, jan_2017_file_path)"
   ]
  },
  {
   "cell_type": "code",
   "execution_count": null,
   "metadata": {
    "collapsed": false,
    "deletable": true,
    "editable": true
   },
   "outputs": [],
   "source": [
    "### Mixed Beverage Tax Receipts - FEB 2017\n",
    "feb_2017_title = 'Mixed Beverage Tax Receipts - FEB 2017'\n",
    "feb_2017_file_path = 'https://comptroller.texas.gov/auto-data/odc/MIXEDBEV_04_2017.CSV'\n",
    "\n",
    "feb_2017_mixbev = process_mixbev(feb_2017_title, feb_2017_file_path)"
   ]
  },
  {
   "cell_type": "code",
   "execution_count": null,
   "metadata": {
    "collapsed": false,
    "deletable": true,
    "editable": true
   },
   "outputs": [],
   "source": [
    "### Mixed Beverage Tax Receipts - MAR 2017\n",
    "mar_2017_title = 'Mixed Beverage Tax Receipts - MAR 2017'\n",
    "mar_2017_file_path = 'https://comptroller.texas.gov/auto-data/odc/MIXEDBEV_05_2017.CSV'\n",
    "\n",
    "mar_2017_mixbev = process_mixbev(mar_2017_title, mar_2017_file_path)"
   ]
  },
  {
   "cell_type": "code",
   "execution_count": null,
   "metadata": {
    "collapsed": true
   },
   "outputs": [],
   "source": []
  }
 ],
 "metadata": {
  "kernelspec": {
   "display_name": "Python 3",
   "language": "python",
   "name": "python3"
  },
  "language_info": {
   "codemirror_mode": {
    "name": "ipython",
    "version": 3
   },
   "file_extension": ".py",
   "mimetype": "text/x-python",
   "name": "python",
   "nbconvert_exporter": "python",
   "pygments_lexer": "ipython3",
   "version": "3.5.1"
  }
 },
 "nbformat": 4,
 "nbformat_minor": 2
}
