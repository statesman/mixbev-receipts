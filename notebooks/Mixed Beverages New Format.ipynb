{
 "cells": [
  {
   "cell_type": "markdown",
   "metadata": {},
   "source": [
    "# Processing mixed beverage data\n",
    "\n",
    "This Jupyter Notebook uses data.texas.gov [Mixed Beverage Gross Receipts data](https://data.texas.gov/Government-and-Taxes/Mixed-Beverage-Gross-Receipts/naix-2893), and then a python library called [agate](http://agate.readthedocs.io/) to clean and process that data for [stories similar to this one](http://www.mystatesman.com/business/austin-alcohol-sales-percent-february/Oo2txZUkuDlqBl0rU9O1lJ/) on monthly alcohol sales.\n",
    "\n",
    "This is a work in progress.\n",
    "\n",
    "- The first version will use a downloaded file to process. The data is in a new format, so it has to be reworked\n",
    "- The second phase will work on pulling the data directly from Socrata."
   ]
  },
  {
   "cell_type": "code",
   "execution_count": 6,
   "metadata": {
    "collapsed": false
   },
   "outputs": [],
   "source": [
    "# import libraries\n",
    "import agate"
   ]
  },
  {
   "cell_type": "code",
   "execution_count": 2,
   "metadata": {
    "collapsed": true
   },
   "outputs": [],
   "source": [
    "# this surpresses the timezone warning\n",
    "# Might comment out during development so other warnings\n",
    "# are not surpressed\n",
    "import warnings\n",
    "warnings.filterwarnings('ignore')"
   ]
  },
  {
   "cell_type": "markdown",
   "metadata": {},
   "source": [
    "Show downloaded files. The path is `../mixbev-files/YYYY`. There are also oder files in `../mixbev-files/old-format/`"
   ]
  },
  {
   "cell_type": "code",
   "execution_count": 48,
   "metadata": {
    "collapsed": false
   },
   "outputs": [
    {
     "name": "stdout",
     "output_type": "stream",
     "text": [
      "Mixed_Beverage_Gross_Receipts_2017_09.csv\r\n",
      "Mixed_Beverage_Gross_Receipts_2017_10.csv\r\n"
     ]
    }
   ],
   "source": [
    "ls ../mixbev-files/2017"
   ]
  },
  {
   "cell_type": "markdown",
   "metadata": {},
   "source": [
    "## Import the file\n",
    "\n",
    "We'll set some project variables, including the file name, and then import the data into agate."
   ]
  },
  {
   "cell_type": "code",
   "execution_count": 49,
   "metadata": {
    "collapsed": true
   },
   "outputs": [],
   "source": [
    "# This is the source file, which should be donwloaded\n",
    "file = '../mixbev-files/2017/Mixed_Beverage_Gross_Receipts_2017_09.csv'"
   ]
  },
  {
   "cell_type": "code",
   "execution_count": 50,
   "metadata": {
    "collapsed": false
   },
   "outputs": [
    {
     "name": "stdout",
     "output_type": "stream",
     "text": [
      "| column                     | data_type |\n",
      "| -------------------------- | --------- |\n",
      "| Taxpayer Number            | Text      |\n",
      "| Taxpayer Name              | Text      |\n",
      "| Taxpayer Address           | Text      |\n",
      "| Taxpayer City              | Text      |\n",
      "| Taxpayer State             | Text      |\n",
      "| Taxpayer Zip               | Text      |\n",
      "| Taxpayer County            | Text      |\n",
      "| Location Number            | Text      |\n",
      "| Location Name              | Text      |\n",
      "| Location Address           | Text      |\n",
      "| Location City              | Text      |\n",
      "| Location State             | Text      |\n",
      "| Location Zip               | Text      |\n",
      "| Location County            | Text      |\n",
      "| Inside/Outside City Limits | Boolean   |\n",
      "| TABC Permit Number         | Text      |\n",
      "| Responsibility Begin Date  | Date      |\n",
      "| Responsibility End Date    | Date      |\n",
      "| Obligation End Date        | Date      |\n",
      "| Liquor Receipts            | Number    |\n",
      "| Wine Receipts              | Number    |\n",
      "| Beer Receipts              | Number    |\n",
      "| Cover Charge Receipts      | Number    |\n",
      "| Total Receipts             | Number    |\n",
      "\n"
     ]
    }
   ],
   "source": [
    "#Helps us import some text fields that may be considered numbers in error.\n",
    "specified_types = {\n",
    "    'Taxpayer Number': agate.Text(),\n",
    "    'Location Number': agate.Text(),\n",
    "    'Taxpayer Zip': agate.Text(),\n",
    "    'Location Zip': agate.Text(),\n",
    "    'Location County': agate.Text(),\n",
    "    'Taxpayer County': agate.Text()\n",
    "}\n",
    "\n",
    "# this imports the file specified above, along with the proper types\n",
    "mixbev_raw = agate.Table.from_csv(file, column_types=specified_types)\n",
    "\n",
    "# prints table fields so we an check thoes data types\n",
    "print(mixbev_raw)"
   ]
  },
  {
   "cell_type": "markdown",
   "metadata": {},
   "source": [
    "## Create establishment column\n",
    "\n",
    "We do this so we make sure we have single establishments instead of grouping trade names together from different addresses, like 'CHILI'S BAR & GRILL'."
   ]
  },
  {
   "cell_type": "code",
   "execution_count": 51,
   "metadata": {
    "collapsed": false
   },
   "outputs": [],
   "source": [
    "# Concatenates the name and address\n",
    "mixbev_establishment = mixbev_raw.compute([\n",
    "    ('Establishment', agate.Formula(agate.Text(), lambda row: '%(Location Name)s (%(Location Address)s)' % row))\n",
    "])\n",
    "\n",
    "# Uncomment line below to print Establishment to check what is looks like\n",
    "# mixbev_establishment.select('Establishment').limit(5).print_table(max_column_width=80)"
   ]
  },
  {
   "cell_type": "markdown",
   "metadata": {},
   "source": [
    "## Import and merge counties lookup table\n",
    "\n",
    "We do this to get county names. I got this list from the comptroller.\n",
    "\n",
    "NOTE: Wisdom would suggest we join on the code column from counites, but the data.texas.gov data does not have the zero padding from those values, so I'm using the id column."
   ]
  },
  {
   "cell_type": "code",
   "execution_count": 52,
   "metadata": {
    "collapsed": false
   },
   "outputs": [],
   "source": [
    "# importing countes.csv, ensuring that the 'code' column is text\n",
    "counties = agate.Table.from_csv('../resource-files/counties.csv', column_types={\n",
    "    'code': agate.Text(),\n",
    "    'id': agate.Text()\n",
    "})\n",
    "\n",
    "# uncomment below to peek at the column names and an example\n",
    "# print(counties)\n",
    "# counties.limit(5).print_table()\n",
    "\n",
    "# joines the counties table to the mixed bev cleaned data with establishments\n",
    "mixbev_joined = mixbev_establishment.join(counties, 'Location County', 'id')\n",
    "\n",
    "# uncomment below if you want to check that the merge was succesful \n",
    "# print(mixbev_joined)"
   ]
  },
  {
   "cell_type": "code",
   "execution_count": 53,
   "metadata": {
    "collapsed": false
   },
   "outputs": [
    {
     "name": "stdout",
     "output_type": "stream",
     "text": [
      "| column        | data_type |\n",
      "| ------------- | --------- |\n",
      "| Name          | Text      |\n",
      "| Address       | Text      |\n",
      "| Establishment | Text      |\n",
      "| City          | Text      |\n",
      "| State         | Text      |\n",
      "| Zip           | Text      |\n",
      "| County        | Text      |\n",
      "| Receipts      | Number    |\n",
      "| Report date   | Date      |\n",
      "\n"
     ]
    }
   ],
   "source": [
    "# get just the columns we need and rename county\n",
    "# THIS is the finished, cleaned mixbev table\n",
    "mixbev = mixbev_joined.select([\n",
    "    'Location Name',\n",
    "    'Location Address',\n",
    "    'Establishment',\n",
    "    'Location City',\n",
    "    'Location State',\n",
    "    'Location Zip',\n",
    "    'county',\n",
    "    'Total Receipts',\n",
    "    'Obligation End Date'\n",
    "]).rename(column_names = {\n",
    "    'Location Name' : 'Name',\n",
    "    'Location Address' : 'Address',\n",
    "    'Location City': 'City',\n",
    "    'Location State': 'State',\n",
    "    'Location Zip': 'Zip',\n",
    "    'Total Receipts' : 'Receipts',\n",
    "    'county': 'County',\n",
    "    'Obligation End Date': 'Report date'\n",
    "})\n",
    "\n",
    "# peek at the column names\n",
    "print(mixbev)"
   ]
  },
  {
   "cell_type": "markdown",
   "metadata": {},
   "source": [
    "## Location sums function\n",
    "\n",
    "Because we want to get the top sellers in a bunch of cities and couties, we create a function so we don't have to repeat the code. This function allows us to pass in a city or county name to filter the monthly receipts table and then sum the Tax and Receipts columns. The result can then be acted on to print or aggreggate. It is used later in the file."
   ]
  },
  {
   "cell_type": "code",
   "execution_count": 54,
   "metadata": {
    "collapsed": true
   },
   "outputs": [],
   "source": [
    "# function to group sales by a specific location\n",
    "# City or County passed in should be ALL CAPS\n",
    "# Location_type can be 'City' or 'County'\n",
    "\n",
    "def location_sum(location_type, location):\n",
    "    # Filters the data to the specified city\n",
    "    location_filtered = mixbev.where(lambda row: row[location_type].upper() == location)\n",
    "\n",
    "    # groups the data based on Establishment and location\n",
    "    location_grouped = location_filtered.group_by('Establishment').group_by(location_type)\n",
    "    # computes the sales based on the grouping\n",
    "    location_summary = location_grouped.aggregate([\n",
    "        ('Receipts_sum', agate.Sum('Receipts'))\n",
    "    ])\n",
    "    \n",
    "    # sorts the results by most sold\n",
    "    location_summary_sorted = location_summary.order_by('Receipts_sum', reverse=True)\n",
    "    # prints the top 10 results\n",
    "    \n",
    "    return(location_summary_sorted)"
   ]
  },
  {
   "cell_type": "code",
   "execution_count": 55,
   "metadata": {
    "collapsed": false
   },
   "outputs": [
    {
     "name": "stdout",
     "output_type": "stream",
     "text": [
      "| Report date |\n",
      "| ----------- |\n",
      "|  2017-09-30 |\n",
      "\n",
      "Number of records in table: 15536\n"
     ]
    }
   ],
   "source": [
    "# double-checking I'm looking at one report data\n",
    "mixbev_dates = mixbev.select('Report date').distinct('Report date')\n",
    "mixbev_dates.print_table()\n",
    "print('\\nNumber of records in table: {}'.format(\n",
    "        len(mixbev))\n",
    "     )"
   ]
  },
  {
   "cell_type": "markdown",
   "metadata": {},
   "source": [
    "## Top sales statewide\n",
    "\n",
    "Because we want to group our results by more than one field and perform more than one aggregation, we'll do this a little differently. We'll use group_by to create a grouped table, then perform aggregations on that new table to computer the Tax and Receipts columns."
   ]
  },
  {
   "cell_type": "code",
   "execution_count": 56,
   "metadata": {
    "collapsed": false,
    "scrolled": true
   },
   "outputs": [
    {
     "name": "stdout",
     "output_type": "stream",
     "text": [
      "Total statewide sales for this month are: 572120305\n",
      "\n",
      "| Establishment                            | County  | City        | Sales_sum |\n",
      "| ---------------------------------------- | ------- | ----------- | --------- |\n",
      "| AT&T STADIUM (1 LEGENDS WAY)             | Tarrant | ARLINGTON   | 3,883,207 |\n",
      "| GAYLORD TEXAN (1501 GAYLORD TRL)         | Tarrant | GRAPEVINE   | 1,739,696 |\n",
      "| HOSPITALITY INTERNATIONAL, INC. (2380... | Bexar   | SAN ANTONIO | 1,376,321 |\n",
      "| WLS BEVERAGE CO (110 E 2ND ST)           | Travis  | AUSTIN      | 1,100,292 |\n",
      "| OMNI DALLAS CONVENTION CENTER (555 S ... | Dallas  | DALLAS      |   983,038 |\n",
      "| ARAMARK SPORTS & ENTERTAINMENT SERVIC... | Harris  | HOUSTON     |   948,918 |\n",
      "| METROPLEX SPORTSERVICE, INC. (1000 BA... | Tarrant | ARLINGTON   |   902,437 |\n",
      "| RYAN SANDERS SPORTS SERVICES, LLC (92... | Travis  | DEL VALLE   |   873,760 |\n",
      "| HAPPIEST HOUR, LLC (2616 OLIVE ST)       | Dallas  | DALLAS      |   830,658 |\n",
      "| SALC, INC. (2201 N STEMMONS FWY FL 1)    | Dallas  | DALLAS      |   801,019 |\n"
     ]
    }
   ],
   "source": [
    "# summing sales statewide for month\n",
    "\n",
    "print('Total statewide sales for this month are: {}\\n'.format(\n",
    "    mixbev.aggregate(agate.Sum('Receipts')) # <<< I should format better\n",
    "))\n",
    "\n",
    "# groups the data based on Establishment and City\n",
    "mixbev_grouped = mixbev.group_by('Establishment').group_by('County').group_by('City')\n",
    "\n",
    "# computes the sales based on the grouping\n",
    "state_summary = mixbev_grouped.aggregate([\n",
    "    ('Sales_sum', agate.Sum('Receipts'))\n",
    "])\n",
    "\n",
    "# sorts the results by most sold. We could probalby chain it above if we wanted to.\n",
    "state_summary_sorted = state_summary.order_by('Sales_sum', reverse=True)\n",
    "\n",
    "# prints the top 10 results\n",
    "state_summary_sorted.limit(10).print_table(max_column_width=40)\n"
   ]
  },
  {
   "cell_type": "markdown",
   "metadata": {},
   "source": [
    "## Austin sales and sums\n",
    "\n",
    "With this, we refernce the location_sum function above, and pass the type of location (City) and the name of the city (AUSTIN). At the same time, we limit the result of that function to the first 10 records, and then print the results. We are basically stringing together a bunch of stuff at once."
   ]
  },
  {
   "cell_type": "code",
   "execution_count": 57,
   "metadata": {
    "collapsed": false
   },
   "outputs": [
    {
     "name": "stdout",
     "output_type": "stream",
     "text": [
      "Total sales in Austin are: 64426348\n",
      "\n",
      "Top sellers in Austin are:\n",
      "\n",
      "| Establishment                                                | City   | Receipts_sum |\n",
      "| ------------------------------------------------------------ | ------ | ------------ |\n",
      "| WLS BEVERAGE CO (110 E 2ND ST)                               | AUSTIN |    1,100,292 |\n",
      "| ROSE ROOM/ 77 DEGREES (11500 ROCK ROSE AVE)                  | AUSTIN |      585,686 |\n",
      "| 400 BAR/CUCARACHA/CHUPACABRA/JACKALOPE/MOOSENUCKLE (400 E... | AUSTIN |      503,352 |\n",
      "| BLIND PIG PUB / PIG PEN (317 E 6TH ST)                       | AUSTIN |      502,440 |\n",
      "| W HOTEL AUSTIN (200 LAVACA ST)                               | AUSTIN |      441,207 |\n"
     ]
    }
   ],
   "source": [
    "# Austin total sales as s city\n",
    "# This sums the grouped table, but it works\n",
    "\n",
    "print('Total sales in Austin are: {}\\n'.format(\n",
    "    location_sum('City', 'AUSTIN').aggregate(agate.Sum('Receipts_sum'))\n",
    "))\n",
    "\n",
    "# uses the city_sum function to filter\n",
    "austin = location_sum('City', 'AUSTIN')\n",
    "\n",
    "\n",
    "# print the resulting table\n",
    "print('Top sellers in Austin are:\\n')\n",
    "austin.limit(5).print_table(max_column_width=60)"
   ]
  },
  {
   "cell_type": "markdown",
   "metadata": {},
   "source": [
    "## More Central Texas cities"
   ]
  },
  {
   "cell_type": "code",
   "execution_count": 71,
   "metadata": {
    "collapsed": false
   },
   "outputs": [
    {
     "name": "stdout",
     "output_type": "stream",
     "text": [
      "| Establishment                                                | City    | Receipts_sum |\n",
      "| ------------------------------------------------------------ | ------- | ------------ |\n",
      "| OLD TOWN RESTURANT AND BAR/PINEY CREEK CHOP HOUSE (931 MA... | BASTROP |       61,145 |\n",
      "| BACK 9 (834 HIGHWAY 71 W)                                    | BASTROP |       46,248 |\n",
      "| CHILI'S GRILL & BAR (734 HIGHWAY 71 W)                       | BASTROP |       40,163 |\n",
      "| NEIGHBOR'S (601 CHESTNUT ST UNIT C)                          | BASTROP |       33,228 |\n",
      "| LA HACIENDA RESTAURANT (1800 WALNUT ST)                      | BASTROP |       23,257 |\n",
      "\n",
      "\n",
      "| Establishment                                         | City     | Receipts_sum |\n",
      "| ----------------------------------------------------- | -------- | ------------ |\n",
      "| WOODY TAVERN AND GRILL, INC. (12801 SHOPS PKWY # 100) | BEE CAVE |      110,075 |\n",
      "| MAUDIE'S HILL COUNTRY, LLC (12506 SHOPS PKWY)         | BEE CAVE |       82,482 |\n",
      "| HCG BEVERAGE, LLC (12525 BEE CAVE PKWY)               | BEE CAVE |       71,146 |\n",
      "\n",
      "\n",
      "| Establishment                                               | City | Receipts_sum |\n",
      "| ----------------------------------------------------------- | ---- | ------------ |\n",
      "| BUCKS BACKYARD (1750 S FM 1626)                             | BUDA |       86,184 |\n",
      "| WILLIE'S JOINT (824 MAIN ST)                                | BUDA |       68,370 |\n",
      "| NATE'S AT BUDA MILL AND GRAIN, INC. (306 S MAIN ST STE 101) | BUDA |       55,488 |\n",
      "\n",
      "\n",
      "| Establishment                                                | City       | Receipts_sum |\n",
      "| ------------------------------------------------------------ | ---------- | ------------ |\n",
      "| THE GROVE WINE BAR AND KITCHEN (1310 E WHITESTONE BLVD # ... | CEDAR PARK |      167,006 |\n",
      "| CHUY'S (4911 183A TOLL RD)                                   | CEDAR PARK |      140,079 |\n",
      "| LUPE TORTILLA MEXICAN RESTAURANT (4501 183A TOLL RD STE B)   | CEDAR PARK |      102,773 |\n",
      "\n",
      "\n",
      "| Establishment                                             | City             | Receipts_sum |\n",
      "| --------------------------------------------------------- | ---------------- | ------------ |\n",
      "| TREATY OAK BREWING AND DISTILLING CO. (16604 FITZHUGH RD) | DRIPPING SPRINGS |      101,136 |\n",
      "| DEEP EDDY DISTILLING CO (2250 E HIGHWAY 290)              | DRIPPING SPRINGS |       70,551 |\n",
      "| TRUDY'S FOUR STAR (13059 FOUR STAR BLVD)                  | DRIPPING SPRINGS |       67,118 |\n",
      "\n",
      "\n",
      "| Establishment                              | City       | Receipts_sum |\n",
      "| ------------------------------------------ | ---------- | ------------ |\n",
      "| EL MONUMENTO (205 W 2ND ST)                | GEORGETOWN |       87,315 |\n",
      "| HARDTAILS (1515 N IH 35)                   | GEORGETOWN |       80,407 |\n",
      "| GATEWAY BEVERAGES, INC (1101 WOODLAWN AVE) | GEORGETOWN |       72,574 |\n",
      "\n",
      "\n",
      "| Establishment                                           | City | Receipts_sum |\n",
      "| ------------------------------------------------------- | ---- | ------------ |\n",
      "| CASA GARCIA'S MEXICAN RESTAURANT (5401 FM 1626 STE 300) | KYLE |       76,019 |\n",
      "| EVO ENTERTAINMENT CENTER (3200 KYLE XING)               | KYLE |       50,904 |\n",
      "| CENTERFIELD SPORTS BAR & GRILL (200 W CENTER ST)        | KYLE |       40,444 |\n",
      "\n",
      "\n",
      "| Establishment                                                | City       | Receipts_sum |\n",
      "| ------------------------------------------------------------ | ---------- | ------------ |\n",
      "| THE GNARLY GAR (18200 LAKEPOINT CV)                          | LAGO VISTA |       82,191 |\n",
      "| COPPERHEAD GRILL (6115 LOHMANS FORD RD)                      | LAGO VISTA |       16,583 |\n",
      "| MARIA'S BAR & GRILL MEXICAN RESTAURANT (20602 FM 1431 STE... | LAGO VISTA |        6,770 |\n",
      "\n",
      "\n",
      "| Establishment                                          | City    | Receipts_sum |\n",
      "| ------------------------------------------------------ | ------- | ------------ |\n",
      "| THE GROVE WINE BAR AND KITCHEN (3001 RANCH ROAD 620 S) | LAKEWAY |      116,655 |\n",
      "| LAKEWAY RESORT AND SPA (101 LAKEWAY DR)                | LAKEWAY |      115,085 |\n",
      "| MCARTHUR'S (1516 RANCH ROAD 620 S STE F200)            | LAKEWAY |       69,535 |\n",
      "\n",
      "\n",
      "| Establishment                                          | City    | Receipts_sum |\n",
      "| ------------------------------------------------------ | ------- | ------------ |\n",
      "| BROOKLYN HEIGHTS PIZZERIA (3550 LAKELINE BLVD STE 135) | LEANDER |       64,861 |\n",
      "| JARDIN DEL REY (703 S HIGHWAY 183)                     | LEANDER |       39,336 |\n",
      "| VOLENTE BEACH/VIP MARINA (16107 WHARF CV)              | LEANDER |       23,312 |\n",
      "\n",
      "\n",
      "| Establishment                                        | City         | Receipts_sum |\n",
      "| ---------------------------------------------------- | ------------ | ------------ |\n",
      "| JARDIN CORONA (15395 W STATE HIGHWAY 29)             | LIBERTY HILL |       45,522 |\n",
      "| MARGARITA'S RESTAURANT (10280 W STATE HIGHWAY 29)    | LIBERTY HILL |       36,485 |\n",
      "| ELENAS MEXICAN RESTAURANT (14801 W STATE HIGHWAY 29) | LIBERTY HILL |        6,169 |\n",
      "\n",
      "\n",
      "| Establishment                              | City         | Receipts_sum |\n",
      "| ------------------------------------------ | ------------ | ------------ |\n",
      "| MAVERICKS (1700 GRAND AVENUE PKWY STE 240) | PFLUGERVILLE |      163,811 |\n",
      "| HANOVER'S DRAUGHT HAUS (108 E MAIN ST)     | PFLUGERVILLE |       73,795 |\n",
      "| MARSHALL'S TAVERN (113 E PECAN ST)         | PFLUGERVILLE |       61,851 |\n",
      "\n",
      "\n",
      "| Establishment                                             | City       | Receipts_sum |\n",
      "| --------------------------------------------------------- | ---------- | ------------ |\n",
      "| THIRD BASE ROUND ROCK, LLC (3107 S INTERSTATE 35 STE 810) | ROUND ROCK |      150,186 |\n",
      "| RICK'S CABARET (3105 S INTERSTATE 35)                     | ROUND ROCK |      145,748 |\n",
      "| CHUY'S ROUND ROCK (2320 N INTERSTATE 35)                  | ROUND ROCK |      144,859 |\n",
      "| TWIN PEAKS RESTAURANT (100 LOUIS HENNA BLVD)              | ROUND ROCK |      127,180 |\n",
      "| JACK ALLEN'S KITCHEN (2500 HOPPE TRL)                     | ROUND ROCK |      125,746 |\n",
      "\n",
      "\n",
      "| Establishment                           | City       | Receipts_sum |\n",
      "| --------------------------------------- | ---------- | ------------ |\n",
      "| THE MARC (120 E SAN ANTONIO ST)         | SAN MARCOS |      152,251 |\n",
      "| ZELICKS (336 W HOPKINS ST)              | SAN MARCOS |      117,330 |\n",
      "| CHIMY'S SAN MARCOS (217 E HOPKINS ST)   | SAN MARCOS |      116,701 |\n",
      "| MAYLOO'S (138 N LBJ DR)                 | SAN MARCOS |      106,627 |\n",
      "| CRAFTHOUSE KITCHEN & TAP (242 N LBJ DR) | SAN MARCOS |      104,495 |\n",
      "\n",
      "\n",
      "| Establishment                                        | City      | Receipts_sum |\n",
      "| ---------------------------------------------------- | --------- | ------------ |\n",
      "| ANGEL'S ICEHOUSE (21815 W HWY 71)                    | SPICEWOOD |       60,301 |\n",
      "| POODIES HILLTOP ROADHOUSE (22308 STATE HIGHWAY 71 W) | SPICEWOOD |       44,900 |\n",
      "| APIS RESTAURANT (23526 STATE HIGHWAY 71 W)           | SPICEWOOD |       25,077 |\n",
      "\n",
      "\n",
      "| Establishment                                          | City          | Receipts_sum |\n",
      "| ------------------------------------------------------ | ------------- | ------------ |\n",
      "| DOC'S BACKYARD (5207 BRODIE LN # 100)                  | SUNSET VALLEY |       90,693 |\n",
      "| BJ'S RESTAURANT AND BREWHOUSE (5207 BRODIE LN STE 300) | SUNSET VALLEY |       60,982 |\n",
      "| CANE ROSSO (4715 S LAMAR BLVD STE 103)                 | SUNSET VALLEY |       28,976 |\n",
      "\n",
      "\n",
      "| Establishment                                                | City            | Receipts_sum |\n",
      "| ------------------------------------------------------------ | --------------- | ------------ |\n",
      "| LUPE TORTILLA MEXICAN RESTAURANT (701 S CAPITAL OF TEXAS ... | WEST LAKE HILLS |       90,095 |\n",
      "| CHIPOTLE CHIPOTLE MEXICAN GRILL CHIPOTLE BURRITOS (3300 B... | WEST LAKE HILLS |          781 |\n"
     ]
    }
   ],
   "source": [
    "# move these to separate cells so they don't scroll\n",
    "location_sum('City', 'BASTROP').limit(5).print_table(max_column_width=60)\n",
    "print('\\n')\n",
    "location_sum('City', 'BEE CAVE').limit(3).print_table(max_column_width=60)\n",
    "print('\\n')\n",
    "location_sum('City', 'BUDA').limit(3).print_table(max_column_width=60)\n",
    "print('\\n')\n",
    "location_sum('City', 'CEDAR PARK').limit(3).print_table(max_column_width=60)\n",
    "print('\\n')\n",
    "location_sum('City', 'DRIPPING SPRINGS').limit(3).print_table(max_column_width=60)\n",
    "print('\\n')\n",
    "location_sum('City', 'GEORGETOWN').limit(3).print_table(max_column_width=60)\n",
    "print('\\n')\n",
    "location_sum('City', 'KYLE').limit(3).print_table(max_column_width=60)\n",
    "print('\\n')\n",
    "location_sum('City', 'LAGO VISTA').limit(3).print_table(max_column_width=60)\n",
    "print('\\n')\n",
    "location_sum('City', 'LAKEWAY').limit(3).print_table(max_column_width=60)\n",
    "print('\\n')\n",
    "location_sum('City', 'LEANDER').limit(3).print_table(max_column_width=60)\n",
    "print('\\n')\n",
    "location_sum('City', 'LIBERTY HILL').limit(3).print_table(max_column_width=60)\n",
    "print('\\n')\n",
    "location_sum('City', 'PFLUGERVILLE').limit(3).print_table(max_column_width=60)\n",
    "print('\\n')\n",
    "location_sum('City', 'ROUND ROCK').limit(5).print_table(max_column_width=60)\n",
    "print('\\n')\n",
    "location_sum('City', 'SAN MARCOS').limit(5).print_table(max_column_width=60)\n",
    "print('\\n')\n",
    "location_sum('City', 'SPICEWOOD').limit(3).print_table(max_column_width=60)\n",
    "print('\\n')\n",
    "location_sum('City', 'SUNSET VALLEY').limit(3).print_table(max_column_width=60)\n",
    "print('\\n')\n",
    "location_sum('City', 'WEST LAKE HILLS').limit(3).print_table(max_column_width=60)\n"
   ]
  },
  {
   "cell_type": "markdown",
   "metadata": {},
   "source": [
    "## Sales by county\n",
    "In this case, we pass in the location type of 'County' and then a county name in caps to get the most sales in a particular county."
   ]
  },
  {
   "cell_type": "code",
   "execution_count": 72,
   "metadata": {
    "collapsed": false
   },
   "outputs": [
    {
     "name": "stdout",
     "output_type": "stream",
     "text": [
      "| Establishment                                                   | County  | Receipts_sum |\n",
      "| --------------------------------------------------------------- | ------- | ------------ |\n",
      "| LOST PINES BEVERAGE LLC (575 HYATT LOST PINES ROAD)             | Bastrop |      336,342 |\n",
      "| OLD TOWN RESTURANT AND BAR/PINEY CREEK CHOP HOUSE (931 MAIN ST) | Bastrop |       61,145 |\n",
      "| BACK 9 (834 HIGHWAY 71 W)                                       | Bastrop |       46,248 |\n",
      "| CHILI'S GRILL & BAR (734 HIGHWAY 71 W)                          | Bastrop |       40,163 |\n",
      "| NEIGHBOR'S (601 CHESTNUT ST UNIT C)                             | Bastrop |       33,228 |\n",
      "\n",
      "\n",
      "| Establishment                                               | County   | Receipts_sum |\n",
      "| ----------------------------------------------------------- | -------- | ------------ |\n",
      "| RISKY BUSINESS (211 E MARKET ST)                            | Caldwell |       20,681 |\n",
      "| GUADALAJARA MEXICAN RESTAURANT (1710 S COLORADO ST STE 110) | Caldwell |       19,355 |\n",
      "| THE PEARL (110 N MAIN ST)                                   | Caldwell |       15,451 |\n",
      "| MR TACO (1132 E PIERCE ST)                                  | Caldwell |        8,965 |\n",
      "| LOCKHART BISTRO (119 E SAN ANTONIO ST)                      | Caldwell |        8,013 |\n",
      "\n",
      "\n",
      "| Establishment                           | County | Receipts_sum |\n",
      "| --------------------------------------- | ------ | ------------ |\n",
      "| THE MARC (120 E SAN ANTONIO ST)         | Hays   |      152,251 |\n",
      "| ZELICKS (336 W HOPKINS ST)              | Hays   |      117,330 |\n",
      "| CHIMY'S SAN MARCOS (217 E HOPKINS ST)   | Hays   |      116,701 |\n",
      "| MAYLOO'S (138 N LBJ DR)                 | Hays   |      106,627 |\n",
      "| CRAFTHOUSE KITCHEN & TAP (242 N LBJ DR) | Hays   |      104,495 |\n",
      "\n",
      "\n",
      "| Establishment                                                         | County | Receipts_sum |\n",
      "| --------------------------------------------------------------------- | ------ | ------------ |\n",
      "| WLS BEVERAGE CO (110 E 2ND ST)                                        | Travis |    1,100,292 |\n",
      "| RYAN SANDERS SPORTS SERVICES, LLC (9201 CIRCUIT OF THE AMERICAS BLVD) | Travis |      873,760 |\n",
      "| ROSE ROOM/ 77 DEGREES (11500 ROCK ROSE AVE)                           | Travis |      585,686 |\n",
      "| 400 BAR/CUCARACHA/CHUPACABRA/JACKALOPE/MOOSENUCKLE (400 E 6TH ST)     | Travis |      503,352 |\n",
      "| BLIND PIG PUB / PIG PEN (317 E 6TH ST)                                | Travis |      502,440 |\n",
      "\n",
      "\n",
      "| Establishment                                                 | County     | Receipts_sum |\n",
      "| ------------------------------------------------------------- | ---------- | ------------ |\n",
      "| THE GROVE WINE BAR AND KITCHEN (1310 E WHITESTONE BLVD # 500) | Williamson |      167,006 |\n",
      "| ALAMO DRAFTHOUSE CINEMA (14028 N HIGHWAY 183 BLDG F)          | Williamson |      153,748 |\n",
      "| CHUY'S ROUND ROCK (2320 N INTERSTATE 35)                      | Williamson |      144,859 |\n",
      "| CHUY'S (4911 183A TOLL RD)                                    | Williamson |      140,079 |\n",
      "| TWIN PEAKS RESTAURANT (100 LOUIS HENNA BLVD)                  | Williamson |      127,180 |\n"
     ]
    }
   ],
   "source": [
    "# MOVE TO SEPARATE CELLS SO THEY DON'T FORCE A SCROLL\n",
    "location_sum('County', 'BASTROP').limit(5).print_table(max_column_width=80)\n",
    "print('\\n')\n",
    "location_sum('County', 'CALDWELL').limit(5).print_table(max_column_width=80)\n",
    "print('\\n')\n",
    "location_sum('County', 'HAYS').limit(5).print_table(max_column_width=80)\n",
    "print('\\n')\n",
    "location_sum('County', 'TRAVIS').limit(5).print_table(max_column_width=80)\n",
    "print('\\n')\n",
    "location_sum('County', 'WILLIAMSON').limit(5).print_table(max_column_width=80)\n"
   ]
  },
  {
   "cell_type": "markdown",
   "metadata": {},
   "source": [
    "## Sales by ZIP Code\n",
    "A list of sales by ZIP Code. If anything other than 78701 is at the top, it is news."
   ]
  },
  {
   "cell_type": "code",
   "execution_count": 70,
   "metadata": {
    "collapsed": false
   },
   "outputs": [
    {
     "name": "stdout",
     "output_type": "stream",
     "text": [
      "| Zip   |        Sum |\n",
      "| ----- | ---------- |\n",
      "| 78701 | 25,150,987 |\n",
      "| 75201 | 13,006,593 |\n",
      "| 78205 |  9,100,329 |\n",
      "| 77002 |  7,677,477 |\n",
      "| 76011 |  7,500,736 |\n"
     ]
    }
   ],
   "source": [
    "# top zip code gross receipts\n",
    "zip_receipts = mixbev.pivot('Zip', aggregation=agate.Sum('Receipts')).order_by('Sum', reverse=True)\n",
    "zip_receipts.limit(5).print_table()"
   ]
  },
  {
   "cell_type": "code",
   "execution_count": null,
   "metadata": {
    "collapsed": true
   },
   "outputs": [],
   "source": []
  }
 ],
 "metadata": {
  "kernelspec": {
   "display_name": "Python 3",
   "language": "python",
   "name": "python3"
  },
  "language_info": {
   "codemirror_mode": {
    "name": "ipython",
    "version": 3
   },
   "file_extension": ".py",
   "mimetype": "text/x-python",
   "name": "python",
   "nbconvert_exporter": "python",
   "pygments_lexer": "ipython3",
   "version": "3.6.1"
  }
 },
 "nbformat": 4,
 "nbformat_minor": 2
}
