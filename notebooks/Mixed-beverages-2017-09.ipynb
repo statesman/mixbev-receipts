{
 "cells": [
  {
   "cell_type": "markdown",
   "metadata": {
    "deletable": true,
    "editable": true
   },
   "source": [
    "# Mixed beverage data - September 2017 receipts\n",
    "\n",
    "- Month studied: September 2017\n",
    "- File used: October 2017\n",
    "\n",
    "This Jupyter Notebook analysis uses a [Mixed Beverage Gross Receipts](https://comptroller.texas.gov/taxes/mixed-beverage/receipts.php) file downloaded from the Texas Comptroller's [data center](https://comptroller.texas.gov/transparency/open-data/search-datasets/), and then a python library called [agate](http://agate.readthedocs.io/) to clean and process that data for [stories similar to this one](http://www.mystatesman.com/business/austin-alcohol-sales-percent-february/Oo2txZUkuDlqBl0rU9O1lJ/) on monthly alcohol sales.\n",
    "\n",
    "This is a stripped down version (compared to the [original fork](https://github.com/utdata/mixbev-receipts) that skips detailed explanation of steps beyond commenting.\n",
    "\n",
    "## Historical data\n",
    "\n",
    "This notebook processes a single file. It is generally copied and then run on a new file. See the [notebooks folder in the repo](https://github.com/statesman/mixbev-receipts/tree/master/notebooks) for a list.\n",
    "\n",
    "## Get to the goods\n",
    "\n",
    "Most of the code at the top is set up and processing. If you want to skip to the results, search for:\n",
    "\n",
    "- Top sales statewide\n",
    "- Austin sales\n",
    "- Central Texas cities"
   ]
  },
  {
   "cell_type": "markdown",
   "metadata": {
    "deletable": true,
    "editable": true
   },
   "source": [
    "### File download\n",
    "\n",
    "- Go to the [Texas Comptroller data center](https://comptroller.texas.gov/transparency/open-data/search-datasets/) and copy the url for the CSV for this month and enter it below.\n",
    "- You also need to set to set the [processing variables](Processing-variables) for this month."
   ]
  },
  {
   "cell_type": "code",
   "execution_count": 1,
   "metadata": {
    "collapsed": false,
    "deletable": true,
    "editable": true
   },
   "outputs": [],
   "source": [
    "## %%bash\n",
    "## downloads the mixedbev file into mixbev-files folder\n",
    "## You have to set this URL based on location in data center\n",
    "\n",
    "## these are commented out now. I've been pulling them manually\n",
    "## and processing from those file\n",
    "# cd ../test/\n",
    "# curl -O https://comptroller.texas.gov/auto-data/odc/MIXEDBEV_03_2017.CSV"
   ]
  },
  {
   "cell_type": "code",
   "execution_count": 1,
   "metadata": {
    "collapsed": false,
    "deletable": true,
    "editable": true
   },
   "outputs": [],
   "source": [
    "# imports the libraries we will use\n",
    "import agate\n",
    "from decimal import Decimal\n",
    "import re\n",
    "\n",
    "# this surpresses the timezone warning\n",
    "# Might comment out during development so other warnings\n",
    "# are not surpressed\n",
    "import warnings\n",
    "warnings.filterwarnings('ignore')"
   ]
  },
  {
   "cell_type": "markdown",
   "metadata": {
    "deletable": true,
    "editable": true
   },
   "source": [
    "### Processing variables\n",
    "Then we set some values based on those.\n",
    "\n",
    "- The **`file`** is the name of the file we want to process\n",
    "- The **`tax_rate`** is the value we need for this file to get the Gross Recipts (vs the Tax Reported, which is just the tax amount the establishment paid). The comptroller [has information on the tax](https://comptroller.texas.gov/taxes/mixed-beverage/receipts.php), but this [old record layout](https://github.com/utdata/cli-tools/blob/master/data/mixbevtax/OLD-MIXEDBEVTAX-LAYOUT.txt) best describes the math.\n",
    "- The **`month_studied`** is the YYYY/MM designation for the month before the file release. The file released in February has mostly records from January, but can also have any other month, so we set here the specific month we want. Note there is a check later on that counts the number of files by month, which is worth checking.\n",
    "\n",
    "Here are the files we have downloaded:"
   ]
  },
  {
   "cell_type": "code",
   "execution_count": 2,
   "metadata": {
    "collapsed": false,
    "deletable": true,
    "editable": true
   },
   "outputs": [
    {
     "name": "stdout",
     "output_type": "stream",
     "text": [
      "MIXEDBEV_01_2017.CSV  MIXEDBEV_05_2017.CSV  MIXEDBEV_09_2017.CSV\r\n",
      "MIXEDBEV_02_2017.CSV  MIXEDBEV_06_2017.CSV  MIXEDBEV_10_2017.CSV\r\n",
      "MIXEDBEV_03_2017.CSV  MIXEDBEV_07_2017.CSV\r\n",
      "MIXEDBEV_04_2017.CSV  MIXEDBEV_08_2017.csv\r\n"
     ]
    }
   ],
   "source": [
    "ls ../mixbev-files/2017/"
   ]
  },
  {
   "cell_type": "code",
   "execution_count": 4,
   "metadata": {
    "collapsed": false,
    "deletable": true,
    "editable": true
   },
   "outputs": [],
   "source": [
    "# this is our source file, which may have been downloaded above\n",
    "# Swap out the file name here and date below as needed\n",
    "file = '../mixbev-files/2017/MIXEDBEV_10_2017.CSV'\n",
    "file_name = ''\n",
    "online_name = ''\n",
    "\n",
    "# setting the month_studied var.\n",
    "# This should be checked in the table below that counts records by month\n",
    "month_studied = '2017/09'\n",
    "\n",
    "# Sets the tax rate to convert Report Tax to Gross Receipts\n",
    "# It's 6.7 since January 1, 2014\n",
    "tax_rate = Decimal('6.7')"
   ]
  },
  {
   "cell_type": "markdown",
   "metadata": {
    "deletable": true,
    "editable": true
   },
   "source": [
    "### import and processing"
   ]
  },
  {
   "cell_type": "code",
   "execution_count": 5,
   "metadata": {
    "collapsed": false,
    "deletable": true,
    "editable": true
   },
   "outputs": [],
   "source": [
    "# sets the column names of the original data set.\n",
    "column_names = [\n",
    "    'TABC Permit Number',\n",
    "    'Trade Name',\n",
    "    'Location Address',\n",
    "    'Location City',\n",
    "    'Location State',\n",
    "    'Location Zip Code',\n",
    "    'Location County Code',\n",
    "    'Blank',\n",
    "    'Report Period',\n",
    "    'Report Tax'\n",
    "]\n",
    "# Helps us import some text fields that may be considered numbers in error.\n",
    "specified_types = {\n",
    "    'Location Zip Code': agate.Text(),\n",
    "    'Location County Code': agate.Text()\n",
    "}\n",
    "\n",
    "# this imports the file specified above, along with the proper types\n",
    "mixbev_raw = agate.Table.from_csv(file, column_names, encoding='iso-8859-1', column_types=specified_types)\n",
    "\n",
    "# mixbev_trim creates a new interim table with results of compute function\n",
    "# that takes the four columns that need trimming and strips them of white space,\n",
    "# adding them to the end of the table with new names.\n",
    "# The last computation does the math to create the Gross Receipts based on the tax_rate set above\n",
    "\n",
    "mixbev_trim = mixbev_raw.compute([\n",
    "    ('Permit', agate.Formula(agate.Text(), lambda r: r['TABC Permit Number'].strip())),\n",
    "    ('Name', agate.Formula(agate.Text(), lambda r: r['Trade Name'].strip())),\n",
    "    ('Address', agate.Formula(agate.Text(), lambda r: r['Location Address'].strip())),\n",
    "    ('City', agate.Formula(agate.Text(), lambda r: r['Location City'].strip())),\n",
    "    ('Receipts_compute', agate.Formula(agate.Number(), lambda r: (r['Report Tax'] / tax_rate) * 100))\n",
    "])\n",
    "\n",
    "# the Receipts_compute computation above returns as a decimal number,\n",
    "# so this function rounds those numbers.\n",
    "# I might refactor this late so I can use it elsewhere.\n",
    "def round_receipt(row):\n",
    "    return row['Receipts_compute'].quantize(Decimal('0.01'))\n",
    "\n",
    "# This compute method uses round_recipt function above,\n",
    "# putting the results into a new table.\n",
    "mixbev_round = mixbev_trim.compute([\n",
    "    ('Receipts', agate.Formula(agate.Number(), round_receipt))\n",
    "])\n",
    "\n",
    "# creates new table, selecting just the columns we need\n",
    "# then renames some of them for ease later.\n",
    "mixbev_cleaned = mixbev_round.select([\n",
    "    'Permit',\n",
    "    'Name',\n",
    "    'Address',\n",
    "    'City',\n",
    "    'Location State',\n",
    "    'Location Zip Code',\n",
    "    'Location County Code',\n",
    "    'Report Period',\n",
    "    'Report Tax',\n",
    "    'Receipts'\n",
    "]).rename(column_names = {\n",
    "    'Location State': 'State',\n",
    "    'Location Zip Code': 'Zip',\n",
    "    'Location County Code': 'CountyCode',\n",
    "    'Report Period': 'Period',\n",
    "    'Report Tax': 'Tax'\n",
    "})\n",
    "\n",
    "# Concatenates the name and address\n",
    "mixbev_cleaned_est = mixbev_cleaned.compute([\n",
    "    ('Establishment', agate.Formula(agate.Text(), lambda row: '%(Name)s %(Address)s' % row))\n",
    "])\n",
    "\n",
    "# importing countes.csv, ensuring that the 'code' column is text\n",
    "counties = agate.Table.from_csv('../resource-files/counties.csv', column_types={'code': agate.Text()})\n",
    "\n",
    "# joines the counties table to the mixed bev cleaned data with establishments\n",
    "mixbev_joined = mixbev_cleaned_est.join(counties, 'CountyCode', 'code')\n",
    "\n",
    "# get just the columns we need and rename county\n",
    "# THIS is the finished, cleaned mixbev table\n",
    "mixbev = mixbev_joined.select([\n",
    "    'Permit',\n",
    "    'Name',\n",
    "    'Address',\n",
    "    'Establishment',\n",
    "    'City',\n",
    "    'State',\n",
    "    'Zip',\n",
    "    'county',\n",
    "    'Period',\n",
    "    'Tax',\n",
    "    'Receipts'\n",
    "]).rename(column_names = {\n",
    "    'county': 'County'\n",
    "})\n"
   ]
  },
  {
   "cell_type": "markdown",
   "metadata": {
    "deletable": true,
    "editable": true
   },
   "source": [
    "### Looking at dates of the records\n",
    "\n",
    "This basically confirms that the file has multiple dates, and that we are looking at the right month of data. Typically a data set will have mostly reports from the previous month, but there are always also submissions from other months. We want to filter out those other months, which we do based on the `month_studied` variable set near the top of the file, which should match the period at the top of the table below.\n"
   ]
  },
  {
   "cell_type": "code",
   "execution_count": 6,
   "metadata": {
    "collapsed": false,
    "deletable": true,
    "editable": true
   },
   "outputs": [
    {
     "name": "stdout",
     "output_type": "stream",
     "text": [
      "| Period  |  Count |\n",
      "| ------- | ------ |\n",
      "| 2017/09 | 14,469 |\n",
      "| 2017/08 |  1,591 |\n",
      "| 2017/07 |    170 |\n",
      "| 2017/06 |     50 |\n",
      "| 2017/05 |     29 |\n"
     ]
    }
   ],
   "source": [
    "# Pivot the mixbev table by Period. Default it give a Count of the records\n",
    "# We then order the table by Count in descending order\n",
    "by_period = mixbev.pivot('Period').order_by('Count', reverse=True)\n",
    "\n",
    "# prints the table of period and number of records\n",
    "by_period.limit(5).print_table(max_rows=None)"
   ]
  },
  {
   "cell_type": "code",
   "execution_count": 7,
   "metadata": {
    "collapsed": false,
    "deletable": true,
    "editable": true
   },
   "outputs": [],
   "source": [
    "## filters the records to our month_studied\n",
    "mixbev_month = mixbev.where(lambda row: row['Period'] == month_studied)\n",
    "\n",
    "# function to group sales by a specific location\n",
    "# City or County passed in should be ALL CAPS\n",
    "# Location_type can be 'City' or 'County'\n",
    "\n",
    "def location_sum(location_type, location):\n",
    "    # Filters the data to the specified city\n",
    "    location_filtered = mixbev_month.where(lambda row: row[location_type].upper() == location)\n",
    "\n",
    "    # groups the data based on Establishment and location\n",
    "    location_grouped = location_filtered.group_by('Establishment').group_by(location_type)\n",
    "    # computes the sales based on the grouping\n",
    "    location_summary = location_grouped.aggregate([\n",
    "        ('Tax_sum', agate.Sum('Tax')),\n",
    "        ('Receipts_sum', agate.Sum('Receipts'))\n",
    "    ])\n",
    "    \n",
    "    # sorts the results by most sold\n",
    "    location_summary_sorted = location_summary.order_by('Receipts_sum', reverse=True)\n",
    "    # prints the top 10 results\n",
    "    \n",
    "    return(location_summary_sorted)\n"
   ]
  },
  {
   "cell_type": "markdown",
   "metadata": {
    "deletable": true,
    "editable": true
   },
   "source": [
    "## Top sales statewide\n",
    "\n",
    "Because we want to group our results by more than one field and perform more than one aggregation, we'll do this a little differently. We'll use group_by to create a grouped table, then perform aggregations on that new table to computer the Tax and Receipts columns."
   ]
  },
  {
   "cell_type": "code",
   "execution_count": 8,
   "metadata": {
    "collapsed": false,
    "deletable": true,
    "editable": true
   },
   "outputs": [
    {
     "name": "stdout",
     "output_type": "stream",
     "text": [
      "\n",
      "Total sales across the state for the given month: 552027608.41\n",
      "\n",
      "Top sales by establishment statewide\n",
      "\n",
      "| Establishment                                 | City        |    Tax_sum |    Sales_sum |\n",
      "| --------------------------------------------- | ----------- | ---------- | ------------ |\n",
      "| AT&T STADIUM 1 LEGENDS WAY                    | ARLINGTON   | 260,174.86 | 3,883,206.87 |\n",
      "| GAYLORD TEXAN 1501 GAYLORD TRL                | GRAPEVINE   | 116,559.63 | 1,739,695.97 |\n",
      "| HOSPITALITY INTERNATIONAL, INC 23808 RESOR... | SAN ANTONIO |  92,213.50 | 1,376,320.90 |\n",
      "| WLS BEVERAGE CO 110 E 2ND ST                  | AUSTIN      |  73,719.56 | 1,100,291.94 |\n",
      "| OMNI DALLAS CONVENTION CENTER 555 S LAMAR ST  | DALLAS      |  65,863.54 |   983,037.91 |\n",
      "| ARAMARK SPORTS & ENTERTAINMENT 501 CRAWFOR... | HOUSTON     |  63,577.50 |   948,917.91 |\n",
      "| METROPLEX SPORTSERVICE, INC. 1000 BALLPARK... | ARLINGTON   |  60,463.27 |   902,436.87 |\n",
      "| RYAN SANDERS SPORTS SERVICES, 9201 CIRCUIT... | AUSTIN      |  58,541.92 |   873,760.00 |\n",
      "| HAPPIEST HOUR, LLC 2616 OLIVE ST              | DALLAS      |  55,654.08 |   830,657.91 |\n",
      "| SALC, INC. 2201 N STEMMONS FWY FL 1           | DALLAS      |  53,668.27 |   801,018.96 |\n"
     ]
    }
   ],
   "source": [
    "# groups the data based on Establishment and City\n",
    "mixbev_grouped = mixbev_month.group_by('Establishment').group_by('County').group_by('City')\n",
    "\n",
    "# computes the sales based on the grouping\n",
    "state_summary = mixbev_grouped.aggregate([\n",
    "    ('Tax_sum', agate.Sum('Tax')),\n",
    "    ('Sales_sum', agate.Sum('Receipts'))\n",
    "])\n",
    "\n",
    "# sorts the results by most sold. We could probalby chain it above if we wanted to.\n",
    "state_summary_sorted = state_summary.order_by('Sales_sum', reverse=True)\n",
    "\n",
    "# summing sales statewide for month\n",
    "print('\\nTotal sales across the state for the given month: {}\\n'.format(\n",
    "    mixbev_month.aggregate(agate.Sum('Receipts'))\n",
    "))\n",
    "\n",
    "print('Top sales by establishment statewide\\n')\n",
    "\n",
    "# prints the top 10 results\n",
    "state_summary_sorted.limit(10).exclude('County').print_table(max_column_width=45)"
   ]
  },
  {
   "cell_type": "markdown",
   "metadata": {
    "deletable": true,
    "editable": true
   },
   "source": [
    "## Austin sales and sums\n",
    "\n",
    "With this, we refernce the location_sum function above, and pass the type of location (City) and the name of the city (AUSTIN). At the same time, we limit the result of that function to the first 10 records, and then print the results. We are basically stringing together a bunch of stuff at once."
   ]
  },
  {
   "cell_type": "code",
   "execution_count": 9,
   "metadata": {
    "collapsed": false,
    "deletable": true,
    "editable": true
   },
   "outputs": [
    {
     "name": "stdout",
     "output_type": "stream",
     "text": [
      "\n",
      "Total sales across the state for the given month: 64935744.42\n",
      "\n",
      "| Establishment                                      | City   |   Tax_sum | Receipts_sum |\n",
      "| -------------------------------------------------- | ------ | --------- | ------------ |\n",
      "| WLS BEVERAGE CO 110 E 2ND ST                       | AUSTIN | 73,719.56 | 1,100,291.94 |\n",
      "| RYAN SANDERS SPORTS SERVICES, 9201 CIRCUIT OF T... | AUSTIN | 58,541.92 |   873,760.00 |\n",
      "| W HOTEL AUSTIN 200 LAVACA ST                       | AUSTIN | 49,415.51 |   737,544.93 |\n",
      "| ROSE ROOM/ 77 DEGREES 11500 ROCK ROSE AVE          | AUSTIN | 39,240.96 |   585,685.97 |\n",
      "| 400 BAR/CUCARACHA/CHUPACABRA/J 400 E 6TH ST        | AUSTIN | 33,724.58 |   503,351.94 |\n",
      "| BLIND PIG PUB / PIG PEN 317 E 6TH ST               | AUSTIN | 33,663.48 |   502,440.00 |\n",
      "| THE DOGWOOD DOMAIN 11420 ROCK ROSE AVE STE 700     | AUSTIN | 26,688.24 |   398,331.94 |\n",
      "| HOTEL VAN ZANDT 605 DAVIS ST                       | AUSTIN | 26,357.39 |   393,393.88 |\n",
      "| THE PALAZIO 501 E BEN WHITE BLVD                   | AUSTIN | 25,239.77 |   376,712.99 |\n",
      "| CONTAINER BAR 90 RAINEY ST                         | AUSTIN | 25,158.09 |   375,493.88 |\n"
     ]
    }
   ],
   "source": [
    "# uses the city_sum function to filter\n",
    "austin = location_sum('City', 'AUSTIN')\n",
    "\n",
    "print('\\nTotal sales across the state for the given month: {}\\n'.format(\n",
    "    austin.aggregate(agate.Sum('Receipts_sum'))\n",
    "))\n",
    "\n",
    "# print the resulting table\n",
    "austin.limit(10).print_table(max_column_width=50)"
   ]
  },
  {
   "cell_type": "markdown",
   "metadata": {
    "deletable": true,
    "editable": true
   },
   "source": [
    "## More Central Texas cities"
   ]
  },
  {
   "cell_type": "code",
   "execution_count": 10,
   "metadata": {
    "collapsed": false,
    "deletable": true,
    "editable": true
   },
   "outputs": [
    {
     "name": "stdout",
     "output_type": "stream",
     "text": [
      "| Establishment                            | City    |  Tax_sum | Receipts_sum |\n",
      "| ---------------------------------------- | ------- | -------- | ------------ |\n",
      "| OLD TOWN RESTURANT AND BAR/PIN 931 MA... | BASTROP | 4,096.71 |    61,144.93 |\n",
      "| BACK 9 834 HIGHWAY 71 W                  | BASTROP | 3,098.61 |    46,247.91 |\n",
      "| CHILI'S GRILL & BAR 734 HIGHWAY 71 W     | BASTROP | 2,690.92 |    40,162.99 |\n"
     ]
    }
   ],
   "source": [
    "location_sum('City', 'BASTROP').limit(3).print_table(max_column_width=40)"
   ]
  },
  {
   "cell_type": "code",
   "execution_count": 11,
   "metadata": {
    "collapsed": false,
    "deletable": true,
    "editable": true
   },
   "outputs": [
    {
     "name": "stdout",
     "output_type": "stream",
     "text": [
      "| Establishment                            | City     |  Tax_sum | Receipts_sum |\n",
      "| ---------------------------------------- | -------- | -------- | ------------ |\n",
      "| WOODY TAVERN AND GRILL, INC. 12801 SH... | BEE CAVE | 7,375.02 |   110,074.93 |\n",
      "| CAFE BLUE 12800 HILL COUNTRY BLVD STE    | BEE CAVE | 5,869.66 |    87,606.87 |\n",
      "| MAUDIE'S HILL COUNTRY, LLC 12506 SHOP... | BEE CAVE | 5,526.29 |    82,481.94 |\n"
     ]
    }
   ],
   "source": [
    "location_sum('City', 'BEE CAVE').limit(3).print_table(max_column_width=40)"
   ]
  },
  {
   "cell_type": "code",
   "execution_count": 12,
   "metadata": {
    "collapsed": false,
    "deletable": true,
    "editable": true
   },
   "outputs": [
    {
     "name": "stdout",
     "output_type": "stream",
     "text": [
      "| Establishment                            | City |  Tax_sum | Receipts_sum |\n",
      "| ---------------------------------------- | ---- | -------- | ------------ |\n",
      "| BUCKS BACKYARD 1750 S FM 1626            | BUDA | 5,774.32 |    86,183.88 |\n",
      "| WILLIE'S JOINT 824 MAIN ST               | BUDA | 4,580.79 |    68,370.00 |\n",
      "| NATE'S AT BUDA MILL AND GRAIN, 306 S ... | BUDA | 3,717.69 |    55,487.91 |\n"
     ]
    }
   ],
   "source": [
    "location_sum('City', 'BUDA').limit(3).print_table(max_column_width=40)"
   ]
  },
  {
   "cell_type": "code",
   "execution_count": 13,
   "metadata": {
    "collapsed": false,
    "deletable": true,
    "editable": true
   },
   "outputs": [
    {
     "name": "stdout",
     "output_type": "stream",
     "text": [
      "| Establishment                            | City       |   Tax_sum | Receipts_sum |\n",
      "| ---------------------------------------- | ---------- | --------- | ------------ |\n",
      "| THE GROVE WINE BAR AND KITCHEN 1310 E... | CEDAR PARK | 11,189.40 |   167,005.97 |\n",
      "| CHUY'S 4911 183A TOLL RD                 | CEDAR PARK |  9,385.29 |   140,078.96 |\n",
      "| LUPE TORTILLA MEXICAN RESTAURA 4501 1... | CEDAR PARK |  6,885.79 |   102,772.99 |\n"
     ]
    }
   ],
   "source": [
    "location_sum('City', 'CEDAR PARK').limit(3).print_table(max_column_width=40)"
   ]
  },
  {
   "cell_type": "code",
   "execution_count": 14,
   "metadata": {
    "collapsed": false,
    "deletable": true,
    "editable": true
   },
   "outputs": [
    {
     "name": "stdout",
     "output_type": "stream",
     "text": [
      "| Establishment                            | City             |  Tax_sum | Receipts_sum |\n",
      "| ---------------------------------------- | ---------------- | -------- | ------------ |\n",
      "| TREATY OAK BREWING AND DISTILL 16604 ... | DRIPPING SPRINGS | 6,776.11 |   101,135.97 |\n",
      "| DEEP EDDY DISTILLING CO 2250 E HIGHWA... | DRIPPING SPRINGS | 4,726.91 |    70,550.90 |\n",
      "| TRUDY'S FOUR STAR 13059 FOUR STAR BLVD   | DRIPPING SPRINGS | 4,496.90 |    67,117.91 |\n"
     ]
    }
   ],
   "source": [
    "location_sum('City', 'DRIPPING SPRINGS').limit(3).print_table(max_column_width=40)"
   ]
  },
  {
   "cell_type": "code",
   "execution_count": 15,
   "metadata": {
    "collapsed": false,
    "deletable": true,
    "editable": true
   },
   "outputs": [
    {
     "name": "stdout",
     "output_type": "stream",
     "text": [
      "| Establishment                            | City       |  Tax_sum | Receipts_sum |\n",
      "| ---------------------------------------- | ---------- | -------- | ------------ |\n",
      "| EL MONUMENTO 205 W 2ND ST                | GEORGETOWN | 5,850.10 |    87,314.93 |\n",
      "| HARDTAILS 1515 N IH 35                   | GEORGETOWN | 5,387.26 |    80,406.87 |\n",
      "| GATEWAY BEVERAGES, INC 1101 WOODLAWN AVE | GEORGETOWN | 4,862.45 |    72,573.88 |\n"
     ]
    }
   ],
   "source": [
    "location_sum('City', 'GEORGETOWN').limit(3).print_table(max_column_width=40)"
   ]
  },
  {
   "cell_type": "code",
   "execution_count": 16,
   "metadata": {
    "collapsed": false,
    "deletable": true,
    "editable": true
   },
   "outputs": [
    {
     "name": "stdout",
     "output_type": "stream",
     "text": [
      "| Establishment                            | City |  Tax_sum | Receipts_sum |\n",
      "| ---------------------------------------- | ---- | -------- | ------------ |\n",
      "| CASA GARCIA'S MEXICAN RESTAURA 5401 F... | KYLE | 5,093.27 |    76,018.96 |\n",
      "| EVO ENTERTAINMENT CENTER 3200 KYLE XING  | KYLE | 3,410.56 |    50,903.88 |\n",
      "| CENTERFIELD SPORTS BAR & GRILL 200 W ... | KYLE | 2,709.74 |    40,443.88 |\n"
     ]
    }
   ],
   "source": [
    "location_sum('City', 'KYLE').limit(3).print_table(max_column_width=40)"
   ]
  },
  {
   "cell_type": "code",
   "execution_count": 17,
   "metadata": {
    "collapsed": false,
    "deletable": true,
    "editable": true
   },
   "outputs": [
    {
     "name": "stdout",
     "output_type": "stream",
     "text": [
      "| Establishment                            | City       |  Tax_sum | Receipts_sum |\n",
      "| ---------------------------------------- | ---------- | -------- | ------------ |\n",
      "| COPPERHEAD GRILL 6115 LOHMANS FORD RD    | LAGO VISTA | 1,111.06 |    16,582.99 |\n",
      "| MARIA'S BAR & GRILL MEXICAN RE 20602 ... | LAGO VISTA |   453.59 |     6,770.00 |\n",
      "| THE GRILLE AT HIGHLAND LAKES 20552 HI... | LAGO VISTA |   322.80 |     4,817.91 |\n"
     ]
    }
   ],
   "source": [
    "location_sum('City', 'LAGO VISTA').limit(3).print_table(max_column_width=40)"
   ]
  },
  {
   "cell_type": "code",
   "execution_count": 18,
   "metadata": {
    "collapsed": false,
    "deletable": true,
    "editable": true
   },
   "outputs": [
    {
     "name": "stdout",
     "output_type": "stream",
     "text": [
      "| Establishment                            | City    |  Tax_sum | Receipts_sum |\n",
      "| ---------------------------------------- | ------- | -------- | ------------ |\n",
      "| THE GROVE WINE BAR AND KITCHEN 3001 R... | LAKEWAY | 7,815.88 |   116,654.93 |\n",
      "| LAKEWAY RESORT AND SPA 101 LAKEWAY DR    | LAKEWAY | 7,710.69 |   115,084.93 |\n",
      "| SANTA CANTARINA RESTAURANT 1310 RANCH... | LAKEWAY | 3,813.90 |    56,923.88 |\n"
     ]
    }
   ],
   "source": [
    "location_sum('City', 'LAKEWAY').limit(3).print_table(max_column_width=40)"
   ]
  },
  {
   "cell_type": "code",
   "execution_count": 19,
   "metadata": {
    "collapsed": false,
    "deletable": true,
    "editable": true
   },
   "outputs": [
    {
     "name": "stdout",
     "output_type": "stream",
     "text": [
      "| Establishment                            | City    |  Tax_sum | Receipts_sum |\n",
      "| ---------------------------------------- | ------- | -------- | ------------ |\n",
      "| BROOKLYN HEIGHTS PIZZERIA 3550 LAKELI... | LEANDER | 4,345.68 |    64,860.90 |\n",
      "| JARDIN DEL REY 703 S HIGHWAY 183         | LEANDER | 2,635.51 |    39,335.97 |\n",
      "| TAPATIA JALISCO #3 LLC 651 N US 183      | LEANDER |   883.99 |    13,193.88 |\n"
     ]
    }
   ],
   "source": [
    "location_sum('City', 'LEANDER').limit(3).print_table(max_column_width=40)"
   ]
  },
  {
   "cell_type": "code",
   "execution_count": 20,
   "metadata": {
    "collapsed": false,
    "deletable": true,
    "editable": true
   },
   "outputs": [
    {
     "name": "stdout",
     "output_type": "stream",
     "text": [
      "| Establishment                            | City         |  Tax_sum | Receipts_sum |\n",
      "| ---------------------------------------- | ------------ | -------- | ------------ |\n",
      "| JARDIN CORONA 15395 W STATE HIGHWAY 29   | LIBERTY HILL | 3,049.97 |    45,521.94 |\n",
      "| MARGARITA'S RESTAURANT 10280 W STATE ... | LIBERTY HILL | 2,444.49 |    36,484.93 |\n",
      "| ELENAS MEXICAN RESTAURANT 14801 W STA... | LIBERTY HILL |   413.32 |     6,168.96 |\n"
     ]
    }
   ],
   "source": [
    "location_sum('City', 'LIBERTY HILL').limit(3).print_table(max_column_width=40)"
   ]
  },
  {
   "cell_type": "code",
   "execution_count": 21,
   "metadata": {
    "collapsed": false,
    "deletable": true,
    "editable": true
   },
   "outputs": [
    {
     "name": "stdout",
     "output_type": "stream",
     "text": [
      "| Establishment                          | City         |   Tax_sum | Receipts_sum |\n",
      "| -------------------------------------- | ------------ | --------- | ------------ |\n",
      "| MAVERICKS 1700 GRAND AVENUE PKWY STE 2 | PFLUGERVILLE | 10,975.33 |   163,810.90 |\n",
      "| HANOVER'S DRAUGHT HAUS 108 E MAIN ST   | PFLUGERVILLE |  4,944.26 |    73,794.93 |\n",
      "| MARSHALL'S TAVERN 113 E PECAN ST       | PFLUGERVILLE |  4,144.01 |    61,850.90 |\n"
     ]
    }
   ],
   "source": [
    "location_sum('City', 'PFLUGERVILLE').limit(3).print_table(max_column_width=40)"
   ]
  },
  {
   "cell_type": "code",
   "execution_count": 22,
   "metadata": {
    "collapsed": false,
    "deletable": true,
    "editable": true
   },
   "outputs": [
    {
     "name": "stdout",
     "output_type": "stream",
     "text": [
      "| Establishment                            | City       |   Tax_sum | Receipts_sum |\n",
      "| ---------------------------------------- | ---------- | --------- | ------------ |\n",
      "| THIRD BASE ROUND ROCK, LLC 3107 S INT... | ROUND ROCK | 10,062.46 |   150,185.97 |\n",
      "| RICK'S CABARET 3105 S INTERSTATE 35      | ROUND ROCK |  9,765.11 |   145,747.91 |\n",
      "| CHUY'S ROUND ROCK 2320 N INTERSTATE 35   | ROUND ROCK |  9,705.55 |   144,858.96 |\n",
      "| FAST EDDIE'S NEIGHBORHOOD BILL 100 PA... | ROUND ROCK |  9,523.84 |   142,146.87 |\n",
      "| TWIN PEAKS RESTAURANT 100 LOUIS HENNA... | ROUND ROCK |  8,521.06 |   127,180.00 |\n"
     ]
    }
   ],
   "source": [
    "location_sum('City', 'ROUND ROCK').limit(5).print_table(max_column_width=40)"
   ]
  },
  {
   "cell_type": "code",
   "execution_count": 23,
   "metadata": {
    "collapsed": false,
    "deletable": true,
    "editable": true
   },
   "outputs": [
    {
     "name": "stdout",
     "output_type": "stream",
     "text": [
      "| Establishment                         | City       |   Tax_sum | Receipts_sum |\n",
      "| ------------------------------------- | ---------- | --------- | ------------ |\n",
      "| THE MARC 120 E SAN ANTONIO ST         | SAN MARCOS | 10,200.81 |   152,250.90 |\n",
      "| ZELICKS 336 W HOPKINS ST              | SAN MARCOS |  7,861.11 |   117,330.00 |\n",
      "| CHIMY'S SAN MARCOS 217 E HOPKINS ST   | SAN MARCOS |  7,818.96 |   116,700.90 |\n",
      "| MAYLOO'S 138 N LBJ DR                 | SAN MARCOS |  7,144.00 |   106,626.87 |\n",
      "| CRAFTHOUSE KITCHEN & TAP 242 N LBJ DR | SAN MARCOS |  7,001.16 |   104,494.93 |\n"
     ]
    }
   ],
   "source": [
    "location_sum('City', 'SAN MARCOS').limit(5).print_table(max_column_width=40)"
   ]
  },
  {
   "cell_type": "code",
   "execution_count": 24,
   "metadata": {
    "collapsed": false,
    "deletable": true,
    "editable": true
   },
   "outputs": [
    {
     "name": "stdout",
     "output_type": "stream",
     "text": [
      "| Establishment                            | City      |  Tax_sum | Receipts_sum |\n",
      "| ---------------------------------------- | --------- | -------- | ------------ |\n",
      "| ANGEL'S ICEHOUSE 21815 W HWY 71          | SPICEWOOD | 4,040.16 |    60,300.90 |\n",
      "| POODIES HILLTOP ROADHOUSE 22308 STATE... | SPICEWOOD | 3,008.30 |    44,900.00 |\n",
      "| APIS RESTAURANT 23526 STATE HIGHWAY 71 W | SPICEWOOD | 1,680.15 |    25,076.87 |\n"
     ]
    }
   ],
   "source": [
    "location_sum('City', 'SPICEWOOD').limit(3).print_table(max_column_width=40)"
   ]
  },
  {
   "cell_type": "code",
   "execution_count": 25,
   "metadata": {
    "collapsed": false,
    "deletable": true,
    "editable": true
   },
   "outputs": [
    {
     "name": "stdout",
     "output_type": "stream",
     "text": [
      "| Establishment                            | City          |  Tax_sum | Receipts_sum |\n",
      "| ---------------------------------------- | ------------- | -------- | ------------ |\n",
      "| DOC'S BACKYARD 5207 BRODIE LN # 100      | SUNSET VALLEY | 6,076.43 |    90,692.99 |\n",
      "| BJ'S RESTAURANT AND BREWHOUSE 5207 BR... | SUNSET VALLEY | 4,085.79 |    60,981.94 |\n",
      "| CANE ROSSO 4715 S LAMAR BLVD STE 103     | SUNSET VALLEY | 1,941.39 |    28,975.97 |\n"
     ]
    }
   ],
   "source": [
    "location_sum('City', 'SUNSET VALLEY').limit(3).print_table(max_column_width=40)"
   ]
  },
  {
   "cell_type": "code",
   "execution_count": 26,
   "metadata": {
    "collapsed": false,
    "deletable": true,
    "editable": true
   },
   "outputs": [
    {
     "name": "stdout",
     "output_type": "stream",
     "text": [
      "| Establishment                            | City            |  Tax_sum | Receipts_sum |\n",
      "| ---------------------------------------- | --------------- | -------- | ------------ |\n",
      "| LUPE TORTILLA MEXICAN RESTAURA 701 S ... | WEST LAKE HILLS | 6,036.36 |    90,094.93 |\n",
      "| CHIPOTLE CHIPOTLE MEXICAN GRIL 3300 B... | WEST LAKE HILLS |    52.32 |       780.90 |\n"
     ]
    }
   ],
   "source": [
    "location_sum('City', 'WEST LAKE HILLS').limit(3).print_table(max_column_width=40)"
   ]
  },
  {
   "cell_type": "markdown",
   "metadata": {
    "deletable": true,
    "editable": true
   },
   "source": [
    "## Sales by county example\n",
    "\n",
    "In this case, we pass in the location type of 'County' and then a county name in caps to get the most sales in a particular county."
   ]
  },
  {
   "cell_type": "code",
   "execution_count": 27,
   "metadata": {
    "collapsed": false,
    "deletable": true,
    "editable": true
   },
   "outputs": [
    {
     "name": "stdout",
     "output_type": "stream",
     "text": [
      "| Establishment                            | County   |  Tax_sum | Receipts_sum |\n",
      "| ---------------------------------------- | -------- | -------- | ------------ |\n",
      "| RISKY BUSINESS 211 E MARKET ST           | Caldwell | 1,385.62 |    20,680.90 |\n",
      "| GUADALAJARA MEXICAN RESTAURANT 1710 S... | Caldwell | 1,296.78 |    19,354.93 |\n",
      "| THE PEARL 110 N MAIN ST                  | Caldwell | 1,035.21 |    15,450.90 |\n"
     ]
    }
   ],
   "source": [
    "location_sum('County', 'CALDWELL').limit(3).print_table(max_column_width=40)"
   ]
  },
  {
   "cell_type": "markdown",
   "metadata": {
    "deletable": true,
    "editable": true
   },
   "source": [
    "## Sales by ZIP Code\n",
    "Just making sure that 78701 is at the top of this list, which it has been every month for a decade."
   ]
  },
  {
   "cell_type": "code",
   "execution_count": 28,
   "metadata": {
    "collapsed": false,
    "deletable": true,
    "editable": true
   },
   "outputs": [
    {
     "name": "stdout",
     "output_type": "stream",
     "text": [
      "| Zip   |           Sum |\n",
      "| ----- | ------------- |\n",
      "| 78701 | 25,102,730.30 |\n",
      "| 75201 | 12,931,342.05 |\n",
      "| 78205 |  8,990,296.08 |\n",
      "| 76011 |  7,427,398.01 |\n",
      "| 77002 |  7,323,262.45 |\n"
     ]
    }
   ],
   "source": [
    "# top zip code gross receipts\n",
    "zip_receipts = mixbev_month.pivot('Zip', aggregation=agate.Sum('Receipts')).order_by('Sum', reverse=True)\n",
    "zip_receipts.limit(5).print_table()"
   ]
  },
  {
   "cell_type": "code",
   "execution_count": null,
   "metadata": {
    "collapsed": true
   },
   "outputs": [],
   "source": []
  }
 ],
 "metadata": {
  "kernelspec": {
   "display_name": "Python 3",
   "language": "python",
   "name": "python3"
  },
  "language_info": {
   "codemirror_mode": {
    "name": "ipython",
    "version": 3
   },
   "file_extension": ".py",
   "mimetype": "text/x-python",
   "name": "python",
   "nbconvert_exporter": "python",
   "pygments_lexer": "ipython3",
   "version": "3.5.2"
  }
 },
 "nbformat": 4,
 "nbformat_minor": 2
}
