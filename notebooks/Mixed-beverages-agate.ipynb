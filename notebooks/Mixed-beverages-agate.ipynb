{
 "cells": [
  {
   "cell_type": "markdown",
   "metadata": {
    "deletable": true,
    "editable": true
   },
   "source": [
    "# Processing mixed beverage data\n",
    "This Jupyter Notebook uses curl to down download [Mixed Beverage Gross Receipts](https://comptroller.texas.gov/taxes/mixed-beverage/receipts.php) files from the Texas Comptroller's [data center](https://comptroller.texas.gov/transparency/open-data/search-datasets/), and then a python library called [agate](http://agate.readthedocs.io/) to clean and process that data for [stories similar to this one](http://www.mystatesman.com/business/austin-alcohol-sales-percent-february/Oo2txZUkuDlqBl0rU9O1lJ/) on monthly alcohol sales.\n",
    "\n",
    "This is a stripped down version (compared to the original fork) that skips explanation of steps beyond commenting.\n",
    "\n",
    "## Get to the goods\n",
    "\n",
    "To skip most of the setup code and get to what you really want, search for:\n",
    "\n",
    "- Top sales statewide\n",
    "- Austin sales\n",
    "- Central Texas cities"
   ]
  },
  {
   "cell_type": "markdown",
   "metadata": {
    "deletable": true,
    "editable": true
   },
   "source": [
    "### File download\n",
    "\n",
    "- Go to the [Texas Comptroller data center](https://comptroller.texas.gov/transparency/open-data/search-datasets/) and copy the url for the CSV for this month and enter it below.\n",
    "- You also need to set to set the [processing variables](Processing-variables) for this month."
   ]
  },
  {
   "cell_type": "code",
   "execution_count": 34,
   "metadata": {
    "collapsed": false,
    "deletable": true,
    "editable": true
   },
   "outputs": [
    {
     "name": "stderr",
     "output_type": "stream",
     "text": [
      "  % Total    % Received % Xferd  Average Speed   Time    Time     Time  Current\n",
      "                                 Dload  Upload   Total   Spent    Left  Speed\n",
      "\r",
      "  0     0    0     0    0     0      0      0 --:--:-- --:--:-- --:--:--     0\r",
      "  0     0    0     0    0     0      0      0 --:--:-- --:--:-- --:--:--     0\r",
      " 24 2614k   24  649k    0     0   520k      0  0:00:05  0:00:01  0:00:04  519k\r",
      " 88 2614k   88 2313k    0     0  1028k      0  0:00:02  0:00:02 --:--:-- 1028k\r",
      "100 2614k  100 2614k    0     0  1091k      0  0:00:02  0:00:02 --:--:-- 1091k\n"
     ]
    }
   ],
   "source": [
    "%%bash\n",
    "## downloads the mixedbev file into mixbev-files folder\n",
    "## You have to set this URL based on location in data center\n",
    "cd ../mixbev-files\n",
    "curl -O https://comptroller.texas.gov/auto-data/odc/MIXEDBEV_04_2017.CSV"
   ]
  },
  {
   "cell_type": "code",
   "execution_count": 35,
   "metadata": {
    "collapsed": false,
    "deletable": true,
    "editable": true
   },
   "outputs": [],
   "source": [
    "# imports the libraries we will use\n",
    "import agate\n",
    "from decimal import Decimal\n",
    "import re\n",
    "\n",
    "# this surpresses the timezone warning\n",
    "# Might comment out during development so other warnings\n",
    "# are not surpressed\n",
    "import warnings\n",
    "warnings.filterwarnings('ignore')"
   ]
  },
  {
   "cell_type": "markdown",
   "metadata": {
    "deletable": true,
    "editable": true
   },
   "source": [
    "### Processing variables\n",
    "Then we set some values based on those.\n",
    "\n",
    "- The **`file`** is the name of the file we want to process\n",
    "- The **`tax_rate`** is the value we need for this file to get the Gross Recipts (vs the Tax Reported, which is just the tax amount the establishment paid). The comptroller [has information on the tax](https://comptroller.texas.gov/taxes/mixed-beverage/receipts.php), but this [old record layout](https://github.com/utdata/cli-tools/blob/master/data/mixbevtax/OLD-MIXEDBEVTAX-LAYOUT.txt) best describes the math.\n",
    "- The **`month_studied`** is the YYYY/MM designation for the month before the file release. The file released in February has mostly records from January, but can also have any other month, so we set here the specific month we want. Note there is a check later on that counts the number of files by month, which is worth checking.\n",
    "\n",
    "Here are the files we have downloaded:"
   ]
  },
  {
   "cell_type": "code",
   "execution_count": 36,
   "metadata": {
    "collapsed": false,
    "deletable": true,
    "editable": true
   },
   "outputs": [
    {
     "name": "stdout",
     "output_type": "stream",
     "text": [
      "MIXEDBEV_02_2017.CSV  MIXEDBEV_04_2015.CSV  MIXEDBEV_04_2017.CSV\r\n",
      "MIXEDBEV_03_2017.CSV  MIXEDBEV_04_2016.CSV\r\n"
     ]
    }
   ],
   "source": [
    "ls ../mixbev-files"
   ]
  },
  {
   "cell_type": "code",
   "execution_count": 37,
   "metadata": {
    "collapsed": false,
    "deletable": true,
    "editable": true
   },
   "outputs": [],
   "source": [
    "# this is our source file, which may have been downloaded above\n",
    "# Swap out the file name here and date below as needed\n",
    "file = '../mixbev-files/MIXEDBEV_04_2017.CSV'\n",
    "\n",
    "# setting the month_studied var.\n",
    "# This should be checked in the table below that counts records by month\n",
    "month_studied = '2017/03'\n",
    "\n",
    "# Sets the tax rate to convert Report Tax to Gross Receipts\n",
    "# It's 6.7 since January 1, 2014\n",
    "tax_rate = Decimal('6.7')"
   ]
  },
  {
   "cell_type": "markdown",
   "metadata": {
    "deletable": true,
    "editable": true
   },
   "source": [
    "### import and processing"
   ]
  },
  {
   "cell_type": "code",
   "execution_count": 38,
   "metadata": {
    "collapsed": false,
    "deletable": true,
    "editable": true
   },
   "outputs": [],
   "source": [
    "# sets the column names of the original data set.\n",
    "column_names = [\n",
    "    'TABC Permit Number',\n",
    "    'Trade Name',\n",
    "    'Location Address',\n",
    "    'Location City',\n",
    "    'Location State',\n",
    "    'Location Zip Code',\n",
    "    'Location County Code',\n",
    "    'Blank',\n",
    "    'Report Period',\n",
    "    'Report Tax'\n",
    "]\n",
    "# Helps us import some text fields that may be considered numbers in error.\n",
    "specified_types = {\n",
    "    'Location Zip Code': agate.Text(),\n",
    "    'Location County Code': agate.Text()\n",
    "}\n",
    "\n",
    "# this imports the file specified above, along with the proper types\n",
    "mixbev_raw = agate.Table.from_csv(file, column_names, encoding='iso-8859-1', column_types=specified_types)\n",
    "\n",
    "# mixbev_trim creates a new interim table with results of compute function\n",
    "# that takes the four columns that need trimming and strips them of white space,\n",
    "# adding them to the end of the table with new names.\n",
    "# The last computation does the math to create the Gross Receipts based on the tax_rate set above\n",
    "\n",
    "mixbev_trim = mixbev_raw.compute([\n",
    "    ('Permit', agate.Formula(agate.Text(), lambda r: r['TABC Permit Number'].strip())),\n",
    "    ('Name', agate.Formula(agate.Text(), lambda r: r['Trade Name'].strip())),\n",
    "    ('Address', agate.Formula(agate.Text(), lambda r: r['Location Address'].strip())),\n",
    "    ('City', agate.Formula(agate.Text(), lambda r: r['Location City'].strip())),\n",
    "    ('Receipts_compute', agate.Formula(agate.Number(), lambda r: (r['Report Tax'] / tax_rate) * 100))\n",
    "])\n",
    "\n",
    "# the Receipts_compute computation above returns as a decimal number,\n",
    "# so this function rounds those numbers.\n",
    "# I might refactor this late so I can use it elsewhere.\n",
    "def round_receipt(row):\n",
    "    return row['Receipts_compute'].quantize(Decimal('0.01'))\n",
    "\n",
    "# This compute method uses round_recipt function above,\n",
    "# putting the results into a new table.\n",
    "mixbev_round = mixbev_trim.compute([\n",
    "    ('Receipts', agate.Formula(agate.Number(), round_receipt))\n",
    "])\n",
    "\n",
    "# creates new table, selecting just the columns we need\n",
    "# then renames some of them for ease later.\n",
    "mixbev_cleaned = mixbev_round.select([\n",
    "    'Permit',\n",
    "    'Name',\n",
    "    'Address',\n",
    "    'City',\n",
    "    'Location State',\n",
    "    'Location Zip Code',\n",
    "    'Location County Code',\n",
    "    'Report Period',\n",
    "    'Report Tax',\n",
    "    'Receipts'\n",
    "]).rename(column_names = {\n",
    "    'Location State': 'State',\n",
    "    'Location Zip Code': 'Zip',\n",
    "    'Location County Code': 'CountyCode',\n",
    "    'Report Period': 'Period',\n",
    "    'Report Tax': 'Tax'\n",
    "})\n",
    "\n",
    "# Concatenates the name and address\n",
    "mixbev_cleaned_est = mixbev_cleaned.compute([\n",
    "    ('Establishment', agate.Formula(agate.Text(), lambda row: '%(Name)s %(Address)s' % row))\n",
    "])\n",
    "\n",
    "# importing countes.csv, ensuring that the 'code' column is text\n",
    "counties = agate.Table.from_csv('../resource-files/counties.csv', column_types={'code': agate.Text()})\n",
    "\n",
    "# joines the counties table to the mixed bev cleaned data with establishments\n",
    "mixbev_joined = mixbev_cleaned_est.join(counties, 'CountyCode', 'code')\n",
    "\n",
    "# get just the columns we need and rename county\n",
    "# THIS is the finished, cleaned mixbev table\n",
    "mixbev = mixbev_joined.select([\n",
    "    'Permit',\n",
    "    'Name',\n",
    "    'Address',\n",
    "    'Establishment',\n",
    "    'City',\n",
    "    'State',\n",
    "    'Zip',\n",
    "    'county',\n",
    "    'Period',\n",
    "    'Tax',\n",
    "    'Receipts'\n",
    "]).rename(column_names = {\n",
    "    'county': 'County'\n",
    "})\n"
   ]
  },
  {
   "cell_type": "markdown",
   "metadata": {
    "deletable": true,
    "editable": true
   },
   "source": [
    "### Looking at dates of the records\n",
    "\n",
    "This basically confirms that the file has multiple dates, and that we are looking at the right month of data. Typically a data set will have mostly reports from the previous month, but there are always also submissions from other months. We want to filter out those other months, which we do based on the `month_studied` variable set near the top of the file, which should match the period at the top of the table below.\n"
   ]
  },
  {
   "cell_type": "code",
   "execution_count": 39,
   "metadata": {
    "collapsed": false,
    "deletable": true,
    "editable": true
   },
   "outputs": [
    {
     "name": "stdout",
     "output_type": "stream",
     "text": [
      "| Period  |  Count |\n",
      "| ------- | ------ |\n",
      "| 2017/03 | 14,144 |\n",
      "| 2017/02 |  1,718 |\n",
      "| 2017/01 |    258 |\n",
      "| 2016/12 |     61 |\n",
      "| 2017/04 |     49 |\n"
     ]
    }
   ],
   "source": [
    "# Pivot the mixbev table by Period. Default it give a Count of the records\n",
    "# We then order the table by Count in descending order\n",
    "by_period = mixbev.pivot('Period').order_by('Count', reverse=True)\n",
    "\n",
    "# prints the table of period and number of records\n",
    "by_period.limit(5).print_table(max_rows=None)"
   ]
  },
  {
   "cell_type": "code",
   "execution_count": 40,
   "metadata": {
    "collapsed": false,
    "deletable": true,
    "editable": true
   },
   "outputs": [],
   "source": [
    "## filters the records to our month_studied\n",
    "mixbev_month = mixbev.where(lambda row: row['Period'] == month_studied)\n",
    "\n",
    "# function to group sales by a specific location\n",
    "# City or County passed in should be ALL CAPS\n",
    "# Location_type can be 'City' or 'County'\n",
    "\n",
    "def location_sum(location_type, location):\n",
    "    # Filters the data to the specified city\n",
    "    location_filtered = mixbev_month.where(lambda row: row[location_type].upper() == location)\n",
    "\n",
    "    # groups the data based on Establishment and location\n",
    "    location_grouped = location_filtered.group_by('Establishment').group_by(location_type)\n",
    "    # computes the sales based on the grouping\n",
    "    location_summary = location_grouped.aggregate([\n",
    "        ('Tax_sum', agate.Sum('Tax')),\n",
    "        ('Receipts_sum', agate.Sum('Receipts'))\n",
    "    ])\n",
    "    \n",
    "    # sorts the results by most sold\n",
    "    location_summary_sorted = location_summary.order_by('Receipts_sum', reverse=True)\n",
    "    # prints the top 10 results\n",
    "    \n",
    "    return(location_summary_sorted)\n"
   ]
  },
  {
   "cell_type": "markdown",
   "metadata": {
    "deletable": true,
    "editable": true
   },
   "source": [
    "## Top sales statewide\n",
    "\n",
    "Because we want to group our results by more than one field and perform more than one aggregation, we'll do this a little differently. We'll use group_by to create a grouped table, then perform aggregations on that new table to computer the Tax and Receipts columns."
   ]
  },
  {
   "cell_type": "code",
   "execution_count": 41,
   "metadata": {
    "collapsed": false,
    "deletable": true,
    "editable": true
   },
   "outputs": [
    {
     "name": "stdout",
     "output_type": "stream",
     "text": [
      "\n",
      "Total sales across the state for the given month: 589318616.73\n",
      "\n",
      "Top sales by establishment statewide\n",
      "\n",
      "| Establishment                            | County  | City        |    Tax_sum |    Sales_sum |\n",
      "| ---------------------------------------- | ------- | ----------- | ---------- | ------------ |\n",
      "| THREE NRG PARK 2000 SOUTH LOOP W         | Harris  | HOUSTON     | 251,360.81 | 3,751,653.88 |\n",
      "| ARAMARK SPORTS AND ENTERTAINME 211 AT... | Bexar   | SAN ANTONIO | 127,188.37 | 1,898,333.88 |\n",
      "| GAYLORD TEXAN 1501 GAYLORD TRL           | Tarrant | GRAPEVINE   | 106,811.33 | 1,594,198.96 |\n",
      "| HOSPITALITY INTERNATIONAL, INC 23808 ... | Bexar   | SAN ANTONIO | 102,455.66 | 1,529,188.96 |\n",
      "| LEVY RESTAURANTS AT TOYOTA CEN 1510 P... | Harris  | HOUSTON     |  79,008.41 | 1,179,230.00 |\n",
      "| SALC, INC. 2201 N STEMMONS FWY FL 1      | Dallas  | DALLAS      |  75,850.63 | 1,132,098.96 |\n",
      "| WLS BEVERAGE CO 110 E 2ND ST             | Travis  | AUSTIN      |  75,785.84 | 1,131,131.94 |\n",
      "| OMNI DALLAS CONVENTION CENTER 555 S L... | Dallas  | DALLAS      |  64,926.48 |   969,051.94 |\n",
      "| LEVY RESTAURANTS 2500 VICTORY AVE        | Dallas  | DALLAS      |  63,290.41 |   944,632.99 |\n",
      "| ARAMARK SPORTS & ENTERTAINMENT 8355 K... | Harris  | HOUSTON     |  61,416.82 |   916,668.96 |\n"
     ]
    }
   ],
   "source": [
    "# groups the data based on Establishment and City\n",
    "mixbev_grouped = mixbev_month.group_by('Establishment').group_by('County').group_by('City')\n",
    "\n",
    "# computes the sales based on the grouping\n",
    "state_summary = mixbev_grouped.aggregate([\n",
    "    ('Tax_sum', agate.Sum('Tax')),\n",
    "    ('Sales_sum', agate.Sum('Receipts'))\n",
    "])\n",
    "\n",
    "# sorts the results by most sold. We could probalby chain it above if we wanted to.\n",
    "state_summary_sorted = state_summary.order_by('Sales_sum', reverse=True)\n",
    "\n",
    "# summing sales statewide for month\n",
    "print('\\nTotal sales across the state for the given month: {}\\n'.format(\n",
    "    mixbev_month.aggregate(agate.Sum('Receipts'))\n",
    "))\n",
    "\n",
    "print('Top sales by establishment statewide\\n')\n",
    "\n",
    "# prints the top 10 results\n",
    "state_summary_sorted.limit(10).print_table(max_column_width=40)"
   ]
  },
  {
   "cell_type": "markdown",
   "metadata": {
    "deletable": true,
    "editable": true
   },
   "source": [
    "## Austin sales and sums\n",
    "\n",
    "With this, we refernce the location_sum function above, and pass the type of location (City) and the name of the city (AUSTIN). At the same time, we limit the result of that function to the first 10 records, and then print the results. We are basically stringing together a bunch of stuff at once."
   ]
  },
  {
   "cell_type": "code",
   "execution_count": 42,
   "metadata": {
    "collapsed": false,
    "deletable": true,
    "editable": true
   },
   "outputs": [
    {
     "name": "stdout",
     "output_type": "stream",
     "text": [
      "\n",
      "Total sales across the state for the given month: 75059310.65\n",
      "\n",
      "| Establishment                            | City   |   Tax_sum | Receipts_sum |\n",
      "| ---------------------------------------- | ------ | --------- | ------------ |\n",
      "| WLS BEVERAGE CO 110 E 2ND ST             | AUSTIN | 75,785.84 | 1,131,131.94 |\n",
      "| 400 BAR/CUCARACHA/CHUPACABRA/J 400 E ... | AUSTIN | 43,934.51 |   655,738.96 |\n",
      "| SAN JACINTO BEVERAGE COMPANY L 98 SAN... | AUSTIN | 37,672.15 |   562,270.90 |\n",
      "| RAIN ON 4TH 217 W 4TH ST STE B           | AUSTIN | 36,828.02 |   549,671.94 |\n",
      "| THE BLIND PIG PUB 317 E 6TH ST           | AUSTIN | 32,472.48 |   484,663.88 |\n"
     ]
    }
   ],
   "source": [
    "# uses the city_sum function to filter\n",
    "austin = location_sum('City', 'AUSTIN')\n",
    "\n",
    "print('\\nTotal sales across the state for the given month: {}\\n'.format(\n",
    "    austin.aggregate(agate.Sum('Receipts_sum'))\n",
    "))\n",
    "\n",
    "# print the resulting table\n",
    "austin.limit(5).print_table(max_column_width=40)"
   ]
  },
  {
   "cell_type": "markdown",
   "metadata": {
    "deletable": true,
    "editable": true
   },
   "source": [
    "## More Central Texas cities"
   ]
  },
  {
   "cell_type": "code",
   "execution_count": 43,
   "metadata": {
    "collapsed": false,
    "deletable": true,
    "editable": true
   },
   "outputs": [
    {
     "name": "stdout",
     "output_type": "stream",
     "text": [
      "| Establishment                            | City    |  Tax_sum | Receipts_sum |\n",
      "| ---------------------------------------- | ------- | -------- | ------------ |\n",
      "| OLD TOWN RESTURANT AND BAR/PIN 931 MA... | BASTROP | 5,095.81 |    76,056.87 |\n",
      "| CHILI'S GRILL & BAR 734 HIGHWAY 71 W     | BASTROP | 2,838.38 |    42,363.88 |\n",
      "| NEIGHBOR'S 601 CHESTNUT ST UNIT C        | BASTROP | 2,812.92 |    41,983.88 |\n"
     ]
    }
   ],
   "source": [
    "location_sum('City', 'BASTROP').limit(3).print_table(max_column_width=40)"
   ]
  },
  {
   "cell_type": "code",
   "execution_count": 44,
   "metadata": {
    "collapsed": false,
    "deletable": true,
    "editable": true
   },
   "outputs": [
    {
     "name": "stdout",
     "output_type": "stream",
     "text": [
      "| Establishment                            | City     |  Tax_sum | Receipts_sum |\n",
      "| ---------------------------------------- | -------- | -------- | ------------ |\n",
      "| HCG BEVERAGE, LLC 12525 BEE CAVE PKWY    | BEE CAVE | 6,331.63 |    94,501.94 |\n",
      "| WOODY TAVERN AND GRILL, INC. 12801 SH... | BEE CAVE | 6,323.46 |    94,380.00 |\n",
      "| MAUDIE'S HILL COUNTRY, LLC 12506 SHOP... | BEE CAVE | 5,968.29 |    89,078.96 |\n"
     ]
    }
   ],
   "source": [
    "location_sum('City', 'BEE CAVE').limit(3).print_table(max_column_width=40)"
   ]
  },
  {
   "cell_type": "code",
   "execution_count": 45,
   "metadata": {
    "collapsed": false,
    "deletable": true,
    "editable": true
   },
   "outputs": [
    {
     "name": "stdout",
     "output_type": "stream",
     "text": [
      "| Establishment                  | City |  Tax_sum | Receipts_sum |\n",
      "| ------------------------------ | ---- | -------- | ------------ |\n",
      "| BUCKS BACKYARD 1750 S FM 1626  | BUDA | 7,863.05 |   117,358.96 |\n",
      "| WILLIE'S JOINT 824 MAIN ST     | BUDA | 4,295.03 |    64,104.93 |\n",
      "| PINBALLZ KINGDOM 15201 S IH 35 | BUDA | 3,521.92 |    52,565.97 |\n"
     ]
    }
   ],
   "source": [
    "location_sum('City', 'BUDA').limit(3).print_table(max_column_width=40)"
   ]
  },
  {
   "cell_type": "code",
   "execution_count": 46,
   "metadata": {
    "collapsed": false,
    "deletable": true,
    "editable": true
   },
   "outputs": [
    {
     "name": "stdout",
     "output_type": "stream",
     "text": [
      "| Establishment                            | City       |   Tax_sum | Receipts_sum |\n",
      "| ---------------------------------------- | ---------- | --------- | ------------ |\n",
      "| CHUY'S 4911 183A TOLL RD                 | CEDAR PARK | 12,001.04 |   179,120.00 |\n",
      "| LUPE TORTILLA MEXICAN RESTAURA 4501 1... | CEDAR PARK |  7,989.81 |   119,250.90 |\n",
      "| RYAN SANDERS SPORTS SERVICES, 2100 AV... | CEDAR PARK |  6,700.20 |   100,002.99 |\n"
     ]
    }
   ],
   "source": [
    "location_sum('City', 'CEDAR PARK').limit(3).print_table(max_column_width=40)"
   ]
  },
  {
   "cell_type": "code",
   "execution_count": 47,
   "metadata": {
    "collapsed": false,
    "deletable": true,
    "editable": true
   },
   "outputs": [
    {
     "name": "stdout",
     "output_type": "stream",
     "text": [
      "| Establishment                            | City             |  Tax_sum | Receipts_sum |\n",
      "| ---------------------------------------- | ---------------- | -------- | ------------ |\n",
      "| TRUDY'S FOUR STAR 13059 FOUR STAR BLVD   | DRIPPING SPRINGS | 4,229.71 |    63,130.00 |\n",
      "| DEEP EDDY DISTILLING CO 2250 E HIGHWA... | DRIPPING SPRINGS | 4,001.30 |    59,720.90 |\n",
      "| FLORES MEXICAN RESTAURANT 2440 E HIGH... | DRIPPING SPRINGS | 3,631.73 |    54,204.93 |\n"
     ]
    }
   ],
   "source": [
    "location_sum('City', 'DRIPPING SPRINGS').limit(3).print_table(max_column_width=40)"
   ]
  },
  {
   "cell_type": "code",
   "execution_count": 48,
   "metadata": {
    "collapsed": false,
    "deletable": true,
    "editable": true
   },
   "outputs": [
    {
     "name": "stdout",
     "output_type": "stream",
     "text": [
      "| Establishment                      | City       |  Tax_sum | Receipts_sum |\n",
      "| ---------------------------------- | ---------- | -------- | ------------ |\n",
      "| EL MONUMENTO 205 W 2ND ST          | GEORGETOWN | 6,815.03 |   101,716.87 |\n",
      "| HARDTAILS 1515 N IH 35             | GEORGETOWN | 4,984.66 |    74,397.91 |\n",
      "| DOS SALSAS CAFE INC 1104 S MAIN ST | GEORGETOWN | 4,818.90 |    71,923.88 |\n"
     ]
    }
   ],
   "source": [
    "location_sum('City', 'GEORGETOWN').limit(3).print_table(max_column_width=40)"
   ]
  },
  {
   "cell_type": "code",
   "execution_count": 49,
   "metadata": {
    "collapsed": false,
    "deletable": true,
    "editable": true
   },
   "outputs": [
    {
     "name": "stdout",
     "output_type": "stream",
     "text": [
      "| Establishment                            | City |  Tax_sum | Receipts_sum |\n",
      "| ---------------------------------------- | ---- | -------- | ------------ |\n",
      "| CASA GARCIA'S MEXICAN RESTAURA 5401 F... | KYLE | 5,228.68 |    78,040.00 |\n",
      "| EVO ENTERTAINMENT CENTER 3200 KYLE XING  | KYLE | 4,822.32 |    71,974.93 |\n",
      "| CENTERFIELD SPORTS BAR & GRILL 200 W ... | KYLE | 2,941.43 |    43,901.94 |\n"
     ]
    }
   ],
   "source": [
    "location_sum('City', 'KYLE').limit(3).print_table(max_column_width=40)"
   ]
  },
  {
   "cell_type": "code",
   "execution_count": 50,
   "metadata": {
    "collapsed": false,
    "deletable": true,
    "editable": true
   },
   "outputs": [
    {
     "name": "stdout",
     "output_type": "stream",
     "text": [
      "| Establishment                            | City       |  Tax_sum | Receipts_sum |\n",
      "| ---------------------------------------- | ---------- | -------- | ------------ |\n",
      "| COPPERHEAD GRILL 6115 LOHMANS FORD RD    | LAGO VISTA | 1,543.61 |    23,038.96 |\n",
      "| MARIA'S BAR & GRILL MEXICAN RE 20602 ... | LAGO VISTA |   490.10 |     7,314.93 |\n"
     ]
    }
   ],
   "source": [
    "location_sum('City', 'LAGO VISTA').limit(3).print_table(max_column_width=40)"
   ]
  },
  {
   "cell_type": "code",
   "execution_count": 51,
   "metadata": {
    "collapsed": false,
    "deletable": true,
    "editable": true
   },
   "outputs": [
    {
     "name": "stdout",
     "output_type": "stream",
     "text": [
      "| Establishment                            | City    |  Tax_sum | Receipts_sum |\n",
      "| ---------------------------------------- | ------- | -------- | ------------ |\n",
      "| THE GROVE WINE BAR AND KITCHEN 3001 R... | LAKEWAY | 7,590.96 |   113,297.91 |\n",
      "| LAKEWAY RESORT AND SPA 101 LAKEWAY DR    | LAKEWAY | 6,797.01 |   101,447.91 |\n",
      "| HIGH 5 ENTERTAINMENT 1502 RANCH ROAD ... | LAKEWAY | 4,468.96 |    66,700.90 |\n"
     ]
    }
   ],
   "source": [
    "location_sum('City', 'LAKEWAY').limit(3).print_table(max_column_width=40)"
   ]
  },
  {
   "cell_type": "code",
   "execution_count": 52,
   "metadata": {
    "collapsed": false,
    "deletable": true,
    "editable": true
   },
   "outputs": [
    {
     "name": "stdout",
     "output_type": "stream",
     "text": [
      "| Establishment                            | City    |  Tax_sum | Receipts_sum |\n",
      "| ---------------------------------------- | ------- | -------- | ------------ |\n",
      "| BROOKLYN HEIGHTS PIZZERIA 3550 LAKELI... | LEANDER | 3,792.26 |    56,600.90 |\n",
      "| JARDIN DEL REY 703 S HIGHWAY 183         | LEANDER | 2,939.29 |    43,870.00 |\n",
      "| TAPATIA JALISCO #3 LLC 651 N US 183      | LEANDER |   755.42 |    11,274.93 |\n"
     ]
    }
   ],
   "source": [
    "location_sum('City', 'LEANDER').limit(3).print_table(max_column_width=40)"
   ]
  },
  {
   "cell_type": "code",
   "execution_count": 53,
   "metadata": {
    "collapsed": false,
    "deletable": true,
    "editable": true
   },
   "outputs": [
    {
     "name": "stdout",
     "output_type": "stream",
     "text": [
      "| Establishment                            | City         |  Tax_sum | Receipts_sum |\n",
      "| ---------------------------------------- | ------------ | -------- | ------------ |\n",
      "| JARDIN CORONA 15395 W STATE HIGHWAY 29   | LIBERTY HILL | 2,991.81 |    44,653.88 |\n",
      "| MARGARITA'S RESTAURANT 10280 W STATE ... | LIBERTY HILL | 2,156.32 |    32,183.88 |\n",
      "| ELENAS MEXICAN RESTAURANT 14801 W STA... | LIBERTY HILL |   280.32 |     4,183.88 |\n"
     ]
    }
   ],
   "source": [
    "location_sum('City', 'LIBERTY HILL').limit(3).print_table(max_column_width=40)"
   ]
  },
  {
   "cell_type": "code",
   "execution_count": 54,
   "metadata": {
    "collapsed": false,
    "deletable": true,
    "editable": true
   },
   "outputs": [
    {
     "name": "stdout",
     "output_type": "stream",
     "text": [
      "| Establishment                          | City         |  Tax_sum | Receipts_sum |\n",
      "| -------------------------------------- | ------------ | -------- | ------------ |\n",
      "| MAVERICKS 1700 GRAND AVENUE PKWY STE 2 | PFLUGERVILLE | 7,534.15 |   112,450.00 |\n",
      "| HANOVER'S DRAUGHT HAUS 108 E MAIN ST   | PFLUGERVILLE | 4,784.67 |    71,412.99 |\n",
      "| LAST CALL 1615 GRAND AVENUE PKWY STE 2 | PFLUGERVILLE | 4,573.08 |    68,254.93 |\n"
     ]
    }
   ],
   "source": [
    "location_sum('City', 'PFLUGERVILLE').limit(3).print_table(max_column_width=40)"
   ]
  },
  {
   "cell_type": "code",
   "execution_count": 55,
   "metadata": {
    "collapsed": false,
    "deletable": true,
    "editable": true
   },
   "outputs": [
    {
     "name": "stdout",
     "output_type": "stream",
     "text": [
      "| Establishment                            | City       |   Tax_sum | Receipts_sum |\n",
      "| ---------------------------------------- | ---------- | --------- | ------------ |\n",
      "| CHUY'S ROUND ROCK 2320 N INTERSTATE 35   | ROUND ROCK | 10,927.56 |   163,097.91 |\n",
      "| THIRD BASE ROUND ROCK, LLC 3107 S INT... | ROUND ROCK | 10,351.03 |   154,492.99 |\n",
      "| FAST EDDIE'S NEIGHBORHOOD BILL 100 PA... | ROUND ROCK | 10,327.98 |   154,148.96 |\n",
      "| RICK'S CABARET 3105 S INTERSTATE 35      | ROUND ROCK |  9,802.36 |   146,303.88 |\n",
      "| JACK ALLEN'S KITCHEN 2500 HOPPE TRL      | ROUND ROCK |  9,461.94 |   141,222.99 |\n"
     ]
    }
   ],
   "source": [
    "location_sum('City', 'ROUND ROCK').limit(5).print_table(max_column_width=40)"
   ]
  },
  {
   "cell_type": "code",
   "execution_count": 56,
   "metadata": {
    "collapsed": false,
    "deletable": true,
    "editable": true
   },
   "outputs": [
    {
     "name": "stdout",
     "output_type": "stream",
     "text": [
      "| Establishment                          | City       |  Tax_sum | Receipts_sum |\n",
      "| -------------------------------------- | ---------- | -------- | ------------ |\n",
      "| ZELICKS 336 W HOPKINS ST               | SAN MARCOS | 9,369.34 |   139,840.90 |\n",
      "| CHUY'S SAN MARCOS 1121 N INTERSTATE 35 | SAN MARCOS | 7,638.87 |   114,012.99 |\n",
      "| THE MARC 120 E SAN ANTONIO ST          | SAN MARCOS | 7,286.78 |   108,757.91 |\n",
      "| SEAN PATRICK'S 202 E SAN ANTONIO ST    | SAN MARCOS | 7,081.83 |   105,698.96 |\n",
      "| PLUCKERS WING BAR 105 N INTERSTATE 35  | SAN MARCOS | 6,924.58 |   103,351.94 |\n"
     ]
    }
   ],
   "source": [
    "location_sum('City', 'SAN MARCOS').limit(5).print_table(max_column_width=40)"
   ]
  },
  {
   "cell_type": "code",
   "execution_count": 57,
   "metadata": {
    "collapsed": false,
    "deletable": true,
    "editable": true
   },
   "outputs": [
    {
     "name": "stdout",
     "output_type": "stream",
     "text": [
      "| Establishment                            | City      |  Tax_sum | Receipts_sum |\n",
      "| ---------------------------------------- | --------- | -------- | ------------ |\n",
      "| ANGEL'S ICEHOUSE 21815 W HWY 71          | SPICEWOOD | 4,225.15 |    63,061.94 |\n",
      "| POODIES HILLTOP ROADHOUSE 22308 STATE... | SPICEWOOD | 3,499.87 |    52,236.87 |\n",
      "| APIS RESTAURANT 23526 STATE HIGHWAY 71 W | SPICEWOOD | 2,262.45 |    33,767.91 |\n"
     ]
    }
   ],
   "source": [
    "location_sum('City', 'SPICEWOOD').limit(3).print_table(max_column_width=40)"
   ]
  },
  {
   "cell_type": "code",
   "execution_count": 58,
   "metadata": {
    "collapsed": false,
    "deletable": true,
    "editable": true
   },
   "outputs": [
    {
     "name": "stdout",
     "output_type": "stream",
     "text": [
      "| Establishment                            | City          |  Tax_sum | Receipts_sum |\n",
      "| ---------------------------------------- | ------------- | -------- | ------------ |\n",
      "| DOC'S BACKYARD 5207 BRODIE LN # 100      | SUNSET VALLEY | 6,248.62 |    93,262.99 |\n",
      "| BJ'S RESTAURANT AND BREWHOUSE 5207 BR... | SUNSET VALLEY | 3,561.98 |    53,163.88 |\n",
      "| LONGHORN STEAKHOUSE #5423 4809 W HIGH... | SUNSET VALLEY | 2,439.60 |    36,411.94 |\n"
     ]
    }
   ],
   "source": [
    "location_sum('City', 'SUNSET VALLEY').limit(3).print_table(max_column_width=40)"
   ]
  },
  {
   "cell_type": "code",
   "execution_count": 59,
   "metadata": {
    "collapsed": false,
    "deletable": true,
    "editable": true
   },
   "outputs": [
    {
     "name": "stdout",
     "output_type": "stream",
     "text": [
      "| Establishment                            | City            |  Tax_sum | Receipts_sum |\n",
      "| ---------------------------------------- | --------------- | -------- | ------------ |\n",
      "| LUPE TORTILLA MEXICAN RESTAURA 701 S ... | WEST LAKE HILLS | 6,853.36 |   102,288.96 |\n",
      "| CHIPOTLE CHIPOTLE MEXICAN GRIL 3300 B... | WEST LAKE HILLS |    39.12 |       583.88 |\n"
     ]
    }
   ],
   "source": [
    "location_sum('City', 'WEST LAKE HILLS').limit(3).print_table(max_column_width=40)"
   ]
  },
  {
   "cell_type": "markdown",
   "metadata": {
    "deletable": true,
    "editable": true
   },
   "source": [
    "## Sales by county example\n",
    "\n",
    "In this case, we pass in the location type of 'County' and then a county name in caps to get the most sales in a particular county."
   ]
  },
  {
   "cell_type": "code",
   "execution_count": 60,
   "metadata": {
    "collapsed": false,
    "deletable": true,
    "editable": true
   },
   "outputs": [
    {
     "name": "stdout",
     "output_type": "stream",
     "text": [
      "| Establishment                            | County   |  Tax_sum | Receipts_sum |\n",
      "| ---------------------------------------- | -------- | -------- | ------------ |\n",
      "| GUADALAJARA MEXICAN RESTAURANT 1710 S... | Caldwell | 1,258.86 |    18,788.96 |\n",
      "| THE PEARL 110 N MAIN ST                  | Caldwell |   644.94 |     9,625.97 |\n",
      "| MR TACO 1132 E PIERCE ST                 | Caldwell |   618.61 |     9,232.99 |\n"
     ]
    }
   ],
   "source": [
    "location_sum('County', 'CALDWELL').limit(3).print_table(max_column_width=40)"
   ]
  },
  {
   "cell_type": "markdown",
   "metadata": {
    "deletable": true,
    "editable": true
   },
   "source": [
    "## Sales by ZIP Code\n",
    "Just making sure that 78701 is at the top of this list, which it has been every month for a decade."
   ]
  },
  {
   "cell_type": "code",
   "execution_count": 61,
   "metadata": {
    "collapsed": false,
    "deletable": true,
    "editable": true
   },
   "outputs": [
    {
     "name": "stdout",
     "output_type": "stream",
     "text": [
      "| Zip   |           Sum |\n",
      "| ----- | ------------- |\n",
      "| 78701 | 32,492,045.23 |\n",
      "| 78205 | 13,819,245.15 |\n",
      "| 75201 | 11,461,946.05 |\n",
      "| 77002 |  9,463,902.34 |\n",
      "| 78704 |  8,062,829.61 |\n"
     ]
    }
   ],
   "source": [
    "# top zip code gross receipts\n",
    "zip_receipts = mixbev_month.pivot('Zip', aggregation=agate.Sum('Receipts')).order_by('Sum', reverse=True)\n",
    "zip_receipts.limit(5).print_table()"
   ]
  },
  {
   "cell_type": "code",
   "execution_count": null,
   "metadata": {
    "collapsed": true,
    "deletable": true,
    "editable": true
   },
   "outputs": [],
   "source": []
  }
 ],
 "metadata": {
  "kernelspec": {
   "display_name": "Python 3",
   "language": "python",
   "name": "python3"
  },
  "language_info": {
   "codemirror_mode": {
    "name": "ipython",
    "version": 3
   },
   "file_extension": ".py",
   "mimetype": "text/x-python",
   "name": "python",
   "nbconvert_exporter": "python",
   "pygments_lexer": "ipython3",
   "version": "3.6.1"
  }
 },
 "nbformat": 4,
 "nbformat_minor": 2
}
