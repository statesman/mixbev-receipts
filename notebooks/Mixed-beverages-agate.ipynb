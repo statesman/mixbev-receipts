{
 "cells": [
  {
   "cell_type": "markdown",
   "metadata": {
    "deletable": true,
    "editable": true
   },
   "source": [
    "# Processing mixed beverage data\n",
    "This Jupyter Notebook uses curl to down download [Mixed Beverage Gross Receipts](https://comptroller.texas.gov/taxes/mixed-beverage/receipts.php) files from the Texas Comptroller's [data center](https://comptroller.texas.gov/transparency/open-data/search-datasets/), and then a python library called [agate](http://agate.readthedocs.io/) to clean and process that data for [stories similar to this one](http://www.mystatesman.com/business/austin-alcohol-sales-percent-february/Oo2txZUkuDlqBl0rU9O1lJ/) on monthly alcohol sales.\n",
    "\n",
    "This is a stripped down version (compared to the original fork) that skips explanation of steps beyond commenting.\n",
    "\n",
    "## Get to the goods\n",
    "\n",
    "To skip most of the setup code and get to what you really want, search for:\n",
    "\n",
    "- Top sales statewide\n",
    "- Austin sales\n",
    "- Central Texas cities"
   ]
  },
  {
   "cell_type": "markdown",
   "metadata": {
    "deletable": true,
    "editable": true
   },
   "source": [
    "### File download\n",
    "\n",
    "- Go to the [Texas Comptroller data center](https://comptroller.texas.gov/transparency/open-data/search-datasets/) and copy the url for the CSV for this month and enter it below.\n",
    "- You also need to set to set the [processing variables](Processing-variables) for this month."
   ]
  },
  {
   "cell_type": "code",
   "execution_count": 1,
   "metadata": {
    "collapsed": false,
    "deletable": true,
    "editable": true
   },
   "outputs": [],
   "source": [
    "## %%bash\n",
    "## downloads the mixedbev file into mixbev-files folder\n",
    "## You have to set this URL based on location in data center\n",
    "\n",
    "## these are commented out now. I've been pulling them manually\n",
    "## and processing from those file\n",
    "# cd ../test/\n",
    "# curl -O https://comptroller.texas.gov/auto-data/odc/MIXEDBEV_03_2017.CSV"
   ]
  },
  {
   "cell_type": "code",
   "execution_count": 2,
   "metadata": {
    "collapsed": false,
    "deletable": true,
    "editable": true
   },
   "outputs": [],
   "source": [
    "# imports the libraries we will use\n",
    "import agate\n",
    "from decimal import Decimal\n",
    "import re\n",
    "\n",
    "# this surpresses the timezone warning\n",
    "# Might comment out during development so other warnings\n",
    "# are not surpressed\n",
    "import warnings\n",
    "warnings.filterwarnings('ignore')"
   ]
  },
  {
   "cell_type": "markdown",
   "metadata": {
    "deletable": true,
    "editable": true
   },
   "source": [
    "### Processing variables\n",
    "Then we set some values based on those.\n",
    "\n",
    "- The **`file`** is the name of the file we want to process\n",
    "- The **`tax_rate`** is the value we need for this file to get the Gross Recipts (vs the Tax Reported, which is just the tax amount the establishment paid). The comptroller [has information on the tax](https://comptroller.texas.gov/taxes/mixed-beverage/receipts.php), but this [old record layout](https://github.com/utdata/cli-tools/blob/master/data/mixbevtax/OLD-MIXEDBEVTAX-LAYOUT.txt) best describes the math.\n",
    "- The **`month_studied`** is the YYYY/MM designation for the month before the file release. The file released in February has mostly records from January, but can also have any other month, so we set here the specific month we want. Note there is a check later on that counts the number of files by month, which is worth checking.\n",
    "\n",
    "Here are the files we have downloaded:"
   ]
  },
  {
   "cell_type": "code",
   "execution_count": 3,
   "metadata": {
    "collapsed": false,
    "deletable": true,
    "editable": true
   },
   "outputs": [
    {
     "name": "stdout",
     "output_type": "stream",
     "text": [
      "MIXEDBEV_01_2017.CSV  MIXEDBEV_04_2015.CSV  MIXEDBEV_06_2017.CSV\r\n",
      "MIXEDBEV_02_2017.CSV  MIXEDBEV_04_2017.CSV\r\n",
      "MIXEDBEV_03_2017.CSV  MIXEDBEV_05_2017.CSV\r\n"
     ]
    }
   ],
   "source": [
    "ls ../mixbev-files/2017/"
   ]
  },
  {
   "cell_type": "code",
   "execution_count": 4,
   "metadata": {
    "collapsed": false,
    "deletable": true,
    "editable": true
   },
   "outputs": [],
   "source": [
    "# this is our source file, which may have been downloaded above\n",
    "# Swap out the file name here and date below as needed\n",
    "file = '../mixbev-files/2017/MIXEDBEV_06_2017.CSV'\n",
    "file_name = ''\n",
    "online_name = ''\n",
    "\n",
    "# setting the month_studied var.\n",
    "# This should be checked in the table below that counts records by month\n",
    "month_studied = '2017/05'\n",
    "\n",
    "# Sets the tax rate to convert Report Tax to Gross Receipts\n",
    "# It's 6.7 since January 1, 2014\n",
    "tax_rate = Decimal('6.7')"
   ]
  },
  {
   "cell_type": "markdown",
   "metadata": {
    "deletable": true,
    "editable": true
   },
   "source": [
    "### import and processing"
   ]
  },
  {
   "cell_type": "code",
   "execution_count": 5,
   "metadata": {
    "collapsed": false,
    "deletable": true,
    "editable": true
   },
   "outputs": [],
   "source": [
    "# sets the column names of the original data set.\n",
    "column_names = [\n",
    "    'TABC Permit Number',\n",
    "    'Trade Name',\n",
    "    'Location Address',\n",
    "    'Location City',\n",
    "    'Location State',\n",
    "    'Location Zip Code',\n",
    "    'Location County Code',\n",
    "    'Blank',\n",
    "    'Report Period',\n",
    "    'Report Tax'\n",
    "]\n",
    "# Helps us import some text fields that may be considered numbers in error.\n",
    "specified_types = {\n",
    "    'Location Zip Code': agate.Text(),\n",
    "    'Location County Code': agate.Text()\n",
    "}\n",
    "\n",
    "# this imports the file specified above, along with the proper types\n",
    "mixbev_raw = agate.Table.from_csv(file, column_names, encoding='iso-8859-1', column_types=specified_types)\n",
    "\n",
    "# mixbev_trim creates a new interim table with results of compute function\n",
    "# that takes the four columns that need trimming and strips them of white space,\n",
    "# adding them to the end of the table with new names.\n",
    "# The last computation does the math to create the Gross Receipts based on the tax_rate set above\n",
    "\n",
    "mixbev_trim = mixbev_raw.compute([\n",
    "    ('Permit', agate.Formula(agate.Text(), lambda r: r['TABC Permit Number'].strip())),\n",
    "    ('Name', agate.Formula(agate.Text(), lambda r: r['Trade Name'].strip())),\n",
    "    ('Address', agate.Formula(agate.Text(), lambda r: r['Location Address'].strip())),\n",
    "    ('City', agate.Formula(agate.Text(), lambda r: r['Location City'].strip())),\n",
    "    ('Receipts_compute', agate.Formula(agate.Number(), lambda r: (r['Report Tax'] / tax_rate) * 100))\n",
    "])\n",
    "\n",
    "# the Receipts_compute computation above returns as a decimal number,\n",
    "# so this function rounds those numbers.\n",
    "# I might refactor this late so I can use it elsewhere.\n",
    "def round_receipt(row):\n",
    "    return row['Receipts_compute'].quantize(Decimal('0.01'))\n",
    "\n",
    "# This compute method uses round_recipt function above,\n",
    "# putting the results into a new table.\n",
    "mixbev_round = mixbev_trim.compute([\n",
    "    ('Receipts', agate.Formula(agate.Number(), round_receipt))\n",
    "])\n",
    "\n",
    "# creates new table, selecting just the columns we need\n",
    "# then renames some of them for ease later.\n",
    "mixbev_cleaned = mixbev_round.select([\n",
    "    'Permit',\n",
    "    'Name',\n",
    "    'Address',\n",
    "    'City',\n",
    "    'Location State',\n",
    "    'Location Zip Code',\n",
    "    'Location County Code',\n",
    "    'Report Period',\n",
    "    'Report Tax',\n",
    "    'Receipts'\n",
    "]).rename(column_names = {\n",
    "    'Location State': 'State',\n",
    "    'Location Zip Code': 'Zip',\n",
    "    'Location County Code': 'CountyCode',\n",
    "    'Report Period': 'Period',\n",
    "    'Report Tax': 'Tax'\n",
    "})\n",
    "\n",
    "# Concatenates the name and address\n",
    "mixbev_cleaned_est = mixbev_cleaned.compute([\n",
    "    ('Establishment', agate.Formula(agate.Text(), lambda row: '%(Name)s %(Address)s' % row))\n",
    "])\n",
    "\n",
    "# importing countes.csv, ensuring that the 'code' column is text\n",
    "counties = agate.Table.from_csv('../resource-files/counties.csv', column_types={'code': agate.Text()})\n",
    "\n",
    "# joines the counties table to the mixed bev cleaned data with establishments\n",
    "mixbev_joined = mixbev_cleaned_est.join(counties, 'CountyCode', 'code')\n",
    "\n",
    "# get just the columns we need and rename county\n",
    "# THIS is the finished, cleaned mixbev table\n",
    "mixbev = mixbev_joined.select([\n",
    "    'Permit',\n",
    "    'Name',\n",
    "    'Address',\n",
    "    'Establishment',\n",
    "    'City',\n",
    "    'State',\n",
    "    'Zip',\n",
    "    'county',\n",
    "    'Period',\n",
    "    'Tax',\n",
    "    'Receipts'\n",
    "]).rename(column_names = {\n",
    "    'county': 'County'\n",
    "})\n"
   ]
  },
  {
   "cell_type": "markdown",
   "metadata": {
    "deletable": true,
    "editable": true
   },
   "source": [
    "### Looking at dates of the records\n",
    "\n",
    "This basically confirms that the file has multiple dates, and that we are looking at the right month of data. Typically a data set will have mostly reports from the previous month, but there are always also submissions from other months. We want to filter out those other months, which we do based on the `month_studied` variable set near the top of the file, which should match the period at the top of the table below.\n"
   ]
  },
  {
   "cell_type": "code",
   "execution_count": 6,
   "metadata": {
    "collapsed": false,
    "deletable": true,
    "editable": true
   },
   "outputs": [
    {
     "name": "stdout",
     "output_type": "stream",
     "text": [
      "| Period  |  Count |\n",
      "| ------- | ------ |\n",
      "| 2017/05 | 14,469 |\n",
      "| 2017/04 |  1,375 |\n",
      "| 2017/03 |    173 |\n",
      "| 2017/06 |     53 |\n",
      "| 2017/02 |     48 |\n"
     ]
    }
   ],
   "source": [
    "# Pivot the mixbev table by Period. Default it give a Count of the records\n",
    "# We then order the table by Count in descending order\n",
    "by_period = mixbev.pivot('Period').order_by('Count', reverse=True)\n",
    "\n",
    "# prints the table of period and number of records\n",
    "by_period.limit(5).print_table(max_rows=None)"
   ]
  },
  {
   "cell_type": "code",
   "execution_count": 7,
   "metadata": {
    "collapsed": false,
    "deletable": true,
    "editable": true
   },
   "outputs": [],
   "source": [
    "## filters the records to our month_studied\n",
    "mixbev_month = mixbev.where(lambda row: row['Period'] == month_studied)\n",
    "\n",
    "# function to group sales by a specific location\n",
    "# City or County passed in should be ALL CAPS\n",
    "# Location_type can be 'City' or 'County'\n",
    "\n",
    "def location_sum(location_type, location):\n",
    "    # Filters the data to the specified city\n",
    "    location_filtered = mixbev_month.where(lambda row: row[location_type].upper() == location)\n",
    "\n",
    "    # groups the data based on Establishment and location\n",
    "    location_grouped = location_filtered.group_by('Establishment').group_by(location_type)\n",
    "    # computes the sales based on the grouping\n",
    "    location_summary = location_grouped.aggregate([\n",
    "        ('Tax_sum', agate.Sum('Tax')),\n",
    "        ('Receipts_sum', agate.Sum('Receipts'))\n",
    "    ])\n",
    "    \n",
    "    # sorts the results by most sold\n",
    "    location_summary_sorted = location_summary.order_by('Receipts_sum', reverse=True)\n",
    "    # prints the top 10 results\n",
    "    \n",
    "    return(location_summary_sorted)\n"
   ]
  },
  {
   "cell_type": "markdown",
   "metadata": {
    "deletable": true,
    "editable": true
   },
   "source": [
    "## Top sales statewide\n",
    "\n",
    "Because we want to group our results by more than one field and perform more than one aggregation, we'll do this a little differently. We'll use group_by to create a grouped table, then perform aggregations on that new table to computer the Tax and Receipts columns."
   ]
  },
  {
   "cell_type": "code",
   "execution_count": 31,
   "metadata": {
    "collapsed": false,
    "deletable": true,
    "editable": true
   },
   "outputs": [
    {
     "name": "stdout",
     "output_type": "stream",
     "text": [
      "\n",
      "Total sales across the state for the given month: 553995994.97\n",
      "\n",
      "Top sales by establishment statewide\n",
      "\n",
      "| Establishment                       | County     | City            |    Tax_sum |    Sales_sum |\n",
      "| ----------------------------------- | ---------- | --------------- | ---------- | ------------ |\n",
      "| GAYLORD TEXAN 1501 GAYLORD TRL      | Tarrant    | GRAPEVINE       | 115,258.82 | 1,720,280.90 |\n",
      "| SPECTRUM CATERING 27328 SPECTRUM... | Montgomery | OAK RIDGE NORTH |  87,064.82 | 1,299,474.93 |\n",
      "| ARAMARK SPORTS & ENTERTAINMENT 5... | Harris     | HOUSTON         |  81,612.49 | 1,218,096.87 |\n",
      "| FOUR SEASONS HOTEL AND RESORT 41... | Dallas     | IRVING          |  76,418.92 | 1,140,580.90 |\n",
      "| SALC, INC. 2201 N STEMMONS FWY FL 1 | Dallas     | DALLAS          |  70,827.84 | 1,057,131.94 |\n",
      "| LEVY RESTAURANTS AT TOYOTA CEN 1... | Harris     | HOUSTON         |  70,729.89 | 1,055,670.00 |\n",
      "| WLS BEVERAGE CO 110 E 2ND ST        | Travis     | AUSTIN          |  65,968.87 |   984,610.00 |\n",
      "| MARRIOTT MARQUIS HOUSTON 1777 WA... | Harris     | HOUSTON         |  65,726.73 |   980,995.97 |\n",
      "| OMNI DALLAS CONVENTION CENTER 55... | Dallas     | DALLAS          |  65,026.44 |   970,543.88 |\n",
      "| ARAMARK SPORTS AND ENTERTAINME 2... | Bexar      | SAN ANTONIO     |  59,337.61 |   885,635.97 |\n"
     ]
    }
   ],
   "source": [
    "# groups the data based on Establishment and City\n",
    "mixbev_grouped = mixbev_month.group_by('Establishment').group_by('County').group_by('City')\n",
    "\n",
    "# computes the sales based on the grouping\n",
    "state_summary = mixbev_grouped.aggregate([\n",
    "    ('Tax_sum', agate.Sum('Tax')),\n",
    "    ('Sales_sum', agate.Sum('Receipts'))\n",
    "])\n",
    "\n",
    "# sorts the results by most sold. We could probalby chain it above if we wanted to.\n",
    "state_summary_sorted = state_summary.order_by('Sales_sum', reverse=True)\n",
    "\n",
    "# summing sales statewide for month\n",
    "print('\\nTotal sales across the state for the given month: {}\\n'.format(\n",
    "    mixbev_month.aggregate(agate.Sum('Receipts'))\n",
    "))\n",
    "\n",
    "print('Top sales by establishment statewide\\n')\n",
    "\n",
    "# prints the top 10 results\n",
    "state_summary_sorted.limit(10).print_table(max_column_width=35)"
   ]
  },
  {
   "cell_type": "markdown",
   "metadata": {
    "deletable": true,
    "editable": true
   },
   "source": [
    "## Austin sales and sums\n",
    "\n",
    "With this, we refernce the location_sum function above, and pass the type of location (City) and the name of the city (AUSTIN). At the same time, we limit the result of that function to the first 10 records, and then print the results. We are basically stringing together a bunch of stuff at once."
   ]
  },
  {
   "cell_type": "code",
   "execution_count": 29,
   "metadata": {
    "collapsed": false,
    "deletable": true,
    "editable": true
   },
   "outputs": [
    {
     "name": "stdout",
     "output_type": "stream",
     "text": [
      "\n",
      "Total sales across the state for the given month: 63324707.07\n",
      "\n",
      "| Establishment                                      | City   |   Tax_sum | Receipts_sum |\n",
      "| -------------------------------------------------- | ------ | --------- | ------------ |\n",
      "| WLS BEVERAGE CO 110 E 2ND ST                       | AUSTIN | 65,968.87 |   984,610.00 |\n",
      "| 400 BAR/CUCARACHA/CHUPACABRA/J 400 E 6TH ST        | AUSTIN | 32,572.05 |   486,150.00 |\n",
      "| ROSE ROOM/ 77 DEGREES 11500 ROCK ROSE AVE          | AUSTIN | 32,456.34 |   484,422.99 |\n",
      "| TOP GOLF 2700 ESPERANZA XING                       | AUSTIN | 29,910.14 |   446,420.00 |\n",
      "| SAN JACINTO BEVERAGE COMPANY L 98 SAN JACINTO BLVD | AUSTIN | 29,107.61 |   434,441.94 |\n",
      "| OASIS CANTINA DEL LAGO 6550 COMANCHE TRL           | AUSTIN | 28,316.88 |   422,640.00 |\n",
      "| THE DOGWOOD DOMAIN 11420 ROCK ROSE AVE STE 700     | AUSTIN | 27,231.41 |   406,438.96 |\n",
      "| RYAN SANDERS SPORTS SERVICES, 9201 CIRCUIT OF T... | AUSTIN | 27,018.82 |   403,265.97 |\n",
      "| W HOTEL AUSTIN 200 LAVACA ST                       | AUSTIN | 27,018.62 |   403,262.99 |\n",
      "| CONTAINER BAR 90 RAINEY ST                         | AUSTIN | 26,486.90 |   395,326.87 |\n"
     ]
    }
   ],
   "source": [
    "# uses the city_sum function to filter\n",
    "austin = location_sum('City', 'AUSTIN')\n",
    "\n",
    "print('\\nTotal sales across the state for the given month: {}\\n'.format(\n",
    "    austin.aggregate(agate.Sum('Receipts_sum'))\n",
    "))\n",
    "\n",
    "# print the resulting table\n",
    "austin.limit(10).print_table(max_column_width=50)"
   ]
  },
  {
   "cell_type": "markdown",
   "metadata": {
    "deletable": true,
    "editable": true
   },
   "source": [
    "## More Central Texas cities"
   ]
  },
  {
   "cell_type": "code",
   "execution_count": 10,
   "metadata": {
    "collapsed": false,
    "deletable": true,
    "editable": true
   },
   "outputs": [
    {
     "name": "stdout",
     "output_type": "stream",
     "text": [
      "| Establishment                            | City    |  Tax_sum | Receipts_sum |\n",
      "| ---------------------------------------- | ------- | -------- | ------------ |\n",
      "| OLD TOWN RESTURANT AND BAR/PIN 931 MA... | BASTROP | 3,952.59 |    58,993.88 |\n",
      "| CHILI'S GRILL & BAR 734 HIGHWAY 71 W     | BASTROP | 2,836.71 |    42,338.96 |\n",
      "| NEIGHBOR'S 601 CHESTNUT ST UNIT C        | BASTROP | 2,456.22 |    36,660.00 |\n"
     ]
    }
   ],
   "source": [
    "location_sum('City', 'BASTROP').limit(3).print_table(max_column_width=40)"
   ]
  },
  {
   "cell_type": "code",
   "execution_count": 11,
   "metadata": {
    "collapsed": false,
    "deletable": true,
    "editable": true
   },
   "outputs": [
    {
     "name": "stdout",
     "output_type": "stream",
     "text": [
      "| Establishment                            | City     |  Tax_sum | Receipts_sum |\n",
      "| ---------------------------------------- | -------- | -------- | ------------ |\n",
      "| WOODY TAVERN AND GRILL, INC. 12801 SH... | BEE CAVE | 6,658.52 |    99,380.90 |\n",
      "| MAUDIE'S HILL COUNTRY, LLC 12506 SHOP... | BEE CAVE | 6,004.40 |    89,617.91 |\n",
      "| CAFE BLUE 12800 HILL COUNTRY BLVD STE    | BEE CAVE | 5,921.59 |    88,381.94 |\n"
     ]
    }
   ],
   "source": [
    "location_sum('City', 'BEE CAVE').limit(3).print_table(max_column_width=40)"
   ]
  },
  {
   "cell_type": "code",
   "execution_count": 12,
   "metadata": {
    "collapsed": false,
    "deletable": true,
    "editable": true
   },
   "outputs": [
    {
     "name": "stdout",
     "output_type": "stream",
     "text": [
      "| Establishment                            | City |  Tax_sum | Receipts_sum |\n",
      "| ---------------------------------------- | ---- | -------- | ------------ |\n",
      "| BUCKS BACKYARD 1750 S FM 1626            | BUDA | 6,908.10 |   103,105.97 |\n",
      "| WILLIE'S JOINT 824 MAIN ST               | BUDA | 3,858.93 |    57,595.97 |\n",
      "| NATE'S AT BUDA MILL AND GRAIN, 306 S ... | BUDA | 3,250.37 |    48,512.99 |\n"
     ]
    }
   ],
   "source": [
    "location_sum('City', 'BUDA').limit(3).print_table(max_column_width=40)"
   ]
  },
  {
   "cell_type": "code",
   "execution_count": 13,
   "metadata": {
    "collapsed": false,
    "deletable": true,
    "editable": true
   },
   "outputs": [
    {
     "name": "stdout",
     "output_type": "stream",
     "text": [
      "| Establishment                            | City       |  Tax_sum | Receipts_sum |\n",
      "| ---------------------------------------- | ---------- | -------- | ------------ |\n",
      "| CHUY'S 4911 183A TOLL RD                 | CEDAR PARK | 9,185.09 |   137,090.90 |\n",
      "| LUPE TORTILLA MEXICAN RESTAURA 4501 1... | CEDAR PARK | 7,778.56 |   116,097.91 |\n",
      "| BLUE CORN HARVEST BAR & GRILL 700 E W... | CEDAR PARK | 5,459.76 |    81,488.96 |\n"
     ]
    }
   ],
   "source": [
    "location_sum('City', 'CEDAR PARK').limit(3).print_table(max_column_width=40)"
   ]
  },
  {
   "cell_type": "code",
   "execution_count": 14,
   "metadata": {
    "collapsed": false,
    "deletable": true,
    "editable": true
   },
   "outputs": [
    {
     "name": "stdout",
     "output_type": "stream",
     "text": [
      "| Establishment                            | City             |  Tax_sum | Receipts_sum |\n",
      "| ---------------------------------------- | ---------------- | -------- | ------------ |\n",
      "| DEEP EDDY DISTILLING CO 2250 E HIGHWA... | DRIPPING SPRINGS | 4,381.13 |    65,390.00 |\n",
      "| FLORES MEXICAN RESTAURANT 2440 E HIGH... | DRIPPING SPRINGS | 4,059.73 |    60,592.99 |\n",
      "| TRUDY'S FOUR STAR 13059 FOUR STAR BLVD   | DRIPPING SPRINGS | 3,995.94 |    59,640.90 |\n"
     ]
    }
   ],
   "source": [
    "location_sum('City', 'DRIPPING SPRINGS').limit(3).print_table(max_column_width=40)"
   ]
  },
  {
   "cell_type": "code",
   "execution_count": 15,
   "metadata": {
    "collapsed": false,
    "deletable": true,
    "editable": true
   },
   "outputs": [
    {
     "name": "stdout",
     "output_type": "stream",
     "text": [
      "| Establishment                      | City       |  Tax_sum | Receipts_sum |\n",
      "| ---------------------------------- | ---------- | -------- | ------------ |\n",
      "| EL MONUMENTO 205 W 2ND ST          | GEORGETOWN | 6,923.24 |   103,331.94 |\n",
      "| HARDTAILS 1515 N IH 35             | GEORGETOWN | 4,968.58 |    74,157.91 |\n",
      "| DOS SALSAS CAFE INC 1104 S MAIN ST | GEORGETOWN | 4,936.76 |    73,682.99 |\n"
     ]
    }
   ],
   "source": [
    "location_sum('City', 'GEORGETOWN').limit(3).print_table(max_column_width=40)"
   ]
  },
  {
   "cell_type": "code",
   "execution_count": 16,
   "metadata": {
    "collapsed": false,
    "deletable": true,
    "editable": true
   },
   "outputs": [
    {
     "name": "stdout",
     "output_type": "stream",
     "text": [
      "| Establishment                            | City |  Tax_sum | Receipts_sum |\n",
      "| ---------------------------------------- | ---- | -------- | ------------ |\n",
      "| CASA GARCIA'S MEXICAN RESTAURA 5401 F... | KYLE | 5,527.43 |    82,498.96 |\n",
      "| EVO ENTERTAINMENT CENTER 3200 KYLE XING  | KYLE | 3,628.45 |    54,155.97 |\n",
      "| CENTERFIELD SPORTS BAR & GRILL 200 W ... | KYLE | 2,681.00 |    40,014.93 |\n"
     ]
    }
   ],
   "source": [
    "location_sum('City', 'KYLE').limit(3).print_table(max_column_width=40)"
   ]
  },
  {
   "cell_type": "code",
   "execution_count": 17,
   "metadata": {
    "collapsed": false,
    "deletable": true,
    "editable": true
   },
   "outputs": [
    {
     "name": "stdout",
     "output_type": "stream",
     "text": [
      "| Establishment                            | City       |  Tax_sum | Receipts_sum |\n",
      "| ---------------------------------------- | ---------- | -------- | ------------ |\n",
      "| COPPERHEAD GRILL 6115 LOHMANS FORD RD    | LAGO VISTA | 1,141.88 |    17,042.99 |\n",
      "| MARIA'S BAR & GRILL MEXICAN RE 20602 ... | LAGO VISTA |   409.90 |     6,117.91 |\n"
     ]
    }
   ],
   "source": [
    "location_sum('City', 'LAGO VISTA').limit(3).print_table(max_column_width=40)"
   ]
  },
  {
   "cell_type": "code",
   "execution_count": 18,
   "metadata": {
    "collapsed": false,
    "deletable": true,
    "editable": true
   },
   "outputs": [
    {
     "name": "stdout",
     "output_type": "stream",
     "text": [
      "| Establishment                            | City    |  Tax_sum | Receipts_sum |\n",
      "| ---------------------------------------- | ------- | -------- | ------------ |\n",
      "| LAKEWAY RESORT AND SPA 101 LAKEWAY DR    | LAKEWAY | 9,109.11 |   135,956.87 |\n",
      "| THE GROVE WINE BAR AND KITCHEN 3001 R... | LAKEWAY | 7,711.16 |   115,091.94 |\n",
      "| FLORES MEXICAN RESTAURANT 2127 LOHMAN... | LAKEWAY | 4,267.29 |    63,690.90 |\n"
     ]
    }
   ],
   "source": [
    "location_sum('City', 'LAKEWAY').limit(3).print_table(max_column_width=40)"
   ]
  },
  {
   "cell_type": "code",
   "execution_count": 19,
   "metadata": {
    "collapsed": false,
    "deletable": true,
    "editable": true
   },
   "outputs": [
    {
     "name": "stdout",
     "output_type": "stream",
     "text": [
      "| Establishment                            | City    |  Tax_sum | Receipts_sum |\n",
      "| ---------------------------------------- | ------- | -------- | ------------ |\n",
      "| BROOKLYN HEIGHTS PIZZERIA 3550 LAKELI... | LEANDER | 3,807.87 |    56,833.88 |\n",
      "| JARDIN DEL REY 703 S HIGHWAY 183         | LEANDER | 2,982.90 |    44,520.90 |\n",
      "| TAPATIA JALISCO #3 LLC 651 N US 183      | LEANDER |   930.16 |    13,882.99 |\n"
     ]
    }
   ],
   "source": [
    "location_sum('City', 'LEANDER').limit(3).print_table(max_column_width=40)"
   ]
  },
  {
   "cell_type": "code",
   "execution_count": 20,
   "metadata": {
    "collapsed": false,
    "deletable": true,
    "editable": true
   },
   "outputs": [
    {
     "name": "stdout",
     "output_type": "stream",
     "text": [
      "| Establishment                            | City         |  Tax_sum | Receipts_sum |\n",
      "| ---------------------------------------- | ------------ | -------- | ------------ |\n",
      "| JARDIN CORONA 15395 W STATE HIGHWAY 29   | LIBERTY HILL | 3,092.65 |    46,158.96 |\n",
      "| MARGARITA'S RESTAURANT 10280 W STATE ... | LIBERTY HILL | 2,922.94 |    43,625.97 |\n",
      "| FIRE OAK DISTILLERY 4600 COUNTY ROAD 207 | LIBERTY HILL |     0.00 |         0.00 |\n"
     ]
    }
   ],
   "source": [
    "location_sum('City', 'LIBERTY HILL').limit(3).print_table(max_column_width=40)"
   ]
  },
  {
   "cell_type": "code",
   "execution_count": 21,
   "metadata": {
    "collapsed": false,
    "deletable": true,
    "editable": true
   },
   "outputs": [
    {
     "name": "stdout",
     "output_type": "stream",
     "text": [
      "| Establishment                            | City         |  Tax_sum | Receipts_sum |\n",
      "| ---------------------------------------- | ------------ | -------- | ------------ |\n",
      "| MAVERICKS 1700 GRAND AVENUE PKWY STE 2   | PFLUGERVILLE | 7,891.93 |   117,790.00 |\n",
      "| HANOVER'S DRAUGHT HAUS 108 E MAIN ST     | PFLUGERVILLE | 4,628.15 |    69,076.87 |\n",
      "| RIO GRANDE TEX MEX 15821 CENTRAL COMM... | PFLUGERVILLE | 4,066.83 |    60,698.96 |\n"
     ]
    }
   ],
   "source": [
    "location_sum('City', 'PFLUGERVILLE').limit(3).print_table(max_column_width=40)"
   ]
  },
  {
   "cell_type": "code",
   "execution_count": 22,
   "metadata": {
    "collapsed": false,
    "deletable": true,
    "editable": true
   },
   "outputs": [
    {
     "name": "stdout",
     "output_type": "stream",
     "text": [
      "| Establishment                            | City       |  Tax_sum | Receipts_sum |\n",
      "| ---------------------------------------- | ---------- | -------- | ------------ |\n",
      "| THIRD BASE ROUND ROCK, LLC 3107 S INT... | ROUND ROCK | 9,567.53 |   142,798.96 |\n",
      "| JACK ALLEN'S KITCHEN 2500 HOPPE TRL      | ROUND ROCK | 9,474.67 |   141,412.99 |\n",
      "| CHUY'S ROUND ROCK 2320 N INTERSTATE 35   | ROUND ROCK | 8,780.35 |   131,050.00 |\n",
      "| TWIN PEAKS RESTAURANT 100 LOUIS HENNA... | ROUND ROCK | 8,436.84 |   125,922.99 |\n",
      "| RICK'S CABARET 3105 S INTERSTATE 35      | ROUND ROCK | 8,322.33 |   124,213.88 |\n"
     ]
    }
   ],
   "source": [
    "location_sum('City', 'ROUND ROCK').limit(5).print_table(max_column_width=40)"
   ]
  },
  {
   "cell_type": "code",
   "execution_count": 23,
   "metadata": {
    "collapsed": false,
    "deletable": true,
    "editable": true
   },
   "outputs": [
    {
     "name": "stdout",
     "output_type": "stream",
     "text": [
      "| Establishment                            | City       |  Tax_sum | Receipts_sum |\n",
      "| ---------------------------------------- | ---------- | -------- | ------------ |\n",
      "| ZELICKS 336 W HOPKINS ST                 | SAN MARCOS | 9,739.38 |   145,363.88 |\n",
      "| THE MARC 120 E SAN ANTONIO ST            | SAN MARCOS | 8,746.58 |   130,545.97 |\n",
      "| CHIMY'S SAN MARCOS 217 E HOPKINS ST      | SAN MARCOS | 8,147.66 |   121,606.87 |\n",
      "| PLUCKERS WING BAR 105 N INTERSTATE 35    | SAN MARCOS | 7,028.90 |   104,908.96 |\n",
      "| BLACK RABBIT SALOON / SHADE RO 127 E ... | SAN MARCOS | 7,017.04 |   104,731.94 |\n"
     ]
    }
   ],
   "source": [
    "location_sum('City', 'SAN MARCOS').limit(5).print_table(max_column_width=40)"
   ]
  },
  {
   "cell_type": "code",
   "execution_count": 24,
   "metadata": {
    "collapsed": false,
    "deletable": true,
    "editable": true
   },
   "outputs": [
    {
     "name": "stdout",
     "output_type": "stream",
     "text": [
      "| Establishment                            | City      |  Tax_sum | Receipts_sum |\n",
      "| ---------------------------------------- | --------- | -------- | ------------ |\n",
      "| ANGEL'S ICEHOUSE 21815 W HWY 71          | SPICEWOOD | 4,192.12 |    62,568.96 |\n",
      "| POODIES HILLTOP ROADHOUSE 22308 STATE... | SPICEWOOD | 3,030.34 |    45,228.96 |\n",
      "| APIS RESTAURANT 23526 STATE HIGHWAY 71 W | SPICEWOOD | 1,915.93 |    28,595.97 |\n"
     ]
    }
   ],
   "source": [
    "location_sum('City', 'SPICEWOOD').limit(3).print_table(max_column_width=40)"
   ]
  },
  {
   "cell_type": "code",
   "execution_count": 25,
   "metadata": {
    "collapsed": false,
    "deletable": true,
    "editable": true
   },
   "outputs": [
    {
     "name": "stdout",
     "output_type": "stream",
     "text": [
      "| Establishment                            | City          |  Tax_sum | Receipts_sum |\n",
      "| ---------------------------------------- | ------------- | -------- | ------------ |\n",
      "| DOC'S BACKYARD 5207 BRODIE LN # 100      | SUNSET VALLEY | 5,391.95 |    80,476.87 |\n",
      "| BJ'S RESTAURANT AND BREWHOUSE 5207 BR... | SUNSET VALLEY | 4,212.29 |    62,870.00 |\n",
      "| CANE ROSSO 4715 S LAMAR BLVD STE 103     | SUNSET VALLEY | 2,038.47 |    30,424.93 |\n"
     ]
    }
   ],
   "source": [
    "location_sum('City', 'SUNSET VALLEY').limit(3).print_table(max_column_width=40)"
   ]
  },
  {
   "cell_type": "code",
   "execution_count": 26,
   "metadata": {
    "collapsed": false,
    "deletable": true,
    "editable": true
   },
   "outputs": [
    {
     "name": "stdout",
     "output_type": "stream",
     "text": [
      "| Establishment                            | City            |  Tax_sum | Receipts_sum |\n",
      "| ---------------------------------------- | --------------- | -------- | ------------ |\n",
      "| LUPE TORTILLA MEXICAN RESTAURA 701 S ... | WEST LAKE HILLS | 6,786.16 |   101,285.97 |\n",
      "| CHIPOTLE CHIPOTLE MEXICAN GRIL 3300 B... | WEST LAKE HILLS |    36.78 |       548.96 |\n"
     ]
    }
   ],
   "source": [
    "location_sum('City', 'WEST LAKE HILLS').limit(3).print_table(max_column_width=40)"
   ]
  },
  {
   "cell_type": "markdown",
   "metadata": {
    "deletable": true,
    "editable": true
   },
   "source": [
    "## Sales by county example\n",
    "\n",
    "In this case, we pass in the location type of 'County' and then a county name in caps to get the most sales in a particular county."
   ]
  },
  {
   "cell_type": "code",
   "execution_count": 27,
   "metadata": {
    "collapsed": false,
    "deletable": true,
    "editable": true
   },
   "outputs": [
    {
     "name": "stdout",
     "output_type": "stream",
     "text": [
      "| Establishment                            | County   |  Tax_sum | Receipts_sum |\n",
      "| ---------------------------------------- | -------- | -------- | ------------ |\n",
      "| GUADALAJARA MEXICAN RESTAURANT 1710 S... | Caldwell | 1,274.47 |    19,021.94 |\n",
      "| THE PEARL 110 N MAIN ST                  | Caldwell |   695.72 |    10,383.88 |\n",
      "| MR TACO 1132 E PIERCE ST                 | Caldwell |   528.96 |     7,894.93 |\n"
     ]
    }
   ],
   "source": [
    "location_sum('County', 'CALDWELL').limit(3).print_table(max_column_width=40)"
   ]
  },
  {
   "cell_type": "markdown",
   "metadata": {
    "deletable": true,
    "editable": true
   },
   "source": [
    "## Sales by ZIP Code\n",
    "Just making sure that 78701 is at the top of this list, which it has been every month for a decade."
   ]
  },
  {
   "cell_type": "code",
   "execution_count": 28,
   "metadata": {
    "collapsed": false,
    "deletable": true,
    "editable": true
   },
   "outputs": [
    {
     "name": "stdout",
     "output_type": "stream",
     "text": [
      "| Zip   |           Sum |\n",
      "| ----- | ------------- |\n",
      "| 78701 | 23,441,262.88 |\n",
      "| 75201 | 11,874,852.15 |\n",
      "| 77002 |  9,964,745.01 |\n",
      "| 78205 |  9,743,927.72 |\n",
      "| 78704 |  7,650,495.57 |\n"
     ]
    }
   ],
   "source": [
    "# top zip code gross receipts\n",
    "zip_receipts = mixbev_month.pivot('Zip', aggregation=agate.Sum('Receipts')).order_by('Sum', reverse=True)\n",
    "zip_receipts.limit(5).print_table()"
   ]
  },
  {
   "cell_type": "code",
   "execution_count": null,
   "metadata": {
    "collapsed": true,
    "deletable": true,
    "editable": true
   },
   "outputs": [],
   "source": []
  }
 ],
 "metadata": {
  "kernelspec": {
   "display_name": "Python 3",
   "language": "python",
   "name": "python3"
  },
  "language_info": {
   "codemirror_mode": {
    "name": "ipython",
    "version": 3
   },
   "file_extension": ".py",
   "mimetype": "text/x-python",
   "name": "python",
   "nbconvert_exporter": "python",
   "pygments_lexer": "ipython3",
   "version": "3.5.1"
  }
 },
 "nbformat": 4,
 "nbformat_minor": 2
}
