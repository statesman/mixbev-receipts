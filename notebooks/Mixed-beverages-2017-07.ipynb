{
 "cells": [
  {
   "cell_type": "markdown",
   "metadata": {
    "deletable": true,
    "editable": true
   },
   "source": [
    "# Mixed beverage data for June 2017\n",
    "\n",
    "\n",
    "- Month studied: June 2017\n",
    "- File used: July 2017, MIXEDBEV_07_2017.CSV\n",
    "\n",
    "The data was downloaded from [Mixed Beverage Gross Receipts](https://comptroller.texas.gov/taxes/mixed-beverage/receipts.php) on the Texas Comptroller's [data center](https://comptroller.texas.gov/transparency/open-data/search-datasets/), and then a python library called [agate](http://agate.readthedocs.io/) to clean and process that data for [stories similar to this one](http://www.mystatesman.com/business/austin-alcohol-sales-percent-february/Oo2txZUkuDlqBl0rU9O1lJ/) on monthly alcohol sales.\n",
    "\n",
    "This is a stripped down version (compared to the original fork) that skips explanation of steps beyond commenting.\n",
    "\n",
    "## Get to the goods\n",
    "\n",
    "To skip most of the setup code and get to what you really want, search for:\n",
    "\n",
    "- Top sales statewide\n",
    "- Austin sales\n",
    "- Central Texas cities"
   ]
  },
  {
   "cell_type": "markdown",
   "metadata": {
    "deletable": true,
    "editable": true
   },
   "source": [
    "### File download\n",
    "\n",
    "- Go to the [Texas Comptroller data center](https://comptroller.texas.gov/transparency/open-data/search-datasets/) and copy the url for the CSV for this month and enter it below.\n",
    "- You also need to set to set the [processing variables](Processing-variables) for this month."
   ]
  },
  {
   "cell_type": "code",
   "execution_count": 1,
   "metadata": {
    "collapsed": false,
    "deletable": true,
    "editable": true
   },
   "outputs": [],
   "source": [
    "## %%bash\n",
    "## downloads the mixedbev file into mixbev-files folder\n",
    "## You have to set this URL based on location in data center\n",
    "\n",
    "## these are commented out now. I've been pulling them manually\n",
    "## and processing from those file\n",
    "# cd ../test/\n",
    "# curl -O https://comptroller.texas.gov/auto-data/odc/MIXEDBEV_03_2017.CSV"
   ]
  },
  {
   "cell_type": "code",
   "execution_count": 2,
   "metadata": {
    "collapsed": false,
    "deletable": true,
    "editable": true
   },
   "outputs": [],
   "source": [
    "# imports the libraries we will use\n",
    "import agate\n",
    "from decimal import Decimal\n",
    "import re\n",
    "\n",
    "# this surpresses the timezone warning\n",
    "# Might comment out during development so other warnings\n",
    "# are not surpressed\n",
    "import warnings\n",
    "warnings.filterwarnings('ignore')"
   ]
  },
  {
   "cell_type": "markdown",
   "metadata": {
    "deletable": true,
    "editable": true
   },
   "source": [
    "### Processing variables\n",
    "Then we set some values based on those.\n",
    "\n",
    "- The **`file`** is the name of the file we want to process\n",
    "- The **`tax_rate`** is the value we need for this file to get the Gross Recipts (vs the Tax Reported, which is just the tax amount the establishment paid). The comptroller [has information on the tax](https://comptroller.texas.gov/taxes/mixed-beverage/receipts.php), but this [old record layout](https://github.com/utdata/cli-tools/blob/master/data/mixbevtax/OLD-MIXEDBEVTAX-LAYOUT.txt) best describes the math.\n",
    "- The **`month_studied`** is the YYYY/MM designation for the month before the file release. The file released in February has mostly records from January, but can also have any other month, so we set here the specific month we want. Note there is a check later on that counts the number of files by month, which is worth checking.\n",
    "\n",
    "Here are the files we have downloaded:"
   ]
  },
  {
   "cell_type": "code",
   "execution_count": 3,
   "metadata": {
    "collapsed": false,
    "deletable": true,
    "editable": true
   },
   "outputs": [
    {
     "name": "stdout",
     "output_type": "stream",
     "text": [
      "MIXEDBEV_01_2017.CSV  MIXEDBEV_04_2015.CSV  MIXEDBEV_06_2017.CSV\r\n",
      "MIXEDBEV_02_2017.CSV  MIXEDBEV_04_2017.CSV  MIXEDBEV_07_2017.CSV\r\n",
      "MIXEDBEV_03_2017.CSV  MIXEDBEV_05_2017.CSV\r\n"
     ]
    }
   ],
   "source": [
    "ls ../mixbev-files/2017/"
   ]
  },
  {
   "cell_type": "code",
   "execution_count": 4,
   "metadata": {
    "collapsed": false,
    "deletable": true,
    "editable": true
   },
   "outputs": [],
   "source": [
    "# this is our source file, which may have been downloaded above\n",
    "# Swap out the file name here and date below as needed\n",
    "file = '../mixbev-files/2017/MIXEDBEV_07_2017.CSV'\n",
    "file_name = ''\n",
    "online_name = ''\n",
    "\n",
    "# setting the month_studied var.\n",
    "# This should be checked in the table below that counts records by month\n",
    "month_studied = '2017/06'\n",
    "\n",
    "# Sets the tax rate to convert Report Tax to Gross Receipts\n",
    "# It's 6.7 since January 1, 2014\n",
    "tax_rate = Decimal('6.7')"
   ]
  },
  {
   "cell_type": "markdown",
   "metadata": {
    "deletable": true,
    "editable": true
   },
   "source": [
    "### import and processing"
   ]
  },
  {
   "cell_type": "code",
   "execution_count": 5,
   "metadata": {
    "collapsed": false,
    "deletable": true,
    "editable": true
   },
   "outputs": [],
   "source": [
    "# sets the column names of the original data set.\n",
    "column_names = [\n",
    "    'TABC Permit Number',\n",
    "    'Trade Name',\n",
    "    'Location Address',\n",
    "    'Location City',\n",
    "    'Location State',\n",
    "    'Location Zip Code',\n",
    "    'Location County Code',\n",
    "    'Blank',\n",
    "    'Report Period',\n",
    "    'Report Tax'\n",
    "]\n",
    "# Helps us import some text fields that may be considered numbers in error.\n",
    "specified_types = {\n",
    "    'Location Zip Code': agate.Text(),\n",
    "    'Location County Code': agate.Text()\n",
    "}\n",
    "\n",
    "# this imports the file specified above, along with the proper types\n",
    "mixbev_raw = agate.Table.from_csv(file, column_names, encoding='iso-8859-1', column_types=specified_types)\n",
    "\n",
    "# mixbev_trim creates a new interim table with results of compute function\n",
    "# that takes the four columns that need trimming and strips them of white space,\n",
    "# adding them to the end of the table with new names.\n",
    "# The last computation does the math to create the Gross Receipts based on the tax_rate set above\n",
    "\n",
    "mixbev_trim = mixbev_raw.compute([\n",
    "    ('Permit', agate.Formula(agate.Text(), lambda r: r['TABC Permit Number'].strip())),\n",
    "    ('Name', agate.Formula(agate.Text(), lambda r: r['Trade Name'].strip())),\n",
    "    ('Address', agate.Formula(agate.Text(), lambda r: r['Location Address'].strip())),\n",
    "    ('City', agate.Formula(agate.Text(), lambda r: r['Location City'].strip())),\n",
    "    ('Receipts_compute', agate.Formula(agate.Number(), lambda r: (r['Report Tax'] / tax_rate) * 100))\n",
    "])\n",
    "\n",
    "# the Receipts_compute computation above returns as a decimal number,\n",
    "# so this function rounds those numbers.\n",
    "# I might refactor this later so I can use it elsewhere.\n",
    "def round_receipt(row):\n",
    "    return row['Receipts_compute'].quantize(Decimal('0.01'))\n",
    "\n",
    "# This compute method uses round_recipt function above,\n",
    "# putting the results into a new table.\n",
    "mixbev_round = mixbev_trim.compute([\n",
    "    ('Receipts', agate.Formula(agate.Number(), round_receipt))\n",
    "])\n",
    "\n",
    "# creates new table, selecting just the columns we need\n",
    "# then renames some of them for ease later.\n",
    "mixbev_cleaned = mixbev_round.select([\n",
    "    'Permit',\n",
    "    'Name',\n",
    "    'Address',\n",
    "    'City',\n",
    "    'Location State',\n",
    "    'Location Zip Code',\n",
    "    'Location County Code',\n",
    "    'Report Period',\n",
    "    'Report Tax',\n",
    "    'Receipts'\n",
    "]).rename(column_names = {\n",
    "    'Location State': 'State',\n",
    "    'Location Zip Code': 'Zip',\n",
    "    'Location County Code': 'CountyCode',\n",
    "    'Report Period': 'Period',\n",
    "    'Report Tax': 'Tax'\n",
    "})\n",
    "\n",
    "# Concatenates the name and address\n",
    "mixbev_cleaned_est = mixbev_cleaned.compute([\n",
    "    ('Establishment', agate.Formula(agate.Text(), lambda row: '%(Name)s %(Address)s' % row))\n",
    "])\n",
    "\n",
    "# importing countes.csv, ensuring that the 'code' column is text\n",
    "counties = agate.Table.from_csv('../resource-files/counties.csv', column_types={'code': agate.Text()})\n",
    "\n",
    "# joines the counties table to the mixed bev cleaned data with establishments\n",
    "mixbev_joined = mixbev_cleaned_est.join(counties, 'CountyCode', 'code')\n",
    "\n",
    "# get just the columns we need and rename county\n",
    "# THIS is the finished, cleaned mixbev table\n",
    "mixbev = mixbev_joined.select([\n",
    "    'Permit',\n",
    "    'Name',\n",
    "    'Address',\n",
    "    'Establishment',\n",
    "    'City',\n",
    "    'State',\n",
    "    'Zip',\n",
    "    'county',\n",
    "    'Period',\n",
    "    'Tax',\n",
    "    'Receipts'\n",
    "]).rename(column_names = {\n",
    "    'county': 'County'\n",
    "})\n"
   ]
  },
  {
   "cell_type": "markdown",
   "metadata": {
    "deletable": true,
    "editable": true
   },
   "source": [
    "### Looking at dates of the records\n",
    "\n",
    "This basically confirms that the file has multiple dates, and that we are looking at the right month of data. Typically a data set will have mostly reports from the previous month, but there are always also submissions from other months. We want to filter out those other months, which we do based on the `month_studied` variable set near the top of the file, which should match the period at the top of the table below.\n"
   ]
  },
  {
   "cell_type": "code",
   "execution_count": 6,
   "metadata": {
    "collapsed": false,
    "deletable": true,
    "editable": true
   },
   "outputs": [
    {
     "name": "stdout",
     "output_type": "stream",
     "text": [
      "| Period  |  Count |\n",
      "| ------- | ------ |\n",
      "| 2017/06 | 14,380 |\n",
      "| 2017/05 |  1,473 |\n",
      "| 2017/04 |    224 |\n",
      "| 2017/03 |     91 |\n",
      "| 2017/02 |     52 |\n"
     ]
    }
   ],
   "source": [
    "# Pivot the mixbev table by Period. Default it give a Count of the records\n",
    "# We then order the table by Count in descending order\n",
    "by_period = mixbev.pivot('Period').order_by('Count', reverse=True)\n",
    "\n",
    "# prints the table of period and number of records\n",
    "by_period.limit(5).print_table(max_rows=None)"
   ]
  },
  {
   "cell_type": "code",
   "execution_count": 7,
   "metadata": {
    "collapsed": false,
    "deletable": true,
    "editable": true
   },
   "outputs": [],
   "source": [
    "## filters the records to our month_studied\n",
    "mixbev_month = mixbev.where(lambda row: row['Period'] == month_studied)\n",
    "\n",
    "# function to group sales by a specific location\n",
    "# City or County passed in should be ALL CAPS\n",
    "# Location_type can be 'City' or 'County'\n",
    "\n",
    "def location_sum(location_type, location):\n",
    "    # Filters the data to the specified city\n",
    "    location_filtered = mixbev_month.where(lambda row: row[location_type].upper() == location)\n",
    "\n",
    "    # groups the data based on Establishment and location\n",
    "    location_grouped = location_filtered.group_by('Establishment').group_by(location_type)\n",
    "    # computes the sales based on the grouping\n",
    "    location_summary = location_grouped.aggregate([\n",
    "        ('Tax_sum', agate.Sum('Tax')),\n",
    "        ('Receipts_sum', agate.Sum('Receipts'))\n",
    "    ])\n",
    "    \n",
    "    # sorts the results by most sold\n",
    "    location_summary_sorted = location_summary.order_by('Receipts_sum', reverse=True)\n",
    "    # prints the top 10 results\n",
    "    \n",
    "    return(location_summary_sorted)\n"
   ]
  },
  {
   "cell_type": "markdown",
   "metadata": {
    "deletable": true,
    "editable": true
   },
   "source": [
    "## Top sales statewide\n",
    "\n",
    "Because we want to group our results by more than one field and perform more than one aggregation, we'll do this a little differently. We'll use group_by to create a grouped table, then perform aggregations on that new table to computer the Tax and Receipts columns."
   ]
  },
  {
   "cell_type": "code",
   "execution_count": 8,
   "metadata": {
    "collapsed": false,
    "deletable": true,
    "editable": true
   },
   "outputs": [
    {
     "name": "stdout",
     "output_type": "stream",
     "text": [
      "\n",
      "Total sales across the state for the given month: 542608571.83\n",
      "\n",
      "Top sales by establishment statewide\n",
      "\n",
      "| Establishment                       | County     | City            |    Tax_sum |    Sales_sum |\n",
      "| ----------------------------------- | ---------- | --------------- | ---------- | ------------ |\n",
      "| AT&T STADIUM 1 LEGENDS WAY          | Tarrant    | ARLINGTON       | 130,637.20 | 1,949,808.96 |\n",
      "| GAYLORD TEXAN 1501 GAYLORD TRL      | Tarrant    | GRAPEVINE       | 125,892.06 | 1,878,985.97 |\n",
      "| HOSPITALITY INTERNATIONAL, INC 2... | Bexar      | SAN ANTONIO     |  98,594.18 | 1,471,554.93 |\n",
      "| ARAMARK SPORTS & ENTERTAINMENT 5... | Harris     | HOUSTON         |  89,875.20 | 1,341,420.90 |\n",
      "| SPECTRUM CATERING 27328 SPECTRUM... | Montgomery | OAK RIDGE NORTH |  71,130.28 | 1,061,645.97 |\n",
      "| SALC, INC. 2201 N STEMMONS FWY FL 1 | Dallas     | DALLAS          |  69,297.49 | 1,034,290.90 |\n",
      "| METROPLEX SPORTSERVICE, INC. 100... | Tarrant    | ARLINGTON       |  63,345.95 |   945,461.94 |\n",
      "| WLS BEVERAGE CO 110 E 2ND ST        | Travis     | AUSTIN          |  61,596.58 |   919,351.94 |\n",
      "| MARRIOTT MARQUIS HOUSTON 1777 WA... | Harris     | HOUSTON         |  58,835.64 |   878,143.88 |\n",
      "| FOUR FAMILIES OF HOUSTON 7800 AI... | Harris     | HOUSTON         |  55,685.50 |   831,126.87 |\n"
     ]
    }
   ],
   "source": [
    "# groups the data based on Establishment and City\n",
    "mixbev_grouped = mixbev_month.group_by('Establishment').group_by('County').group_by('City')\n",
    "\n",
    "# computes the sales based on the grouping\n",
    "state_summary = mixbev_grouped.aggregate([\n",
    "    ('Tax_sum', agate.Sum('Tax')),\n",
    "    ('Sales_sum', agate.Sum('Receipts'))\n",
    "])\n",
    "\n",
    "# sorts the results by most sold. We could probalby chain it above if we wanted to.\n",
    "state_summary_sorted = state_summary.order_by('Sales_sum', reverse=True)\n",
    "\n",
    "# summing sales statewide for month\n",
    "print('\\nTotal sales across the state for the given month: {}\\n'.format(\n",
    "    mixbev_month.aggregate(agate.Sum('Receipts'))\n",
    "))\n",
    "\n",
    "print('Top sales by establishment statewide\\n')\n",
    "\n",
    "# prints the top 10 results\n",
    "state_summary_sorted.limit(10).print_table(max_column_width=35)"
   ]
  },
  {
   "cell_type": "markdown",
   "metadata": {
    "deletable": true,
    "editable": true
   },
   "source": [
    "## Austin sales and sums\n",
    "\n",
    "With this, we refernce the location_sum function above, and pass the type of location (City) and the name of the city (AUSTIN). At the same time, we limit the result of that function to the first 10 records, and then print the results. We are basically stringing together a bunch of stuff at once."
   ]
  },
  {
   "cell_type": "code",
   "execution_count": 9,
   "metadata": {
    "collapsed": false,
    "deletable": true,
    "editable": true
   },
   "outputs": [
    {
     "name": "stdout",
     "output_type": "stream",
     "text": [
      "\n",
      "Total sales across the state for the given month: 59471360.42\n",
      "\n",
      "| Establishment                                      | City   |   Tax_sum | Receipts_sum |\n",
      "| -------------------------------------------------- | ------ | --------- | ------------ |\n",
      "| WLS BEVERAGE CO 110 E 2ND ST                       | AUSTIN | 61,596.58 |   919,351.94 |\n",
      "| RYAN SANDERS SPORTS SERVICES, 9201 CIRCUIT OF T... | AUSTIN | 40,867.25 |   609,958.96 |\n",
      "| ROSE ROOM/ 77 DEGREES 11500 ROCK ROSE AVE          | AUSTIN | 36,399.15 |   543,270.90 |\n",
      "| 400 BAR/CUCARACHA/CHUPACABRA/J 400 E 6TH ST        | AUSTIN | 30,668.71 |   457,741.94 |\n",
      "| TOP GOLF 2700 ESPERANZA XING                       | AUSTIN | 29,364.22 |   438,271.94 |\n",
      "| W HOTEL AUSTIN 200 LAVACA ST                       | AUSTIN | 28,373.42 |   423,483.88 |\n",
      "| OASIS CANTINA DEL LAGO 6550 COMANCHE TRL           | AUSTIN | 27,600.24 |   411,943.88 |\n",
      "| THE DOGWOOD DOMAIN 11420 ROCK ROSE AVE STE 700     | AUSTIN | 25,350.58 |   378,366.87 |\n",
      "| THE BLIND PIG PUB 317 E 6TH ST                     | AUSTIN | 24,417.21 |   364,435.97 |\n",
      "| KUNG FU SALOON 716 W 6TH ST                        | AUSTIN | 23,909.88 |   356,863.88 |\n"
     ]
    }
   ],
   "source": [
    "# uses the city_sum function to filter\n",
    "austin = location_sum('City', 'AUSTIN')\n",
    "\n",
    "print('\\nTotal sales across the state for the given month: {}\\n'.format(\n",
    "    austin.aggregate(agate.Sum('Receipts_sum'))\n",
    "))\n",
    "\n",
    "# print the resulting table\n",
    "austin.limit(10).print_table(max_column_width=50)"
   ]
  },
  {
   "cell_type": "markdown",
   "metadata": {
    "deletable": true,
    "editable": true
   },
   "source": [
    "## More Central Texas cities"
   ]
  },
  {
   "cell_type": "code",
   "execution_count": 10,
   "metadata": {
    "collapsed": false,
    "deletable": true,
    "editable": true
   },
   "outputs": [
    {
     "name": "stdout",
     "output_type": "stream",
     "text": [
      "| Establishment                            | City    |  Tax_sum | Receipts_sum |\n",
      "| ---------------------------------------- | ------- | -------- | ------------ |\n",
      "| OLD TOWN RESTURANT AND BAR/PIN 931 MA... | BASTROP | 4,064.01 |    60,656.87 |\n",
      "| CHILI'S GRILL & BAR 734 HIGHWAY 71 W     | BASTROP | 2,623.25 |    39,152.99 |\n",
      "| NEIGHBOR'S 601 CHESTNUT ST UNIT C        | BASTROP | 2,322.15 |    34,658.96 |\n"
     ]
    }
   ],
   "source": [
    "location_sum('City', 'BASTROP').limit(3).print_table(max_column_width=40)"
   ]
  },
  {
   "cell_type": "code",
   "execution_count": 11,
   "metadata": {
    "collapsed": false,
    "deletable": true,
    "editable": true
   },
   "outputs": [
    {
     "name": "stdout",
     "output_type": "stream",
     "text": [
      "| Establishment                            | City     |  Tax_sum | Receipts_sum |\n",
      "| ---------------------------------------- | -------- | -------- | ------------ |\n",
      "| CAFE BLUE 12800 HILL COUNTRY BLVD STE    | BEE CAVE | 5,583.71 |    83,338.96 |\n",
      "| MAUDIE'S HILL COUNTRY, LLC 12506 SHOP... | BEE CAVE | 5,456.68 |    81,442.99 |\n",
      "| HCG BEVERAGE, LLC 12525 BEE CAVE PKWY    | BEE CAVE | 4,882.75 |    72,876.87 |\n"
     ]
    }
   ],
   "source": [
    "location_sum('City', 'BEE CAVE').limit(3).print_table(max_column_width=40)"
   ]
  },
  {
   "cell_type": "code",
   "execution_count": 12,
   "metadata": {
    "collapsed": false,
    "deletable": true,
    "editable": true
   },
   "outputs": [
    {
     "name": "stdout",
     "output_type": "stream",
     "text": [
      "| Establishment                            | City |  Tax_sum | Receipts_sum |\n",
      "| ---------------------------------------- | ---- | -------- | ------------ |\n",
      "| BUCKS BACKYARD 1750 S FM 1626            | BUDA | 7,420.04 |   110,746.87 |\n",
      "| WILLIE'S JOINT 824 MAIN ST               | BUDA | 4,255.50 |    63,514.93 |\n",
      "| NATE'S AT BUDA MILL AND GRAIN, 306 S ... | BUDA | 3,504.23 |    52,301.94 |\n"
     ]
    }
   ],
   "source": [
    "location_sum('City', 'BUDA').limit(3).print_table(max_column_width=40)"
   ]
  },
  {
   "cell_type": "code",
   "execution_count": 13,
   "metadata": {
    "collapsed": false,
    "deletable": true,
    "editable": true
   },
   "outputs": [
    {
     "name": "stdout",
     "output_type": "stream",
     "text": [
      "| Establishment                            | City       |   Tax_sum | Receipts_sum |\n",
      "| ---------------------------------------- | ---------- | --------- | ------------ |\n",
      "| CHUY'S 4911 183A TOLL RD                 | CEDAR PARK | 10,565.29 |   157,690.90 |\n",
      "| LUPE TORTILLA MEXICAN RESTAURA 4501 1... | CEDAR PARK |  7,346.28 |   109,645.97 |\n",
      "| BLUE CORN HARVEST BAR & GRILL 700 E W... | CEDAR PARK |  5,188.21 |    77,435.97 |\n"
     ]
    }
   ],
   "source": [
    "location_sum('City', 'CEDAR PARK').limit(3).print_table(max_column_width=40)"
   ]
  },
  {
   "cell_type": "code",
   "execution_count": 14,
   "metadata": {
    "collapsed": false,
    "deletable": true,
    "editable": true
   },
   "outputs": [
    {
     "name": "stdout",
     "output_type": "stream",
     "text": [
      "| Establishment                            | City             |  Tax_sum | Receipts_sum |\n",
      "| ---------------------------------------- | ---------------- | -------- | ------------ |\n",
      "| DEEP EDDY DISTILLING CO 2250 E HIGHWA... | DRIPPING SPRINGS | 4,530.87 |    67,624.93 |\n",
      "| TRUDY'S FOUR STAR 13059 FOUR STAR BLVD   | DRIPPING SPRINGS | 4,173.09 |    62,284.93 |\n",
      "| TREATY OAK BREWING AND DISTILL 16604 ... | DRIPPING SPRINGS | 4,094.90 |    61,117.91 |\n"
     ]
    }
   ],
   "source": [
    "location_sum('City', 'DRIPPING SPRINGS').limit(3).print_table(max_column_width=40)"
   ]
  },
  {
   "cell_type": "code",
   "execution_count": 15,
   "metadata": {
    "collapsed": false,
    "deletable": true,
    "editable": true
   },
   "outputs": [
    {
     "name": "stdout",
     "output_type": "stream",
     "text": [
      "| Establishment                      | City       |  Tax_sum | Receipts_sum |\n",
      "| ---------------------------------- | ---------- | -------- | ------------ |\n",
      "| EL MONUMENTO 205 W 2ND ST          | GEORGETOWN | 6,575.78 |    98,145.97 |\n",
      "| HARDTAILS 1515 N IH 35             | GEORGETOWN | 4,919.87 |    73,430.90 |\n",
      "| DOS SALSAS CAFE INC 1104 S MAIN ST | GEORGETOWN | 4,862.05 |    72,567.91 |\n"
     ]
    }
   ],
   "source": [
    "location_sum('City', 'GEORGETOWN').limit(3).print_table(max_column_width=40)"
   ]
  },
  {
   "cell_type": "code",
   "execution_count": 16,
   "metadata": {
    "collapsed": false,
    "deletable": true,
    "editable": true
   },
   "outputs": [
    {
     "name": "stdout",
     "output_type": "stream",
     "text": [
      "| Establishment                            | City |  Tax_sum | Receipts_sum |\n",
      "| ---------------------------------------- | ---- | -------- | ------------ |\n",
      "| CASA GARCIA'S MEXICAN RESTAURA 5401 F... | KYLE | 5,344.45 |    79,767.91 |\n",
      "| EVO ENTERTAINMENT CENTER 3200 KYLE XING  | KYLE | 4,290.21 |    64,032.99 |\n",
      "| APPLEJAM BEVERAGE 5363 KYLE CENTER DR    | KYLE | 1,534.63 |    22,904.93 |\n"
     ]
    }
   ],
   "source": [
    "location_sum('City', 'KYLE').limit(3).print_table(max_column_width=40)"
   ]
  },
  {
   "cell_type": "code",
   "execution_count": 17,
   "metadata": {
    "collapsed": false,
    "deletable": true,
    "editable": true
   },
   "outputs": [
    {
     "name": "stdout",
     "output_type": "stream",
     "text": [
      "| Establishment                            | City       |  Tax_sum | Receipts_sum |\n",
      "| ---------------------------------------- | ---------- | -------- | ------------ |\n",
      "| COPPERHEAD GRILL 6115 LOHMANS FORD RD    | LAGO VISTA | 1,082.58 |    16,157.91 |\n",
      "| MARIA'S BAR & GRILL MEXICAN RE 20602 ... | LAGO VISTA |   483.74 |     7,220.00 |\n"
     ]
    }
   ],
   "source": [
    "location_sum('City', 'LAGO VISTA').limit(3).print_table(max_column_width=40)"
   ]
  },
  {
   "cell_type": "code",
   "execution_count": 18,
   "metadata": {
    "collapsed": false,
    "deletable": true,
    "editable": true
   },
   "outputs": [
    {
     "name": "stdout",
     "output_type": "stream",
     "text": [
      "| Establishment                            | City    |   Tax_sum | Receipts_sum |\n",
      "| ---------------------------------------- | ------- | --------- | ------------ |\n",
      "| LAKEWAY RESORT AND SPA 101 LAKEWAY DR    | LAKEWAY | 11,646.34 |   173,825.97 |\n",
      "| THE GROVE WINE BAR AND KITCHEN 3001 R... | LAKEWAY |  7,532.74 |   112,428.96 |\n",
      "| CANYON GRILLE AT ROUGH HOLLOW, 103 YA... | LAKEWAY |  4,414.49 |    65,887.91 |\n"
     ]
    }
   ],
   "source": [
    "location_sum('City', 'LAKEWAY').limit(3).print_table(max_column_width=40)"
   ]
  },
  {
   "cell_type": "code",
   "execution_count": 19,
   "metadata": {
    "collapsed": false,
    "deletable": true,
    "editable": true
   },
   "outputs": [
    {
     "name": "stdout",
     "output_type": "stream",
     "text": [
      "| Establishment                            | City    |  Tax_sum | Receipts_sum |\n",
      "| ---------------------------------------- | ------- | -------- | ------------ |\n",
      "| BROOKLYN HEIGHTS PIZZERIA 3550 LAKELI... | LEANDER | 3,763.12 |    56,165.97 |\n",
      "| JARDIN DEL REY 703 S HIGHWAY 183         | LEANDER | 2,854.46 |    42,603.88 |\n",
      "| TAPATIA JALISCO #3 LLC 651 N US 183      | LEANDER | 1,696.37 |    25,318.96 |\n"
     ]
    }
   ],
   "source": [
    "location_sum('City', 'LEANDER').limit(3).print_table(max_column_width=40)"
   ]
  },
  {
   "cell_type": "code",
   "execution_count": 20,
   "metadata": {
    "collapsed": false,
    "deletable": true,
    "editable": true
   },
   "outputs": [
    {
     "name": "stdout",
     "output_type": "stream",
     "text": [
      "| Establishment                            | City         |  Tax_sum | Receipts_sum |\n",
      "| ---------------------------------------- | ------------ | -------- | ------------ |\n",
      "| JARDIN CORONA 15395 W STATE HIGHWAY 29   | LIBERTY HILL | 2,869.07 |    42,821.94 |\n",
      "| MARGARITA'S RESTAURANT 10280 W STATE ... | LIBERTY HILL | 2,468.34 |    36,840.90 |\n",
      "| ELENAS MEXICAN RESTAURANT 14801 W STA... | LIBERTY HILL |   132.79 |     1,981.94 |\n"
     ]
    }
   ],
   "source": [
    "location_sum('City', 'LIBERTY HILL').limit(3).print_table(max_column_width=40)"
   ]
  },
  {
   "cell_type": "code",
   "execution_count": 21,
   "metadata": {
    "collapsed": false,
    "deletable": true,
    "editable": true
   },
   "outputs": [
    {
     "name": "stdout",
     "output_type": "stream",
     "text": [
      "| Establishment                            | City         |  Tax_sum | Receipts_sum |\n",
      "| ---------------------------------------- | ------------ | -------- | ------------ |\n",
      "| MAVERICKS 1700 GRAND AVENUE PKWY STE 2   | PFLUGERVILLE | 8,164.62 |   121,860.00 |\n",
      "| HANOVER'S DRAUGHT HAUS 108 E MAIN ST     | PFLUGERVILLE | 5,133.54 |    76,620.00 |\n",
      "| RIO GRANDE TEX MEX 15821 CENTRAL COMM... | PFLUGERVILLE | 4,149.10 |    61,926.87 |\n"
     ]
    }
   ],
   "source": [
    "location_sum('City', 'PFLUGERVILLE').limit(3).print_table(max_column_width=40)"
   ]
  },
  {
   "cell_type": "code",
   "execution_count": 22,
   "metadata": {
    "collapsed": false,
    "deletable": true,
    "editable": true
   },
   "outputs": [
    {
     "name": "stdout",
     "output_type": "stream",
     "text": [
      "| Establishment                            | City       |   Tax_sum | Receipts_sum |\n",
      "| ---------------------------------------- | ---------- | --------- | ------------ |\n",
      "| CHUY'S ROUND ROCK 2320 N INTERSTATE 35   | ROUND ROCK | 11,632.87 |   173,624.93 |\n",
      "| RICK'S CABARET 3105 S INTERSTATE 35      | ROUND ROCK | 10,318.53 |   154,007.91 |\n",
      "| TWIN PEAKS RESTAURANT 100 LOUIS HENNA... | ROUND ROCK | 10,106.54 |   150,843.88 |\n",
      "| JACK ALLEN'S KITCHEN 2500 HOPPE TRL      | ROUND ROCK |  9,212.83 |   137,504.93 |\n",
      "| THIRD BASE ROUND ROCK, LLC 3107 S INT... | ROUND ROCK |  9,011.96 |   134,506.87 |\n"
     ]
    }
   ],
   "source": [
    "location_sum('City', 'ROUND ROCK').limit(5).print_table(max_column_width=40)"
   ]
  },
  {
   "cell_type": "code",
   "execution_count": 23,
   "metadata": {
    "collapsed": false,
    "deletable": true,
    "editable": true
   },
   "outputs": [
    {
     "name": "stdout",
     "output_type": "stream",
     "text": [
      "| Establishment                            | City       |  Tax_sum | Receipts_sum |\n",
      "| ---------------------------------------- | ---------- | -------- | ------------ |\n",
      "| THE MARC 120 E SAN ANTONIO ST            | SAN MARCOS | 8,312.02 |   124,060.00 |\n",
      "| ZELICKS 336 W HOPKINS ST                 | SAN MARCOS | 7,891.12 |   117,777.91 |\n",
      "| PLUCKERS WING BAR 105 N INTERSTATE 35    | SAN MARCOS | 7,028.90 |   104,908.96 |\n",
      "| CHUY'S SAN MARCOS 1121 N INTERSTATE 35   | SAN MARCOS | 6,849.07 |   102,224.93 |\n",
      "| 54TH STREET RESTAURANT & DRAFT 1303 S... | SAN MARCOS | 6,635.54 |    99,037.91 |\n"
     ]
    }
   ],
   "source": [
    "location_sum('City', 'SAN MARCOS').limit(5).print_table(max_column_width=40)"
   ]
  },
  {
   "cell_type": "code",
   "execution_count": 24,
   "metadata": {
    "collapsed": false,
    "deletable": true,
    "editable": true
   },
   "outputs": [
    {
     "name": "stdout",
     "output_type": "stream",
     "text": [
      "| Establishment                            | City      |  Tax_sum | Receipts_sum |\n",
      "| ---------------------------------------- | --------- | -------- | ------------ |\n",
      "| ANGEL'S ICEHOUSE 21815 W HWY 71          | SPICEWOOD | 3,980.47 |    59,410.00 |\n",
      "| POODIES HILLTOP ROADHOUSE 22308 STATE... | SPICEWOOD | 3,096.00 |    46,208.96 |\n",
      "| APIS RESTAURANT 23526 STATE HIGHWAY 71 W | SPICEWOOD | 2,022.26 |    30,182.99 |\n"
     ]
    }
   ],
   "source": [
    "location_sum('City', 'SPICEWOOD').limit(3).print_table(max_column_width=40)"
   ]
  },
  {
   "cell_type": "code",
   "execution_count": 25,
   "metadata": {
    "collapsed": false,
    "deletable": true,
    "editable": true
   },
   "outputs": [
    {
     "name": "stdout",
     "output_type": "stream",
     "text": [
      "| Establishment                            | City          |  Tax_sum | Receipts_sum |\n",
      "| ---------------------------------------- | ------------- | -------- | ------------ |\n",
      "| DOC'S BACKYARD 5207 BRODIE LN # 100      | SUNSET VALLEY | 5,089.85 |    75,967.91 |\n",
      "| BJ'S RESTAURANT AND BREWHOUSE 5207 BR... | SUNSET VALLEY | 4,199.89 |    62,684.93 |\n",
      "| CANE ROSSO 4715 S LAMAR BLVD STE 103     | SUNSET VALLEY | 1,899.31 |    28,347.91 |\n"
     ]
    }
   ],
   "source": [
    "location_sum('City', 'SUNSET VALLEY').limit(3).print_table(max_column_width=40)"
   ]
  },
  {
   "cell_type": "code",
   "execution_count": 26,
   "metadata": {
    "collapsed": false,
    "deletable": true,
    "editable": true
   },
   "outputs": [
    {
     "name": "stdout",
     "output_type": "stream",
     "text": [
      "| Establishment                            | City            |  Tax_sum | Receipts_sum |\n",
      "| ---------------------------------------- | --------------- | -------- | ------------ |\n",
      "| LUPE TORTILLA MEXICAN RESTAURA 701 S ... | WEST LAKE HILLS | 6,027.52 |    89,962.99 |\n",
      "| CHIPOTLE CHIPOTLE MEXICAN GRIL 3300 B... | WEST LAKE HILLS |    26.39 |       393.88 |\n"
     ]
    }
   ],
   "source": [
    "location_sum('City', 'WEST LAKE HILLS').limit(3).print_table(max_column_width=40)"
   ]
  },
  {
   "cell_type": "markdown",
   "metadata": {
    "deletable": true,
    "editable": true
   },
   "source": [
    "## Sales by county example\n",
    "\n",
    "In this case, we pass in the location type of 'County' and then a county name in caps to get the most sales in a particular county."
   ]
  },
  {
   "cell_type": "code",
   "execution_count": 27,
   "metadata": {
    "collapsed": false,
    "deletable": true,
    "editable": true
   },
   "outputs": [
    {
     "name": "stdout",
     "output_type": "stream",
     "text": [
      "| Establishment                            | County   |  Tax_sum | Receipts_sum |\n",
      "| ---------------------------------------- | -------- | -------- | ------------ |\n",
      "| GUADALAJARA MEXICAN RESTAURANT 1710 S... | Caldwell | 1,311.59 |    19,575.97 |\n",
      "| THE PEARL 110 N MAIN ST                  | Caldwell |   709.39 |    10,587.91 |\n",
      "| MR TACO 1132 E PIERCE ST                 | Caldwell |   610.83 |     9,116.87 |\n"
     ]
    }
   ],
   "source": [
    "location_sum('County', 'CALDWELL').limit(3).print_table(max_column_width=40)"
   ]
  },
  {
   "cell_type": "markdown",
   "metadata": {
    "deletable": true,
    "editable": true
   },
   "source": [
    "## Sales by ZIP Code\n",
    "Just making sure that 78701 is at the top of this list, which it has been every month for a decade."
   ]
  },
  {
   "cell_type": "code",
   "execution_count": 28,
   "metadata": {
    "collapsed": false,
    "deletable": true,
    "editable": true
   },
   "outputs": [
    {
     "name": "stdout",
     "output_type": "stream",
     "text": [
      "| Zip   |           Sum |\n",
      "| ----- | ------------- |\n",
      "| 78701 | 20,911,901.08 |\n",
      "| 75201 | 10,600,247.40 |\n",
      "| 78205 |  9,943,626.36 |\n",
      "| 77002 |  9,390,179.42 |\n",
      "| 77006 |  7,158,393.46 |\n"
     ]
    }
   ],
   "source": [
    "# top zip code gross receipts\n",
    "zip_receipts = mixbev_month.pivot('Zip', aggregation=agate.Sum('Receipts')).order_by('Sum', reverse=True)\n",
    "zip_receipts.limit(5).print_table()"
   ]
  },
  {
   "cell_type": "code",
   "execution_count": null,
   "metadata": {
    "collapsed": true,
    "deletable": true,
    "editable": true
   },
   "outputs": [],
   "source": []
  }
 ],
 "metadata": {
  "kernelspec": {
   "display_name": "Python 3",
   "language": "python",
   "name": "python3"
  },
  "language_info": {
   "codemirror_mode": {
    "name": "ipython",
    "version": 3
   },
   "file_extension": ".py",
   "mimetype": "text/x-python",
   "name": "python",
   "nbconvert_exporter": "python",
   "pygments_lexer": "ipython3",
   "version": "3.5.1"
  }
 },
 "nbformat": 4,
 "nbformat_minor": 2
}
