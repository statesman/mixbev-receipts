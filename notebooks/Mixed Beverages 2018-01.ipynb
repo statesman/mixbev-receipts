{
 "cells": [
  {
   "cell_type": "markdown",
   "metadata": {},
   "source": [
    "# Processing mixed beverage data\n",
    "\n",
    "## Single-month sales report\n",
    "\n",
    "This Jupyter Notebook uses data.texas.gov [Mixed Beverage Gross Receipts data](https://data.texas.gov/Government-and-Taxes/Mixed-Beverage-Gross-Receipts/naix-2893), and then a python library called [agate](http://agate.readthedocs.io/) to clean and process that data for [stories similar to this one](http://www.mystatesman.com/business/austin-alcohol-sales-percent-february/Oo2txZUkuDlqBl0rU9O1lJ/) on monthly alcohol sales.\n",
    "\n",
    "There are two places where **last day of the month** has to be entered into the script, in YYYY-MM-DD format:\n",
    "- `download_date` in the \"Download\" section\n",
    "- `date_studied` in the \"Setting up\" section\n",
    "\n",
    "For Jan 2018, use:\n",
    "\n",
    "2018-01-31\n",
    "\n",
    "**NOTE: I ran this on 2/26/2018 and the number of rows was low ... about 8k instead of 15k**"
   ]
  },
  {
   "cell_type": "markdown",
   "metadata": {},
   "source": [
    "## Download\n",
    "\n",
    "We're using the bash curl command to download our file from Socrata.\n",
    "\n",
    "### Set download date\n",
    "\n",
    "Make sure to set the `download_date` below to the last day of the month studied."
   ]
  },
  {
   "cell_type": "code",
   "execution_count": 1,
   "metadata": {},
   "outputs": [
    {
     "name": "stdout",
     "output_type": "stream",
     "text": [
      "https://data.texas.gov/resource/fp9t-htqh.json?$limit=20000&$where=obligation_end_date_yyyymmdd%20=%20%272018-01-31%27\n"
     ]
    },
    {
     "name": "stderr",
     "output_type": "stream",
     "text": [
      "  % Total    % Received % Xferd  Average Speed   Time    Time     Time  Current\n",
      "                                 Dload  Upload   Total   Spent    Left  Speed\n",
      "\r",
      "  0     0    0     0    0     0      0      0 --:--:-- --:--:-- --:--:--     0\r",
      "  0     0    0     0    0     0      0      0 --:--:-- --:--:-- --:--:--     0\r",
      "100 31404    0 31404    0     0  24139      0 --:--:--  0:00:01 --:--:-- 24138\r",
      "100  350k    0  350k    0     0   152k      0 --:--:--  0:00:02 --:--:--  152k\r",
      "100  862k    0  862k    0     0   258k      0 --:--:--  0:00:03 --:--:--  258k\r",
      "100 1373k    0 1373k    0     0   318k      0 --:--:--  0:00:04 --:--:--  318k\r",
      "100 1949k    0 1949k    0     0   367k      0 --:--:--  0:00:05 --:--:--  422k\r",
      "100 2653k    0 2653k    0     0   420k      0 --:--:--  0:00:06 --:--:--  524k\r",
      "100 3516k    0 3516k    0     0   481k      0 --:--:--  0:00:07 --:--:--  632k\r",
      "100 4444k    0 4444k    0     0   533k      0 --:--:--  0:00:08 --:--:--  715k\r",
      "100 4971k    0 4971k    0     0   534k      0 --:--:--  0:00:09 --:--:--  721k\r",
      "100 5547k    0 5547k    0     0   538k      0 --:--:--  0:00:10 --:--:--  719k\r",
      "100 5886k    0 5886k    0     0   543k      0 --:--:--  0:00:10 --:--:--  715k\n"
     ]
    }
   ],
   "source": [
    "%%bash\n",
    "download_date='2018-01-31'\n",
    "\n",
    "socrata_data='https://data.texas.gov/resource/fp9t-htqh.json?'\n",
    "socrata_limit='$limit=20000'\n",
    "socrata_date='&$where=obligation_end_date_yyyymmdd%20=%20%27'$download_date'%27'\n",
    "socrata_path=$socrata_data$socrata_limit$socrata_date\n",
    "\n",
    "echo $socrata_path\n",
    "\n",
    "curl -L -o ../mixbev-files/Mixed_Beverage_Gross_Receipts_$download_date.json \\\n",
    "$socrata_path"
   ]
  },
  {
   "cell_type": "markdown",
   "metadata": {},
   "source": [
    "## Set date_studied\n",
    "\n",
    "It is imporant to change `date_studied` to the last day of the month studied:"
   ]
  },
  {
   "cell_type": "code",
   "execution_count": 2,
   "metadata": {},
   "outputs": [],
   "source": [
    "# this should be the same as the download_date above.\n",
    "date_studied = '2018-01-31'"
   ]
  },
  {
   "cell_type": "markdown",
   "metadata": {},
   "source": [
    "## Set up python\n",
    "\n",
    "We'll import the python libraries we need, and then set the date_studied, which is important to find the right file."
   ]
  },
  {
   "cell_type": "code",
   "execution_count": 3,
   "metadata": {},
   "outputs": [],
   "source": [
    "# import libraries\n",
    "import agate\n",
    "# this surpresses the timezone warning\n",
    "# Might comment out during development so other warnings\n",
    "# are not surpressed\n",
    "import warnings\n",
    "warnings.filterwarnings('ignore')"
   ]
  },
  {
   "cell_type": "markdown",
   "metadata": {},
   "source": [
    "## Import the file\n",
    "\n",
    "We set the path name based on `date_studied` above. We import the raw data, forcing some data types."
   ]
  },
  {
   "cell_type": "code",
   "execution_count": 4,
   "metadata": {},
   "outputs": [],
   "source": [
    "# This is the source file, which should be donwloaded\n",
    "file_path = '../mixbev-files/Mixed_Beverage_Gross_Receipts_' + date_studied + '.json'\n",
    "\n",
    "# Setting up to force column types for some columns\n",
    "specified_types = {\n",
    "    'cover_charge_receipts': agate.Number(),\n",
    "    'taxpayer_number': agate.Text(),\n",
    "    'taxpayer_zip': agate.Text(),\n",
    "    'taxpayer_county': agate.Text(),\n",
    "    'location_number': agate.Text(),\n",
    "    'location_address': agate.Text(),\n",
    "    'location_zip': agate.Text(),\n",
    "    'location_county': agate.Text(),\n",
    "}\n",
    "\n",
    "# this imports the file specified above, along with the proper types\n",
    "mixbev_raw = agate.Table.from_json(file_path, column_types=specified_types)\n",
    "\n",
    "# Uncomment below to peek at column names\n",
    "# print(mixbev_raw)"
   ]
  },
  {
   "cell_type": "markdown",
   "metadata": {},
   "source": [
    "## Cleaning bad columns\n",
    "\n",
    "There is a problem with the Comptroller data where two columns are incorrectly labeled. They are NOT used in the analysis, but we'll fix them anyway. It could be that the Comptroller will fix these in the future."
   ]
  },
  {
   "cell_type": "code",
   "execution_count": 5,
   "metadata": {},
   "outputs": [],
   "source": [
    "# renames two columns that are labelled incorrectly from original data\n",
    "mixbev_fixed = mixbev_raw.rename(column_names = {\n",
    "        'tabc_permit_number': 'inside_outside_city_limits_code',\n",
    "        'inside_outside_city_limits_code_y_n': 'tabc_permit',\n",
    "    }\n",
    ")\n",
    "\n",
    "# Uncomment below to see changed columns\n",
    "# print(mixbev_fixed)"
   ]
  },
  {
   "cell_type": "code",
   "execution_count": 6,
   "metadata": {},
   "outputs": [],
   "source": [
    "# establish our table of record\n",
    "mixbev = mixbev_fixed"
   ]
  },
  {
   "cell_type": "markdown",
   "metadata": {},
   "source": [
    "## Create establishment column\n",
    "\n",
    "We do this so we make sure we have single establishments instead of grouping trade names together from different addresses, like 'CHILI'S BAR & GRILL'."
   ]
  },
  {
   "cell_type": "code",
   "execution_count": 7,
   "metadata": {},
   "outputs": [],
   "source": [
    "# Concatenates the name and address\n",
    "mixbev_establishment = mixbev.compute([\n",
    "    ('Establishment', agate.Formula(agate.Text(), lambda row: '%(location_name)s (%(location_address)s)' % row))\n",
    "])\n",
    "\n",
    "# Uncomment line below to print Establishment to check what is looks like\n",
    "# mixbev_establishment.select('Establishment').limit(5).print_table(max_column_width=80)"
   ]
  },
  {
   "cell_type": "code",
   "execution_count": 8,
   "metadata": {},
   "outputs": [],
   "source": [
    "# Uncomment below to see column names\n",
    "# print(mixbev_establishment)"
   ]
  },
  {
   "cell_type": "markdown",
   "metadata": {},
   "source": [
    "## Import and merge counties lookup table\n",
    "\n",
    "We do this to get county names. I got this list from the comptroller.\n",
    "\n",
    "NOTE: Wisdom would suggest we join on the code column from counites, but the data.texas.gov data does not have the zero padding from those values, so I'm using the id column."
   ]
  },
  {
   "cell_type": "code",
   "execution_count": 9,
   "metadata": {},
   "outputs": [],
   "source": [
    "# importing countes.csv, ensuring that the 'code' column is text\n",
    "counties = agate.Table.from_csv('../resource-files/counties.csv', column_types={\n",
    "    'code': agate.Text(),\n",
    "    'id': agate.Text()\n",
    "})\n",
    "\n",
    "# uncomment below to peek at the column names and an example\n",
    "# print(counties)\n",
    "# counties.limit(5).print_table()\n",
    "\n",
    "# joines the counties table to the mixed bev cleaned data with establishments\n",
    "mixbev_joined = mixbev_establishment.join(counties, 'location_county', 'id')\n",
    "\n",
    "# uncomment below to see merged column names \n",
    "# print(mixbev_joined)"
   ]
  },
  {
   "cell_type": "code",
   "execution_count": 10,
   "metadata": {},
   "outputs": [
    {
     "name": "stdout",
     "output_type": "stream",
     "text": [
      "| column        | data_type |\n",
      "| ------------- | --------- |\n",
      "| Name          | Text      |\n",
      "| Address       | Text      |\n",
      "| Establishment | Text      |\n",
      "| City          | Text      |\n",
      "| State         | Text      |\n",
      "| Zip           | Text      |\n",
      "| County        | Text      |\n",
      "| Receipts      | Number    |\n",
      "| Report date   | DateTime  |\n",
      "\n"
     ]
    }
   ],
   "source": [
    "# get just the columns we need and rename county\n",
    "# THIS is the finished, cleaned mixbev table\n",
    "mixbev = mixbev_joined.select([\n",
    "    'location_name',\n",
    "    'location_address',\n",
    "    'Establishment',\n",
    "    'location_city',\n",
    "    'location_state',\n",
    "    'location_zip',\n",
    "    'county',\n",
    "    'total_receipts',\n",
    "    'obligation_end_date_yyyymmdd'\n",
    "]).rename(column_names = {\n",
    "    'location_name' : 'Name',\n",
    "    'location_address' : 'Address',\n",
    "    'location_city': 'City',\n",
    "    'location_state': 'State',\n",
    "    'location_zip': 'Zip',\n",
    "    'total_receipts' : 'Receipts',\n",
    "    'county': 'County',\n",
    "    'obligation_end_date_yyyymmdd': 'Report date'\n",
    "})\n",
    "\n",
    "# peek at the column names\n",
    "print(mixbev)"
   ]
  },
  {
   "cell_type": "markdown",
   "metadata": {},
   "source": [
    "## Location sums function\n",
    "\n",
    "Because we want to get the top sellers in a bunch of cities and couties, we create a function so we don't have to repeat the code. This function allows us to pass in a city or county name to filter the monthly receipts table and then sum the Tax and Receipts columns. The result can then be acted on to print or aggreggate. It is used later in the file."
   ]
  },
  {
   "cell_type": "code",
   "execution_count": 11,
   "metadata": {},
   "outputs": [],
   "source": [
    "# function to group sales by a specific location\n",
    "# City or County passed in should be ALL CAPS\n",
    "# Location_type can be 'City' or 'County'\n",
    "\n",
    "def location_sum(location_type, location):\n",
    "    # Filters the data to the specified city\n",
    "    location_filtered = mixbev.where(lambda row: row[location_type].upper() == location)\n",
    "\n",
    "    # groups the data based on Establishment and location\n",
    "    location_grouped = location_filtered.group_by('Establishment').group_by(location_type)\n",
    "    # computes the sales based on the grouping\n",
    "    location_summary = location_grouped.aggregate([\n",
    "        ('Receipts_sum', agate.Sum('Receipts'))\n",
    "    ])\n",
    "    \n",
    "    # sorts the results by most sold\n",
    "    location_summary_sorted = location_summary.order_by('Receipts_sum', reverse=True)\n",
    "    # prints the top 10 results\n",
    "    \n",
    "    return(location_summary_sorted)"
   ]
  },
  {
   "cell_type": "markdown",
   "metadata": {},
   "source": [
    "## Data checking\n",
    "I make sure I'm looking the correct month, and to make sure the number of records is not hitting my download limit."
   ]
  },
  {
   "cell_type": "code",
   "execution_count": 12,
   "metadata": {},
   "outputs": [
    {
     "name": "stdout",
     "output_type": "stream",
     "text": [
      "This report date should equal your date_studied:\n",
      "\n",
      "|         Report date |\n",
      "| ------------------- |\n",
      "| 2018-01-31 00:00:00 |\n",
      "\n",
      "If the number of records below is 20000, increase the download limit.\n",
      "\n",
      "Number of records in table: 8246\n"
     ]
    }
   ],
   "source": [
    "# double-checking I'm looking at one month of data\n",
    "mixbev_dates = mixbev.select('Report date').distinct('Report date')\n",
    "print('This report date should equal your date_studied:\\n')\n",
    "mixbev_dates.print_table()\n",
    "print('\\nIf the number of records below is 20000, increase the download limit.')\n",
    "print('\\nNumber of records in table: {}'.format(\n",
    "        len(mixbev))\n",
    "     )"
   ]
  },
  {
   "cell_type": "markdown",
   "metadata": {},
   "source": [
    "## Top sales statewide\n",
    "\n",
    "Because we want to group our results by more than one field and perform more than one aggregation, we'll do this a little differently. We'll use group_by to create a grouped table, then perform aggregations on that new table to compute the Tax and Receipts columns."
   ]
  },
  {
   "cell_type": "code",
   "execution_count": 13,
   "metadata": {
    "scrolled": true
   },
   "outputs": [
    {
     "name": "stdout",
     "output_type": "stream",
     "text": [
      "Total statewide sales for this month are: 330618367\n",
      "\n",
      "| Establishment                            | County  | City        | Sales_sum |\n",
      "| ---------------------------------------- | ------- | ----------- | --------- |\n",
      "| GAYLORD TEXAN (1501 GAYLORD TRL)         | Tarrant | GRAPEVINE   | 1,888,248 |\n",
      "| SALC, INC. (2201 N STEMMONS FWY FL 1)    | Dallas  | DALLAS      | 1,288,887 |\n",
      "| THE POST OAK/MASTRO'S/WILLIE G'S (160... | Harris  | HOUSTON     |   921,740 |\n",
      "| AT&T STADIUM (1 LEGENDS WAY)             | Tarrant | ARLINGTON   |   869,091 |\n",
      "| ARAMARK SPORTS AND ENTERTAINMENT SERV... | Bexar   | SAN ANTONIO |   847,842 |\n",
      "| MARRIOTT MARQUIS HOUSTON (1777 WALKER... | Harris  | HOUSTON     |   833,613 |\n",
      "| HILTON AMERICAS - HOUSTON (1600 LAMAR... | Harris  | HOUSTON     |   795,923 |\n",
      "| FOUR FAMILIES OF HOUSTON (7800 AIRPOR... | Harris  | HOUSTON     |   723,980 |\n",
      "| SHERATON HOTEL AND CONVENTION CENTER ... | Dallas  | DALLAS      |   627,480 |\n",
      "| DALLAS REGENCY CORPORATION (300 REUNI... | Dallas  | DALLAS      |   622,613 |\n"
     ]
    }
   ],
   "source": [
    "# summing sales statewide for month\n",
    "\n",
    "print('Total statewide sales for this month are: {}\\n'.format(\n",
    "    mixbev.aggregate(agate.Sum('Receipts')) # <<< I should format the number better\n",
    "))\n",
    "\n",
    "# groups the data based on Establishment and City\n",
    "mixbev_grouped = mixbev.group_by('Establishment').group_by('County').group_by('City')\n",
    "\n",
    "# computes the sales based on the grouping\n",
    "state_summary = mixbev_grouped.aggregate([\n",
    "    ('Sales_sum', agate.Sum('Receipts'))\n",
    "])\n",
    "\n",
    "# sorts the results by most sold. We could probalby chain it above if we wanted to.\n",
    "state_summary_sorted = state_summary.order_by('Sales_sum', reverse=True)\n",
    "\n",
    "# prints the top 10 results\n",
    "state_summary_sorted.limit(10).print_table(max_column_width=40)\n"
   ]
  },
  {
   "cell_type": "markdown",
   "metadata": {},
   "source": [
    "## Austin sales and sums\n",
    "\n",
    "With this, we reference the location_sum function above, and pass the type of location (City) and the name of the city (AUSTIN). At the same time, we limit number of recoreds in the return, and then print the results. We are basically stringing together a bunch of stuff at once."
   ]
  },
  {
   "cell_type": "code",
   "execution_count": 14,
   "metadata": {},
   "outputs": [
    {
     "name": "stdout",
     "output_type": "stream",
     "text": [
      "Total sales in Austin are: 38116051\n",
      "\n",
      "Top sellers in Austin are:\n",
      "\n",
      "| Establishment                                                | City   | Receipts_sum |\n",
      "| ------------------------------------------------------------ | ------ | ------------ |\n",
      "| SALC. INC.(HILTON HOTEL) (500 E 4TH ST)                      | AUSTIN |      522,847 |\n",
      "| ALAMO DRAFTHOUSE CINEMA (1120 S LAMAR BLVD)                  | AUSTIN |      432,929 |\n",
      "| 400 BAR/CUCARACHA/CHUPACABRA/JACKALOPE/MOOSENUCKLE (400 E... | AUSTIN |      416,855 |\n",
      "| ROSE ROOM/ 77 DEGREES (11500 ROCK ROSE AVE)                  | AUSTIN |      387,671 |\n",
      "| DH BEVERAGE LLC (604 BRAZOS ST)                              | AUSTIN |      332,297 |\n",
      "| CULINARY DROPOUT (11721 ROCK ROSE AVE STE Y4.100)            | AUSTIN |      326,267 |\n",
      "| THE PALAZIO (501 E BEN WHITE BLVD)                           | AUSTIN |      319,437 |\n",
      "| TOP GOLF (2700 ESPERANZA XING)                               | AUSTIN |      312,561 |\n",
      "| THE DOGWOOD DOMAIN (11420 ROCK ROSE AVE STE 700)             | AUSTIN |      311,417 |\n",
      "| HOTEL VAN ZANDT (605 DAVIS ST)                               | AUSTIN |      293,352 |\n",
      "| W HOTEL AUSTIN (200 LAVACA ST)                               | AUSTIN |      291,089 |\n",
      "| KUNG FU SALOON (11501 ROCK ROSE AVE STE 140)                 | AUSTIN |      290,300 |\n",
      "| OJOS LOCOS SPORTS CANTINA (7522 N INTERSTATE 35 STE B)       | AUSTIN |      278,915 |\n",
      "| MATT'S EL RANCHO, INC. (2613 S LAMAR BLVD)                   | AUSTIN |      274,581 |\n",
      "| EDDIE V'S PRIME SEAFOOD (301 E 5TH ST)                       | AUSTIN |      256,588 |\n",
      "| PERRY'S STEAKHOUSE & GRILLE (114 W 7TH ST STE 110)           | AUSTIN |      244,185 |\n",
      "| SOUTH CONGRESS HOTEL (1603 S CONGRESS AVE)                   | AUSTIN |      242,434 |\n",
      "| GREEN LIGHT SOCIAL (720 W 6TH ST)                            | AUSTIN |      238,615 |\n",
      "| UNBARLIEVABLE (76 RAINEY ST)                                 | AUSTIN |      237,904 |\n",
      "| SAN JACINTO BEVERAGE COMPANY LLC (98 SAN JACINTO BLVD)       | AUSTIN |      236,616 |\n",
      "| JEFFREY'S RESTAURANT & BAR/JOSEPHINE HOUSE (1202 W LYNN ST)  | AUSTIN |      234,517 |\n",
      "| KUNG FU SALOON (716 W 6TH ST)                                | AUSTIN |      228,339 |\n",
      "| LUSTRE PEARL (94 RAINEY ST)                                  | AUSTIN |      228,208 |\n",
      "| REGENCY BEVERAGE COMPANY (208 BARTON SPRINGS RD)             | AUSTIN |      221,004 |\n",
      "| CONTAINER BAR (90 RAINEY ST)                                 | AUSTIN |      218,934 |\n"
     ]
    }
   ],
   "source": [
    "# Austin total sales as s city\n",
    "# This sums the grouped table, but it works\n",
    "\n",
    "print('Total sales in Austin are: {}\\n'.format(\n",
    "    location_sum('City', 'AUSTIN').aggregate(agate.Sum('Receipts_sum'))\n",
    "))\n",
    "\n",
    "# uses the city_sum function to filter\n",
    "austin = location_sum('City', 'AUSTIN')\n",
    "\n",
    "\n",
    "# print the resulting table\n",
    "print('Top sellers in Austin are:\\n')\n",
    "austin.limit(25).print_table(max_column_width=60, max_rows=None)"
   ]
  },
  {
   "cell_type": "markdown",
   "metadata": {},
   "source": [
    "## More Central Texas cities\n",
    "More of the same for different cities."
   ]
  },
  {
   "cell_type": "code",
   "execution_count": 15,
   "metadata": {},
   "outputs": [
    {
     "name": "stdout",
     "output_type": "stream",
     "text": [
      "| Establishment                                        | City    | Receipts_sum |\n",
      "| ---------------------------------------------------- | ------- | ------------ |\n",
      "| CHILI'S GRILL & BAR (734 HIGHWAY 71 W)               | BASTROP |       51,987 |\n",
      "| NEIGHBOR'S (601 CHESTNUT ST UNIT C)                  | BASTROP |       25,503 |\n",
      "| MORELIA MEXICAN GRILL (696 HIGHWAY 71 W STE 304)     | BASTROP |       21,175 |\n",
      "| EL NUEVO MEXICO RESTAURANT BASTROP (201 CHILDERS DR) | BASTROP |       18,323 |\n",
      "| COPPER SHOT DISTILLERY (601 CHESTNUT ST STE E)       | BASTROP |        8,676 |\n"
     ]
    }
   ],
   "source": [
    "location_sum('City', 'BASTROP').limit(5).print_table(max_column_width=60)"
   ]
  },
  {
   "cell_type": "code",
   "execution_count": 16,
   "metadata": {},
   "outputs": [
    {
     "name": "stdout",
     "output_type": "stream",
     "text": [
      "| Establishment                                  | City     | Receipts_sum |\n",
      "| ---------------------------------------------- | -------- | ------------ |\n",
      "| MAUDIE'S HILL COUNTRY, LLC (12506 SHOPS PKWY)  | BEE CAVE |       70,165 |\n",
      "| HCG BEVERAGE, LLC (12525 BEE CAVE PKWY)        | BEE CAVE |       48,229 |\n",
      "| CHILI'S GRILL & BAR #1542 (12713 GALLERIA CIR) | BEE CAVE |       36,791 |\n"
     ]
    }
   ],
   "source": [
    "location_sum('City', 'BEE CAVE').limit(3).print_table(max_column_width=60)"
   ]
  },
  {
   "cell_type": "code",
   "execution_count": 17,
   "metadata": {},
   "outputs": [
    {
     "name": "stdout",
     "output_type": "stream",
     "text": [
      "| Establishment                                               | City | Receipts_sum |\n",
      "| ----------------------------------------------------------- | ---- | ------------ |\n",
      "| NATE'S AT BUDA MILL AND GRAIN, INC. (306 S MAIN ST STE 101) | BUDA |       55,731 |\n",
      "| CHILI'S GRILL & BAR (420 OLD SAN ANTONIO RD)                | BUDA |       48,527 |\n",
      "| BROOKLYN'S DOWN SOUTH (100 N MAIN ST)                       | BUDA |       43,972 |\n"
     ]
    }
   ],
   "source": [
    "location_sum('City', 'BUDA').limit(3).print_table(max_column_width=60)"
   ]
  },
  {
   "cell_type": "code",
   "execution_count": 18,
   "metadata": {},
   "outputs": [
    {
     "name": "stdout",
     "output_type": "stream",
     "text": [
      "| Establishment                                                | City      | Receipts_sum |\n",
      "| ------------------------------------------------------------ | --------- | ------------ |\n",
      "| RYAN SANDERS SPORTS SERVICES, LLC (9201 CIRCUIT OF THE AM... | DEL VALLE |          978 |\n"
     ]
    }
   ],
   "source": [
    "location_sum('City', 'DEL VALLE').limit(3).print_table(max_column_width=60)"
   ]
  },
  {
   "cell_type": "code",
   "execution_count": 19,
   "metadata": {},
   "outputs": [
    {
     "name": "stdout",
     "output_type": "stream",
     "text": [
      "| Establishment                                              | City       | Receipts_sum |\n",
      "| ---------------------------------------------------------- | ---------- | ------------ |\n",
      "| CHUY'S (4911 183A TOLL RD)                                 | CEDAR PARK |      112,000 |\n",
      "| LUPE TORTILLA MEXICAN RESTAURANT (4501 183A TOLL RD STE B) | CEDAR PARK |       95,784 |\n",
      "| PLUCKERS WING BAR (11066 PECAN PARK BLVD STE G)            | CEDAR PARK |       90,804 |\n"
     ]
    }
   ],
   "source": [
    "location_sum('City', 'CEDAR PARK').limit(3).print_table(max_column_width=60)"
   ]
  },
  {
   "cell_type": "code",
   "execution_count": 20,
   "metadata": {},
   "outputs": [
    {
     "name": "stdout",
     "output_type": "stream",
     "text": [
      "| Establishment                                         | City             | Receipts_sum |\n",
      "| ----------------------------------------------------- | ---------------- | ------------ |\n",
      "| FLORES MEXICAN RESTAURANT (2440 E HIGHWAY 290 BLDG D) | DRIPPING SPRINGS |       51,677 |\n",
      "| DEEP EDDY DISTILLING CO (2250 E HIGHWAY 290)          | DRIPPING SPRINGS |       38,952 |\n",
      "| PROOF & COOPER (18800 HAMILTON POOL RD)               | DRIPPING SPRINGS |       28,008 |\n"
     ]
    }
   ],
   "source": [
    "location_sum('City', 'DRIPPING SPRINGS').limit(3).print_table(max_column_width=60)"
   ]
  },
  {
   "cell_type": "code",
   "execution_count": 21,
   "metadata": {},
   "outputs": [
    {
     "name": "stdout",
     "output_type": "stream",
     "text": [
      "| Establishment                        | City       | Receipts_sum |\n",
      "| ------------------------------------ | ---------- | ------------ |\n",
      "| EL MONUMENTO (205 W 2ND ST)          | GEORGETOWN |       69,640 |\n",
      "| HARDTAILS (1515 N IH 35)             | GEORGETOWN |       61,061 |\n",
      "| DOS SALSAS CAFE INC (1104 S MAIN ST) | GEORGETOWN |       59,524 |\n"
     ]
    }
   ],
   "source": [
    "location_sum('City', 'GEORGETOWN').limit(3).print_table(max_column_width=60)"
   ]
  },
  {
   "cell_type": "code",
   "execution_count": 22,
   "metadata": {},
   "outputs": [
    {
     "name": "stdout",
     "output_type": "stream",
     "text": [
      "| Establishment                                  | City | Receipts_sum |\n",
      "| ---------------------------------------------- | ---- | ------------ |\n",
      "| EVO ENTERTAINMENT CENTER (3200 KYLE XING)      | KYLE |       53,507 |\n",
      "| APPLEJAM BEVERAGE (5363 KYLE CENTER DR)        | KYLE |       27,405 |\n",
      "| KOY CHINESE AND SUSHI (5695 KYLE PKWY STE 800) | KYLE |        7,740 |\n"
     ]
    }
   ],
   "source": [
    "location_sum('City', 'KYLE').limit(3).print_table(max_column_width=60)"
   ]
  },
  {
   "cell_type": "code",
   "execution_count": 23,
   "metadata": {},
   "outputs": [
    {
     "name": "stdout",
     "output_type": "stream",
     "text": [
      "| Establishment                                         | City       | Receipts_sum |\n",
      "| ----------------------------------------------------- | ---------- | ------------ |\n",
      "| THE GRILLE AT HIGHLAND LAKES (20552 HIGHLAND LAKE DR) | LAGO VISTA |       20,374 |\n",
      "| COPPERHEAD GRILL (6115 LOHMANS FORD RD)               | LAGO VISTA |       17,213 |\n",
      "| THE GNARLY GAR (18200 LAKEPOINT CV)                   | LAGO VISTA |       13,772 |\n"
     ]
    }
   ],
   "source": [
    "location_sum('City', 'LAGO VISTA').limit(3).print_table(max_column_width=60)"
   ]
  },
  {
   "cell_type": "code",
   "execution_count": 24,
   "metadata": {},
   "outputs": [
    {
     "name": "stdout",
     "output_type": "stream",
     "text": [
      "| Establishment                                                | City    | Receipts_sum |\n",
      "| ------------------------------------------------------------ | ------- | ------------ |\n",
      "| LAKEWAY RESORT AND SPA (101 LAKEWAY DR)                      | LAKEWAY |       76,954 |\n",
      "| THE LEAGUE (1310 RANCH ROAD 620 S)                           | LAKEWAY |       63,822 |\n",
      "| FLORES MEXICAN RESTAURANT (2127 LOHMANS CROSSING RD STE 318) | LAKEWAY |       50,917 |\n"
     ]
    }
   ],
   "source": [
    "location_sum('City', 'LAKEWAY').limit(3).print_table(max_column_width=60)"
   ]
  },
  {
   "cell_type": "code",
   "execution_count": 25,
   "metadata": {},
   "outputs": [
    {
     "name": "stdout",
     "output_type": "stream",
     "text": [
      "| Establishment                                                | City    | Receipts_sum |\n",
      "| ------------------------------------------------------------ | ------- | ------------ |\n",
      "| BROOKLYN HEIGHTS PIZZERIA (3550 LAKELINE BLVD STE 135)       | LEANDER |       58,093 |\n",
      "| DA-FAN CLUB BAR & GRILL (15609 RONALD W REAGAN BLVD BLDG ... | LEANDER |            0 |\n",
      "| SQUARE PEG DISTILLING (11894 OLD 2243 W STE A)               | LEANDER |            0 |\n"
     ]
    }
   ],
   "source": [
    "location_sum('City', 'LEANDER').limit(3).print_table(max_column_width=60)"
   ]
  },
  {
   "cell_type": "code",
   "execution_count": 26,
   "metadata": {},
   "outputs": [
    {
     "name": "stdout",
     "output_type": "stream",
     "text": [
      "| Establishment                                     | City         | Receipts_sum |\n",
      "| ------------------------------------------------- | ------------ | ------------ |\n",
      "| MARGARITA'S RESTAURANT (10280 W STATE HIGHWAY 29) | LIBERTY HILL |       30,236 |\n"
     ]
    }
   ],
   "source": [
    "location_sum('City', 'LIBERTY HILL').limit(3).print_table(max_column_width=60)"
   ]
  },
  {
   "cell_type": "code",
   "execution_count": 27,
   "metadata": {},
   "outputs": [
    {
     "name": "stdout",
     "output_type": "stream",
     "text": [
      "| Establishment                                       | City         | Receipts_sum |\n",
      "| --------------------------------------------------- | ------------ | ------------ |\n",
      "| MAVERICKS (1700 GRAND AVENUE PKWY STE 240)          | PFLUGERVILLE |      136,233 |\n",
      "| RIO GRANDE TEX MEX (15821 CENTRAL COMMERCE DR)      | PFLUGERVILLE |       53,384 |\n",
      "| CHILI'S GRILL & BAR (18901 LIMESTONE COMMERCIAL DR) | PFLUGERVILLE |       52,953 |\n"
     ]
    }
   ],
   "source": [
    "location_sum('City', 'PFLUGERVILLE').limit(3).print_table(max_column_width=60)"
   ]
  },
  {
   "cell_type": "code",
   "execution_count": 28,
   "metadata": {},
   "outputs": [
    {
     "name": "stdout",
     "output_type": "stream",
     "text": [
      "| Establishment                                | City       | Receipts_sum |\n",
      "| -------------------------------------------- | ---------- | ------------ |\n",
      "| TWIN PEAKS RESTAURANT (100 LOUIS HENNA BLVD) | ROUND ROCK |      135,022 |\n",
      "| JACK ALLEN'S KITCHEN (2500 HOPPE TRL)        | ROUND ROCK |      131,124 |\n",
      "| RICK'S CABARET (3105 S INTERSTATE 35)        | ROUND ROCK |      119,474 |\n",
      "| CHUY'S ROUND ROCK (2320 N INTERSTATE 35)     | ROUND ROCK |      106,693 |\n",
      "| PLUCKERS WING BAR (300 MAYS XING STE 300)    | ROUND ROCK |       99,345 |\n"
     ]
    }
   ],
   "source": [
    "location_sum('City', 'ROUND ROCK').limit(5).print_table(max_column_width=60)"
   ]
  },
  {
   "cell_type": "code",
   "execution_count": 29,
   "metadata": {},
   "outputs": [
    {
     "name": "stdout",
     "output_type": "stream",
     "text": [
      "| Establishment                                              | City       | Receipts_sum |\n",
      "| ---------------------------------------------------------- | ---------- | ------------ |\n",
      "| PLUCKERS WING BAR (105 N INTERSTATE 35)                    | SAN MARCOS |      107,476 |\n",
      "| THE MARC (120 E SAN ANTONIO ST)                            | SAN MARCOS |       94,492 |\n",
      "| 54TH STREET RESTAURANT & DRAFTHOUSE (1303 S INTERSTATE 35) | SAN MARCOS |       93,390 |\n",
      "| ZELICKS (336 W HOPKINS ST)                                 | SAN MARCOS |       90,253 |\n",
      "| MAYLOO'S (138 N LBJ DR)                                    | SAN MARCOS |       85,684 |\n"
     ]
    }
   ],
   "source": [
    "location_sum('City', 'SAN MARCOS').limit(5).print_table(max_column_width=60)"
   ]
  },
  {
   "cell_type": "code",
   "execution_count": 30,
   "metadata": {},
   "outputs": [
    {
     "name": "stdout",
     "output_type": "stream",
     "text": [
      "| Establishment                                      | City      | Receipts_sum |\n",
      "| -------------------------------------------------- | --------- | ------------ |\n",
      "| ANGEL'S ICEHOUSE (21815 W HWY 71)                  | SPICEWOOD |       40,114 |\n",
      "| IRON WOLF RANCH & DISTILLERY (101 COUNTY ROAD 409) | SPICEWOOD |        8,038 |\n",
      "| THE AUSTIN GOLF CLUB (24900 STATE HIGHWAY 71 W)    | SPICEWOOD |        3,973 |\n"
     ]
    }
   ],
   "source": [
    "location_sum('City', 'SPICEWOOD').limit(3).print_table(max_column_width=60)"
   ]
  },
  {
   "cell_type": "code",
   "execution_count": 31,
   "metadata": {},
   "outputs": [
    {
     "name": "stdout",
     "output_type": "stream",
     "text": [
      "| Establishment                                          | City          | Receipts_sum |\n",
      "| ------------------------------------------------------ | ------------- | ------------ |\n",
      "| BJ'S RESTAURANT AND BREWHOUSE (5207 BRODIE LN STE 300) | SUNSET VALLEY |       64,733 |\n",
      "| DOC'S BACKYARD (5207 BRODIE LN # 100)                  | SUNSET VALLEY |       54,261 |\n",
      "| CANE ROSSO (4715 S LAMAR BLVD STE 103)                 | SUNSET VALLEY |       27,683 |\n"
     ]
    }
   ],
   "source": [
    "location_sum('City', 'SUNSET VALLEY').limit(3).print_table(max_column_width=60)"
   ]
  },
  {
   "cell_type": "code",
   "execution_count": 32,
   "metadata": {},
   "outputs": [
    {
     "name": "stdout",
     "output_type": "stream",
     "text": [
      "| Establishment                                                | City            | Receipts_sum |\n",
      "| ------------------------------------------------------------ | --------------- | ------------ |\n",
      "| LUPE TORTILLA MEXICAN RESTAURANT (701 S CAPITAL OF TEXAS ... | WEST LAKE HILLS |       82,971 |\n"
     ]
    }
   ],
   "source": [
    "location_sum('City', 'WEST LAKE HILLS').limit(3).print_table(max_column_width=60)"
   ]
  },
  {
   "cell_type": "markdown",
   "metadata": {},
   "source": [
    "## Sales by county\n",
    "In this case, we pass in the location type of 'County' and then a county name in caps to get the most sales in a particular county."
   ]
  },
  {
   "cell_type": "code",
   "execution_count": 33,
   "metadata": {},
   "outputs": [
    {
     "name": "stdout",
     "output_type": "stream",
     "text": [
      "| Establishment                                        | County  | Receipts_sum |\n",
      "| ---------------------------------------------------- | ------- | ------------ |\n",
      "| LOST PINES BEVERAGE LLC (575 HYATT LOST PINES ROAD)  | Bastrop |      371,930 |\n",
      "| CHILI'S GRILL & BAR (734 HIGHWAY 71 W)               | Bastrop |       51,987 |\n",
      "| NEIGHBOR'S (601 CHESTNUT ST UNIT C)                  | Bastrop |       25,503 |\n",
      "| MORELIA MEXICAN GRILL (696 HIGHWAY 71 W STE 304)     | Bastrop |       21,175 |\n",
      "| EL NUEVO MEXICO RESTAURANT BASTROP (201 CHILDERS DR) | Bastrop |       18,323 |\n",
      "\n",
      "\n",
      "| Establishment                                               | County   | Receipts_sum |\n",
      "| ----------------------------------------------------------- | -------- | ------------ |\n",
      "| EL REY BAR/NIGHTCLUB (1721 S COMMERCE ST)                   | Caldwell |       19,255 |\n",
      "| GUADALAJARA MEXICAN RESTAURANT (1710 S COLORADO ST STE 110) | Caldwell |       18,166 |\n",
      "| THE PEARL (110 N MAIN ST)                                   | Caldwell |       12,473 |\n",
      "| AUSTRIAN FARMS OF TEXAS LLC (4607 FM 86)                    | Caldwell |            8 |\n",
      "| HIDEOUS, L.C. (5276 BARTH RD)                               | Caldwell |            0 |\n",
      "\n",
      "\n",
      "| Establishment                                              | County | Receipts_sum |\n",
      "| ---------------------------------------------------------- | ------ | ------------ |\n",
      "| PLUCKERS WING BAR (105 N INTERSTATE 35)                    | Hays   |      107,476 |\n",
      "| THE MARC (120 E SAN ANTONIO ST)                            | Hays   |       94,492 |\n",
      "| 54TH STREET RESTAURANT & DRAFTHOUSE (1303 S INTERSTATE 35) | Hays   |       93,390 |\n",
      "| ZELICKS (336 W HOPKINS ST)                                 | Hays   |       90,253 |\n",
      "| MAYLOO'S (138 N LBJ DR)                                    | Hays   |       85,684 |\n",
      "\n",
      "\n",
      "| Establishment                                                     | County | Receipts_sum |\n",
      "| ----------------------------------------------------------------- | ------ | ------------ |\n",
      "| SALC. INC.(HILTON HOTEL) (500 E 4TH ST)                           | Travis |      522,847 |\n",
      "| ALAMO DRAFTHOUSE CINEMA (1120 S LAMAR BLVD)                       | Travis |      432,929 |\n",
      "| 400 BAR/CUCARACHA/CHUPACABRA/JACKALOPE/MOOSENUCKLE (400 E 6TH ST) | Travis |      416,855 |\n",
      "| ROSE ROOM/ 77 DEGREES (11500 ROCK ROSE AVE)                       | Travis |      387,671 |\n",
      "| DH BEVERAGE LLC (604 BRAZOS ST)                                   | Travis |      332,297 |\n",
      "\n",
      "\n",
      "| Establishment                                        | County     | Receipts_sum |\n",
      "| ---------------------------------------------------- | ---------- | ------------ |\n",
      "| ALAMO DRAFTHOUSE CINEMA (14028 N HIGHWAY 183 BLDG F) | Williamson |      188,444 |\n",
      "| TWIN PEAKS RESTAURANT (100 LOUIS HENNA BLVD)         | Williamson |      135,022 |\n",
      "| JACK ALLEN'S KITCHEN (2500 HOPPE TRL)                | Williamson |      131,124 |\n",
      "| MAIN EVENT (13301 N HIGHWAY 183 STE A)               | Williamson |      118,846 |\n",
      "| CHUY'S (4911 183A TOLL RD)                           | Williamson |      112,000 |\n"
     ]
    }
   ],
   "source": [
    "# MOVE TO SEPARATE CELLS SO THEY DON'T FORCE A SCROLL\n",
    "location_sum('County', 'BASTROP').limit(5).print_table(max_column_width=80)\n",
    "print('\\n')\n",
    "location_sum('County', 'CALDWELL').limit(5).print_table(max_column_width=80)\n",
    "print('\\n')\n",
    "location_sum('County', 'HAYS').limit(5).print_table(max_column_width=80)\n",
    "print('\\n')\n",
    "location_sum('County', 'TRAVIS').limit(5).print_table(max_column_width=80)\n",
    "print('\\n')\n",
    "location_sum('County', 'WILLIAMSON').limit(5).print_table(max_column_width=80)"
   ]
  },
  {
   "cell_type": "markdown",
   "metadata": {},
   "source": [
    "## Sales by ZIP Code\n",
    "A list of sales by ZIP Code. If anything other than 78701 is at the top, it is news."
   ]
  },
  {
   "cell_type": "code",
   "execution_count": 34,
   "metadata": {},
   "outputs": [
    {
     "name": "stdout",
     "output_type": "stream",
     "text": [
      "| Zip   |        Sum |\n",
      "| ----- | ---------- |\n",
      "| 78701 | 14,450,201 |\n",
      "| 75201 |  6,127,685 |\n",
      "| 78205 |  5,964,638 |\n",
      "| 78704 |  5,165,741 |\n",
      "| 76051 |  4,694,965 |\n"
     ]
    }
   ],
   "source": [
    "# top zip code gross receipts\n",
    "zip_receipts = mixbev.pivot('Zip', aggregation=agate.Sum('Receipts')).order_by('Sum', reverse=True)\n",
    "zip_receipts.limit(5).print_table()"
   ]
  },
  {
   "cell_type": "code",
   "execution_count": null,
   "metadata": {},
   "outputs": [],
   "source": []
  }
 ],
 "metadata": {
  "kernelspec": {
   "display_name": "Python 3",
   "language": "python",
   "name": "python3"
  },
  "language_info": {
   "codemirror_mode": {
    "name": "ipython",
    "version": 3
   },
   "file_extension": ".py",
   "mimetype": "text/x-python",
   "name": "python",
   "nbconvert_exporter": "python",
   "pygments_lexer": "ipython3",
   "version": "3.6.4"
  }
 },
 "nbformat": 4,
 "nbformat_minor": 2
}
