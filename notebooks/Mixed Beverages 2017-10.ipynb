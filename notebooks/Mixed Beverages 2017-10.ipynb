{
 "cells": [
  {
   "cell_type": "markdown",
   "metadata": {
    "deletable": true,
    "editable": true
   },
   "source": [
    "# Processing mixed beverage data\n",
    "\n",
    "## October 2017\n",
    "\n",
    "This Jupyter Notebook uses data.texas.gov [Mixed Beverage Gross Receipts data](https://data.texas.gov/Government-and-Taxes/Mixed-Beverage-Gross-Receipts/naix-2893), and then a python library called [agate](http://agate.readthedocs.io/) to clean and process that data for [stories similar to this one](http://www.mystatesman.com/business/austin-alcohol-sales-percent-february/Oo2txZUkuDlqBl0rU9O1lJ/) on monthly alcohol sales.\n",
    "\n",
    "This is a work in progress.\n",
    "\n",
    "- The first version will use a downloaded file to process. The data is in a new format, so it has to be reworked\n",
    "- The second phase will work on pulling the data directly from Socrata."
   ]
  },
  {
   "cell_type": "code",
   "execution_count": 1,
   "metadata": {
    "collapsed": false,
    "deletable": true,
    "editable": true
   },
   "outputs": [
    {
     "name": "stderr",
     "output_type": "stream",
     "text": [
      "/Users/christian/anaconda/envs/mixbev/lib/python3.6/json/encoder.py:199: DeprecationWarning: Interpreting naive datetime as local 2017-12-01 11:53:02.846345. Please add timezone info to timestamps.\n"
     ]
    }
   ],
   "source": [
    "# import libraries\n",
    "import agate"
   ]
  },
  {
   "cell_type": "code",
   "execution_count": 2,
   "metadata": {
    "collapsed": true,
    "deletable": true,
    "editable": true
   },
   "outputs": [],
   "source": [
    "# this surpresses the timezone warning\n",
    "# Might comment out during development so other warnings\n",
    "# are not surpressed\n",
    "import warnings\n",
    "warnings.filterwarnings('ignore')"
   ]
  },
  {
   "cell_type": "markdown",
   "metadata": {
    "deletable": true,
    "editable": true
   },
   "source": [
    "Show downloaded files. The path is `../mixbev-files/YYYY`. There are also oder files in `../mixbev-files/old-format/`"
   ]
  },
  {
   "cell_type": "code",
   "execution_count": 3,
   "metadata": {
    "collapsed": false,
    "deletable": true,
    "editable": true
   },
   "outputs": [
    {
     "name": "stdout",
     "output_type": "stream",
     "text": [
      "Mixed_Beverage_Gross_Receipts_2017_09.csv\r\n",
      "Mixed_Beverage_Gross_Receipts_2017_10.csv\r\n"
     ]
    }
   ],
   "source": [
    "ls ../mixbev-files/2017"
   ]
  },
  {
   "cell_type": "markdown",
   "metadata": {
    "deletable": true,
    "editable": true
   },
   "source": [
    "## Import the file\n",
    "\n",
    "We'll set some project variables, including the file name, and then import the data into agate."
   ]
  },
  {
   "cell_type": "code",
   "execution_count": 4,
   "metadata": {
    "collapsed": true,
    "deletable": true,
    "editable": true
   },
   "outputs": [],
   "source": [
    "# This is the source file, which should be donwloaded\n",
    "file = '../mixbev-files/2017/Mixed_Beverage_Gross_Receipts_2017_10.csv'"
   ]
  },
  {
   "cell_type": "code",
   "execution_count": 5,
   "metadata": {
    "collapsed": false,
    "deletable": true,
    "editable": true
   },
   "outputs": [
    {
     "name": "stdout",
     "output_type": "stream",
     "text": [
      "| column                     | data_type |\n",
      "| -------------------------- | --------- |\n",
      "| Taxpayer Number            | Text      |\n",
      "| Taxpayer Name              | Text      |\n",
      "| Taxpayer Address           | Text      |\n",
      "| Taxpayer City              | Text      |\n",
      "| Taxpayer State             | Text      |\n",
      "| Taxpayer Zip               | Text      |\n",
      "| Taxpayer County            | Text      |\n",
      "| Location Number            | Text      |\n",
      "| Location Name              | Text      |\n",
      "| Location Address           | Text      |\n",
      "| Location City              | Text      |\n",
      "| Location State             | Text      |\n",
      "| Location Zip               | Text      |\n",
      "| Location County            | Text      |\n",
      "| Inside/Outside City Limits | Boolean   |\n",
      "| TABC Permit Number         | Text      |\n",
      "| Responsibility Begin Date  | Date      |\n",
      "| Responsibility End Date    | Date      |\n",
      "| Obligation End Date        | Date      |\n",
      "| Liquor Receipts            | Number    |\n",
      "| Wine Receipts              | Number    |\n",
      "| Beer Receipts              | Number    |\n",
      "| Cover Charge Receipts      | Number    |\n",
      "| Total Receipts             | Number    |\n",
      "\n"
     ]
    }
   ],
   "source": [
    "#Helps us import some text fields that may be considered numbers in error.\n",
    "specified_types = {\n",
    "    'Taxpayer Number': agate.Text(),\n",
    "    'Location Number': agate.Text(),\n",
    "    'Taxpayer Zip': agate.Text(),\n",
    "    'Location Zip': agate.Text(),\n",
    "    'Location County': agate.Text(),\n",
    "    'Taxpayer County': agate.Text()\n",
    "}\n",
    "\n",
    "# this imports the file specified above, along with the proper types\n",
    "mixbev_raw = agate.Table.from_csv(file, column_types=specified_types)\n",
    "\n",
    "# prints table fields so we an check thoes data types\n",
    "print(mixbev_raw)"
   ]
  },
  {
   "cell_type": "markdown",
   "metadata": {
    "deletable": true,
    "editable": true
   },
   "source": [
    "## Create establishment column\n",
    "\n",
    "We do this so we make sure we have single establishments instead of grouping trade names together from different addresses, like 'CHILI'S BAR & GRILL'."
   ]
  },
  {
   "cell_type": "code",
   "execution_count": 6,
   "metadata": {
    "collapsed": false,
    "deletable": true,
    "editable": true
   },
   "outputs": [],
   "source": [
    "# Concatenates the name and address\n",
    "mixbev_establishment = mixbev_raw.compute([\n",
    "    ('Establishment', agate.Formula(agate.Text(), lambda row: '%(Location Name)s (%(Location Address)s)' % row))\n",
    "])\n",
    "\n",
    "# Uncomment line below to print Establishment to check what is looks like\n",
    "# mixbev_establishment.select('Establishment').limit(5).print_table(max_column_width=80)"
   ]
  },
  {
   "cell_type": "markdown",
   "metadata": {
    "deletable": true,
    "editable": true
   },
   "source": [
    "## Import and merge counties lookup table\n",
    "\n",
    "We do this to get county names. I got this list from the comptroller.\n",
    "\n",
    "NOTE: Wisdom would suggest we join on the code column from counites, but the data.texas.gov data does not have the zero padding from those values, so I'm using the id column."
   ]
  },
  {
   "cell_type": "code",
   "execution_count": 7,
   "metadata": {
    "collapsed": false,
    "deletable": true,
    "editable": true
   },
   "outputs": [],
   "source": [
    "# importing countes.csv, ensuring that the 'code' column is text\n",
    "counties = agate.Table.from_csv('../resource-files/counties.csv', column_types={\n",
    "    'code': agate.Text(),\n",
    "    'id': agate.Text()\n",
    "})\n",
    "\n",
    "# uncomment below to peek at the column names and an example\n",
    "# print(counties)\n",
    "# counties.limit(5).print_table()\n",
    "\n",
    "# joines the counties table to the mixed bev cleaned data with establishments\n",
    "mixbev_joined = mixbev_establishment.join(counties, 'Location County', 'id')\n",
    "\n",
    "# uncomment below if you want to check that the merge was succesful \n",
    "# print(mixbev_joined)"
   ]
  },
  {
   "cell_type": "code",
   "execution_count": 8,
   "metadata": {
    "collapsed": false,
    "deletable": true,
    "editable": true
   },
   "outputs": [
    {
     "name": "stdout",
     "output_type": "stream",
     "text": [
      "| column        | data_type |\n",
      "| ------------- | --------- |\n",
      "| Name          | Text      |\n",
      "| Address       | Text      |\n",
      "| Establishment | Text      |\n",
      "| City          | Text      |\n",
      "| State         | Text      |\n",
      "| Zip           | Text      |\n",
      "| County        | Text      |\n",
      "| Receipts      | Number    |\n",
      "| Report date   | Date      |\n",
      "\n"
     ]
    }
   ],
   "source": [
    "# get just the columns we need and rename county\n",
    "# THIS is the finished, cleaned mixbev table\n",
    "mixbev = mixbev_joined.select([\n",
    "    'Location Name',\n",
    "    'Location Address',\n",
    "    'Establishment',\n",
    "    'Location City',\n",
    "    'Location State',\n",
    "    'Location Zip',\n",
    "    'county',\n",
    "    'Total Receipts',\n",
    "    'Obligation End Date'\n",
    "]).rename(column_names = {\n",
    "    'Location Name' : 'Name',\n",
    "    'Location Address' : 'Address',\n",
    "    'Location City': 'City',\n",
    "    'Location State': 'State',\n",
    "    'Location Zip': 'Zip',\n",
    "    'Total Receipts' : 'Receipts',\n",
    "    'county': 'County',\n",
    "    'Obligation End Date': 'Report date'\n",
    "})\n",
    "\n",
    "# peek at the column names\n",
    "print(mixbev)"
   ]
  },
  {
   "cell_type": "markdown",
   "metadata": {
    "deletable": true,
    "editable": true
   },
   "source": [
    "## Location sums function\n",
    "\n",
    "Because we want to get the top sellers in a bunch of cities and couties, we create a function so we don't have to repeat the code. This function allows us to pass in a city or county name to filter the monthly receipts table and then sum the Tax and Receipts columns. The result can then be acted on to print or aggreggate. It is used later in the file."
   ]
  },
  {
   "cell_type": "code",
   "execution_count": 9,
   "metadata": {
    "collapsed": true,
    "deletable": true,
    "editable": true
   },
   "outputs": [],
   "source": [
    "# function to group sales by a specific location\n",
    "# City or County passed in should be ALL CAPS\n",
    "# Location_type can be 'City' or 'County'\n",
    "\n",
    "def location_sum(location_type, location):\n",
    "    # Filters the data to the specified city\n",
    "    location_filtered = mixbev.where(lambda row: row[location_type].upper() == location)\n",
    "\n",
    "    # groups the data based on Establishment and location\n",
    "    location_grouped = location_filtered.group_by('Establishment').group_by(location_type)\n",
    "    # computes the sales based on the grouping\n",
    "    location_summary = location_grouped.aggregate([\n",
    "        ('Receipts_sum', agate.Sum('Receipts'))\n",
    "    ])\n",
    "    \n",
    "    # sorts the results by most sold\n",
    "    location_summary_sorted = location_summary.order_by('Receipts_sum', reverse=True)\n",
    "    # prints the top 10 results\n",
    "    \n",
    "    return(location_summary_sorted)"
   ]
  },
  {
   "cell_type": "code",
   "execution_count": 10,
   "metadata": {
    "collapsed": false,
    "deletable": true,
    "editable": true
   },
   "outputs": [
    {
     "name": "stdout",
     "output_type": "stream",
     "text": [
      "| Report date |\n",
      "| ----------- |\n",
      "|  2017-10-31 |\n",
      "\n",
      "Number of records in table: 14753\n"
     ]
    }
   ],
   "source": [
    "# double-checking I'm looking at one report data\n",
    "mixbev_dates = mixbev.select('Report date').distinct('Report date')\n",
    "mixbev_dates.print_table()\n",
    "print('\\nNumber of records in table: {}'.format(\n",
    "        len(mixbev))\n",
    "     )"
   ]
  },
  {
   "cell_type": "markdown",
   "metadata": {
    "deletable": true,
    "editable": true
   },
   "source": [
    "## Top sales statewide\n",
    "\n",
    "Because we want to group our results by more than one field and perform more than one aggregation, we'll do this a little differently. We'll use group_by to create a grouped table, then perform aggregations on that new table to computer the Tax and Receipts columns."
   ]
  },
  {
   "cell_type": "code",
   "execution_count": 11,
   "metadata": {
    "collapsed": false,
    "deletable": true,
    "editable": true,
    "scrolled": true
   },
   "outputs": [
    {
     "name": "stdout",
     "output_type": "stream",
     "text": [
      "Total statewide sales for this month are: 565676285\n",
      "\n",
      "| Establishment                            | County  | City        | Sales_sum |\n",
      "| ---------------------------------------- | ------- | ----------- | --------- |\n",
      "| RYAN SANDERS SPORTS SERVICES, LLC (92... | Travis  | DEL VALLE   | 2,904,593 |\n",
      "| AT&T STADIUM (1 LEGENDS WAY)             | Tarrant | ARLINGTON   | 2,819,059 |\n",
      "| GAYLORD TEXAN (1501 GAYLORD TRL)         | Tarrant | GRAPEVINE   | 1,807,271 |\n",
      "| ARAMARK SPORTS & ENTERTAINMENT SERVIC... | Harris  | HOUSTON     | 1,617,452 |\n",
      "| SALC, INC. (2201 N STEMMONS FWY FL 1)    | Dallas  | DALLAS      | 1,555,285 |\n",
      "| HOSPITALITY INTERNATIONAL, INC. (2380... | Bexar   | SAN ANTONIO | 1,347,636 |\n",
      "| ARAMARK SPORTS & ENTERTAINMENT SER OF... | Harris  | HOUSTON     | 1,210,323 |\n",
      "| OMNI DALLAS CONVENTION CENTER (555 S ... | Dallas  | DALLAS      | 1,207,948 |\n",
      "| LEVY RESTAURANTS (2500 VICTORY AVE)      | Dallas  | DALLAS      | 1,194,981 |\n",
      "| WLS BEVERAGE CO (110 E 2ND ST)           | Travis  | AUSTIN      | 1,178,366 |\n"
     ]
    }
   ],
   "source": [
    "# summing sales statewide for month\n",
    "\n",
    "print('Total statewide sales for this month are: {}\\n'.format(\n",
    "    mixbev.aggregate(agate.Sum('Receipts')) # <<< I should format better\n",
    "))\n",
    "\n",
    "# groups the data based on Establishment and City\n",
    "mixbev_grouped = mixbev.group_by('Establishment').group_by('County').group_by('City')\n",
    "\n",
    "# computes the sales based on the grouping\n",
    "state_summary = mixbev_grouped.aggregate([\n",
    "    ('Sales_sum', agate.Sum('Receipts'))\n",
    "])\n",
    "\n",
    "# sorts the results by most sold. We could probalby chain it above if we wanted to.\n",
    "state_summary_sorted = state_summary.order_by('Sales_sum', reverse=True)\n",
    "\n",
    "# prints the top 10 results\n",
    "state_summary_sorted.limit(10).print_table(max_column_width=40)\n"
   ]
  },
  {
   "cell_type": "markdown",
   "metadata": {
    "deletable": true,
    "editable": true
   },
   "source": [
    "## Austin sales and sums\n",
    "\n",
    "With this, we refernce the location_sum function above, and pass the type of location (City) and the name of the city (AUSTIN). At the same time, we limit the result of that function to the first 10 records, and then print the results. We are basically stringing together a bunch of stuff at once."
   ]
  },
  {
   "cell_type": "code",
   "execution_count": 35,
   "metadata": {
    "collapsed": false,
    "deletable": true,
    "editable": true
   },
   "outputs": [
    {
     "name": "stdout",
     "output_type": "stream",
     "text": [
      "Total sales in Austin are: 64614616\n",
      "\n",
      "Top sellers in Austin are:\n",
      "\n",
      "| Establishment                                                | City   | Receipts_sum |\n",
      "| ------------------------------------------------------------ | ------ | ------------ |\n",
      "| WLS BEVERAGE CO (110 E 2ND ST)                               | AUSTIN |    1,178,366 |\n",
      "| BLIND PIG PUB / PIG PEN (317 E 6TH ST)                       | AUSTIN |      613,631 |\n",
      "| 400 BAR/CUCARACHA/CHUPACABRA/JACKALOPE/MOOSENUCKLE (400 E... | AUSTIN |      543,720 |\n",
      "| W HOTEL AUSTIN (200 LAVACA ST)                               | AUSTIN |      471,173 |\n",
      "| ROSE ROOM/ 77 DEGREES (11500 ROCK ROSE AVE)                  | AUSTIN |      464,844 |\n",
      "| SALC. INC.(HILTON HOTEL) (500 E 4TH ST)                      | AUSTIN |      431,178 |\n",
      "| THE PALAZIO (501 E BEN WHITE BLVD)                           | AUSTIN |      430,533 |\n",
      "| STUBB'S BAR-B-Q (801 RED RIVER ST)                           | AUSTIN |      402,490 |\n",
      "| THE DOGWOOD DOMAIN (11420 ROCK ROSE AVE STE 700)             | AUSTIN |      401,258 |\n",
      "| CULINARY DROPOUT (11721 ROCK ROSE AVE STE Y4.100)            | AUSTIN |      373,495 |\n",
      "| FARACE BEVERAGES, LLC (310 WILLIE NELSON BLVD)               | AUSTIN |      367,267 |\n",
      "| CONTAINER BAR (90 RAINEY ST)                                 | AUSTIN |      350,965 |\n",
      "| SAN JACINTO BEVERAGE COMPANY LLC (98 SAN JACINTO BLVD)       | AUSTIN |      338,347 |\n",
      "| BARTON CREEK COUNTRY CLUB (8212 BARTON CLUB DR)              | AUSTIN |      331,786 |\n",
      "| TOP GOLF (2700 ESPERANZA XING)                               | AUSTIN |      326,404 |\n",
      "| DH BEVERAGE LLC (604 BRAZOS ST)                              | AUSTIN |      325,231 |\n",
      "| KUNG FU SALOON (11501 ROCK ROSE AVE STE 140)                 | AUSTIN |      320,804 |\n",
      "| GREEN LIGHT SOCIAL (720 W 6TH ST)                            | AUSTIN |      318,074 |\n",
      "| EDDIE V'S PRIME SEAFOOD (301 E 5TH ST)                       | AUSTIN |      317,835 |\n",
      "| HOTEL VAN ZANDT (605 DAVIS ST)                               | AUSTIN |      315,856 |\n",
      "| FRANK (407 COLORADO ST)                                      | AUSTIN |      304,473 |\n",
      "| MATT'S EL RANCHO, INC. (2613 S LAMAR BLVD)                   | AUSTIN |      302,032 |\n",
      "| KUNG FU SALOON (716 W 6TH ST)                                | AUSTIN |      300,676 |\n",
      "| SOUTH CONGRESS HOTEL (1603 S CONGRESS AVE)                   | AUSTIN |      298,957 |\n",
      "| THE COLISEUM- EL COLISEO (9111 FM 812)                       | AUSTIN |      296,035 |\n",
      "| ALAMO DRAFTHOUSE CINEMA (1120 S LAMAR BLVD)                  | AUSTIN |      295,150 |\n",
      "| OJOS LOCOS SPORTS CANTINA (7522 N INTERSTATE 35 STE B)       | AUSTIN |      293,798 |\n",
      "| THE DOGWOOD (715 W 6TH ST)                                   | AUSTIN |      287,541 |\n",
      "| OASIS CANTINA DEL LAGO (6550 COMANCHE TRL)                   | AUSTIN |      283,455 |\n",
      "| PREMIER HOSPITALITY, INC. (1701 RED RIVER ST)                | AUSTIN |      283,366 |\n",
      "| PERFECT 10 MENS CLUB (16511 BRATTON LN)                      | AUSTIN |      280,855 |\n",
      "| THE UNIVERSITY OF TEXAS CLUB (2108 ROBERT DEDMAN DR)         | AUSTIN |      276,086 |\n",
      "| AUSTIN'S MOON TOWER SALOON INC. (10212 MANCHACA RD)          | AUSTIN |      271,572 |\n",
      "| EMOS EAST (2015 E RIVERSIDE DR STE 10)                       | AUSTIN |      268,153 |\n",
      "| PERRY'S STEAKHOUSE & GRILLE (114 W 7TH ST STE 110)           | AUSTIN |      263,971 |\n",
      "| UNBARLIEVABLE (76 RAINEY ST)                                 | AUSTIN |      261,823 |\n",
      "| SHAKESPEARE'S (314 E 6TH ST)                                 | AUSTIN |      261,747 |\n",
      "| THE RANCH (710A W 6TH ST)                                    | AUSTIN |      259,470 |\n",
      "| PERLA'S SEAFOOD & OYSTER BAR (1400 S CONGRESS AVE STE B100)  | AUSTIN |      258,706 |\n",
      "| THE YELLOW ROSE (6528 N LAMAR BLVD)                          | AUSTIN |      257,226 |\n",
      "| WLS BEVERAGE COMPANY (109 E 7TH ST)                          | AUSTIN |      250,232 |\n",
      "| LUSTRE PEARL (94 RAINEY ST)                                  | AUSTIN |      243,695 |\n",
      "| MOONSHINE PATIO BAR & GRILL (303 RED RIVER ST)               | AUSTIN |      242,366 |\n",
      "| PETES DUELING PIANO BAR (421 E 6TH ST)                       | AUSTIN |      238,960 |\n",
      "| GUERO'S RESTAURANT (1412 S CONGRESS AVE)                     | AUSTIN |      228,196 |\n",
      "| BARBARELLA (615 RED RIVER ST)                                | AUSTIN |      225,191 |\n",
      "| BUNGALOW (92 RAINEY ST)                                      | AUSTIN |      223,619 |\n",
      "| RED ASH (303 COLORADO ST STE 200)                            | AUSTIN |      223,565 |\n",
      "| YARD HOUSE USA, INC. (11800 DOMAIN DR STE 100)               | AUSTIN |      223,277 |\n",
      "| SUMMIT (120 W 5TH ST)                                        | AUSTIN |      222,690 |\n"
     ]
    }
   ],
   "source": [
    "# Austin total sales as s city\n",
    "# This sums the grouped table, but it works\n",
    "\n",
    "print('Total sales in Austin are: {}\\n'.format(\n",
    "    location_sum('City', 'AUSTIN').aggregate(agate.Sum('Receipts_sum'))\n",
    "))\n",
    "\n",
    "# uses the city_sum function to filter\n",
    "austin = location_sum('City', 'AUSTIN')\n",
    "\n",
    "\n",
    "# print the resulting table\n",
    "print('Top sellers in Austin are:\\n')\n",
    "austin.limit(50).print_table(max_column_width=60, max_rows=None)"
   ]
  },
  {
   "cell_type": "markdown",
   "metadata": {
    "deletable": true,
    "editable": true
   },
   "source": [
    "## More Central Texas cities"
   ]
  },
  {
   "cell_type": "code",
   "execution_count": 13,
   "metadata": {
    "collapsed": false,
    "deletable": true,
    "editable": true
   },
   "outputs": [
    {
     "name": "stdout",
     "output_type": "stream",
     "text": [
      "| Establishment                                                | City    | Receipts_sum |\n",
      "| ------------------------------------------------------------ | ------- | ------------ |\n",
      "| OLD TOWN RESTURANT AND BAR/PINEY CREEK CHOP HOUSE (931 MA... | BASTROP |       68,015 |\n",
      "| CHILI'S GRILL & BAR (734 HIGHWAY 71 W)                       | BASTROP |       51,414 |\n",
      "| NEIGHBOR'S (601 CHESTNUT ST UNIT C)                          | BASTROP |       39,112 |\n",
      "| BACK 9 (834 HIGHWAY 71 W)                                    | BASTROP |       35,749 |\n",
      "| THE 602 ON MAIN (919 MAIN ST)                                | BASTROP |       27,938 |\n"
     ]
    }
   ],
   "source": [
    "location_sum('City', 'BASTROP').limit(5).print_table(max_column_width=60)"
   ]
  },
  {
   "cell_type": "code",
   "execution_count": 14,
   "metadata": {
    "collapsed": false,
    "deletable": true,
    "editable": true
   },
   "outputs": [
    {
     "name": "stdout",
     "output_type": "stream",
     "text": [
      "| Establishment                                         | City     | Receipts_sum |\n",
      "| ----------------------------------------------------- | -------- | ------------ |\n",
      "| WOODY TAVERN AND GRILL, INC. (12801 SHOPS PKWY # 100) | BEE CAVE |      119,842 |\n",
      "| HCG BEVERAGE, LLC (12525 BEE CAVE PKWY)               | BEE CAVE |       89,746 |\n",
      "| MAUDIE'S HILL COUNTRY, LLC (12506 SHOPS PKWY)         | BEE CAVE |       80,255 |\n"
     ]
    }
   ],
   "source": [
    "location_sum('City', 'BEE CAVE').limit(3).print_table(max_column_width=60)"
   ]
  },
  {
   "cell_type": "code",
   "execution_count": 15,
   "metadata": {
    "collapsed": false,
    "deletable": true,
    "editable": true
   },
   "outputs": [
    {
     "name": "stdout",
     "output_type": "stream",
     "text": [
      "| Establishment                                               | City | Receipts_sum |\n",
      "| ----------------------------------------------------------- | ---- | ------------ |\n",
      "| WILLIE'S JOINT (824 MAIN ST)                                | BUDA |       92,781 |\n",
      "| BUCKS BACKYARD (1750 S FM 1626)                             | BUDA |       55,582 |\n",
      "| NATE'S AT BUDA MILL AND GRAIN, INC. (306 S MAIN ST STE 101) | BUDA |       52,176 |\n"
     ]
    }
   ],
   "source": [
    "location_sum('City', 'BUDA').limit(3).print_table(max_column_width=60)"
   ]
  },
  {
   "cell_type": "code",
   "execution_count": 16,
   "metadata": {
    "collapsed": false,
    "deletable": true,
    "editable": true
   },
   "outputs": [
    {
     "name": "stdout",
     "output_type": "stream",
     "text": [
      "| Establishment                                                | City      | Receipts_sum |\n",
      "| ------------------------------------------------------------ | --------- | ------------ |\n",
      "| RYAN SANDERS SPORTS SERVICES, LLC (9201 CIRCUIT OF THE AM... | DEL VALLE |    2,904,593 |\n",
      "| CLUB MIS AMIGOS (13820 FM 812)                               | DEL VALLE |        9,498 |\n",
      "| RESTAURANTES JASMINES (2463 HIGWAY 71 E)                     | DEL VALLE |        4,527 |\n"
     ]
    }
   ],
   "source": [
    "location_sum('City', 'DEL VALLE').limit(3).print_table(max_column_width=60)"
   ]
  },
  {
   "cell_type": "code",
   "execution_count": 17,
   "metadata": {
    "collapsed": false,
    "deletable": true,
    "editable": true
   },
   "outputs": [
    {
     "name": "stdout",
     "output_type": "stream",
     "text": [
      "| Establishment                                                | City       | Receipts_sum |\n",
      "| ------------------------------------------------------------ | ---------- | ------------ |\n",
      "| THE GROVE WINE BAR AND KITCHEN (1310 E WHITESTONE BLVD # ... | CEDAR PARK |      146,565 |\n",
      "| CHUY'S (4911 183A TOLL RD)                                   | CEDAR PARK |      111,575 |\n",
      "| PLUCKERS WING BAR (11066 PECAN PARK BLVD STE G)              | CEDAR PARK |      100,934 |\n"
     ]
    }
   ],
   "source": [
    "location_sum('City', 'CEDAR PARK').limit(3).print_table(max_column_width=60)"
   ]
  },
  {
   "cell_type": "code",
   "execution_count": 18,
   "metadata": {
    "collapsed": false,
    "deletable": true,
    "editable": true
   },
   "outputs": [
    {
     "name": "stdout",
     "output_type": "stream",
     "text": [
      "| Establishment                                             | City             | Receipts_sum |\n",
      "| --------------------------------------------------------- | ---------------- | ------------ |\n",
      "| TREATY OAK BREWING AND DISTILLING CO. (16604 FITZHUGH RD) | DRIPPING SPRINGS |       67,637 |\n",
      "| TRUDY'S FOUR STAR (13059 FOUR STAR BLVD)                  | DRIPPING SPRINGS |       65,010 |\n",
      "| FLORES MEXICAN RESTAURANT (2440 E HIGHWAY 290 BLDG D)     | DRIPPING SPRINGS |       57,566 |\n"
     ]
    }
   ],
   "source": [
    "location_sum('City', 'DRIPPING SPRINGS').limit(3).print_table(max_column_width=60)"
   ]
  },
  {
   "cell_type": "code",
   "execution_count": 19,
   "metadata": {
    "collapsed": false,
    "deletable": true,
    "editable": true
   },
   "outputs": [
    {
     "name": "stdout",
     "output_type": "stream",
     "text": [
      "| Establishment                              | City       | Receipts_sum |\n",
      "| ------------------------------------------ | ---------- | ------------ |\n",
      "| EL MONUMENTO (205 W 2ND ST)                | GEORGETOWN |       82,834 |\n",
      "| GATEWAY BEVERAGES, INC (1101 WOODLAWN AVE) | GEORGETOWN |       73,446 |\n",
      "| DOS SALSAS CAFE INC (1104 S MAIN ST)       | GEORGETOWN |       66,860 |\n"
     ]
    }
   ],
   "source": [
    "location_sum('City', 'GEORGETOWN').limit(3).print_table(max_column_width=60)"
   ]
  },
  {
   "cell_type": "code",
   "execution_count": 20,
   "metadata": {
    "collapsed": false,
    "deletable": true,
    "editable": true
   },
   "outputs": [
    {
     "name": "stdout",
     "output_type": "stream",
     "text": [
      "| Establishment                                           | City | Receipts_sum |\n",
      "| ------------------------------------------------------- | ---- | ------------ |\n",
      "| CASA GARCIA'S MEXICAN RESTAURANT (5401 FM 1626 STE 300) | KYLE |       68,336 |\n",
      "| CENTERFIELD SPORTS BAR & GRILL (200 W CENTER ST)        | KYLE |       41,290 |\n",
      "| EVO ENTERTAINMENT CENTER (3200 KYLE XING)               | KYLE |       38,776 |\n"
     ]
    }
   ],
   "source": [
    "location_sum('City', 'KYLE').limit(3).print_table(max_column_width=60)"
   ]
  },
  {
   "cell_type": "code",
   "execution_count": 21,
   "metadata": {
    "collapsed": false,
    "deletable": true,
    "editable": true
   },
   "outputs": [
    {
     "name": "stdout",
     "output_type": "stream",
     "text": [
      "| Establishment                                         | City       | Receipts_sum |\n",
      "| ----------------------------------------------------- | ---------- | ------------ |\n",
      "| THE GNARLY GAR (18200 LAKEPOINT CV)                   | LAGO VISTA |       45,615 |\n",
      "| THE GRILLE AT HIGHLAND LAKES (20552 HIGHLAND LAKE DR) | LAGO VISTA |       18,417 |\n",
      "| COPPERHEAD GRILL (6115 LOHMANS FORD RD)               | LAGO VISTA |       18,136 |\n"
     ]
    }
   ],
   "source": [
    "location_sum('City', 'LAGO VISTA').limit(3).print_table(max_column_width=60)"
   ]
  },
  {
   "cell_type": "code",
   "execution_count": 22,
   "metadata": {
    "collapsed": false,
    "deletable": true,
    "editable": true
   },
   "outputs": [
    {
     "name": "stdout",
     "output_type": "stream",
     "text": [
      "| Establishment                                          | City    | Receipts_sum |\n",
      "| ------------------------------------------------------ | ------- | ------------ |\n",
      "| LAKEWAY RESORT AND SPA (101 LAKEWAY DR)                | LAKEWAY |      122,046 |\n",
      "| THE GROVE WINE BAR AND KITCHEN (3001 RANCH ROAD 620 S) | LAKEWAY |      114,445 |\n",
      "| THE HILLS AT LAKEWAY (26 CLUB ESTATES PKWY)            | LAKEWAY |      105,234 |\n"
     ]
    }
   ],
   "source": [
    "location_sum('City', 'LAKEWAY').limit(3).print_table(max_column_width=60)"
   ]
  },
  {
   "cell_type": "code",
   "execution_count": 23,
   "metadata": {
    "collapsed": false,
    "deletable": true,
    "editable": true
   },
   "outputs": [
    {
     "name": "stdout",
     "output_type": "stream",
     "text": [
      "| Establishment                                          | City    | Receipts_sum |\n",
      "| ------------------------------------------------------ | ------- | ------------ |\n",
      "| BROOKLYN HEIGHTS PIZZERIA (3550 LAKELINE BLVD STE 135) | LEANDER |       66,322 |\n",
      "| JARDIN DEL REY (703 S HIGHWAY 183)                     | LEANDER |       37,707 |\n",
      "| TAPATIA JALISCO #3 LLC (651 N US 183)                  | LEANDER |       12,443 |\n"
     ]
    }
   ],
   "source": [
    "location_sum('City', 'LEANDER').limit(3).print_table(max_column_width=60)"
   ]
  },
  {
   "cell_type": "code",
   "execution_count": 24,
   "metadata": {
    "collapsed": false,
    "deletable": true,
    "editable": true
   },
   "outputs": [
    {
     "name": "stdout",
     "output_type": "stream",
     "text": [
      "| Establishment                                        | City         | Receipts_sum |\n",
      "| ---------------------------------------------------- | ------------ | ------------ |\n",
      "| JARDIN CORONA (15395 W STATE HIGHWAY 29)             | LIBERTY HILL |       39,688 |\n",
      "| MARGARITA'S RESTAURANT (10280 W STATE HIGHWAY 29)    | LIBERTY HILL |       34,860 |\n",
      "| ELENAS MEXICAN RESTAURANT (14801 W STATE HIGHWAY 29) | LIBERTY HILL |        6,084 |\n"
     ]
    }
   ],
   "source": [
    "location_sum('City', 'LIBERTY HILL').limit(3).print_table(max_column_width=60)"
   ]
  },
  {
   "cell_type": "code",
   "execution_count": 25,
   "metadata": {
    "collapsed": false,
    "deletable": true,
    "editable": true
   },
   "outputs": [
    {
     "name": "stdout",
     "output_type": "stream",
     "text": [
      "| Establishment                                  | City         | Receipts_sum |\n",
      "| ---------------------------------------------- | ------------ | ------------ |\n",
      "| MAVERICKS (1700 GRAND AVENUE PKWY STE 240)     | PFLUGERVILLE |      118,474 |\n",
      "| HANOVER'S DRAUGHT HAUS (108 E MAIN ST)         | PFLUGERVILLE |       72,874 |\n",
      "| RIO GRANDE TEX MEX (15821 CENTRAL COMMERCE DR) | PFLUGERVILLE |       54,604 |\n"
     ]
    }
   ],
   "source": [
    "location_sum('City', 'PFLUGERVILLE').limit(3).print_table(max_column_width=60)"
   ]
  },
  {
   "cell_type": "code",
   "execution_count": 26,
   "metadata": {
    "collapsed": false,
    "deletable": true,
    "editable": true
   },
   "outputs": [
    {
     "name": "stdout",
     "output_type": "stream",
     "text": [
      "| Establishment                                             | City       | Receipts_sum |\n",
      "| --------------------------------------------------------- | ---------- | ------------ |\n",
      "| THIRD BASE ROUND ROCK, LLC (3107 S INTERSTATE 35 STE 810) | ROUND ROCK |      154,984 |\n",
      "| TWIN PEAKS RESTAURANT (100 LOUIS HENNA BLVD)              | ROUND ROCK |      149,813 |\n",
      "| RICK'S CABARET (3105 S INTERSTATE 35)                     | ROUND ROCK |      138,443 |\n",
      "| JACK ALLEN'S KITCHEN (2500 HOPPE TRL)                     | ROUND ROCK |      131,938 |\n",
      "| PLUCKERS WING BAR (300 MAYS XING STE 300)                 | ROUND ROCK |      117,160 |\n"
     ]
    }
   ],
   "source": [
    "location_sum('City', 'ROUND ROCK').limit(5).print_table(max_column_width=60)"
   ]
  },
  {
   "cell_type": "code",
   "execution_count": 27,
   "metadata": {
    "collapsed": false,
    "deletable": true,
    "editable": true
   },
   "outputs": [
    {
     "name": "stdout",
     "output_type": "stream",
     "text": [
      "| Establishment                                              | City       | Receipts_sum |\n",
      "| ---------------------------------------------------------- | ---------- | ------------ |\n",
      "| PLUCKERS WING BAR (105 N INTERSTATE 35)                    | SAN MARCOS |      121,763 |\n",
      "| THE MARC (120 E SAN ANTONIO ST)                            | SAN MARCOS |      120,155 |\n",
      "| ZELICKS (336 W HOPKINS ST)                                 | SAN MARCOS |      110,193 |\n",
      "| 54TH STREET RESTAURANT & DRAFTHOUSE (1303 S INTERSTATE 35) | SAN MARCOS |       92,174 |\n",
      "| CHIMY'S SAN MARCOS (217 E HOPKINS ST)                      | SAN MARCOS |       91,857 |\n"
     ]
    }
   ],
   "source": [
    "location_sum('City', 'SAN MARCOS').limit(5).print_table(max_column_width=60)"
   ]
  },
  {
   "cell_type": "code",
   "execution_count": 28,
   "metadata": {
    "collapsed": false,
    "deletable": true,
    "editable": true
   },
   "outputs": [
    {
     "name": "stdout",
     "output_type": "stream",
     "text": [
      "| Establishment                                        | City      | Receipts_sum |\n",
      "| ---------------------------------------------------- | --------- | ------------ |\n",
      "| ANGEL'S ICEHOUSE (21815 W HWY 71)                    | SPICEWOOD |       58,696 |\n",
      "| POODIES HILLTOP ROADHOUSE (22308 STATE HIGHWAY 71 W) | SPICEWOOD |       44,614 |\n",
      "| J5 STEAKHOUSE (21814 STATE HIGHWAY 71 W)             | SPICEWOOD |       22,367 |\n"
     ]
    }
   ],
   "source": [
    "location_sum('City', 'SPICEWOOD').limit(3).print_table(max_column_width=60)"
   ]
  },
  {
   "cell_type": "code",
   "execution_count": 29,
   "metadata": {
    "collapsed": false,
    "deletable": true,
    "editable": true
   },
   "outputs": [
    {
     "name": "stdout",
     "output_type": "stream",
     "text": [
      "| Establishment                                          | City          | Receipts_sum |\n",
      "| ------------------------------------------------------ | ------------- | ------------ |\n",
      "| DOC'S BACKYARD (5207 BRODIE LN # 100)                  | SUNSET VALLEY |       89,901 |\n",
      "| BJ'S RESTAURANT AND BREWHOUSE (5207 BRODIE LN STE 300) | SUNSET VALLEY |       64,383 |\n",
      "| CANE ROSSO (4715 S LAMAR BLVD STE 103)                 | SUNSET VALLEY |       30,800 |\n"
     ]
    }
   ],
   "source": [
    "location_sum('City', 'SUNSET VALLEY').limit(3).print_table(max_column_width=60)"
   ]
  },
  {
   "cell_type": "code",
   "execution_count": 30,
   "metadata": {
    "collapsed": false,
    "deletable": true,
    "editable": true
   },
   "outputs": [
    {
     "name": "stdout",
     "output_type": "stream",
     "text": [
      "| Establishment                                                | City            | Receipts_sum |\n",
      "| ------------------------------------------------------------ | --------------- | ------------ |\n",
      "| LUPE TORTILLA MEXICAN RESTAURANT (701 S CAPITAL OF TEXAS ... | WEST LAKE HILLS |       90,865 |\n",
      "| CHIPOTLE CHIPOTLE MEXICAN GRILL CHIPOTLE BURRITOS (3300 B... | WEST LAKE HILLS |          743 |\n"
     ]
    }
   ],
   "source": [
    "location_sum('City', 'WEST LAKE HILLS').limit(3).print_table(max_column_width=60)"
   ]
  },
  {
   "cell_type": "markdown",
   "metadata": {
    "deletable": true,
    "editable": true
   },
   "source": [
    "## Sales by county\n",
    "In this case, we pass in the location type of 'County' and then a county name in caps to get the most sales in a particular county."
   ]
  },
  {
   "cell_type": "code",
   "execution_count": 31,
   "metadata": {
    "collapsed": false,
    "deletable": true,
    "editable": true
   },
   "outputs": [
    {
     "name": "stdout",
     "output_type": "stream",
     "text": [
      "| Establishment                                                   | County  | Receipts_sum |\n",
      "| --------------------------------------------------------------- | ------- | ------------ |\n",
      "| LOST PINES BEVERAGE LLC (575 HYATT LOST PINES ROAD)             | Bastrop |      572,969 |\n",
      "| OLD TOWN RESTURANT AND BAR/PINEY CREEK CHOP HOUSE (931 MAIN ST) | Bastrop |       68,015 |\n",
      "| CHILI'S GRILL & BAR (734 HIGHWAY 71 W)                          | Bastrop |       51,414 |\n",
      "| NEIGHBOR'S (601 CHESTNUT ST UNIT C)                             | Bastrop |       39,112 |\n",
      "| BACK 9 (834 HIGHWAY 71 W)                                       | Bastrop |       35,749 |\n",
      "\n",
      "\n",
      "| Establishment                                               | County   | Receipts_sum |\n",
      "| ----------------------------------------------------------- | -------- | ------------ |\n",
      "| EL REY BAR/NIGHTCLUB (1721 S COMMERCE ST)                   | Caldwell |       32,103 |\n",
      "| GUADALAJARA MEXICAN RESTAURANT (1710 S COLORADO ST STE 110) | Caldwell |       15,866 |\n",
      "| THE PEARL (110 N MAIN ST)                                   | Caldwell |       12,249 |\n",
      "| LOCKHART BISTRO (119 E SAN ANTONIO ST)                      | Caldwell |        7,653 |\n",
      "| MR TACO (1132 E PIERCE ST)                                  | Caldwell |        6,125 |\n",
      "\n",
      "\n",
      "| Establishment                           | County | Receipts_sum |\n",
      "| --------------------------------------- | ------ | ------------ |\n",
      "| PLUCKERS WING BAR (105 N INTERSTATE 35) | Hays   |      121,763 |\n",
      "| THE MARC (120 E SAN ANTONIO ST)         | Hays   |      120,155 |\n",
      "| ZELICKS (336 W HOPKINS ST)              | Hays   |      110,193 |\n",
      "| HAYS CITY STORE (8989 FM 150 W)         | Hays   |      101,912 |\n",
      "| TRATTORIA LISINA (13308 FM 150 W)       | Hays   |       94,680 |\n",
      "\n",
      "\n",
      "| Establishment                                                         | County | Receipts_sum |\n",
      "| --------------------------------------------------------------------- | ------ | ------------ |\n",
      "| RYAN SANDERS SPORTS SERVICES, LLC (9201 CIRCUIT OF THE AMERICAS BLVD) | Travis |    2,904,593 |\n",
      "| WLS BEVERAGE CO (110 E 2ND ST)                                        | Travis |    1,178,366 |\n",
      "| BLIND PIG PUB / PIG PEN (317 E 6TH ST)                                | Travis |      613,631 |\n",
      "| 400 BAR/CUCARACHA/CHUPACABRA/JACKALOPE/MOOSENUCKLE (400 E 6TH ST)     | Travis |      543,720 |\n",
      "| W HOTEL AUSTIN (200 LAVACA ST)                                        | Travis |      471,173 |\n",
      "\n",
      "\n",
      "| Establishment                                                 | County     | Receipts_sum |\n",
      "| ------------------------------------------------------------- | ---------- | ------------ |\n",
      "| TWIN PEAKS RESTAURANT (100 LOUIS HENNA BLVD)                  | Williamson |      149,813 |\n",
      "| THE GROVE WINE BAR AND KITCHEN (1310 E WHITESTONE BLVD # 500) | Williamson |      146,565 |\n",
      "| ALAMO DRAFTHOUSE CINEMA (14028 N HIGHWAY 183 BLDG F)          | Williamson |      145,688 |\n",
      "| JACK ALLEN'S KITCHEN (2500 HOPPE TRL)                         | Williamson |      131,938 |\n",
      "| PLUCKERS WING BAR (300 MAYS XING STE 300)                     | Williamson |      117,160 |\n"
     ]
    }
   ],
   "source": [
    "# MOVE TO SEPARATE CELLS SO THEY DON'T FORCE A SCROLL\n",
    "location_sum('County', 'BASTROP').limit(5).print_table(max_column_width=80)\n",
    "print('\\n')\n",
    "location_sum('County', 'CALDWELL').limit(5).print_table(max_column_width=80)\n",
    "print('\\n')\n",
    "location_sum('County', 'HAYS').limit(5).print_table(max_column_width=80)\n",
    "print('\\n')\n",
    "location_sum('County', 'TRAVIS').limit(5).print_table(max_column_width=80)\n",
    "print('\\n')\n",
    "location_sum('County', 'WILLIAMSON').limit(5).print_table(max_column_width=80)"
   ]
  },
  {
   "cell_type": "markdown",
   "metadata": {
    "deletable": true,
    "editable": true
   },
   "source": [
    "## Sales by ZIP Code\n",
    "A list of sales by ZIP Code. If anything other than 78701 is at the top, it is news."
   ]
  },
  {
   "cell_type": "code",
   "execution_count": 32,
   "metadata": {
    "collapsed": false,
    "deletable": true,
    "editable": true
   },
   "outputs": [
    {
     "name": "stdout",
     "output_type": "stream",
     "text": [
      "| Zip   |        Sum |\n",
      "| ----- | ---------- |\n",
      "| 78701 | 25,753,187 |\n",
      "| 75201 | 12,633,478 |\n",
      "| 77002 | 11,679,653 |\n",
      "| 78205 | 10,630,278 |\n",
      "| 77006 |  7,490,768 |\n"
     ]
    }
   ],
   "source": [
    "# top zip code gross receipts\n",
    "zip_receipts = mixbev.pivot('Zip', aggregation=agate.Sum('Receipts')).order_by('Sum', reverse=True)\n",
    "zip_receipts.limit(5).print_table()"
   ]
  },
  {
   "cell_type": "code",
   "execution_count": null,
   "metadata": {
    "collapsed": true,
    "deletable": true,
    "editable": true
   },
   "outputs": [],
   "source": []
  }
 ],
 "metadata": {
  "kernelspec": {
   "display_name": "Python 3",
   "language": "python",
   "name": "python3"
  },
  "language_info": {
   "codemirror_mode": {
    "name": "ipython",
    "version": 3
   },
   "file_extension": ".py",
   "mimetype": "text/x-python",
   "name": "python",
   "nbconvert_exporter": "python",
   "pygments_lexer": "ipython3",
   "version": "3.6.1"
  }
 },
 "nbformat": 4,
 "nbformat_minor": 2
}
