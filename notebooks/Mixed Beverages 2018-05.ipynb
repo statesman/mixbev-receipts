{
 "cells": [
  {
   "cell_type": "markdown",
   "metadata": {},
   "source": [
    "# Processing mixed beverage data\n",
    "\n",
    "## Single-month sales report\n",
    "\n",
    "This Jupyter Notebook uses data.texas.gov [Mixed Beverage Gross Receipts data](https://data.texas.gov/Government-and-Taxes/Mixed-Beverage-Gross-Receipts/naix-2893), and then a python library called [agate](http://agate.readthedocs.io/) to clean and process that data for [stories similar to this one](http://www.mystatesman.com/business/austin-alcohol-sales-percent-february/Oo2txZUkuDlqBl0rU9O1lJ/) on monthly alcohol sales.\n",
    "\n",
    "There are two places where **last day of the month** has to be entered into the script, in YYYY-MM-DD format:\n",
    "- `download_date` in the \"Download\" section\n",
    "- `date_studied` in the \"Setting up\" section\n",
    "\n",
    "For May 2018, use:\n",
    "\n",
    "`2018-05-31`\n",
    "\n",
    "Last run on: 2018-08-07"
   ]
  },
  {
   "cell_type": "markdown",
   "metadata": {},
   "source": [
    "## Download\n",
    "\n",
    "We're using the bash curl command to download our file from Socrata.\n",
    "\n",
    "### Set download date\n",
    "\n",
    "Make sure to set the `download_date` below to the last day of the month studied."
   ]
  },
  {
   "cell_type": "code",
   "execution_count": 1,
   "metadata": {
    "collapsed": false
   },
   "outputs": [
    {
     "name": "stdout",
     "output_type": "stream",
     "text": [
      "https://data.texas.gov/resource/fp9t-htqh.json?$limit=20000&$where=obligation_end_date_yyyymmdd%20=%20%272018-05-31%27\n"
     ]
    },
    {
     "name": "stderr",
     "output_type": "stream",
     "text": [
      "  % Total    % Received % Xferd  Average Speed   Time    Time     Time  Current\n",
      "                                 Dload  Upload   Total   Spent    Left  Speed\n",
      "100 11.3M    0 11.3M    0     0   838k      0 --:--:--  0:00:13 --:--:-- 1086k\n"
     ]
    }
   ],
   "source": [
    "%%bash\n",
    "download_date='2018-05-31'\n",
    "\n",
    "socrata_data='https://data.texas.gov/resource/fp9t-htqh.json?'\n",
    "socrata_limit='$limit=20000'\n",
    "socrata_date='&$where=obligation_end_date_yyyymmdd%20=%20%27'$download_date'%27'\n",
    "socrata_path=$socrata_data$socrata_limit$socrata_date\n",
    "\n",
    "echo $socrata_path\n",
    "\n",
    "curl -L -o ../mixbev-files/Mixed_Beverage_Gross_Receipts_$download_date.json \\\n",
    "$socrata_path"
   ]
  },
  {
   "cell_type": "markdown",
   "metadata": {},
   "source": [
    "## Set date_studied\n",
    "\n",
    "It is imporant to change `date_studied` to the last day of the month studied:"
   ]
  },
  {
   "cell_type": "code",
   "execution_count": 2,
   "metadata": {
    "collapsed": true
   },
   "outputs": [],
   "source": [
    "# this should be the same as the download_date above.\n",
    "date_studied = '2018-05-31'"
   ]
  },
  {
   "cell_type": "markdown",
   "metadata": {},
   "source": [
    "## Set up python\n",
    "\n",
    "We'll import the python libraries we need, and then set the date_studied, which is important to find the right file."
   ]
  },
  {
   "cell_type": "code",
   "execution_count": 3,
   "metadata": {
    "collapsed": true
   },
   "outputs": [],
   "source": [
    "# import libraries\n",
    "import agate\n",
    "# this surpresses the timezone warning\n",
    "# Might comment out during development so other warnings\n",
    "# are not surpressed\n",
    "import warnings\n",
    "warnings.filterwarnings('ignore')"
   ]
  },
  {
   "cell_type": "markdown",
   "metadata": {},
   "source": [
    "## Import the file\n",
    "\n",
    "We set the path name based on `date_studied` above. We import the raw data, forcing some data types."
   ]
  },
  {
   "cell_type": "code",
   "execution_count": 4,
   "metadata": {
    "collapsed": true
   },
   "outputs": [],
   "source": [
    "# This is the source file, which should be donwloaded\n",
    "file_path = '../mixbev-files/Mixed_Beverage_Gross_Receipts_' + date_studied + '.json'\n",
    "\n",
    "# Setting up to force column types for some columns\n",
    "specified_types = {\n",
    "    'cover_charge_receipts': agate.Number(),\n",
    "    'taxpayer_number': agate.Text(),\n",
    "    'taxpayer_zip': agate.Text(),\n",
    "    'taxpayer_county': agate.Text(),\n",
    "    'location_number': agate.Text(),\n",
    "    'location_address': agate.Text(),\n",
    "    'location_zip': agate.Text(),\n",
    "    'location_county': agate.Text(),\n",
    "}\n",
    "\n",
    "# this imports the file specified above, along with the proper types\n",
    "mixbev_raw = agate.Table.from_json(file_path, column_types=specified_types)\n",
    "\n",
    "# Uncomment below to peek at column names\n",
    "# print(mixbev_raw)"
   ]
  },
  {
   "cell_type": "markdown",
   "metadata": {},
   "source": [
    "## Cleaning bad columns\n",
    "\n",
    "There is a problem with the Comptroller data where two columns are incorrectly labeled. They are NOT used in the analysis, but we'll fix them anyway. It could be that the Comptroller will fix these in the future."
   ]
  },
  {
   "cell_type": "code",
   "execution_count": 5,
   "metadata": {
    "collapsed": true
   },
   "outputs": [],
   "source": [
    "# renames two columns that are labelled incorrectly from original data\n",
    "mixbev_fixed = mixbev_raw.rename(column_names = {\n",
    "        'tabc_permit_number': 'inside_outside_city_limits_code',\n",
    "        'inside_outside_city_limits_code_y_n': 'tabc_permit',\n",
    "    }\n",
    ")\n",
    "\n",
    "# Uncomment below to see changed columns\n",
    "# print(mixbev_fixed)"
   ]
  },
  {
   "cell_type": "code",
   "execution_count": 6,
   "metadata": {
    "collapsed": true
   },
   "outputs": [],
   "source": [
    "# establish our table of record\n",
    "mixbev = mixbev_fixed"
   ]
  },
  {
   "cell_type": "markdown",
   "metadata": {},
   "source": [
    "## Create establishment column\n",
    "\n",
    "We do this so we make sure we have single establishments instead of grouping trade names together from different addresses, like 'CHILI'S BAR & GRILL'."
   ]
  },
  {
   "cell_type": "code",
   "execution_count": 7,
   "metadata": {
    "collapsed": true
   },
   "outputs": [],
   "source": [
    "# Concatenates the name and address\n",
    "mixbev_establishment = mixbev.compute([\n",
    "    ('Establishment', agate.Formula(agate.Text(), lambda row: '%(location_name)s (%(location_address)s)' % row))\n",
    "])\n",
    "\n",
    "# Uncomment line below to print Establishment to check what is looks like\n",
    "# mixbev_establishment.select('Establishment').limit(5).print_table(max_column_width=80)"
   ]
  },
  {
   "cell_type": "code",
   "execution_count": 8,
   "metadata": {
    "collapsed": true
   },
   "outputs": [],
   "source": [
    "# Uncomment below to see column names\n",
    "# print(mixbev_establishment)"
   ]
  },
  {
   "cell_type": "markdown",
   "metadata": {},
   "source": [
    "## Import and merge counties lookup table\n",
    "\n",
    "We do this to get county names. I got this list from the comptroller.\n",
    "\n",
    "NOTE: Wisdom would suggest we join on the code column from counites, but the data.texas.gov data does not have the zero padding from those values, so I'm using the id column."
   ]
  },
  {
   "cell_type": "code",
   "execution_count": 9,
   "metadata": {
    "collapsed": true
   },
   "outputs": [],
   "source": [
    "# importing countes.csv, ensuring that the 'code' column is text\n",
    "counties = agate.Table.from_csv('../resource-files/counties.csv', column_types={\n",
    "    'code': agate.Text(),\n",
    "    'id': agate.Text()\n",
    "})\n",
    "\n",
    "# uncomment below to peek at the column names and an example\n",
    "# print(counties)\n",
    "# counties.limit(5).print_table()\n",
    "\n",
    "# joines the counties table to the mixed bev cleaned data with establishments\n",
    "mixbev_joined = mixbev_establishment.join(counties, 'location_county', 'id')\n",
    "\n",
    "# uncomment below to see merged column names \n",
    "# print(mixbev_joined)"
   ]
  },
  {
   "cell_type": "code",
   "execution_count": 10,
   "metadata": {
    "collapsed": false
   },
   "outputs": [
    {
     "name": "stdout",
     "output_type": "stream",
     "text": [
      "| column        | data_type |\n",
      "| ------------- | --------- |\n",
      "| Name          | Text      |\n",
      "| Address       | Text      |\n",
      "| Establishment | Text      |\n",
      "| City          | Text      |\n",
      "| State         | Text      |\n",
      "| Zip           | Text      |\n",
      "| County        | Text      |\n",
      "| Receipts      | Number    |\n",
      "| Report date   | DateTime  |\n",
      "\n"
     ]
    }
   ],
   "source": [
    "# get just the columns we need and rename county\n",
    "# THIS is the finished, cleaned mixbev table\n",
    "mixbev = mixbev_joined.select([\n",
    "    'location_name',\n",
    "    'location_address',\n",
    "    'Establishment',\n",
    "    'location_city',\n",
    "    'location_state',\n",
    "    'location_zip',\n",
    "    'county',\n",
    "    'total_receipts',\n",
    "    'obligation_end_date_yyyymmdd'\n",
    "]).rename(column_names = {\n",
    "    'location_name' : 'Name',\n",
    "    'location_address' : 'Address',\n",
    "    'location_city': 'City',\n",
    "    'location_state': 'State',\n",
    "    'location_zip': 'Zip',\n",
    "    'total_receipts' : 'Receipts',\n",
    "    'county': 'County',\n",
    "    'obligation_end_date_yyyymmdd': 'Report date'\n",
    "})\n",
    "\n",
    "# peek at the column names\n",
    "print(mixbev)"
   ]
  },
  {
   "cell_type": "markdown",
   "metadata": {},
   "source": [
    "## Location sums function\n",
    "\n",
    "Because we want to get the top sellers in a bunch of cities and couties, we create a function so we don't have to repeat the code. This function allows us to pass in a city or county name to filter the monthly receipts table and then sum the Tax and Receipts columns. The result can then be acted on to print or aggreggate. It is used later in the file."
   ]
  },
  {
   "cell_type": "code",
   "execution_count": 11,
   "metadata": {
    "collapsed": true
   },
   "outputs": [],
   "source": [
    "# function to group sales by a specific location\n",
    "# City or County passed in should be ALL CAPS\n",
    "# Location_type can be 'City' or 'County'\n",
    "\n",
    "def location_sum(location_type, location):\n",
    "    # Filters the data to the specified city\n",
    "    location_filtered = mixbev.where(lambda row: row[location_type].upper() == location)\n",
    "\n",
    "    # groups the data based on Establishment and location\n",
    "    location_grouped = location_filtered.group_by('Establishment').group_by(location_type)\n",
    "    # computes the sales based on the grouping\n",
    "    location_summary = location_grouped.aggregate([\n",
    "        ('Receipts_sum', agate.Sum('Receipts'))\n",
    "    ])\n",
    "    \n",
    "    # sorts the results by most sold\n",
    "    location_summary_sorted = location_summary.order_by('Receipts_sum', reverse=True)\n",
    "    # prints the top 10 results\n",
    "    \n",
    "    return(location_summary_sorted)"
   ]
  },
  {
   "cell_type": "markdown",
   "metadata": {},
   "source": [
    "## Data checking\n",
    "I make sure I'm looking the correct month, and to make sure the number of records is not hitting my download limit."
   ]
  },
  {
   "cell_type": "code",
   "execution_count": 12,
   "metadata": {
    "collapsed": false
   },
   "outputs": [
    {
     "name": "stdout",
     "output_type": "stream",
     "text": [
      "This report date should equal your date_studied:\n",
      "\n",
      "|         Report date |\n",
      "| ------------------- |\n",
      "| 2018-05-31 00:00:00 |\n",
      "\n",
      "If the number of records below is 20000, increase the download limit.\n",
      "\n",
      "Number of records in table: 16315\n"
     ]
    }
   ],
   "source": [
    "# double-checking I'm looking at one month of data\n",
    "mixbev_dates = mixbev.select('Report date').distinct('Report date')\n",
    "print('This report date should equal your date_studied:\\n')\n",
    "mixbev_dates.print_table()\n",
    "print('\\nIf the number of records below is 20000, increase the download limit.')\n",
    "print('\\nNumber of records in table: {}'.format(\n",
    "        len(mixbev))\n",
    "     )"
   ]
  },
  {
   "cell_type": "markdown",
   "metadata": {},
   "source": [
    "## Top sales statewide\n",
    "\n",
    "Because we want to group our results by more than one field and perform more than one aggregation, we'll do this a little differently. We'll use group_by to create a grouped table, then perform aggregations on that new table to compute the Tax and Receipts columns."
   ]
  },
  {
   "cell_type": "code",
   "execution_count": 13,
   "metadata": {
    "collapsed": false,
    "scrolled": true
   },
   "outputs": [
    {
     "name": "stdout",
     "output_type": "stream",
     "text": [
      "Total statewide sales for this month are: 635196079\n",
      "\n",
      "| Establishment                            | County     | City        | Sales_sum |\n",
      "| ---------------------------------------- | ---------- | ----------- | --------- |\n",
      "| LEVY RESTAURANTS AT TOYOTA CENTER (15... | Harris     | HOUSTON     | 2,405,607 |\n",
      "| ARAMARK SPORTS & ENTERTAINMENT SERVIC... | Harris     | HOUSTON     | 1,871,011 |\n",
      "| AT&T STADIUM (1 LEGENDS WAY)             | Tarrant    | ARLINGTON   | 1,816,569 |\n",
      "| SPECTRUM CATERING (27328 SPECTRUM WAY)   | Montgomery | CONROE      | 1,663,982 |\n",
      "| HOSPITALITY INTERNATIONAL, INC. (2380... | Bexar      | SAN ANTONIO | 1,519,124 |\n",
      "| SALC, INC. (2201 N STEMMONS FWY FL 1)    | Dallas     | DALLAS      | 1,421,042 |\n",
      "| OMNI DALLAS CONVENTION CENTER (555 S ... | Dallas     | DALLAS      | 1,351,090 |\n",
      "| THE POST OAK/MASTRO'S/WILLIE G'S (160... | Harris     | HOUSTON     | 1,349,528 |\n",
      "| GAYLORD TEXAN (1501 GAYLORD TRL)         | Tarrant    | GRAPEVINE   | 1,339,077 |\n",
      "| BOTTLED BLONDE- THE BACK YARD (501 N ... | Dallas     | DALLAS      | 1,221,497 |\n"
     ]
    }
   ],
   "source": [
    "# summing sales statewide for month\n",
    "\n",
    "print('Total statewide sales for this month are: {}\\n'.format(\n",
    "    mixbev.aggregate(agate.Sum('Receipts')) # <<< I should format the number better\n",
    "))\n",
    "\n",
    "# groups the data based on Establishment and City\n",
    "mixbev_grouped = mixbev.group_by('Establishment').group_by('County').group_by('City')\n",
    "\n",
    "# computes the sales based on the grouping\n",
    "state_summary = mixbev_grouped.aggregate([\n",
    "    ('Sales_sum', agate.Sum('Receipts'))\n",
    "])\n",
    "\n",
    "# sorts the results by most sold. We could probalby chain it above if we wanted to.\n",
    "state_summary_sorted = state_summary.order_by('Sales_sum', reverse=True)\n",
    "\n",
    "# prints the top 10 results\n",
    "state_summary_sorted.limit(10).print_table(max_column_width=40)\n"
   ]
  },
  {
   "cell_type": "markdown",
   "metadata": {},
   "source": [
    "## Austin sales and sums\n",
    "\n",
    "With this, we reference the location_sum function above, and pass the type of location (City) and the name of the city (AUSTIN). At the same time, we limit number of recoreds in the return, and then print the results. We are basically stringing together a bunch of stuff at once."
   ]
  },
  {
   "cell_type": "code",
   "execution_count": 14,
   "metadata": {
    "collapsed": false
   },
   "outputs": [
    {
     "name": "stdout",
     "output_type": "stream",
     "text": [
      "Total sales in Austin are: 70723643\n",
      "\n",
      "Top sellers in Austin are:\n",
      "\n",
      "| Establishment                                                | City   | Receipts_sum |\n",
      "| ------------------------------------------------------------ | ------ | ------------ |\n",
      "| WLS BEVERAGE CO (110 E 2ND ST)                               | AUSTIN |    1,209,517 |\n",
      "| FAIRMONT AUSTIN HOTEL (101 RED RIVER ST)                     | AUSTIN |      666,726 |\n",
      "| UNBARLIEVABLE (76 RAINEY ST)                                 | AUSTIN |      537,792 |\n",
      "| ROSE ROOM/ 77 DEGREES (11500 ROCK ROSE AVE)                  | AUSTIN |      510,576 |\n",
      "| CONTAINER BAR (90 RAINEY ST)                                 | AUSTIN |      471,998 |\n",
      "| W HOTEL AUSTIN (200 LAVACA ST)                               | AUSTIN |      468,635 |\n",
      "| TOP GOLF (2700 ESPERANZA XING)                               | AUSTIN |      417,915 |\n",
      "| OASIS CANTINA DEL LAGO (6550 COMANCHE TRL)                   | AUSTIN |      407,515 |\n",
      "| LUSTRE PEARL (94 RAINEY ST)                                  | AUSTIN |      405,420 |\n",
      "| BLIND PIG PUB / PIG PEN (317 E 6TH ST)                       | AUSTIN |      404,186 |\n",
      "| MATT'S EL RANCHO, INC. (2613 S LAMAR BLVD)                   | AUSTIN |      402,553 |\n",
      "| PREMIER HOSPITALITY, INC. (1701 RED RIVER ST)                | AUSTIN |      401,590 |\n",
      "| CHUPACABRA CANTINA / JACKALOPE (404 E 6TH ST)                | AUSTIN |      396,982 |\n",
      "| SAN JACINTO BEVERAGE COMPANY LLC (98 SAN JACINTO BLVD)       | AUSTIN |      390,059 |\n",
      "| THE DOGWOOD DOMAIN (11420 ROCK ROSE AVE STE 700)             | AUSTIN |      377,098 |\n",
      "| THE PALAZIO (501 E BEN WHITE BLVD)                           | AUSTIN |      369,799 |\n",
      "| HOTEL VAN ZANDT (605 DAVIS ST)                               | AUSTIN |      361,239 |\n",
      "| KUNG FU SALOON (11501 ROCK ROSE AVE STE 140)                 | AUSTIN |      358,149 |\n",
      "| SALC. INC.(HILTON HOTEL) (500 E 4TH ST)                      | AUSTIN |      349,389 |\n",
      "| BUNGALOW (92 RAINEY ST)                                      | AUSTIN |      325,298 |\n",
      "| PERFECT 10 MENS CLUB (16511 BRATTON LN)                      | AUSTIN |      322,425 |\n",
      "| ALAMO DRAFTHOUSE CINEMA (1120 S LAMAR BLVD)                  | AUSTIN |      319,534 |\n",
      "| BRAZOS CONCESSIONS CO/SALT LICK JOINT VENTURE (3600 PRESI... | AUSTIN |      317,393 |\n",
      "| DH BEVERAGE LLC (604 BRAZOS ST)                              | AUSTIN |      314,595 |\n",
      "| CULINARY DROPOUT (11721 ROCK ROSE AVE STE Y4.100)            | AUSTIN |      311,461 |\n"
     ]
    }
   ],
   "source": [
    "# Austin total sales as s city\n",
    "# This sums the grouped table, but it works\n",
    "\n",
    "print('Total sales in Austin are: {}\\n'.format(\n",
    "    location_sum('City', 'AUSTIN').aggregate(agate.Sum('Receipts_sum'))\n",
    "))\n",
    "\n",
    "# uses the city_sum function to filter\n",
    "austin = location_sum('City', 'AUSTIN')\n",
    "\n",
    "\n",
    "# print the resulting table\n",
    "print('Top sellers in Austin are:\\n')\n",
    "austin.limit(25).print_table(max_column_width=60, max_rows=None)"
   ]
  },
  {
   "cell_type": "markdown",
   "metadata": {},
   "source": [
    "## More Central Texas cities\n",
    "More of the same for different cities."
   ]
  },
  {
   "cell_type": "code",
   "execution_count": 15,
   "metadata": {
    "collapsed": false
   },
   "outputs": [
    {
     "name": "stdout",
     "output_type": "stream",
     "text": [
      "| Establishment                                                | City    | Receipts_sum |\n",
      "| ------------------------------------------------------------ | ------- | ------------ |\n",
      "| OLD TOWN RESTURANT AND BAR/PINEY CREEK CHOP HOUSE (931 MA... | BASTROP |       72,282 |\n",
      "| CHILI'S GRILL & BAR (734 HIGHWAY 71 W)                       | BASTROP |       48,096 |\n",
      "| BACK 9 (834 HIGHWAY 71 W)                                    | BASTROP |       38,537 |\n",
      "| NEIGHBOR'S (601 CHESTNUT ST UNIT C)                          | BASTROP |       35,791 |\n",
      "| MORELIA MEXICAN GRILL (696 HIGHWAY 71 W STE 304)             | BASTROP |       29,788 |\n"
     ]
    }
   ],
   "source": [
    "location_sum('City', 'BASTROP').limit(5).print_table(max_column_width=60)"
   ]
  },
  {
   "cell_type": "code",
   "execution_count": 16,
   "metadata": {
    "collapsed": false
   },
   "outputs": [
    {
     "name": "stdout",
     "output_type": "stream",
     "text": [
      "| Establishment                                         | City     | Receipts_sum |\n",
      "| ----------------------------------------------------- | -------- | ------------ |\n",
      "| MAUDIE'S HILL COUNTRY, LLC (12506 SHOPS PKWY)         | BEE CAVE |       98,238 |\n",
      "| WOODY TAVERN AND GRILL, INC. (12801 SHOPS PKWY # 100) | BEE CAVE |       91,596 |\n",
      "| THE GINGER MAN (12700 HILL COUNTRY BLVD STE T)        | BEE CAVE |       86,069 |\n"
     ]
    }
   ],
   "source": [
    "location_sum('City', 'BEE CAVE').limit(3).print_table(max_column_width=60)"
   ]
  },
  {
   "cell_type": "code",
   "execution_count": 17,
   "metadata": {
    "collapsed": false
   },
   "outputs": [
    {
     "name": "stdout",
     "output_type": "stream",
     "text": [
      "| Establishment                                               | City | Receipts_sum |\n",
      "| ----------------------------------------------------------- | ---- | ------------ |\n",
      "| BUCKS BACKYARD (1750 S FM 1626)                             | BUDA |       72,445 |\n",
      "| NATE'S AT BUDA MILL AND GRAIN, INC. (306 S MAIN ST STE 101) | BUDA |       69,498 |\n",
      "| WILLIE'S JOINT (824 MAIN ST)                                | BUDA |       59,779 |\n"
     ]
    }
   ],
   "source": [
    "location_sum('City', 'BUDA').limit(3).print_table(max_column_width=60)"
   ]
  },
  {
   "cell_type": "code",
   "execution_count": 18,
   "metadata": {
    "collapsed": false
   },
   "outputs": [
    {
     "name": "stdout",
     "output_type": "stream",
     "text": [
      "| Establishment                                                | City      | Receipts_sum |\n",
      "| ------------------------------------------------------------ | --------- | ------------ |\n",
      "| RYAN SANDERS SPORTS SERVICES, LLC (9201 CIRCUIT OF THE AM... | DEL VALLE |      977,868 |\n",
      "| CLUB MIS AMIGOS (13820 FM 812)                               | DEL VALLE |       11,721 |\n",
      "| RESTAURANTES JASMINES (2463 HIGWAY 71 E)                     | DEL VALLE |        4,444 |\n"
     ]
    }
   ],
   "source": [
    "location_sum('City', 'DEL VALLE').limit(3).print_table(max_column_width=60)"
   ]
  },
  {
   "cell_type": "code",
   "execution_count": 19,
   "metadata": {
    "collapsed": false
   },
   "outputs": [
    {
     "name": "stdout",
     "output_type": "stream",
     "text": [
      "| Establishment                                                | City       | Receipts_sum |\n",
      "| ------------------------------------------------------------ | ---------- | ------------ |\n",
      "| THE GROVE WINE BAR AND KITCHEN (1310 E WHITESTONE BLVD # ... | CEDAR PARK |      141,264 |\n",
      "| CHUY'S (4911 183A TOLL RD)                                   | CEDAR PARK |      138,500 |\n",
      "| LUPE TORTILLA MEXICAN RESTAURANT (4501 183A TOLL RD STE B)   | CEDAR PARK |      128,407 |\n"
     ]
    }
   ],
   "source": [
    "location_sum('City', 'CEDAR PARK').limit(3).print_table(max_column_width=60)"
   ]
  },
  {
   "cell_type": "code",
   "execution_count": 20,
   "metadata": {
    "collapsed": false
   },
   "outputs": [
    {
     "name": "stdout",
     "output_type": "stream",
     "text": [
      "| Establishment                                             | City             | Receipts_sum |\n",
      "| --------------------------------------------------------- | ---------------- | ------------ |\n",
      "| TREATY OAK BREWING AND DISTILLING CO. (16604 FITZHUGH RD) | DRIPPING SPRINGS |      100,849 |\n",
      "| FAMILY BUSINESS BEER COMPANY (19510 HAMILTON POOL RD)     | DRIPPING SPRINGS |       67,608 |\n",
      "| FLORES MEXICAN RESTAURANT (2440 E HIGHWAY 290 BLDG D)     | DRIPPING SPRINGS |       63,882 |\n"
     ]
    }
   ],
   "source": [
    "location_sum('City', 'DRIPPING SPRINGS').limit(3).print_table(max_column_width=60)"
   ]
  },
  {
   "cell_type": "code",
   "execution_count": 21,
   "metadata": {
    "collapsed": false
   },
   "outputs": [
    {
     "name": "stdout",
     "output_type": "stream",
     "text": [
      "| Establishment                              | City       | Receipts_sum |\n",
      "| ------------------------------------------ | ---------- | ------------ |\n",
      "| EL MONUMENTO (205 W 2ND ST)                | GEORGETOWN |      116,978 |\n",
      "| DOS SALSAS CAFE INC (1104 S MAIN ST)       | GEORGETOWN |       75,945 |\n",
      "| GATEWAY BEVERAGES, INC (1101 WOODLAWN AVE) | GEORGETOWN |       72,593 |\n"
     ]
    }
   ],
   "source": [
    "location_sum('City', 'GEORGETOWN').limit(3).print_table(max_column_width=60)"
   ]
  },
  {
   "cell_type": "code",
   "execution_count": 22,
   "metadata": {
    "collapsed": false
   },
   "outputs": [
    {
     "name": "stdout",
     "output_type": "stream",
     "text": [
      "| Establishment                                           | City | Receipts_sum |\n",
      "| ------------------------------------------------------- | ---- | ------------ |\n",
      "| RAILHOUSE (107 E CENTER ST)                             | KYLE |      157,927 |\n",
      "| CASA GARCIA'S MEXICAN RESTAURANT (5401 FM 1626 STE 300) | KYLE |       81,294 |\n",
      "| EVO ENTERTAINMENT CENTER (3200 KYLE XING)               | KYLE |       57,526 |\n"
     ]
    }
   ],
   "source": [
    "location_sum('City', 'KYLE').limit(3).print_table(max_column_width=60)"
   ]
  },
  {
   "cell_type": "code",
   "execution_count": 23,
   "metadata": {
    "collapsed": false
   },
   "outputs": [
    {
     "name": "stdout",
     "output_type": "stream",
     "text": [
      "| Establishment                                         | City       | Receipts_sum |\n",
      "| ----------------------------------------------------- | ---------- | ------------ |\n",
      "| THE GNARLY GAR (18200 LAKEPOINT CV)                   | LAGO VISTA |      103,417 |\n",
      "| COPPERHEAD GRILL (6115 LOHMANS FORD RD)               | LAGO VISTA |       22,271 |\n",
      "| THE GRILLE AT HIGHLAND LAKES (20552 HIGHLAND LAKE DR) | LAGO VISTA |       19,833 |\n"
     ]
    }
   ],
   "source": [
    "location_sum('City', 'LAGO VISTA').limit(3).print_table(max_column_width=60)"
   ]
  },
  {
   "cell_type": "code",
   "execution_count": 24,
   "metadata": {
    "collapsed": false
   },
   "outputs": [
    {
     "name": "stdout",
     "output_type": "stream",
     "text": [
      "| Establishment                                          | City    | Receipts_sum |\n",
      "| ------------------------------------------------------ | ------- | ------------ |\n",
      "| LAKEWAY RESORT AND SPA (101 LAKEWAY DR)                | LAKEWAY |      173,527 |\n",
      "| THE GROVE WINE BAR AND KITCHEN (3001 RANCH ROAD 620 S) | LAKEWAY |      118,767 |\n",
      "| THE HILLS AT LAKEWAY (26 CLUB ESTATES PKWY)            | LAKEWAY |       79,951 |\n"
     ]
    }
   ],
   "source": [
    "location_sum('City', 'LAKEWAY').limit(3).print_table(max_column_width=60)"
   ]
  },
  {
   "cell_type": "code",
   "execution_count": 25,
   "metadata": {
    "collapsed": false
   },
   "outputs": [
    {
     "name": "stdout",
     "output_type": "stream",
     "text": [
      "| Establishment                                          | City    | Receipts_sum |\n",
      "| ------------------------------------------------------ | ------- | ------------ |\n",
      "| BROOKLYN HEIGHTS PIZZERIA (3550 LAKELINE BLVD STE 135) | LEANDER |       53,465 |\n",
      "| JARDIN DEL REY (703 S HIGHWAY 183)                     | LEANDER |       48,050 |\n",
      "| BEACHSIDE BILLY'S (16107 WHARF CV)                     | LEANDER |       28,417 |\n"
     ]
    }
   ],
   "source": [
    "location_sum('City', 'LEANDER').limit(3).print_table(max_column_width=60)"
   ]
  },
  {
   "cell_type": "code",
   "execution_count": 26,
   "metadata": {
    "collapsed": false
   },
   "outputs": [
    {
     "name": "stdout",
     "output_type": "stream",
     "text": [
      "| Establishment                                      | City         | Receipts_sum |\n",
      "| -------------------------------------------------- | ------------ | ------------ |\n",
      "| JARDIN CORONA (15395 W STATE HIGHWAY 29)           | LIBERTY HILL |       50,759 |\n",
      "| MARGARITA'S RESTAURANT (10280 W STATE HIGHWAY 29)  | LIBERTY HILL |       43,035 |\n",
      "| ELENA'S BAR & GRILL LLC (14801 W STATE HIGHWAY 29) | LIBERTY HILL |        6,406 |\n"
     ]
    }
   ],
   "source": [
    "location_sum('City', 'LIBERTY HILL').limit(3).print_table(max_column_width=60)"
   ]
  },
  {
   "cell_type": "code",
   "execution_count": 27,
   "metadata": {
    "collapsed": false
   },
   "outputs": [
    {
     "name": "stdout",
     "output_type": "stream",
     "text": [
      "| Establishment                                   | City         | Receipts_sum |\n",
      "| ----------------------------------------------- | ------------ | ------------ |\n",
      "| MAVERICKS (1700 GRAND AVENUE PKWY STE 240)      | PFLUGERVILLE |      123,957 |\n",
      "| RIO GRANDE TEX MEX (15821 CENTRAL COMMERCE DR)  | PFLUGERVILLE |       74,753 |\n",
      "| LA CUEVA SPORTS BAR (15505 INTERSTATE 35 STE C) | PFLUGERVILLE |       73,929 |\n"
     ]
    }
   ],
   "source": [
    "location_sum('City', 'PFLUGERVILLE').limit(3).print_table(max_column_width=60)"
   ]
  },
  {
   "cell_type": "code",
   "execution_count": 28,
   "metadata": {
    "collapsed": false
   },
   "outputs": [
    {
     "name": "stdout",
     "output_type": "stream",
     "text": [
      "| Establishment                                             | City       | Receipts_sum |\n",
      "| --------------------------------------------------------- | ---------- | ------------ |\n",
      "| JACK ALLEN'S KITCHEN (2500 HOPPE TRL)                     | ROUND ROCK |      149,554 |\n",
      "| TWIN PEAKS RESTAURANT (100 LOUIS HENNA BLVD)              | ROUND ROCK |      141,850 |\n",
      "| CHUY'S ROUND ROCK (2320 N INTERSTATE 35)                  | ROUND ROCK |      139,462 |\n",
      "| LONG BRANCH SALOON (107 W MAIN ST)                        | ROUND ROCK |      124,819 |\n",
      "| THIRD BASE ROUND ROCK, LLC (3107 S INTERSTATE 35 STE 810) | ROUND ROCK |      120,664 |\n"
     ]
    }
   ],
   "source": [
    "location_sum('City', 'ROUND ROCK').limit(5).print_table(max_column_width=60)"
   ]
  },
  {
   "cell_type": "code",
   "execution_count": 29,
   "metadata": {
    "collapsed": false
   },
   "outputs": [
    {
     "name": "stdout",
     "output_type": "stream",
     "text": [
      "| Establishment                                              | City       | Receipts_sum |\n",
      "| ---------------------------------------------------------- | ---------- | ------------ |\n",
      "| MAYLOO'S (138 N LBJ DR)                                    | SAN MARCOS |      132,372 |\n",
      "| THE MARC (120 E SAN ANTONIO ST)                            | SAN MARCOS |      124,598 |\n",
      "| CHIMY'S SAN MARCOS (217 E HOPKINS ST)                      | SAN MARCOS |      124,272 |\n",
      "| ZELICKS (336 W HOPKINS ST)                                 | SAN MARCOS |      120,077 |\n",
      "| 54TH STREET RESTAURANT & DRAFTHOUSE (1303 S INTERSTATE 35) | SAN MARCOS |      108,987 |\n"
     ]
    }
   ],
   "source": [
    "location_sum('City', 'SAN MARCOS').limit(5).print_table(max_column_width=60)"
   ]
  },
  {
   "cell_type": "code",
   "execution_count": 30,
   "metadata": {
    "collapsed": false
   },
   "outputs": [
    {
     "name": "stdout",
     "output_type": "stream",
     "text": [
      "| Establishment                                        | City      | Receipts_sum |\n",
      "| ---------------------------------------------------- | --------- | ------------ |\n",
      "| ANGEL'S ICEHOUSE (21815 W HWY 71)                    | SPICEWOOD |       60,841 |\n",
      "| THE LIGHTHOUSE RESTAURANT & LOUNGE (513 SLEAT DR)    | SPICEWOOD |       45,637 |\n",
      "| POODIES HILLTOP ROADHOUSE (22308 STATE HIGHWAY 71 W) | SPICEWOOD |       44,786 |\n"
     ]
    }
   ],
   "source": [
    "location_sum('City', 'SPICEWOOD').limit(3).print_table(max_column_width=60)"
   ]
  },
  {
   "cell_type": "code",
   "execution_count": 31,
   "metadata": {
    "collapsed": false
   },
   "outputs": [
    {
     "name": "stdout",
     "output_type": "stream",
     "text": [
      "| Establishment                                          | City          | Receipts_sum |\n",
      "| ------------------------------------------------------ | ------------- | ------------ |\n",
      "| DOC'S BACKYARD (5207 BRODIE LN # 100)                  | SUNSET VALLEY |       79,502 |\n",
      "| BJ'S RESTAURANT AND BREWHOUSE (5207 BRODIE LN STE 300) | SUNSET VALLEY |       65,938 |\n",
      "| CANE ROSSO (4715 S LAMAR BLVD STE 103)                 | SUNSET VALLEY |       34,933 |\n"
     ]
    }
   ],
   "source": [
    "location_sum('City', 'SUNSET VALLEY').limit(3).print_table(max_column_width=60)"
   ]
  },
  {
   "cell_type": "code",
   "execution_count": 32,
   "metadata": {
    "collapsed": false
   },
   "outputs": [
    {
     "name": "stdout",
     "output_type": "stream",
     "text": [
      "| Establishment                                                | City            | Receipts_sum |\n",
      "| ------------------------------------------------------------ | --------------- | ------------ |\n",
      "| LUPE TORTILLA MEXICAN RESTAURANT (701 S CAPITAL OF TEXAS ... | WEST LAKE HILLS |       99,806 |\n",
      "| CHIPOTLE CHIPOTLE MEXICAN GRILL CHIPOTLE BURRITOS (3300 B... | WEST LAKE HILLS |          773 |\n",
      "| SWAY (3437 BEE CAVES RD)                                     | WEST LAKE HILLS |            0 |\n"
     ]
    }
   ],
   "source": [
    "location_sum('City', 'WEST LAKE HILLS').limit(3).print_table(max_column_width=60)"
   ]
  },
  {
   "cell_type": "markdown",
   "metadata": {},
   "source": [
    "## Sales by county\n",
    "In this case, we pass in the location type of 'County' and then a county name in caps to get the most sales in a particular county."
   ]
  },
  {
   "cell_type": "code",
   "execution_count": 33,
   "metadata": {
    "collapsed": false
   },
   "outputs": [
    {
     "name": "stdout",
     "output_type": "stream",
     "text": [
      "| Establishment                                                   | County  | Receipts_sum |\n",
      "| --------------------------------------------------------------- | ------- | ------------ |\n",
      "| LOST PINES BEVERAGE LLC (575 HYATT LOST PINES ROAD)             | Bastrop |      559,663 |\n",
      "| OLD TOWN RESTURANT AND BAR/PINEY CREEK CHOP HOUSE (931 MAIN ST) | Bastrop |       72,282 |\n",
      "| CHILI'S GRILL & BAR (734 HIGHWAY 71 W)                          | Bastrop |       48,096 |\n",
      "| BACK 9 (834 HIGHWAY 71 W)                                       | Bastrop |       38,537 |\n",
      "| NEIGHBOR'S (601 CHESTNUT ST UNIT C)                             | Bastrop |       35,791 |\n",
      "\n",
      "\n",
      "| Establishment                                               | County   | Receipts_sum |\n",
      "| ----------------------------------------------------------- | -------- | ------------ |\n",
      "| EL REY BAR/NIGHTCLUB (1721 S COMMERCE ST)                   | Caldwell |       29,602 |\n",
      "| GUADALAJARA MEXICAN RESTAURANT (1710 S COLORADO ST STE 110) | Caldwell |       22,008 |\n",
      "| THE PEARL (110 N MAIN ST)                                   | Caldwell |       15,205 |\n",
      "| RISKY BUSINESS (211 E MARKET ST)                            | Caldwell |       10,788 |\n",
      "| MR TACO (1132 E PIERCE ST)                                  | Caldwell |        8,826 |\n",
      "\n",
      "\n",
      "| Establishment                          | County | Receipts_sum |\n",
      "| -------------------------------------- | ------ | ------------ |\n",
      "| RAILHOUSE (107 E CENTER ST)            | Hays   |      157,927 |\n",
      "| NUTTY BROWN CAFE (12225 W HIGHWAY 290) | Hays   |      132,716 |\n",
      "| MAYLOO'S (138 N LBJ DR)                | Hays   |      132,372 |\n",
      "| HAYS CITY STORE (8989 FM 150 W)        | Hays   |      128,639 |\n",
      "| THE MARC (120 E SAN ANTONIO ST)        | Hays   |      124,598 |\n",
      "\n",
      "\n",
      "| Establishment                                                         | County | Receipts_sum |\n",
      "| --------------------------------------------------------------------- | ------ | ------------ |\n",
      "| WLS BEVERAGE CO (110 E 2ND ST)                                        | Travis |    1,209,517 |\n",
      "| RYAN SANDERS SPORTS SERVICES, LLC (9201 CIRCUIT OF THE AMERICAS BLVD) | Travis |      977,868 |\n",
      "| FAIRMONT AUSTIN HOTEL (101 RED RIVER ST)                              | Travis |      666,726 |\n",
      "| UNBARLIEVABLE (76 RAINEY ST)                                          | Travis |      537,792 |\n",
      "| ROSE ROOM/ 77 DEGREES (11500 ROCK ROSE AVE)                           | Travis |      510,576 |\n",
      "\n",
      "\n",
      "| Establishment                                                 | County     | Receipts_sum |\n",
      "| ------------------------------------------------------------- | ---------- | ------------ |\n",
      "| ALAMO DRAFTHOUSE CINEMA (14028 N HIGHWAY 183 BLDG F)          | Williamson |      198,944 |\n",
      "| JACK ALLEN'S KITCHEN (2500 HOPPE TRL)                         | Williamson |      149,554 |\n",
      "| TWIN PEAKS RESTAURANT (100 LOUIS HENNA BLVD)                  | Williamson |      141,850 |\n",
      "| THE GROVE WINE BAR AND KITCHEN (1310 E WHITESTONE BLVD # 500) | Williamson |      141,264 |\n",
      "| CHUY'S ROUND ROCK (2320 N INTERSTATE 35)                      | Williamson |      139,462 |\n"
     ]
    }
   ],
   "source": [
    "# MOVE TO SEPARATE CELLS SO THEY DON'T FORCE A SCROLL\n",
    "location_sum('County', 'BASTROP').limit(5).print_table(max_column_width=80)\n",
    "print('\\n')\n",
    "location_sum('County', 'CALDWELL').limit(5).print_table(max_column_width=80)\n",
    "print('\\n')\n",
    "location_sum('County', 'HAYS').limit(5).print_table(max_column_width=80)\n",
    "print('\\n')\n",
    "location_sum('County', 'TRAVIS').limit(5).print_table(max_column_width=80)\n",
    "print('\\n')\n",
    "location_sum('County', 'WILLIAMSON').limit(5).print_table(max_column_width=80)"
   ]
  },
  {
   "cell_type": "markdown",
   "metadata": {},
   "source": [
    "## Sales by ZIP Code\n",
    "A list of sales by ZIP Code. If anything other than 78701 is at the top, it is news."
   ]
  },
  {
   "cell_type": "code",
   "execution_count": 34,
   "metadata": {
    "collapsed": false
   },
   "outputs": [
    {
     "name": "stdout",
     "output_type": "stream",
     "text": [
      "| Zip   |        Sum |\n",
      "| ----- | ---------- |\n",
      "| 78701 | 27,463,808 |\n",
      "| 77002 | 14,084,109 |\n",
      "| 75201 | 12,488,561 |\n",
      "| 78205 | 11,286,616 |\n",
      "| 78704 |  8,432,002 |\n"
     ]
    }
   ],
   "source": [
    "# top zip code gross receipts\n",
    "zip_receipts = mixbev.pivot('Zip', aggregation=agate.Sum('Receipts')).order_by('Sum', reverse=True)\n",
    "zip_receipts.limit(5).print_table()"
   ]
  },
  {
   "cell_type": "code",
   "execution_count": null,
   "metadata": {
    "collapsed": true
   },
   "outputs": [],
   "source": []
  }
 ],
 "metadata": {
  "kernelspec": {
   "display_name": "Python 3",
   "language": "python",
   "name": "python3"
  },
  "language_info": {
   "codemirror_mode": {
    "name": "ipython",
    "version": 3
   },
   "file_extension": ".py",
   "mimetype": "text/x-python",
   "name": "python",
   "nbconvert_exporter": "python",
   "pygments_lexer": "ipython3",
   "version": "3.6.5"
  }
 },
 "nbformat": 4,
 "nbformat_minor": 2
}
