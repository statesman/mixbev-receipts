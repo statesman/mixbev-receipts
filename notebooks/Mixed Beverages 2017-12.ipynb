{
 "cells": [
  {
   "cell_type": "markdown",
   "metadata": {},
   "source": [
    "# Processing mixed beverage data\n",
    "\n",
    "## December 2017 sales report\n",
    "\n",
    "This Jupyter Notebook uses data.texas.gov [Mixed Beverage Gross Receipts data](https://data.texas.gov/Government-and-Taxes/Mixed-Beverage-Gross-Receipts/naix-2893), and then a python library called [agate](http://agate.readthedocs.io/) to clean and process that data for [stories similar to this one](http://www.mystatesman.com/business/austin-alcohol-sales-percent-february/Oo2txZUkuDlqBl0rU9O1lJ/) on monthly alcohol sales.\n",
    "\n",
    "There are two places where **last day of the month** has to be entered into the script, in YYYY-MM-DD format:\n",
    "- `download_date` in the \"Download\" section\n",
    "- `date_studied` in the \"Setting up\" section\n",
    "\n",
    "For December 2017, use:\n",
    "\n",
    "2017-12-31"
   ]
  },
  {
   "cell_type": "markdown",
   "metadata": {},
   "source": [
    "## Download\n",
    "\n",
    "We're using the bash curl command to download our file from Socrata.\n",
    "\n",
    "### Set download date\n",
    "\n",
    "Make sure to set the `download_date` below to the last day of the month studied."
   ]
  },
  {
   "cell_type": "code",
   "execution_count": 1,
   "metadata": {},
   "outputs": [
    {
     "name": "stdout",
     "output_type": "stream",
     "text": [
      "https://data.texas.gov/resource/fp9t-htqh.json?$limit=20000&$where=obligation_end_date_yyyymmdd%20=%20%272017-12-31%27\n"
     ]
    },
    {
     "name": "stderr",
     "output_type": "stream",
     "text": [
      "  % Total    % Received % Xferd  Average Speed   Time    Time     Time  Current\n",
      "                                 Dload  Upload   Total   Spent    Left  Speed\n",
      "\r",
      "  0     0    0     0    0     0      0      0 --:--:-- --:--:-- --:--:--     0\r",
      "  0     0    0     0    0     0      0      0 --:--:-- --:--:-- --:--:--     0\r",
      "100  638k    0  638k    0     0   461k      0 --:--:--  0:00:01 --:--:--  461k\r",
      "100 1629k    0 1629k    0     0   685k      0 --:--:--  0:00:02 --:--:--  685k\r",
      "100 2365k    0 2365k    0     0   673k      0 --:--:--  0:00:03 --:--:--  673k\r",
      "100 2749k    0 2749k    0     0   627k      0 --:--:--  0:00:04 --:--:--  627k\r",
      "100 3276k    0 3276k    0     0   606k      0 --:--:--  0:00:05 --:--:--  665k\r",
      "100 3884k    0 3884k    0     0   606k      0 --:--:--  0:00:06 --:--:--  646k\r",
      "100 4556k    0 4556k    0     0   616k      0 --:--:--  0:00:07 --:--:--  583k\r",
      "100 5131k    0 5131k    0     0   612k      0 --:--:--  0:00:08 --:--:--  568k\r",
      "100 5835k    0 5835k    0     0   622k      0 --:--:--  0:00:09 --:--:--  617k\r",
      "100 6651k    0 6651k    0     0   640k      0 --:--:--  0:00:10 --:--:--  677k\r",
      "100 7338k    0 7338k    0     0   644k      0 --:--:--  0:00:11 --:--:--  693k\r",
      "100 7946k    0 7946k    0     0   641k      0 --:--:--  0:00:12 --:--:--  679k\r",
      "100 8681k    0 8681k    0     0   646k      0 --:--:--  0:00:13 --:--:--  703k\r",
      "100 9465k    0 9465k    0     0   658k      0 --:--:--  0:00:14 --:--:--  725k\r",
      "100  9.9M    0  9.9M    0     0   665k      0 --:--:--  0:00:15 --:--:--  716k\r",
      "100 10.6M    0 10.6M    0     0   666k      0 --:--:--  0:00:16 --:--:--  716k\r",
      "100 10.8M    0 10.8M    0     0   667k      0 --:--:--  0:00:16 --:--:--  741k\n"
     ]
    }
   ],
   "source": [
    "%%bash\n",
    "download_date='2017-12-31'\n",
    "\n",
    "socrata_data='https://data.texas.gov/resource/fp9t-htqh.json?'\n",
    "socrata_limit='$limit=20000'\n",
    "socrata_date='&$where=obligation_end_date_yyyymmdd%20=%20%27'$download_date'%27'\n",
    "socrata_path=$socrata_data$socrata_limit$socrata_date\n",
    "\n",
    "echo $socrata_path\n",
    "\n",
    "curl -L -o ../mixbev-files/Mixed_Beverage_Gross_Receipts_$download_date.json \\\n",
    "$socrata_path"
   ]
  },
  {
   "cell_type": "markdown",
   "metadata": {},
   "source": [
    "## Set date_studied\n",
    "\n",
    "It is imporant to change `date_studied` to the last day of the month studied:"
   ]
  },
  {
   "cell_type": "code",
   "execution_count": 2,
   "metadata": {},
   "outputs": [],
   "source": [
    "# this should be the same as the download_date above.\n",
    "date_studied = '2017-12-31'"
   ]
  },
  {
   "cell_type": "markdown",
   "metadata": {},
   "source": [
    "## Set up python\n",
    "\n",
    "We'll import the python libraries we need, and then set the date_studied, which is important to find the right file."
   ]
  },
  {
   "cell_type": "code",
   "execution_count": 3,
   "metadata": {},
   "outputs": [],
   "source": [
    "# import libraries\n",
    "import agate\n",
    "# this surpresses the timezone warning\n",
    "# Might comment out during development so other warnings\n",
    "# are not surpressed\n",
    "import warnings\n",
    "warnings.filterwarnings('ignore')"
   ]
  },
  {
   "cell_type": "markdown",
   "metadata": {},
   "source": [
    "## Import the file\n",
    "\n",
    "We set the path name based on `date_studied` above. We import the raw data, forcing some data types."
   ]
  },
  {
   "cell_type": "code",
   "execution_count": 4,
   "metadata": {},
   "outputs": [],
   "source": [
    "# This is the source file, which should be donwloaded\n",
    "file_path = '../mixbev-files/Mixed_Beverage_Gross_Receipts_' + date_studied + '.json'\n",
    "\n",
    "# Setting up to force column types for some columns\n",
    "specified_types = {\n",
    "    'cover_charge_receipts': agate.Number(),\n",
    "    'taxpayer_number': agate.Text(),\n",
    "    'taxpayer_zip': agate.Text(),\n",
    "    'taxpayer_county': agate.Text(),\n",
    "    'location_number': agate.Text(),\n",
    "    'location_address': agate.Text(),\n",
    "    'location_zip': agate.Text(),\n",
    "    'location_county': agate.Text(),\n",
    "}\n",
    "\n",
    "# this imports the file specified above, along with the proper types\n",
    "mixbev_raw = agate.Table.from_json(file_path, column_types=specified_types)\n",
    "\n",
    "# Uncomment below to peek at column names\n",
    "# print(mixbev_raw)"
   ]
  },
  {
   "cell_type": "markdown",
   "metadata": {},
   "source": [
    "## Cleaning bad columns\n",
    "\n",
    "There is a problem with the Comptroller data where two columns are incorrectly labeled. They are NOT used in the analysis, but we'll fix them anyway. It could be that the Comptroller will fix these in the future."
   ]
  },
  {
   "cell_type": "code",
   "execution_count": 5,
   "metadata": {},
   "outputs": [],
   "source": [
    "# renames two columns that are labelled incorrectly from original data\n",
    "mixbev_fixed = mixbev_raw.rename(column_names = {\n",
    "        'tabc_permit_number': 'inside_outside_city_limits_code',\n",
    "        'inside_outside_city_limits_code_y_n': 'tabc_permit',\n",
    "    }\n",
    ")\n",
    "\n",
    "# Uncomment below to see changed columns\n",
    "# print(mixbev_fixed)"
   ]
  },
  {
   "cell_type": "code",
   "execution_count": 6,
   "metadata": {},
   "outputs": [],
   "source": [
    "# establish our table of record\n",
    "mixbev = mixbev_fixed"
   ]
  },
  {
   "cell_type": "markdown",
   "metadata": {},
   "source": [
    "## Create establishment column\n",
    "\n",
    "We do this so we make sure we have single establishments instead of grouping trade names together from different addresses, like 'CHILI'S BAR & GRILL'."
   ]
  },
  {
   "cell_type": "code",
   "execution_count": 7,
   "metadata": {},
   "outputs": [],
   "source": [
    "# Concatenates the name and address\n",
    "mixbev_establishment = mixbev.compute([\n",
    "    ('Establishment', agate.Formula(agate.Text(), lambda row: '%(location_name)s (%(location_address)s)' % row))\n",
    "])\n",
    "\n",
    "# Uncomment line below to print Establishment to check what is looks like\n",
    "# mixbev_establishment.select('Establishment').limit(5).print_table(max_column_width=80)"
   ]
  },
  {
   "cell_type": "code",
   "execution_count": 8,
   "metadata": {},
   "outputs": [],
   "source": [
    "# Uncomment below to see column names\n",
    "# print(mixbev_establishment)"
   ]
  },
  {
   "cell_type": "markdown",
   "metadata": {},
   "source": [
    "## Import and merge counties lookup table\n",
    "\n",
    "We do this to get county names. I got this list from the comptroller.\n",
    "\n",
    "NOTE: Wisdom would suggest we join on the code column from counites, but the data.texas.gov data does not have the zero padding from those values, so I'm using the id column."
   ]
  },
  {
   "cell_type": "code",
   "execution_count": 9,
   "metadata": {},
   "outputs": [],
   "source": [
    "# importing countes.csv, ensuring that the 'code' column is text\n",
    "counties = agate.Table.from_csv('../resource-files/counties.csv', column_types={\n",
    "    'code': agate.Text(),\n",
    "    'id': agate.Text()\n",
    "})\n",
    "\n",
    "# uncomment below to peek at the column names and an example\n",
    "# print(counties)\n",
    "# counties.limit(5).print_table()\n",
    "\n",
    "# joines the counties table to the mixed bev cleaned data with establishments\n",
    "mixbev_joined = mixbev_establishment.join(counties, 'location_county', 'id')\n",
    "\n",
    "# uncomment below to see merged column names \n",
    "# print(mixbev_joined)"
   ]
  },
  {
   "cell_type": "code",
   "execution_count": 10,
   "metadata": {},
   "outputs": [
    {
     "name": "stdout",
     "output_type": "stream",
     "text": [
      "| column        | data_type |\n",
      "| ------------- | --------- |\n",
      "| Name          | Text      |\n",
      "| Address       | Text      |\n",
      "| Establishment | Text      |\n",
      "| City          | Text      |\n",
      "| State         | Text      |\n",
      "| Zip           | Text      |\n",
      "| County        | Text      |\n",
      "| Receipts      | Number    |\n",
      "| Report date   | DateTime  |\n",
      "\n"
     ]
    }
   ],
   "source": [
    "# get just the columns we need and rename county\n",
    "# THIS is the finished, cleaned mixbev table\n",
    "mixbev = mixbev_joined.select([\n",
    "    'location_name',\n",
    "    'location_address',\n",
    "    'Establishment',\n",
    "    'location_city',\n",
    "    'location_state',\n",
    "    'location_zip',\n",
    "    'county',\n",
    "    'total_receipts',\n",
    "    'obligation_end_date_yyyymmdd'\n",
    "]).rename(column_names = {\n",
    "    'location_name' : 'Name',\n",
    "    'location_address' : 'Address',\n",
    "    'location_city': 'City',\n",
    "    'location_state': 'State',\n",
    "    'location_zip': 'Zip',\n",
    "    'total_receipts' : 'Receipts',\n",
    "    'county': 'County',\n",
    "    'obligation_end_date_yyyymmdd': 'Report date'\n",
    "})\n",
    "\n",
    "# peek at the column names\n",
    "print(mixbev)"
   ]
  },
  {
   "cell_type": "markdown",
   "metadata": {},
   "source": [
    "## Location sums function\n",
    "\n",
    "Because we want to get the top sellers in a bunch of cities and couties, we create a function so we don't have to repeat the code. This function allows us to pass in a city or county name to filter the monthly receipts table and then sum the Tax and Receipts columns. The result can then be acted on to print or aggreggate. It is used later in the file."
   ]
  },
  {
   "cell_type": "code",
   "execution_count": 11,
   "metadata": {},
   "outputs": [],
   "source": [
    "# function to group sales by a specific location\n",
    "# City or County passed in should be ALL CAPS\n",
    "# Location_type can be 'City' or 'County'\n",
    "\n",
    "def location_sum(location_type, location):\n",
    "    # Filters the data to the specified city\n",
    "    location_filtered = mixbev.where(lambda row: row[location_type].upper() == location)\n",
    "\n",
    "    # groups the data based on Establishment and location\n",
    "    location_grouped = location_filtered.group_by('Establishment').group_by(location_type)\n",
    "    # computes the sales based on the grouping\n",
    "    location_summary = location_grouped.aggregate([\n",
    "        ('Receipts_sum', agate.Sum('Receipts'))\n",
    "    ])\n",
    "    \n",
    "    # sorts the results by most sold\n",
    "    location_summary_sorted = location_summary.order_by('Receipts_sum', reverse=True)\n",
    "    # prints the top 10 results\n",
    "    \n",
    "    return(location_summary_sorted)"
   ]
  },
  {
   "cell_type": "markdown",
   "metadata": {},
   "source": [
    "## Data checking\n",
    "I make sure I'm looking the correct month, and to make sure the number of records is not hitting my download limit."
   ]
  },
  {
   "cell_type": "code",
   "execution_count": 12,
   "metadata": {},
   "outputs": [
    {
     "name": "stdout",
     "output_type": "stream",
     "text": [
      "This report date should equal your date_studied:\n",
      "\n",
      "|         Report date |\n",
      "| ------------------- |\n",
      "| 2017-12-31 00:00:00 |\n",
      "\n",
      "If the number of records below is 20000, increase the download limit.\n",
      "\n",
      "Number of records in table: 15585\n"
     ]
    }
   ],
   "source": [
    "# double-checking I'm looking at one month of data\n",
    "mixbev_dates = mixbev.select('Report date').distinct('Report date')\n",
    "print('This report date should equal your date_studied:\\n')\n",
    "mixbev_dates.print_table()\n",
    "print('\\nIf the number of records below is 20000, increase the download limit.')\n",
    "print('\\nNumber of records in table: {}'.format(\n",
    "        len(mixbev))\n",
    "     )"
   ]
  },
  {
   "cell_type": "markdown",
   "metadata": {},
   "source": [
    "## Top sales statewide\n",
    "\n",
    "Because we want to group our results by more than one field and perform more than one aggregation, we'll do this a little differently. We'll use group_by to create a grouped table, then perform aggregations on that new table to compute the Tax and Receipts columns."
   ]
  },
  {
   "cell_type": "code",
   "execution_count": 13,
   "metadata": {
    "scrolled": true
   },
   "outputs": [
    {
     "name": "stdout",
     "output_type": "stream",
     "text": [
      "Total statewide sales for this month are: 618477471\n",
      "\n",
      "| Establishment                            | County     | City        | Sales_sum |\n",
      "| ---------------------------------------- | ---------- | ----------- | --------- |\n",
      "| AT&T STADIUM (1 LEGENDS WAY)             | Tarrant    | ARLINGTON   | 3,983,415 |\n",
      "| GAYLORD TEXAN (1501 GAYLORD TRL)         | Tarrant    | GRAPEVINE   | 2,063,706 |\n",
      "| LEVY RESTAURANTS AT TOYOTA CENTER (15... | Harris     | HOUSTON     | 1,506,249 |\n",
      "| LEVY RESTAURANTS (2500 VICTORY AVE)      | Dallas     | DALLAS      | 1,330,793 |\n",
      "| BOTTLED BLONDE- THE BACK YARD (501 N ... | Dallas     | DALLAS      | 1,154,213 |\n",
      "| ARAMARK SPORTS AND ENTERTAINMENT SERV... | Bexar      | SAN ANTONIO | 1,046,692 |\n",
      "| SPECTRUM CATERING (27328 SPECTRUM WAY)   | Montgomery | CONROE      | 1,010,510 |\n",
      "| HOSPITALITY INTERNATIONAL, INC. (2380... | Bexar      | SAN ANTONIO | 1,001,804 |\n",
      "| SALC, INC. (2201 N STEMMONS FWY FL 1)    | Dallas     | DALLAS      |   939,518 |\n",
      "| BILLY BOB'S TEXAS (2520 RODEO PLZ)       | Tarrant    | FORT WORTH  |   929,814 |\n"
     ]
    }
   ],
   "source": [
    "# summing sales statewide for month\n",
    "\n",
    "print('Total statewide sales for this month are: {}\\n'.format(\n",
    "    mixbev.aggregate(agate.Sum('Receipts')) # <<< I should format the number better\n",
    "))\n",
    "\n",
    "# groups the data based on Establishment and City\n",
    "mixbev_grouped = mixbev.group_by('Establishment').group_by('County').group_by('City')\n",
    "\n",
    "# computes the sales based on the grouping\n",
    "state_summary = mixbev_grouped.aggregate([\n",
    "    ('Sales_sum', agate.Sum('Receipts'))\n",
    "])\n",
    "\n",
    "# sorts the results by most sold. We could probalby chain it above if we wanted to.\n",
    "state_summary_sorted = state_summary.order_by('Sales_sum', reverse=True)\n",
    "\n",
    "# prints the top 10 results\n",
    "state_summary_sorted.limit(10).print_table(max_column_width=40)\n"
   ]
  },
  {
   "cell_type": "markdown",
   "metadata": {},
   "source": [
    "## Austin sales and sums\n",
    "\n",
    "With this, we reference the location_sum function above, and pass the type of location (City) and the name of the city (AUSTIN). At the same time, we limit number of recoreds in the return, and then print the results. We are basically stringing together a bunch of stuff at once."
   ]
  },
  {
   "cell_type": "code",
   "execution_count": 14,
   "metadata": {},
   "outputs": [
    {
     "name": "stdout",
     "output_type": "stream",
     "text": [
      "Total sales in Austin are: 64057149\n",
      "\n",
      "Top sellers in Austin are:\n",
      "\n",
      "| Establishment                                                | City   | Receipts_sum |\n",
      "| ------------------------------------------------------------ | ------ | ------------ |\n",
      "| WLS BEVERAGE CO (110 E 2ND ST)                               | AUSTIN |      869,818 |\n",
      "| W HOTEL AUSTIN (200 LAVACA ST)                               | AUSTIN |      581,798 |\n",
      "| DH BEVERAGE LLC (604 BRAZOS ST)                              | AUSTIN |      563,253 |\n",
      "| ROSE ROOM/ 77 DEGREES (11500 ROCK ROSE AVE)                  | AUSTIN |      527,145 |\n",
      "| 400 BAR/CUCARACHA/CHUPACABRA/JACKALOPE/MOOSENUCKLE (400 E... | AUSTIN |      466,017 |\n",
      "| SAN JACINTO BEVERAGE COMPANY LLC (98 SAN JACINTO BLVD)       | AUSTIN |      459,049 |\n",
      "| THE ROOSEVELT ROOM & THE ELEANOR (307 W 5TH ST # 307B)       | AUSTIN |      436,238 |\n",
      "| THE DOGWOOD DOMAIN (11420 ROCK ROSE AVE STE 700)             | AUSTIN |      419,467 |\n",
      "| KUNG FU SALOON (11501 ROCK ROSE AVE STE 140)                 | AUSTIN |      411,707 |\n",
      "| FARACE BEVERAGES, LLC (310 WILLIE NELSON BLVD)               | AUSTIN |      407,007 |\n",
      "| TOP GOLF (2700 ESPERANZA XING)                               | AUSTIN |      406,515 |\n",
      "| ALAMO DRAFTHOUSE CINEMA (1120 S LAMAR BLVD)                  | AUSTIN |      403,777 |\n",
      "| HOTEL VAN ZANDT (605 DAVIS ST)                               | AUSTIN |      386,906 |\n",
      "| EDDIE V'S PRIME SEAFOOD (301 E 5TH ST)                       | AUSTIN |      381,212 |\n",
      "| CULINARY DROPOUT (11721 ROCK ROSE AVE STE Y4.100)            | AUSTIN |      355,040 |\n",
      "| BRAZOS CONCESSIONS CO/SALT LICK JOINT VENTURE (3600 PRESI... | AUSTIN |      354,633 |\n",
      "| THE PALAZIO (501 E BEN WHITE BLVD)                           | AUSTIN |      347,695 |\n",
      "| PUNCH BOWL SOCIAL (11310 DOMAIN DR STE 100)                  | AUSTIN |      330,071 |\n",
      "| SALC. INC.(HILTON HOTEL) (500 E 4TH ST)                      | AUSTIN |      324,663 |\n",
      "| PERFECT 10 MENS CLUB (16511 BRATTON LN)                      | AUSTIN |      323,676 |\n",
      "| MATT'S EL RANCHO, INC. (2613 S LAMAR BLVD)                   | AUSTIN |      314,591 |\n",
      "| SOUTH CONGRESS HOTEL (1603 S CONGRESS AVE)                   | AUSTIN |      312,081 |\n",
      "| PERRY'S STEAKHOUSE & GRILLE (114 W 7TH ST STE 110)           | AUSTIN |      293,277 |\n",
      "| GREEN LIGHT SOCIAL (720 W 6TH ST)                            | AUSTIN |      291,837 |\n",
      "| KUNG FU SALOON (716 W 6TH ST)                                | AUSTIN |      289,839 |\n"
     ]
    }
   ],
   "source": [
    "# Austin total sales as s city\n",
    "# This sums the grouped table, but it works\n",
    "\n",
    "print('Total sales in Austin are: {}\\n'.format(\n",
    "    location_sum('City', 'AUSTIN').aggregate(agate.Sum('Receipts_sum'))\n",
    "))\n",
    "\n",
    "# uses the city_sum function to filter\n",
    "austin = location_sum('City', 'AUSTIN')\n",
    "\n",
    "\n",
    "# print the resulting table\n",
    "print('Top sellers in Austin are:\\n')\n",
    "austin.limit(25).print_table(max_column_width=60, max_rows=None)"
   ]
  },
  {
   "cell_type": "markdown",
   "metadata": {},
   "source": [
    "## More Central Texas cities\n",
    "More of the same for different cities."
   ]
  },
  {
   "cell_type": "code",
   "execution_count": 15,
   "metadata": {},
   "outputs": [
    {
     "name": "stdout",
     "output_type": "stream",
     "text": [
      "| Establishment                                                | City    | Receipts_sum |\n",
      "| ------------------------------------------------------------ | ------- | ------------ |\n",
      "| OLD TOWN RESTURANT AND BAR/PINEY CREEK CHOP HOUSE (931 MA... | BASTROP |       94,519 |\n",
      "| SP BASTROP THEATRE, LP (1600 CHESTNUT ST)                    | BASTROP |       43,273 |\n",
      "| CHILI'S GRILL & BAR (734 HIGHWAY 71 W)                       | BASTROP |       42,059 |\n",
      "| BACK 9 (834 HIGHWAY 71 W)                                    | BASTROP |       27,018 |\n",
      "| NEIGHBOR'S (601 CHESTNUT ST UNIT C)                          | BASTROP |       26,995 |\n"
     ]
    }
   ],
   "source": [
    "location_sum('City', 'BASTROP').limit(5).print_table(max_column_width=60)"
   ]
  },
  {
   "cell_type": "code",
   "execution_count": 16,
   "metadata": {},
   "outputs": [
    {
     "name": "stdout",
     "output_type": "stream",
     "text": [
      "| Establishment                                         | City     | Receipts_sum |\n",
      "| ----------------------------------------------------- | -------- | ------------ |\n",
      "| WOODY TAVERN AND GRILL, INC. (12801 SHOPS PKWY # 100) | BEE CAVE |      109,891 |\n",
      "| MAUDIE'S HILL COUNTRY, LLC (12506 SHOPS PKWY)         | BEE CAVE |       84,090 |\n",
      "| HCG BEVERAGE, LLC (12525 BEE CAVE PKWY)               | BEE CAVE |       76,546 |\n"
     ]
    }
   ],
   "source": [
    "location_sum('City', 'BEE CAVE').limit(3).print_table(max_column_width=60)"
   ]
  },
  {
   "cell_type": "code",
   "execution_count": 17,
   "metadata": {},
   "outputs": [
    {
     "name": "stdout",
     "output_type": "stream",
     "text": [
      "| Establishment                                               | City | Receipts_sum |\n",
      "| ----------------------------------------------------------- | ---- | ------------ |\n",
      "| BUCKS BACKYARD (1750 S FM 1626)                             | BUDA |       94,575 |\n",
      "| NATE'S AT BUDA MILL AND GRAIN, INC. (306 S MAIN ST STE 101) | BUDA |       70,573 |\n",
      "| PINBALLZ KINGDOM (15201 S IH 35)                            | BUDA |       54,395 |\n"
     ]
    }
   ],
   "source": [
    "location_sum('City', 'BUDA').limit(3).print_table(max_column_width=60)"
   ]
  },
  {
   "cell_type": "code",
   "execution_count": 18,
   "metadata": {},
   "outputs": [
    {
     "name": "stdout",
     "output_type": "stream",
     "text": [
      "| Establishment                                                | City      | Receipts_sum |\n",
      "| ------------------------------------------------------------ | --------- | ------------ |\n",
      "| RYAN SANDERS SPORTS SERVICES, LLC (9201 CIRCUIT OF THE AM... | DEL VALLE |      112,913 |\n",
      "| CLUB MIS AMIGOS (13820 FM 812)                               | DEL VALLE |        7,849 |\n",
      "| RESTAURANTES JASMINES (2463 HIGWAY 71 E)                     | DEL VALLE |        2,975 |\n"
     ]
    }
   ],
   "source": [
    "location_sum('City', 'DEL VALLE').limit(3).print_table(max_column_width=60)"
   ]
  },
  {
   "cell_type": "code",
   "execution_count": 19,
   "metadata": {},
   "outputs": [
    {
     "name": "stdout",
     "output_type": "stream",
     "text": [
      "| Establishment                                                | City       | Receipts_sum |\n",
      "| ------------------------------------------------------------ | ---------- | ------------ |\n",
      "| CHUY'S (4911 183A TOLL RD)                                   | CEDAR PARK |      172,579 |\n",
      "| THE GROVE WINE BAR AND KITCHEN (1310 E WHITESTONE BLVD # ... | CEDAR PARK |      128,384 |\n",
      "| LUPE TORTILLA MEXICAN RESTAURANT (4501 183A TOLL RD STE B)   | CEDAR PARK |      113,756 |\n"
     ]
    }
   ],
   "source": [
    "location_sum('City', 'CEDAR PARK').limit(3).print_table(max_column_width=60)"
   ]
  },
  {
   "cell_type": "code",
   "execution_count": 20,
   "metadata": {},
   "outputs": [
    {
     "name": "stdout",
     "output_type": "stream",
     "text": [
      "| Establishment                                         | City             | Receipts_sum |\n",
      "| ----------------------------------------------------- | ---------------- | ------------ |\n",
      "| TRUDY'S FOUR STAR (13059 FOUR STAR BLVD)              | DRIPPING SPRINGS |       58,757 |\n",
      "| FLORES MEXICAN RESTAURANT (2440 E HIGHWAY 290 BLDG D) | DRIPPING SPRINGS |       49,108 |\n",
      "| DEEP EDDY DISTILLING CO (2250 E HIGHWAY 290)          | DRIPPING SPRINGS |       40,141 |\n"
     ]
    }
   ],
   "source": [
    "location_sum('City', 'DRIPPING SPRINGS').limit(3).print_table(max_column_width=60)"
   ]
  },
  {
   "cell_type": "code",
   "execution_count": 21,
   "metadata": {},
   "outputs": [
    {
     "name": "stdout",
     "output_type": "stream",
     "text": [
      "| Establishment                              | City       | Receipts_sum |\n",
      "| ------------------------------------------ | ---------- | ------------ |\n",
      "| GATEWAY BEVERAGES, INC (1101 WOODLAWN AVE) | GEORGETOWN |      102,240 |\n",
      "| EL MONUMENTO (205 W 2ND ST)                | GEORGETOWN |       79,931 |\n",
      "| DOS SALSAS CAFE INC (1104 S MAIN ST)       | GEORGETOWN |       66,811 |\n"
     ]
    }
   ],
   "source": [
    "location_sum('City', 'GEORGETOWN').limit(3).print_table(max_column_width=60)"
   ]
  },
  {
   "cell_type": "code",
   "execution_count": 22,
   "metadata": {},
   "outputs": [
    {
     "name": "stdout",
     "output_type": "stream",
     "text": [
      "| Establishment                                           | City | Receipts_sum |\n",
      "| ------------------------------------------------------- | ---- | ------------ |\n",
      "| EVO ENTERTAINMENT CENTER (3200 KYLE XING)               | KYLE |       69,790 |\n",
      "| CASA GARCIA'S MEXICAN RESTAURANT (5401 FM 1626 STE 300) | KYLE |       69,438 |\n",
      "| CENTERFIELD SPORTS BAR & GRILL (200 W CENTER ST)        | KYLE |       39,396 |\n"
     ]
    }
   ],
   "source": [
    "location_sum('City', 'KYLE').limit(3).print_table(max_column_width=60)"
   ]
  },
  {
   "cell_type": "code",
   "execution_count": 23,
   "metadata": {},
   "outputs": [
    {
     "name": "stdout",
     "output_type": "stream",
     "text": [
      "| Establishment                                         | City       | Receipts_sum |\n",
      "| ----------------------------------------------------- | ---------- | ------------ |\n",
      "| THE GRILLE AT HIGHLAND LAKES (20552 HIGHLAND LAKE DR) | LAGO VISTA |       21,706 |\n",
      "| THE GNARLY GAR (18200 LAKEPOINT CV)                   | LAGO VISTA |       20,760 |\n",
      "| COPPERHEAD GRILL (6115 LOHMANS FORD RD)               | LAGO VISTA |       15,490 |\n"
     ]
    }
   ],
   "source": [
    "location_sum('City', 'LAGO VISTA').limit(3).print_table(max_column_width=60)"
   ]
  },
  {
   "cell_type": "code",
   "execution_count": 24,
   "metadata": {},
   "outputs": [
    {
     "name": "stdout",
     "output_type": "stream",
     "text": [
      "| Establishment                                          | City    | Receipts_sum |\n",
      "| ------------------------------------------------------ | ------- | ------------ |\n",
      "| THE GROVE WINE BAR AND KITCHEN (3001 RANCH ROAD 620 S) | LAKEWAY |      106,006 |\n",
      "| HIGH 5 ENTERTAINMENT (1502 RANCH ROAD 620 S)           | LAKEWAY |       99,202 |\n",
      "| MCARTHUR'S (1516 RANCH ROAD 620 S STE F200)            | LAKEWAY |       59,008 |\n"
     ]
    }
   ],
   "source": [
    "location_sum('City', 'LAKEWAY').limit(3).print_table(max_column_width=60)"
   ]
  },
  {
   "cell_type": "code",
   "execution_count": 25,
   "metadata": {},
   "outputs": [
    {
     "name": "stdout",
     "output_type": "stream",
     "text": [
      "| Establishment                                          | City    | Receipts_sum |\n",
      "| ------------------------------------------------------ | ------- | ------------ |\n",
      "| BROOKLYN HEIGHTS PIZZERIA (3550 LAKELINE BLVD STE 135) | LEANDER |       65,014 |\n",
      "| MARIA'S BAR AND GRILL (109 N HIGHWAY 183)              | LEANDER |       44,776 |\n",
      "| JARDIN DEL REY (703 S HIGHWAY 183)                     | LEANDER |       36,470 |\n"
     ]
    }
   ],
   "source": [
    "location_sum('City', 'LEANDER').limit(3).print_table(max_column_width=60)"
   ]
  },
  {
   "cell_type": "code",
   "execution_count": 26,
   "metadata": {},
   "outputs": [
    {
     "name": "stdout",
     "output_type": "stream",
     "text": [
      "| Establishment                                        | City         | Receipts_sum |\n",
      "| ---------------------------------------------------- | ------------ | ------------ |\n",
      "| JARDIN CORONA (15395 W STATE HIGHWAY 29)             | LIBERTY HILL |       41,526 |\n",
      "| MARGARITA'S RESTAURANT (10280 W STATE HIGHWAY 29)    | LIBERTY HILL |       34,840 |\n",
      "| ELENAS MEXICAN RESTAURANT (14801 W STATE HIGHWAY 29) | LIBERTY HILL |        4,582 |\n"
     ]
    }
   ],
   "source": [
    "location_sum('City', 'LIBERTY HILL').limit(3).print_table(max_column_width=60)"
   ]
  },
  {
   "cell_type": "code",
   "execution_count": 27,
   "metadata": {},
   "outputs": [
    {
     "name": "stdout",
     "output_type": "stream",
     "text": [
      "| Establishment                                  | City         | Receipts_sum |\n",
      "| ---------------------------------------------- | ------------ | ------------ |\n",
      "| MAVERICKS (1700 GRAND AVENUE PKWY STE 240)     | PFLUGERVILLE |      147,058 |\n",
      "| HANOVER'S DRAUGHT HAUS (108 E MAIN ST)         | PFLUGERVILLE |       66,170 |\n",
      "| RIO GRANDE TEX MEX (15821 CENTRAL COMMERCE DR) | PFLUGERVILLE |       59,576 |\n"
     ]
    }
   ],
   "source": [
    "location_sum('City', 'PFLUGERVILLE').limit(3).print_table(max_column_width=60)"
   ]
  },
  {
   "cell_type": "code",
   "execution_count": 28,
   "metadata": {},
   "outputs": [
    {
     "name": "stdout",
     "output_type": "stream",
     "text": [
      "| Establishment                                             | City       | Receipts_sum |\n",
      "| --------------------------------------------------------- | ---------- | ------------ |\n",
      "| CHUY'S ROUND ROCK (2320 N INTERSTATE 35)                  | ROUND ROCK |      165,153 |\n",
      "| JACK ALLEN'S KITCHEN (2500 HOPPE TRL)                     | ROUND ROCK |      148,393 |\n",
      "| THIRD BASE ROUND ROCK, LLC (3107 S INTERSTATE 35 STE 810) | ROUND ROCK |      137,628 |\n",
      "| RICK'S CABARET (3105 S INTERSTATE 35)                     | ROUND ROCK |      137,563 |\n",
      "| TWIN PEAKS RESTAURANT (100 LOUIS HENNA BLVD)              | ROUND ROCK |      134,566 |\n"
     ]
    }
   ],
   "source": [
    "location_sum('City', 'ROUND ROCK').limit(5).print_table(max_column_width=60)"
   ]
  },
  {
   "cell_type": "code",
   "execution_count": 29,
   "metadata": {},
   "outputs": [
    {
     "name": "stdout",
     "output_type": "stream",
     "text": [
      "| Establishment                                              | City       | Receipts_sum |\n",
      "| ---------------------------------------------------------- | ---------- | ------------ |\n",
      "| THE MARC (120 E SAN ANTONIO ST)                            | SAN MARCOS |      116,365 |\n",
      "| PLUCKERS WING BAR (105 N INTERSTATE 35)                    | SAN MARCOS |      106,325 |\n",
      "| 54TH STREET RESTAURANT & DRAFTHOUSE (1303 S INTERSTATE 35) | SAN MARCOS |       99,947 |\n",
      "| MAYLOO'S (138 N LBJ DR)                                    | SAN MARCOS |       97,476 |\n",
      "| CHUY'S SAN MARCOS (1121 N INTERSTATE 35)                   | SAN MARCOS |       96,926 |\n"
     ]
    }
   ],
   "source": [
    "location_sum('City', 'SAN MARCOS').limit(5).print_table(max_column_width=60)"
   ]
  },
  {
   "cell_type": "code",
   "execution_count": 30,
   "metadata": {},
   "outputs": [
    {
     "name": "stdout",
     "output_type": "stream",
     "text": [
      "| Establishment                                        | City      | Receipts_sum |\n",
      "| ---------------------------------------------------- | --------- | ------------ |\n",
      "| POODIES HILLTOP ROADHOUSE (22308 STATE HIGHWAY 71 W) | SPICEWOOD |       47,063 |\n",
      "| ANGEL'S ICEHOUSE (21815 W HWY 71)                    | SPICEWOOD |       35,957 |\n",
      "| APIS RESTAURANT (23526 STATE HIGHWAY 71 W)           | SPICEWOOD |       28,707 |\n"
     ]
    }
   ],
   "source": [
    "location_sum('City', 'SPICEWOOD').limit(3).print_table(max_column_width=60)"
   ]
  },
  {
   "cell_type": "code",
   "execution_count": 31,
   "metadata": {},
   "outputs": [
    {
     "name": "stdout",
     "output_type": "stream",
     "text": [
      "| Establishment                                          | City          | Receipts_sum |\n",
      "| ------------------------------------------------------ | ------------- | ------------ |\n",
      "| BJ'S RESTAURANT AND BREWHOUSE (5207 BRODIE LN STE 300) | SUNSET VALLEY |       79,361 |\n",
      "| DOC'S BACKYARD (5207 BRODIE LN # 100)                  | SUNSET VALLEY |       58,080 |\n",
      "| CANE ROSSO (4715 S LAMAR BLVD STE 103)                 | SUNSET VALLEY |       31,824 |\n"
     ]
    }
   ],
   "source": [
    "location_sum('City', 'SUNSET VALLEY').limit(3).print_table(max_column_width=60)"
   ]
  },
  {
   "cell_type": "code",
   "execution_count": 32,
   "metadata": {},
   "outputs": [
    {
     "name": "stdout",
     "output_type": "stream",
     "text": [
      "| Establishment                                                | City            | Receipts_sum |\n",
      "| ------------------------------------------------------------ | --------------- | ------------ |\n",
      "| LUPE TORTILLA MEXICAN RESTAURANT (701 S CAPITAL OF TEXAS ... | WEST LAKE HILLS |       91,059 |\n",
      "| CHIPOTLE CHIPOTLE MEXICAN GRILL CHIPOTLE BURRITOS (3300 B... | WEST LAKE HILLS |          480 |\n"
     ]
    }
   ],
   "source": [
    "location_sum('City', 'WEST LAKE HILLS').limit(3).print_table(max_column_width=60)"
   ]
  },
  {
   "cell_type": "markdown",
   "metadata": {},
   "source": [
    "## Sales by county\n",
    "In this case, we pass in the location type of 'County' and then a county name in caps to get the most sales in a particular county."
   ]
  },
  {
   "cell_type": "code",
   "execution_count": 33,
   "metadata": {},
   "outputs": [
    {
     "name": "stdout",
     "output_type": "stream",
     "text": [
      "| Establishment                                                   | County  | Receipts_sum |\n",
      "| --------------------------------------------------------------- | ------- | ------------ |\n",
      "| LOST PINES BEVERAGE LLC (575 HYATT LOST PINES ROAD)             | Bastrop |      290,195 |\n",
      "| OLD TOWN RESTURANT AND BAR/PINEY CREEK CHOP HOUSE (931 MAIN ST) | Bastrop |       94,519 |\n",
      "| SP BASTROP THEATRE, LP (1600 CHESTNUT ST)                       | Bastrop |       43,273 |\n",
      "| CHILI'S GRILL & BAR (734 HIGHWAY 71 W)                          | Bastrop |       42,059 |\n",
      "| BACK 9 (834 HIGHWAY 71 W)                                       | Bastrop |       27,018 |\n",
      "\n",
      "\n",
      "| Establishment                                               | County   | Receipts_sum |\n",
      "| ----------------------------------------------------------- | -------- | ------------ |\n",
      "| EL REY BAR/NIGHTCLUB (1721 S COMMERCE ST)                   | Caldwell |       22,083 |\n",
      "| GUADALAJARA MEXICAN RESTAURANT (1710 S COLORADO ST STE 110) | Caldwell |       17,265 |\n",
      "| THE PEARL (110 N MAIN ST)                                   | Caldwell |       16,314 |\n",
      "| RISKY BUSINESS (211 E MARKET ST)                            | Caldwell |       11,741 |\n",
      "| LOCKHART BISTRO (119 E SAN ANTONIO ST)                      | Caldwell |        7,724 |\n",
      "\n",
      "\n",
      "| Establishment                                              | County | Receipts_sum |\n",
      "| ---------------------------------------------------------- | ------ | ------------ |\n",
      "| TRATTORIA LISINA (13308 FM 150 W)                          | Hays   |      121,814 |\n",
      "| THE MARC (120 E SAN ANTONIO ST)                            | Hays   |      116,365 |\n",
      "| PLUCKERS WING BAR (105 N INTERSTATE 35)                    | Hays   |      106,325 |\n",
      "| 54TH STREET RESTAURANT & DRAFTHOUSE (1303 S INTERSTATE 35) | Hays   |       99,947 |\n",
      "| MAYLOO'S (138 N LBJ DR)                                    | Hays   |       97,476 |\n",
      "\n",
      "\n",
      "| Establishment                                                     | County | Receipts_sum |\n",
      "| ----------------------------------------------------------------- | ------ | ------------ |\n",
      "| WLS BEVERAGE CO (110 E 2ND ST)                                    | Travis |      869,818 |\n",
      "| W HOTEL AUSTIN (200 LAVACA ST)                                    | Travis |      581,798 |\n",
      "| DH BEVERAGE LLC (604 BRAZOS ST)                                   | Travis |      563,253 |\n",
      "| ROSE ROOM/ 77 DEGREES (11500 ROCK ROSE AVE)                       | Travis |      527,145 |\n",
      "| 400 BAR/CUCARACHA/CHUPACABRA/JACKALOPE/MOOSENUCKLE (400 E 6TH ST) | Travis |      466,017 |\n",
      "\n",
      "\n",
      "| Establishment                                        | County     | Receipts_sum |\n",
      "| ---------------------------------------------------- | ---------- | ------------ |\n",
      "| ALAMO DRAFTHOUSE CINEMA (14028 N HIGHWAY 183 BLDG F) | Williamson |      201,831 |\n",
      "| CHUY'S (4911 183A TOLL RD)                           | Williamson |      172,579 |\n",
      "| CHUY'S ROUND ROCK (2320 N INTERSTATE 35)             | Williamson |      165,153 |\n",
      "| JACK ALLEN'S KITCHEN (2500 HOPPE TRL)                | Williamson |      148,393 |\n",
      "| TWIN PEAKS RESTAURANT (100 LOUIS HENNA BLVD)         | Williamson |      134,566 |\n"
     ]
    }
   ],
   "source": [
    "# MOVE TO SEPARATE CELLS SO THEY DON'T FORCE A SCROLL\n",
    "location_sum('County', 'BASTROP').limit(5).print_table(max_column_width=80)\n",
    "print('\\n')\n",
    "location_sum('County', 'CALDWELL').limit(5).print_table(max_column_width=80)\n",
    "print('\\n')\n",
    "location_sum('County', 'HAYS').limit(5).print_table(max_column_width=80)\n",
    "print('\\n')\n",
    "location_sum('County', 'TRAVIS').limit(5).print_table(max_column_width=80)\n",
    "print('\\n')\n",
    "location_sum('County', 'WILLIAMSON').limit(5).print_table(max_column_width=80)"
   ]
  },
  {
   "cell_type": "markdown",
   "metadata": {},
   "source": [
    "## Sales by ZIP Code\n",
    "A list of sales by ZIP Code. If anything other than 78701 is at the top, it is news."
   ]
  },
  {
   "cell_type": "code",
   "execution_count": 34,
   "metadata": {},
   "outputs": [
    {
     "name": "stdout",
     "output_type": "stream",
     "text": [
      "| Zip   |        Sum |\n",
      "| ----- | ---------- |\n",
      "| 78701 | 23,456,454 |\n",
      "| 75201 | 12,523,621 |\n",
      "| 77002 | 12,056,047 |\n",
      "| 78205 | 11,913,671 |\n",
      "| 77024 |  8,417,423 |\n"
     ]
    }
   ],
   "source": [
    "# top zip code gross receipts\n",
    "zip_receipts = mixbev.pivot('Zip', aggregation=agate.Sum('Receipts')).order_by('Sum', reverse=True)\n",
    "zip_receipts.limit(5).print_table()"
   ]
  },
  {
   "cell_type": "code",
   "execution_count": null,
   "metadata": {},
   "outputs": [],
   "source": []
  }
 ],
 "metadata": {
  "kernelspec": {
   "display_name": "Python 3",
   "language": "python",
   "name": "python3"
  },
  "language_info": {
   "codemirror_mode": {
    "name": "ipython",
    "version": 3
   },
   "file_extension": ".py",
   "mimetype": "text/x-python",
   "name": "python",
   "nbconvert_exporter": "python",
   "pygments_lexer": "ipython3",
   "version": "3.6.4"
  }
 },
 "nbformat": 4,
 "nbformat_minor": 2
}
