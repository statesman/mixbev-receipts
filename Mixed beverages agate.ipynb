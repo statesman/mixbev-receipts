{
 "cells": [
  {
   "cell_type": "code",
   "execution_count": 4,
   "metadata": {
    "collapsed": true,
    "deletable": true,
    "editable": true
   },
   "outputs": [],
   "source": [
    "import warnings\n",
    "warnings.filterwarnings('ignore')"
   ]
  },
  {
   "cell_type": "code",
   "execution_count": 5,
   "metadata": {
    "collapsed": false,
    "deletable": true,
    "editable": true
   },
   "outputs": [],
   "source": [
    "import agate"
   ]
  },
  {
   "cell_type": "code",
   "execution_count": 3,
   "metadata": {
    "collapsed": false,
    "deletable": true,
    "editable": true
   },
   "outputs": [
    {
     "name": "stderr",
     "output_type": "stream",
     "text": [
      "  % Total    % Received % Xferd  Average Speed   Time    Time     Time  Current\n",
      "                                 Dload  Upload   Total   Spent    Left  Speed\n",
      "100 2565k  100 2565k    0     0  1379k      0  0:00:01  0:00:01 --:--:-- 1414k\n",
      "/Users/christian/anaconda/envs/mixbev/lib/python3.6/json/encoder.py:199: DeprecationWarning: Interpreting naive datetime as local 2017-03-26 20:00:59.998856. Please add timezone info to timestamps.\n"
     ]
    }
   ],
   "source": [
    "%%bash\n",
    "## download the mixedbev file\n",
    "curl -L -O https://comptroller.texas.gov/auto-data/odc/MIXEDBEV_02_2017.CSV"
   ]
  },
  {
   "cell_type": "code",
   "execution_count": 6,
   "metadata": {
    "collapsed": false,
    "deletable": true,
    "editable": true
   },
   "outputs": [
    {
     "name": "stdout",
     "output_type": "stream",
     "text": [
      "\"MB821424    \",\"ABI-HAUS                      \",\"959 N 2ND ST                  \",\"ABILENE             \",\"TX\",\"79601\",\"221\",\"          \",\"2016/12\", 000000637.97\r\n",
      "\"MB638028    \",\"ABILENE BEEHIVE INC           \",\"442 CEDAR ST STE A            \",\"ABILENE             \",\"TX\",\"79601\",\"221\",\"          \",\"2017/01\", 000002557.12\r\n",
      "\"MB543114    \",\"ABILENE BOWLING LANES INC     \",\"279 RUIDOSA AVE               \",\"ABILENE             \",\"TX\",\"79605\",\"221\",\"          \",\"2017/01\", 000000287.49\r\n",
      "\"MB933130    \",\"ABILENE CABARET LLC           \",\"1918 BUTTERNUT ST             \",\"ABILENE             \",\"TX\",\"79602\",\"221\",\"          \",\"2017/01\", 000000988.04\r\n",
      "\"N 037863    \",\"ABILENE COUNTRY CLUB          \",\"4039 S TREADAWAY BLVD         \",\"ABILENE             \",\"TX\",\"79602\",\"221\",\"          \",\"2017/01\", 000002068.82\r\n"
     ]
    }
   ],
   "source": [
    "%%bash\n",
    "head -n 5 MIXEDBEV_02_2017.CSV"
   ]
  },
  {
   "cell_type": "code",
   "execution_count": 7,
   "metadata": {
    "collapsed": false,
    "deletable": true,
    "editable": true
   },
   "outputs": [],
   "source": [
    "file = 'MIXEDBEV_02_2017.CSV'\n",
    "column_names = [\n",
    "    'TABC Permit Number',\n",
    "    'Trade Name',\n",
    "    'Location Address',\n",
    "    'Location City',\n",
    "    'Location State',\n",
    "    'Location Zip Code',\n",
    "    'Location County Code',\n",
    "    'Blank',\n",
    "    'Report Period',\n",
    "    'Report Tax'\n",
    "]\n",
    "specified_types = {\n",
    "    'Location Zip Code': agate.Text(),\n",
    "    'Location County Code': agate.Text()\n",
    "}"
   ]
  },
  {
   "cell_type": "code",
   "execution_count": 8,
   "metadata": {
    "collapsed": false,
    "deletable": true,
    "editable": true
   },
   "outputs": [],
   "source": [
    "mixbev_raw = agate.Table.from_csv(file, column_names, encoding='iso-8859-1', column_types=specified_types)"
   ]
  },
  {
   "cell_type": "code",
   "execution_count": 9,
   "metadata": {
    "collapsed": false,
    "deletable": true,
    "editable": true
   },
   "outputs": [
    {
     "name": "stdout",
     "output_type": "stream",
     "text": [
      "| column               | data_type |\n",
      "| -------------------- | --------- |\n",
      "| TABC Permit Number   | Text      |\n",
      "| Trade Name           | Text      |\n",
      "| Location Address     | Text      |\n",
      "| Location City        | Text      |\n",
      "| Location State       | Text      |\n",
      "| Location Zip Code    | Text      |\n",
      "| Location County Code | Text      |\n",
      "| Blank                | Boolean   |\n",
      "| Report Period        | Text      |\n",
      "| Report Tax           | Number    |\n",
      "\n"
     ]
    }
   ],
   "source": [
    "print(mixbev_raw)"
   ]
  },
  {
   "cell_type": "code",
   "execution_count": 10,
   "metadata": {
    "collapsed": false,
    "deletable": true,
    "editable": true
   },
   "outputs": [],
   "source": [
    "# This creates a new interim table with results of compute function that\n",
    "# that takes the four columns that need trimming and strips them\n",
    "# adding them to the end of the table with new names\n",
    "mixbev_trim = mixbev_raw.compute([\n",
    "    ('Permit', agate.Formula(agate.Text(), lambda r: r['TABC Permit Number'].strip())),\n",
    "    ('Name', agate.Formula(agate.Text(), lambda r: r['Trade Name'].strip())),\n",
    "    ('Address', agate.Formula(agate.Text(), lambda r: r['Location Address'].strip())),\n",
    "    ('City', agate.Formula(agate.Text(), lambda r: r['Location City'].strip()))\n",
    "])"
   ]
  },
  {
   "cell_type": "code",
   "execution_count": 11,
   "metadata": {
    "collapsed": false,
    "deletable": true,
    "editable": true
   },
   "outputs": [
    {
     "name": "stdout",
     "output_type": "stream",
     "text": [
      "| column               | data_type |\n",
      "| -------------------- | --------- |\n",
      "| TABC Permit Number   | Text      |\n",
      "| Trade Name           | Text      |\n",
      "| Location Address     | Text      |\n",
      "| Location City        | Text      |\n",
      "| Location State       | Text      |\n",
      "| Location Zip Code    | Text      |\n",
      "| Location County Code | Text      |\n",
      "| Blank                | Boolean   |\n",
      "| Report Period        | Text      |\n",
      "| Report Tax           | Number    |\n",
      "| Permit               | Text      |\n",
      "| Name                 | Text      |\n",
      "| Address              | Text      |\n",
      "| City                 | Text      |\n",
      "\n"
     ]
    }
   ],
   "source": [
    "## shows the new columns added to the interim table\n",
    "print(mixbev_trim)"
   ]
  },
  {
   "cell_type": "code",
   "execution_count": 12,
   "metadata": {
    "collapsed": false,
    "deletable": true,
    "editable": true
   },
   "outputs": [],
   "source": [
    "## creates new table with just stuff we need with clean names\n",
    "# new_table = table.select(['3rd_column_name', '1st_column_name', '2nd_column_name'])\n",
    "mixbev_cleaned = mixbev_trim.select([\n",
    "    'Permit',\n",
    "    'Name',\n",
    "    'Address',\n",
    "    'City',\n",
    "    'Location State',\n",
    "    'Location County Code',\n",
    "    'Report Period',\n",
    "    'Report Tax'\n",
    "]).rename(column_names = {\n",
    "    'Location State': 'State',\n",
    "    'Location County Code': 'CountyCode',\n",
    "    'Report Period': 'Period',\n",
    "    'Report Tax': 'Tax'\n",
    "})"
   ]
  },
  {
   "cell_type": "code",
   "execution_count": 13,
   "metadata": {
    "collapsed": false,
    "deletable": true,
    "editable": true
   },
   "outputs": [
    {
     "name": "stdout",
     "output_type": "stream",
     "text": [
      "| column     | data_type |\n",
      "| ---------- | --------- |\n",
      "| Permit     | Text      |\n",
      "| Name       | Text      |\n",
      "| Address    | Text      |\n",
      "| City       | Text      |\n",
      "| State      | Text      |\n",
      "| CountyCode | Text      |\n",
      "| Period     | Text      |\n",
      "| Tax        | Number    |\n",
      "\n"
     ]
    }
   ],
   "source": [
    "## these are now the columns present in our new column\n",
    "print(mixbev_cleaned)"
   ]
  },
  {
   "cell_type": "code",
   "execution_count": 14,
   "metadata": {
    "collapsed": false,
    "deletable": true,
    "editable": true
   },
   "outputs": [
    {
     "name": "stdout",
     "output_type": "stream",
     "text": [
      "| Permit   | Name                 | Address              | City    | State | CountyCode | ... |\n",
      "| -------- | -------------------- | -------------------- | ------- | ----- | ---------- | --- |\n",
      "| MB638028 | ABILENE BEEHIVE INC  | 442 CEDAR ST STE A   | ABILENE | TX    | 221        | ... |\n",
      "| MB543114 | ABILENE BOWLING L... | 279 RUIDOSA AVE      | ABILENE | TX    | 221        | ... |\n",
      "| MB933130 | ABILENE CABARET LLC  | 1918 BUTTERNUT ST    | ABILENE | TX    | 221        | ... |\n",
      "| N 037863 | ABILENE COUNTRY CLUB | 4039 S TREADAWAY ... | ABILENE | TX    | 221        | ... |\n",
      "| MB200506 | ABILENE SEAFOOD T... | 1882 S CLACK ST      | ABILENE | TX    | 221        | ... |\n"
     ]
    }
   ],
   "source": [
    "# and this peeks at the data\n",
    "# I did send this to_csv and made sure columns were trimmed\n",
    "mixbev_cleaned.limit(5).print_table()"
   ]
  },
  {
   "cell_type": "code",
   "execution_count": 15,
   "metadata": {
    "collapsed": false,
    "deletable": true,
    "editable": true
   },
   "outputs": [],
   "source": [
    "# importing countes.csv, ensuring that the 'code' column is text\n",
    "counties = agate.Table.from_csv('counties.csv', column_types={'code': agate.Text()}).rename()"
   ]
  },
  {
   "cell_type": "code",
   "execution_count": 16,
   "metadata": {
    "collapsed": false,
    "deletable": true,
    "editable": true
   },
   "outputs": [
    {
     "name": "stdout",
     "output_type": "stream",
     "text": [
      "| column | data_type |\n",
      "| ------ | --------- |\n",
      "| id     | Number    |\n",
      "| county | Text      |\n",
      "| code   | Text      |\n",
      "\n"
     ]
    }
   ],
   "source": [
    "print(counties)"
   ]
  },
  {
   "cell_type": "code",
   "execution_count": 17,
   "metadata": {
    "collapsed": false,
    "deletable": true,
    "editable": true
   },
   "outputs": [
    {
     "name": "stdout",
     "output_type": "stream",
     "text": [
      "| id | county    | code |\n",
      "| -- | --------- | ---- |\n",
      "|  1 | Anderson  | 001  |\n",
      "|  2 | Andrews   | 002  |\n",
      "|  3 | Angelina  | 003  |\n",
      "|  4 | Aransas   | 004  |\n",
      "|  5 | Archer    | 005  |\n",
      "|  6 | Armstrong | 006  |\n",
      "|  7 | Atascosa  | 007  |\n",
      "|  8 | Austin    | 008  |\n",
      "|  9 | Bailey    | 009  |\n",
      "| 10 | Bandera   | 010  |\n",
      "| 11 | Bastrop   | 011  |\n",
      "| 12 | Baylor    | 012  |\n",
      "| 13 | Bee       | 013  |\n",
      "| 14 | Bell      | 014  |\n",
      "| 15 | Bexar     | 015  |\n",
      "| 16 | Blanco    | 016  |\n",
      "| 17 | Borden    | 017  |\n",
      "| 18 | Bosque    | 018  |\n",
      "| 19 | Bowie     | 019  |\n",
      "| 20 | Brazoria  | 020  |\n",
      "| ... | ...       | ...  |\n"
     ]
    }
   ],
   "source": [
    "counties.print_table()"
   ]
  },
  {
   "cell_type": "code",
   "execution_count": 18,
   "metadata": {
    "collapsed": false,
    "deletable": true,
    "editable": true
   },
   "outputs": [],
   "source": [
    "mixbev_joined = mixbev_cleaned.join(counties, 'CountyCode', 'code')"
   ]
  },
  {
   "cell_type": "code",
   "execution_count": 19,
   "metadata": {
    "collapsed": false,
    "deletable": true,
    "editable": true
   },
   "outputs": [
    {
     "name": "stdout",
     "output_type": "stream",
     "text": [
      "| column     | data_type |\n",
      "| ---------- | --------- |\n",
      "| Permit     | Text      |\n",
      "| Name       | Text      |\n",
      "| Address    | Text      |\n",
      "| City       | Text      |\n",
      "| State      | Text      |\n",
      "| CountyCode | Text      |\n",
      "| Period     | Text      |\n",
      "| Tax        | Number    |\n",
      "| id         | Number    |\n",
      "| county     | Text      |\n",
      "\n"
     ]
    }
   ],
   "source": [
    "print(mixbev_joined)"
   ]
  },
  {
   "cell_type": "code",
   "execution_count": 24,
   "metadata": {
    "collapsed": false,
    "deletable": true,
    "editable": true
   },
   "outputs": [],
   "source": [
    "mixbev = mixbev_joined.select([\n",
    "    'Permit',\n",
    "    'Name',\n",
    "    'Address',\n",
    "    'City',\n",
    "    'State',\n",
    "    'county',\n",
    "    'Period',\n",
    "    'Tax'\n",
    "]).rename(column_names = {\n",
    "    'county': 'County'\n",
    "})"
   ]
  },
  {
   "cell_type": "code",
   "execution_count": 25,
   "metadata": {
    "collapsed": false,
    "deletable": true,
    "editable": true
   },
   "outputs": [
    {
     "name": "stdout",
     "output_type": "stream",
     "text": [
      "| column  | data_type |\n",
      "| ------- | --------- |\n",
      "| Permit  | Text      |\n",
      "| Name    | Text      |\n",
      "| Address | Text      |\n",
      "| City    | Text      |\n",
      "| State   | Text      |\n",
      "| County  | Text      |\n",
      "| Period  | Text      |\n",
      "| Tax     | Number    |\n",
      "\n"
     ]
    }
   ],
   "source": [
    "print(mixbev)"
   ]
  },
  {
   "cell_type": "code",
   "execution_count": 22,
   "metadata": {
    "collapsed": false,
    "deletable": true,
    "editable": true
   },
   "outputs": [
    {
     "name": "stdout",
     "output_type": "stream",
     "text": [
      "| Permit   | Name                 | Address              | City    | State | County | ... |\n",
      "| -------- | -------------------- | -------------------- | ------- | ----- | ------ | --- |\n",
      "| MB638028 | ABILENE BEEHIVE INC  | 442 CEDAR ST STE A   | ABILENE | TX    | Taylor | ... |\n",
      "| MB543114 | ABILENE BOWLING L... | 279 RUIDOSA AVE      | ABILENE | TX    | Taylor | ... |\n",
      "| MB933130 | ABILENE CABARET LLC  | 1918 BUTTERNUT ST    | ABILENE | TX    | Taylor | ... |\n",
      "| N 037863 | ABILENE COUNTRY CLUB | 4039 S TREADAWAY ... | ABILENE | TX    | Taylor | ... |\n",
      "| MB200506 | ABILENE SEAFOOD T... | 1882 S CLACK ST      | ABILENE | TX    | Taylor | ... |\n",
      "| MB541702 | ABUELO'S BEVERAGE... | 4782 S 14TH ST       | ABILENE | TX    | Taylor | ... |\n",
      "| MB932373 | ACE IN THE HOLE      | 133 EPLENS CT        | ABILENE | TX    | Taylor | ... |\n",
      "| MB248134 | BILLIARDS PLUS       | 5495 S 7TH ST        | ABILENE | TX    | Taylor | ... |\n",
      "| MB685388 | BONZAI JAPANESE S... | 1802 S CLACK ST      | ABILENE | TX    | Taylor | ... |\n",
      "| MB701733 | BREAKERS SPORTS BAR  | 1874 S CLACK ST      | ABILENE | TX    | Taylor | ... |\n",
      "| MB937950 | BUFFALO WILD WING... | 1010 E OVERLAND TRL  | ABILENE | TX    | Taylor | ... |\n",
      "| MB537755 | BUFFALO WILD WING... | 4401 RIDGEMONT DR    | ABILENE | TX    | Taylor | ... |\n",
      "| MB139550 | CAHOOTS CATFISH &... | 301 S 11TH ST        | ABILENE | TX    | Taylor | ... |\n",
      "| MB121979 | CASA HERRERA         | 4109 RIDGEMONT DR    | ABILENE | TX    | Taylor | ... |\n",
      "| MB892940 | CHELSEA'S ST PUB     | 4310 BUFFALO GAP ... | ABILENE | TX    | Taylor | ... |\n",
      "| MB892940 | CHELSEA'S ST PUB     | 4310 BUFFALO GAP ... | ABILENE | TX    | Taylor | ... |\n",
      "| MB232328 | CHILI'S GRILL & BAR  | 4302 S CLACK ST      | ABILENE | TX    | Taylor | ... |\n",
      "| MB163912 | CHILIS GRILL & BAR   | 1702 HWY 351         | ABILENE | TX    | Taylor | ... |\n",
      "| MB580409 | COPPER CREEK FINE... | 4401 LOOP 322        | ABILENE | TX    | Taylor | ... |\n",
      "| MB864640 | COURTYARD BY MARR... | 4350 RIDGEMONT DR    | ABILENE | TX    | Taylor | ... |\n",
      "| ...      | ...                  | ...                  | ...     | ...   | ...    | ... |\n"
     ]
    }
   ],
   "source": [
    "mixbev.print_table()"
   ]
  },
  {
   "cell_type": "markdown",
   "metadata": {},
   "source": [
    "### Looking at dates of the records\n",
    "\n",
    "Here we have to:\n",
    "- create a tableset using group_by by the period\n",
    "- creaet a table using aggregate function to count\n",
    "- create a table to sort the period in reverse order\n",
    "- Then print the sorted table"
   ]
  },
  {
   "cell_type": "code",
   "execution_count": 38,
   "metadata": {
    "collapsed": false,
    "deletable": true,
    "editable": true
   },
   "outputs": [
    {
     "name": "stdout",
     "output_type": "stream",
     "text": [
      "| Period  |  count |\n",
      "| ------- | ------ |\n",
      "| 2017/03 |      1 |\n",
      "| 2017/02 |     33 |\n",
      "| 2017/01 | 14,317 |\n",
      "| 2016/12 |  1,573 |\n",
      "| 2016/11 |    198 |\n",
      "| 2016/10 |     71 |\n",
      "| 2016/09 |     28 |\n",
      "| 2016/08 |     17 |\n",
      "| 2016/07 |     10 |\n",
      "| 2016/06 |      7 |\n",
      "| 2016/05 |      6 |\n",
      "| 2016/04 |      7 |\n",
      "| 2016/03 |      9 |\n",
      "| 2016/02 |      6 |\n",
      "| 2016/01 |      5 |\n",
      "| 2015/12 |      3 |\n",
      "| 2015/11 |      2 |\n",
      "| 2015/10 |      4 |\n",
      "| 2015/09 |      2 |\n",
      "| 2015/08 |      2 |\n",
      "| 2015/07 |      1 |\n",
      "| 2015/06 |      3 |\n",
      "| 2015/05 |      1 |\n",
      "| 2015/04 |      2 |\n",
      "| 2015/03 |      1 |\n",
      "| 2015/02 |      1 |\n",
      "| 2014/12 |      1 |\n",
      "| 2014/08 |      1 |\n",
      "| 2014/06 |      1 |\n",
      "| 2014/05 |      1 |\n",
      "| 2014/04 |      1 |\n",
      "| 2014/03 |      1 |\n",
      "| 2014/02 |      2 |\n",
      "| 2014/01 |      1 |\n"
     ]
    }
   ],
   "source": [
    "by_period = mixbev.group_by('Period')\n",
    "\n",
    "period_totals = by_period.aggregate([\n",
    "    ('count', agate.Count())\n",
    "])\n",
    "\n",
    "period_totals_sorted = period_totals.order_by('Period', reverse=True)\n",
    "\n",
    "period_totals_sorted.print_table(max_rows=None)\n"
   ]
  },
  {
   "cell_type": "markdown",
   "metadata": {},
   "source": [
    "We have an answer here that we need for the future, and that is the period of time that has the most records. If we are studying a particular month of records, we need to set that so we can change it later with a different dataset."
   ]
  },
  {
   "cell_type": "code",
   "execution_count": 39,
   "metadata": {
    "collapsed": true
   },
   "outputs": [],
   "source": [
    "# setting the month_studied var:\n",
    "month_studied = '2017/01'"
   ]
  },
  {
   "cell_type": "markdown",
   "metadata": {},
   "source": [
    "Now we can filter or select the records where the month equals what we want."
   ]
  },
  {
   "cell_type": "code",
   "execution_count": 46,
   "metadata": {
    "collapsed": false
   },
   "outputs": [
    {
     "data": {
      "text/plain": [
       "14317"
      ]
     },
     "execution_count": 46,
     "metadata": {},
     "output_type": "execute_result"
    }
   ],
   "source": [
    "mixbev_month = mixbev.where(lambda row: row['Period'] == month_studied)\n",
    "len(mixbev_month)"
   ]
  },
  {
   "cell_type": "code",
   "execution_count": null,
   "metadata": {
    "collapsed": true
   },
   "outputs": [],
   "source": []
  }
 ],
 "metadata": {
  "kernelspec": {
   "display_name": "Python 3",
   "language": "python",
   "name": "python3"
  },
  "language_info": {
   "codemirror_mode": {
    "name": "ipython",
    "version": 3
   },
   "file_extension": ".py",
   "mimetype": "text/x-python",
   "name": "python",
   "nbconvert_exporter": "python",
   "pygments_lexer": "ipython3",
   "version": "3.6.1"
  }
 },
 "nbformat": 4,
 "nbformat_minor": 2
}
