{
 "cells": [
  {
   "cell_type": "markdown",
   "metadata": {
    "deletable": true,
    "editable": true
   },
   "source": [
    "# Processing mixed beverage data\n",
    "This python notebook uses a python library called [agate](http://agate.readthedocs.io/) to download, clean and process a monthly [Mixed Beverage Gross Receipts](https://comptroller.texas.gov/taxes/mixed-beverage/receipts.php) files from the Texas Comptroller's [data center](https://comptroller.texas.gov/transparency/open-data/search-datasets/) to support [stories similar to this one](http://www.mystatesman.com/business/austin-alcohol-sales-percent-february/Oo2txZUkuDlqBl0rU9O1lJ/) on monthly alcohol sales.\n",
    "\n",
    "This first part of this pulls in python modules that we will use:"
   ]
  },
  {
   "cell_type": "code",
   "execution_count": 1,
   "metadata": {
    "collapsed": false,
    "deletable": true,
    "editable": true
   },
   "outputs": [
    {
     "name": "stderr",
     "output_type": "stream",
     "text": [
      "/Users/christian/anaconda/envs/mixbev/lib/python3.6/json/encoder.py:199: DeprecationWarning: Interpreting naive datetime as local 2017-03-31 16:46:57.994065. Please add timezone info to timestamps.\n"
     ]
    }
   ],
   "source": [
    "import agate\n",
    "from decimal import Decimal\n",
    "import re"
   ]
  },
  {
   "cell_type": "code",
   "execution_count": 2,
   "metadata": {
    "collapsed": false,
    "deletable": true,
    "editable": true
   },
   "outputs": [
    {
     "name": "stderr",
     "output_type": "stream",
     "text": [
      "/Users/christian/anaconda/envs/mixbev/lib/python3.6/json/encoder.py:199: DeprecationWarning: Interpreting naive datetime as local 2017-03-31 16:46:58.577539. Please add timezone info to timestamps.\n"
     ]
    }
   ],
   "source": [
    "# this surpresses the timezone warning\n",
    "# import warnings\n",
    "# warnings.filterwarnings('ignore')"
   ]
  },
  {
   "cell_type": "markdown",
   "metadata": {
    "deletable": true,
    "editable": true
   },
   "source": [
    "### Downloading the file"
   ]
  },
  {
   "cell_type": "code",
   "execution_count": 3,
   "metadata": {
    "collapsed": false,
    "deletable": true,
    "editable": true
   },
   "outputs": [
    {
     "name": "stderr",
     "output_type": "stream",
     "text": [
      "  % Total    % Received % Xferd  Average Speed   Time    Time     Time  Current\n",
      "                                 Dload  Upload   Total   Spent    Left  Speed\n",
      "100 2493k  100 2493k    0     0  1276k      0  0:00:01  0:00:01 --:--:-- 1276k\n",
      "/Users/christian/anaconda/envs/mixbev/lib/python3.6/json/encoder.py:199: DeprecationWarning: Interpreting naive datetime as local 2017-03-31 16:46:58.596052. Please add timezone info to timestamps.\n"
     ]
    }
   ],
   "source": [
    "%%bash\n",
    "## downloads the mixedbev file\n",
    "## You have to set this URL based on the data center\n",
    "curl -O https://comptroller.texas.gov/auto-data/odc/MIXEDBEV_03_2017.CSV"
   ]
  },
  {
   "cell_type": "markdown",
   "metadata": {
    "deletable": true,
    "editable": true
   },
   "source": [
    "\n",
    "There is supposedly a way to call a file from a [remote url](http://agate-remote.readthedocs.io/en/0.2.0/) into agate, but I use bash above to curl the file and store it locally instead.\n",
    "\n",
    "Next, we'll use a bash command to peek at the data, which we know is a mess:"
   ]
  },
  {
   "cell_type": "code",
   "execution_count": 4,
   "metadata": {
    "collapsed": false,
    "deletable": true,
    "editable": true
   },
   "outputs": [
    {
     "name": "stdout",
     "output_type": "stream",
     "text": [
      "\"MB821424    \",\"ABI-HAUS                      \",\"959 N 2ND ST                  \",\"ABILENE             \",\"TX\",\"79601\",\"221\",\"          \",\"2017/01\", 000000523.40\r\n",
      "\"MB638028    \",\"ABILENE BEEHIVE INC           \",\"442 CEDAR ST STE A            \",\"ABILENE             \",\"TX\",\"79601\",\"221\",\"          \",\"2017/02\", 000002610.52\r\n",
      "\"MB543114    \",\"ABILENE BOWLING LANES INC     \",\"279 RUIDOSA AVE               \",\"ABILENE             \",\"TX\",\"79605\",\"221\",\"          \",\"2017/02\", 000000256.27\r\n",
      "\"MB933130    \",\"ABILENE CABARET LLC           \",\"1918 BUTTERNUT ST             \",\"ABILENE             \",\"TX\",\"79602\",\"221\",\"          \",\"2017/02\", 000000699.41\r\n",
      "\"N 037863    \",\"ABILENE COUNTRY CLUB          \",\"4039 S TREADAWAY BLVD         \",\"ABILENE             \",\"TX\",\"79602\",\"221\",\"          \",\"2017/02\", 000001801.63\r\n"
     ]
    },
    {
     "name": "stderr",
     "output_type": "stream",
     "text": [
      "/Users/christian/anaconda/envs/mixbev/lib/python3.6/json/encoder.py:199: DeprecationWarning: Interpreting naive datetime as local 2017-03-31 16:47:00.627713. Please add timezone info to timestamps.\n"
     ]
    }
   ],
   "source": [
    "%%bash\n",
    "head -n 5 MIXEDBEV_03_2017.CSV"
   ]
  },
  {
   "cell_type": "markdown",
   "metadata": {
    "deletable": true,
    "editable": true
   },
   "source": [
    "### Study variables\n",
    "\n",
    "This is where you set which file you are working with, and which month you want to study, etc.\n",
    "\n",
    "First, we'll list the files in our directory that we have downloaded so far so we can get the filename"
   ]
  },
  {
   "cell_type": "code",
   "execution_count": 5,
   "metadata": {
    "collapsed": false,
    "deletable": true,
    "editable": true
   },
   "outputs": [
    {
     "name": "stdout",
     "output_type": "stream",
     "text": [
      "MIXEDBEV_02_2017.CSV         counties.csv\r\n",
      "MIXEDBEV_03_2017.CSV         headers.txt\r\n",
      "Mixed beverages agate.ipynb  mixbev-env.txt\r\n",
      "README.md\r\n"
     ]
    },
    {
     "name": "stderr",
     "output_type": "stream",
     "text": [
      "/Users/christian/anaconda/envs/mixbev/lib/python3.6/json/encoder.py:199: DeprecationWarning: Interpreting naive datetime as local 2017-03-31 16:47:00.666281. Please add timezone info to timestamps.\n"
     ]
    }
   ],
   "source": [
    "ls"
   ]
  },
  {
   "cell_type": "markdown",
   "metadata": {
    "deletable": true,
    "editable": true
   },
   "source": [
    "Then we set some values based on those.\n",
    "\n",
    "- The `file` is the name of the file we want to process\n",
    "- The `month_studied` is the YYYY/MM designation for the month before the file release. The file released in February has mostly records from January, but can also have any other month, so we set here the specific month we want. Note there is a check later on that counts the number of files by month, which is worth checking.\n",
    "- The `city_studied` is a variable to study a specific city, if needed.\n",
    "- The `county_studied` is a variable if you want a county other than Bastrop, Hays, Travis or Williamson."
   ]
  },
  {
   "cell_type": "code",
   "execution_count": 6,
   "metadata": {
    "collapsed": false,
    "deletable": true,
    "editable": true
   },
   "outputs": [
    {
     "name": "stderr",
     "output_type": "stream",
     "text": [
      "/Users/christian/anaconda/envs/mixbev/lib/python3.6/json/encoder.py:199: DeprecationWarning: Interpreting naive datetime as local 2017-03-31 16:47:00.817807. Please add timezone info to timestamps.\n"
     ]
    }
   ],
   "source": [
    "# this is our source file, which may have been downloaded above\n",
    "file = 'MIXEDBEV_03_2017.CSV'\n",
    "\n",
    "# Sets the tax rate to convert Report Tax to Gross Receipts\n",
    "# It's 6.7 since January 1, 2014\n",
    "tax_rate = Decimal('6.7')\n",
    "\n",
    "# setting the month_studied var.\n",
    "# This should be checked in the table below that counts records by month\n",
    "month_studied = '2017/02'\n"
   ]
  },
  {
   "cell_type": "markdown",
   "metadata": {
    "deletable": true,
    "editable": true
   },
   "source": [
    "### Data variables\n",
    "These probalby won't change between analysis or data sets"
   ]
  },
  {
   "cell_type": "code",
   "execution_count": 7,
   "metadata": {
    "collapsed": false,
    "deletable": true,
    "editable": true
   },
   "outputs": [
    {
     "name": "stderr",
     "output_type": "stream",
     "text": [
      "/Users/christian/anaconda/envs/mixbev/lib/python3.6/json/encoder.py:199: DeprecationWarning: Interpreting naive datetime as local 2017-03-31 16:47:00.827817. Please add timezone info to timestamps.\n"
     ]
    }
   ],
   "source": [
    "column_names = [\n",
    "    'TABC Permit Number',\n",
    "    'Trade Name',\n",
    "    'Location Address',\n",
    "    'Location City',\n",
    "    'Location State',\n",
    "    'Location Zip Code',\n",
    "    'Location County Code',\n",
    "    'Blank',\n",
    "    'Report Period',\n",
    "    'Report Tax'\n",
    "]\n",
    "specified_types = {\n",
    "    'Location Zip Code': agate.Text(),\n",
    "    'Location County Code': agate.Text()\n",
    "}"
   ]
  },
  {
   "cell_type": "markdown",
   "metadata": {
    "deletable": true,
    "editable": true
   },
   "source": [
    "### Import the file\n"
   ]
  },
  {
   "cell_type": "code",
   "execution_count": 8,
   "metadata": {
    "collapsed": false,
    "deletable": true,
    "editable": true
   },
   "outputs": [
    {
     "name": "stdout",
     "output_type": "stream",
     "text": [
      "| column               | data_type |\n",
      "| -------------------- | --------- |\n",
      "| TABC Permit Number   | Text      |\n",
      "| Trade Name           | Text      |\n",
      "| Location Address     | Text      |\n",
      "| Location City        | Text      |\n",
      "| Location State       | Text      |\n",
      "| Location Zip Code    | Text      |\n",
      "| Location County Code | Text      |\n",
      "| Blank                | Boolean   |\n",
      "| Report Period        | Text      |\n",
      "| Report Tax           | Number    |\n",
      "\n"
     ]
    },
    {
     "name": "stderr",
     "output_type": "stream",
     "text": [
      "/Users/christian/anaconda/envs/mixbev/lib/python3.6/json/encoder.py:199: DeprecationWarning: Interpreting naive datetime as local 2017-03-31 16:47:00.837849. Please add timezone info to timestamps.\n"
     ]
    }
   ],
   "source": [
    "# this imports the file specified above\n",
    "mixbev_raw = agate.Table.from_csv(file, column_names, encoding='iso-8859-1', column_types=specified_types)\n",
    "\n",
    "# prints table fields\n",
    "print(mixbev_raw)"
   ]
  },
  {
   "cell_type": "markdown",
   "metadata": {
    "deletable": true,
    "editable": true
   },
   "source": [
    "### Clean up text fields and compute gross receipts"
   ]
  },
  {
   "cell_type": "code",
   "execution_count": 9,
   "metadata": {
    "collapsed": false,
    "deletable": true,
    "editable": true
   },
   "outputs": [
    {
     "name": "stderr",
     "output_type": "stream",
     "text": [
      "/Users/christian/anaconda/envs/mixbev/lib/python3.6/json/encoder.py:199: DeprecationWarning: Interpreting naive datetime as local 2017-03-31 16:47:02.155194. Please add timezone info to timestamps.\n"
     ]
    }
   ],
   "source": [
    "# mixbev_trim creates a new interim table with results of compute function\n",
    "# that takes the four columns that need trimming and strips them\n",
    "# adding them to the end of the table with new names\n",
    "# and the last one computes the Gross Receipts based on the tax_rate set above\n",
    "\n",
    "mixbev_trim = mixbev_raw.compute([\n",
    "    ('Permit', agate.Formula(agate.Text(), lambda r: r['TABC Permit Number'].strip())),\n",
    "    ('Name', agate.Formula(agate.Text(), lambda r: r['Trade Name'].strip())),\n",
    "    ('Address', agate.Formula(agate.Text(), lambda r: r['Location Address'].strip())),\n",
    "    ('City', agate.Formula(agate.Text(), lambda r: r['Location City'].strip())),\n",
    "    ('Receipts_compute', agate.Formula(agate.Number(), lambda r: (r['Report Tax'] / tax_rate) * 100))\n",
    "])\n",
    "\n",
    "# the Receipts_compute computation returns as a decimal number, so\n",
    "# this function rounds those numbers. I might refactor this to use elsewhere\n",
    "def round_receipt(row):\n",
    "    return row['Receipts_compute'].quantize(Decimal('0.01'))\n",
    "\n",
    "# This compute method uses round_recipt function above\n",
    "# Creating the table that adds the rounded stuff\n",
    "mixbev_round = mixbev_trim.compute([\n",
    "    ('Receipts', agate.Formula(agate.Number(), round_receipt))\n",
    "])\n"
   ]
  },
  {
   "cell_type": "code",
   "execution_count": 10,
   "metadata": {
    "collapsed": false,
    "deletable": true,
    "editable": true
   },
   "outputs": [
    {
     "name": "stdout",
     "output_type": "stream",
     "text": [
      "| column               | data_type |\n",
      "| -------------------- | --------- |\n",
      "| TABC Permit Number   | Text      |\n",
      "| Trade Name           | Text      |\n",
      "| Location Address     | Text      |\n",
      "| Location City        | Text      |\n",
      "| Location State       | Text      |\n",
      "| Location Zip Code    | Text      |\n",
      "| Location County Code | Text      |\n",
      "| Blank                | Boolean   |\n",
      "| Report Period        | Text      |\n",
      "| Report Tax           | Number    |\n",
      "| Permit               | Text      |\n",
      "| Name                 | Text      |\n",
      "| Address              | Text      |\n",
      "| City                 | Text      |\n",
      "| Receipts_compute     | Number    |\n",
      "| Receipts             | Number    |\n",
      "\n"
     ]
    },
    {
     "name": "stderr",
     "output_type": "stream",
     "text": [
      "/Users/christian/anaconda/envs/mixbev/lib/python3.6/json/encoder.py:199: DeprecationWarning: Interpreting naive datetime as local 2017-03-31 16:47:04.189278. Please add timezone info to timestamps.\n"
     ]
    }
   ],
   "source": [
    "## shows the new columns added to the interim table\n",
    "print(mixbev_round)"
   ]
  },
  {
   "cell_type": "code",
   "execution_count": 11,
   "metadata": {
    "collapsed": false,
    "deletable": true,
    "editable": true
   },
   "outputs": [
    {
     "name": "stderr",
     "output_type": "stream",
     "text": [
      "/Users/christian/anaconda/envs/mixbev/lib/python3.6/json/encoder.py:199: DeprecationWarning: Interpreting naive datetime as local 2017-03-31 16:47:04.207130. Please add timezone info to timestamps.\n"
     ]
    }
   ],
   "source": [
    "## creates new table with just stuff we need with clean names\n",
    "# new_table = table.select(['3rd_column_name', '1st_column_name', '2nd_column_name'])\n",
    "mixbev_cleaned = mixbev_round.select([\n",
    "    'Permit',\n",
    "    'Name',\n",
    "    'Address',\n",
    "    'City',\n",
    "    'Location State',\n",
    "    'Location County Code',\n",
    "    'Report Period',\n",
    "    'Report Tax',\n",
    "    'Receipts'\n",
    "]).rename(column_names = {\n",
    "    'Location State': 'State',\n",
    "    'Location County Code': 'CountyCode',\n",
    "    'Report Period': 'Period',\n",
    "    'Report Tax': 'Tax'\n",
    "})"
   ]
  },
  {
   "cell_type": "code",
   "execution_count": 12,
   "metadata": {
    "collapsed": false,
    "deletable": true,
    "editable": true
   },
   "outputs": [
    {
     "name": "stdout",
     "output_type": "stream",
     "text": [
      "| column     | data_type |\n",
      "| ---------- | --------- |\n",
      "| Permit     | Text      |\n",
      "| Name       | Text      |\n",
      "| Address    | Text      |\n",
      "| City       | Text      |\n",
      "| State      | Text      |\n",
      "| CountyCode | Text      |\n",
      "| Period     | Text      |\n",
      "| Tax        | Number    |\n",
      "| Receipts   | Number    |\n",
      "\n"
     ]
    },
    {
     "name": "stderr",
     "output_type": "stream",
     "text": [
      "/Users/christian/anaconda/envs/mixbev/lib/python3.6/json/encoder.py:199: DeprecationWarning: Interpreting naive datetime as local 2017-03-31 16:47:05.240572. Please add timezone info to timestamps.\n"
     ]
    }
   ],
   "source": [
    "## these are now the columns present in our new column\n",
    "print(mixbev_cleaned)"
   ]
  },
  {
   "cell_type": "code",
   "execution_count": 13,
   "metadata": {
    "collapsed": false,
    "deletable": true,
    "editable": true
   },
   "outputs": [
    {
     "name": "stdout",
     "output_type": "stream",
     "text": [
      "|      Tax |  Receipts |\n",
      "| -------- | --------- |\n",
      "| 2,610.52 | 38,962.99 |\n",
      "|   256.27 |  3,824.93 |\n",
      "|   699.41 | 10,438.96 |\n",
      "| 1,801.63 | 26,890.00 |\n",
      "| 1,782.66 | 26,606.87 |\n"
     ]
    },
    {
     "name": "stderr",
     "output_type": "stream",
     "text": [
      "/Users/christian/anaconda/envs/mixbev/lib/python3.6/json/encoder.py:199: DeprecationWarning: Interpreting naive datetime as local 2017-03-31 16:47:05.270018. Please add timezone info to timestamps.\n"
     ]
    }
   ],
   "source": [
    "# and this peeks at the data\n",
    "# I did send this to_csv and made sure columns were trimmed\n",
    "mixbev_cleaned.select(['Tax','Receipts']).limit(5).print_table()"
   ]
  },
  {
   "cell_type": "markdown",
   "metadata": {
    "deletable": true,
    "editable": true
   },
   "source": [
    "### Create establishment column\n",
    "\n",
    "We do this so we make sure we have single establishments instead of grouping trade names together from different addresses, like 'CHILI'S BAR & GRILL'."
   ]
  },
  {
   "cell_type": "code",
   "execution_count": 14,
   "metadata": {
    "collapsed": false,
    "deletable": true,
    "editable": true
   },
   "outputs": [
    {
     "name": "stdout",
     "output_type": "stream",
     "text": [
      "| column        | data_type |\n",
      "| ------------- | --------- |\n",
      "| Permit        | Text      |\n",
      "| Name          | Text      |\n",
      "| Address       | Text      |\n",
      "| City          | Text      |\n",
      "| State         | Text      |\n",
      "| CountyCode    | Text      |\n",
      "| Period        | Text      |\n",
      "| Tax           | Number    |\n",
      "| Receipts      | Number    |\n",
      "| Establishment | Text      |\n",
      "\n"
     ]
    },
    {
     "name": "stderr",
     "output_type": "stream",
     "text": [
      "/Users/christian/anaconda/envs/mixbev/lib/python3.6/json/encoder.py:199: DeprecationWarning: Interpreting naive datetime as local 2017-03-31 16:47:05.411545. Please add timezone info to timestamps.\n"
     ]
    }
   ],
   "source": [
    "# Concatenates the name and address\n",
    "mixbev_cleaned_est = mixbev_cleaned.compute([\n",
    "    ('Establishment', agate.Formula(agate.Text(), lambda r: '%(Name)s %(Address)s' % r))\n",
    "])\n",
    "\n",
    "# Prints columns so you see it is there\n",
    "print(mixbev_cleaned_est)"
   ]
  },
  {
   "cell_type": "code",
   "execution_count": 15,
   "metadata": {
    "collapsed": false,
    "deletable": true,
    "editable": true
   },
   "outputs": [
    {
     "name": "stdout",
     "output_type": "stream",
     "text": [
      "| Establishment                                      |\n",
      "| -------------------------------------------------- |\n",
      "| ABILENE BEEHIVE INC 442 CEDAR ST STE A             |\n",
      "| ABILENE BOWLING LANES INC 279 RUIDOSA AVE          |\n",
      "| ABILENE CABARET LLC 1918 BUTTERNUT ST              |\n",
      "| ABILENE COUNTRY CLUB 4039 S TREADAWAY BLVD         |\n",
      "| ABILENE SEAFOOD TAVERN 1882 S CLACK ST             |\n",
      "| ABUELO'S BEVERAGE CORPORATION 4782 S 14TH ST       |\n",
      "| ACE IN THE HOLE 133 EPLENS CT                      |\n",
      "| AMNESIA, LLC. 1850 S CLACK ST                      |\n",
      "| BILLIARDS PLUS 5495 S 7TH ST                       |\n",
      "| BONZAI JAPANESE STEAK HOUSE 1802 S CLACK ST        |\n",
      "| BREAKERS SPORTS BAR 1874 S CLACK ST                |\n",
      "| BUFFALO WILD WINGS GRILL & BAR 1010 E OVERLAND TRL |\n",
      "| BUFFALO WILD WINGS GRILL AND B 4401 RIDGEMONT DR   |\n",
      "| CAHOOTS CATFISH & OYSTER BAR/J 301 S 11TH ST       |\n",
      "| CHELSEA'S ST PUB 4310 BUFFALO GAP RD STE 1342      |\n",
      "| CHILI'S GRILL & BAR 4302 S CLACK ST                |\n",
      "| CHILIS GRILL & BAR 1702 HWY 351                    |\n",
      "| COPPER CREEK FINE TEXAS DINING 4401 LOOP 322       |\n",
      "| COURTYARD BY MARRIOTT 4350 RIDGEMONT DR            |\n",
      "| COURTYARD BY MARRIOTT ABILENE 2141 SCOTTISH RD     |\n",
      "| ...                                                |\n"
     ]
    },
    {
     "name": "stderr",
     "output_type": "stream",
     "text": [
      "/Users/christian/anaconda/envs/mixbev/lib/python3.6/json/encoder.py:199: DeprecationWarning: Interpreting naive datetime as local 2017-03-31 16:47:05.956831. Please add timezone info to timestamps.\n"
     ]
    }
   ],
   "source": [
    "# selects and prints Establishment to check what is looks like\n",
    "mixbev_establishment = mixbev_cleaned_est.select('Establishment')\n",
    "mixbev_establishment.print_table(max_column_width=80)"
   ]
  },
  {
   "cell_type": "markdown",
   "metadata": {
    "deletable": true,
    "editable": true
   },
   "source": [
    "### Import and merge counties lookup table\n",
    "We do this to get county names"
   ]
  },
  {
   "cell_type": "code",
   "execution_count": 16,
   "metadata": {
    "collapsed": false,
    "deletable": true,
    "editable": true
   },
   "outputs": [
    {
     "name": "stdout",
     "output_type": "stream",
     "text": [
      "| column | data_type |\n",
      "| ------ | --------- |\n",
      "| id     | Number    |\n",
      "| county | Text      |\n",
      "| code   | Text      |\n",
      "\n"
     ]
    },
    {
     "name": "stderr",
     "output_type": "stream",
     "text": [
      "/Users/christian/anaconda/envs/mixbev/lib/python3.6/json/encoder.py:199: DeprecationWarning: Interpreting naive datetime as local 2017-03-31 16:47:06.055256. Please add timezone info to timestamps.\n"
     ]
    }
   ],
   "source": [
    "# importing countes.csv, ensuring that the 'code' column is text\n",
    "counties = agate.Table.from_csv('counties.csv', column_types={'code': agate.Text()}).rename()\n",
    "\n",
    "# peek at the column names\n",
    "print(counties)"
   ]
  },
  {
   "cell_type": "code",
   "execution_count": 17,
   "metadata": {
    "collapsed": false,
    "deletable": true,
    "editable": true
   },
   "outputs": [
    {
     "name": "stdout",
     "output_type": "stream",
     "text": [
      "| id | county   | code |\n",
      "| -- | -------- | ---- |\n",
      "|  1 | Anderson | 001  |\n",
      "|  2 | Andrews  | 002  |\n",
      "|  3 | Angelina | 003  |\n",
      "|  4 | Aransas  | 004  |\n",
      "|  5 | Archer   | 005  |\n"
     ]
    },
    {
     "name": "stderr",
     "output_type": "stream",
     "text": [
      "/Users/christian/anaconda/envs/mixbev/lib/python3.6/json/encoder.py:199: DeprecationWarning: Interpreting naive datetime as local 2017-03-31 16:47:06.095731. Please add timezone info to timestamps.\n"
     ]
    }
   ],
   "source": [
    "# peek at the data\n",
    "counties.limit(5).print_table()"
   ]
  },
  {
   "cell_type": "code",
   "execution_count": 18,
   "metadata": {
    "collapsed": false,
    "deletable": true,
    "editable": true
   },
   "outputs": [
    {
     "name": "stdout",
     "output_type": "stream",
     "text": [
      "| column        | data_type |\n",
      "| ------------- | --------- |\n",
      "| Permit        | Text      |\n",
      "| Name          | Text      |\n",
      "| Address       | Text      |\n",
      "| City          | Text      |\n",
      "| State         | Text      |\n",
      "| CountyCode    | Text      |\n",
      "| Period        | Text      |\n",
      "| Tax           | Number    |\n",
      "| Receipts      | Number    |\n",
      "| Establishment | Text      |\n",
      "| id            | Number    |\n",
      "| county        | Text      |\n",
      "\n"
     ]
    },
    {
     "name": "stderr",
     "output_type": "stream",
     "text": [
      "/Users/christian/anaconda/envs/mixbev/lib/python3.6/json/encoder.py:199: DeprecationWarning: Interpreting naive datetime as local 2017-03-31 16:47:06.121922. Please add timezone info to timestamps.\n"
     ]
    }
   ],
   "source": [
    "# joines the counties table to the mixed bev cleaned data with establishments\n",
    "mixbev_joined = mixbev_cleaned_est.join(counties, 'CountyCode', 'code')\n",
    "\n",
    "# check that the merge was succesful \n",
    "print(mixbev_joined)"
   ]
  },
  {
   "cell_type": "code",
   "execution_count": 19,
   "metadata": {
    "collapsed": false,
    "deletable": true,
    "editable": true
   },
   "outputs": [
    {
     "name": "stdout",
     "output_type": "stream",
     "text": [
      "| column        | data_type |\n",
      "| ------------- | --------- |\n",
      "| Permit        | Text      |\n",
      "| Name          | Text      |\n",
      "| Address       | Text      |\n",
      "| Establishment | Text      |\n",
      "| City          | Text      |\n",
      "| State         | Text      |\n",
      "| County        | Text      |\n",
      "| Period        | Text      |\n",
      "| Tax           | Number    |\n",
      "| Receipts      | Number    |\n",
      "\n"
     ]
    },
    {
     "name": "stderr",
     "output_type": "stream",
     "text": [
      "/Users/christian/anaconda/envs/mixbev/lib/python3.6/json/encoder.py:199: DeprecationWarning: Interpreting naive datetime as local 2017-03-31 16:47:06.435643. Please add timezone info to timestamps.\n"
     ]
    }
   ],
   "source": [
    "# get just the columns we need and rename county\n",
    "# THIS is the finished, cleaned mixbev table\n",
    "mixbev = mixbev_joined.select([\n",
    "    'Permit',\n",
    "    'Name',\n",
    "    'Address',\n",
    "    'Establishment',\n",
    "    'City',\n",
    "    'State',\n",
    "    'county',\n",
    "    'Period',\n",
    "    'Tax',\n",
    "    'Receipts'\n",
    "]).rename(column_names = {\n",
    "    'county': 'County'\n",
    "})\n",
    "\n",
    "# peek at the column names\n",
    "print(mixbev)"
   ]
  },
  {
   "cell_type": "code",
   "execution_count": 20,
   "metadata": {
    "collapsed": false,
    "deletable": true,
    "editable": true
   },
   "outputs": [
    {
     "name": "stdout",
     "output_type": "stream",
     "text": [
      "| Permit   | Name                 | Address              | Establishment        | City    | State | ... |\n",
      "| -------- | -------------------- | -------------------- | -------------------- | ------- | ----- | --- |\n",
      "| MB638028 | ABILENE BEEHIVE INC  | 442 CEDAR ST STE A   | ABILENE BEEHIVE I... | ABILENE | TX    | ... |\n",
      "| MB543114 | ABILENE BOWLING L... | 279 RUIDOSA AVE      | ABILENE BOWLING L... | ABILENE | TX    | ... |\n",
      "| MB933130 | ABILENE CABARET LLC  | 1918 BUTTERNUT ST    | ABILENE CABARET L... | ABILENE | TX    | ... |\n",
      "| N 037863 | ABILENE COUNTRY CLUB | 4039 S TREADAWAY ... | ABILENE COUNTRY C... | ABILENE | TX    | ... |\n",
      "| MB200506 | ABILENE SEAFOOD T... | 1882 S CLACK ST      | ABILENE SEAFOOD T... | ABILENE | TX    | ... |\n"
     ]
    },
    {
     "name": "stderr",
     "output_type": "stream",
     "text": [
      "/Users/christian/anaconda/envs/mixbev/lib/python3.6/json/encoder.py:199: DeprecationWarning: Interpreting naive datetime as local 2017-03-31 16:47:07.157118. Please add timezone info to timestamps.\n"
     ]
    }
   ],
   "source": [
    "# peek at the table\n",
    "mixbev.limit(5).print_table()"
   ]
  },
  {
   "cell_type": "markdown",
   "metadata": {
    "deletable": true,
    "editable": true
   },
   "source": [
    "### Looking at dates of the records\n",
    "\n",
    "Here we have to:\n",
    "- create a tableset using group_by by the period\n",
    "- create a table using aggregate function to count\n",
    "- create a table to sort the period in reverse order\n",
    "- Then print the sorted table (top 10 rows)"
   ]
  },
  {
   "cell_type": "code",
   "execution_count": 21,
   "metadata": {
    "collapsed": false,
    "deletable": true,
    "editable": true
   },
   "outputs": [
    {
     "name": "stdout",
     "output_type": "stream",
     "text": [
      "| Period  |  count |\n",
      "| ------- | ------ |\n",
      "| 2017/02 | 14,090 |\n",
      "| 2017/01 |  1,423 |\n",
      "| 2016/12 |    141 |\n",
      "| 2016/11 |     52 |\n",
      "| 2017/03 |     32 |\n",
      "| 2016/10 |     26 |\n",
      "| 2016/09 |     21 |\n",
      "| 2016/08 |     13 |\n",
      "| 2016/07 |      9 |\n",
      "| 2016/05 |      8 |\n",
      "| 2016/06 |      8 |\n",
      "| 2016/04 |      5 |\n",
      "| 2016/03 |      4 |\n",
      "| 2015/02 |      4 |\n",
      "| 2016/02 |      3 |\n",
      "| 2014/12 |      3 |\n",
      "| 2014/11 |      3 |\n",
      "| 2015/12 |      2 |\n",
      "| 2009/01 |      2 |\n",
      "| 2014/10 |      2 |\n",
      "| 2015/01 |      2 |\n",
      "| 2015/03 |      2 |\n",
      "| 2015/11 |      1 |\n",
      "| 2011/05 |      1 |\n",
      "| 2011/10 |      1 |\n",
      "| 2016/01 |      1 |\n",
      "| 2014/07 |      1 |\n",
      "| 2015/10 |      1 |\n"
     ]
    },
    {
     "name": "stderr",
     "output_type": "stream",
     "text": [
      "/Users/christian/anaconda/envs/mixbev/lib/python3.6/json/encoder.py:199: DeprecationWarning: Interpreting naive datetime as local 2017-03-31 16:47:07.181575. Please add timezone info to timestamps.\n"
     ]
    }
   ],
   "source": [
    "by_period = mixbev.group_by('Period')\n",
    "\n",
    "period_totals = by_period.aggregate([\n",
    "    ('count', agate.Count())\n",
    "])\n",
    "\n",
    "period_totals_sorted = period_totals.order_by('count', reverse=True)\n",
    "\n",
    "# prints the table of period and number of records\n",
    "period_totals_sorted.print_table(max_rows=None)\n"
   ]
  },
  {
   "cell_type": "markdown",
   "metadata": {
    "deletable": true,
    "editable": true
   },
   "source": [
    "The top value in the table above is typically the month before the reporting date. This shows how many records are filed for OTHER months as well. We want to make sure the top month value is included as the **month_studied** variable at the top of this file.\n",
    "\n",
    "So, now we can filter the data to our specific month, which will use for the rest of the analysis:"
   ]
  },
  {
   "cell_type": "code",
   "execution_count": 22,
   "metadata": {
    "collapsed": false,
    "deletable": true,
    "editable": true
   },
   "outputs": [
    {
     "data": {
      "text/plain": [
       "14090"
      ]
     },
     "execution_count": 22,
     "metadata": {},
     "output_type": "execute_result"
    },
    {
     "name": "stderr",
     "output_type": "stream",
     "text": [
      "/Users/christian/anaconda/envs/mixbev/lib/python3.6/json/encoder.py:199: DeprecationWarning: Interpreting naive datetime as local 2017-03-31 16:47:07.472395. Please add timezone info to timestamps.\n"
     ]
    }
   ],
   "source": [
    "## filters the records to our month_studied\n",
    "mixbev_month = mixbev.where(lambda row: row['Period'] == month_studied)\n",
    "\n",
    "## The number of records in our month\n",
    "len(mixbev_month)"
   ]
  },
  {
   "cell_type": "markdown",
   "metadata": {
    "deletable": true,
    "editable": true
   },
   "source": [
    "## Top sales statewide"
   ]
  },
  {
   "cell_type": "code",
   "execution_count": 23,
   "metadata": {
    "collapsed": false,
    "deletable": true,
    "editable": true
   },
   "outputs": [
    {
     "name": "stdout",
     "output_type": "stream",
     "text": [
      "| Establishment                                           | County  | City        |    Sales_sum |\n",
      "| ------------------------------------------------------- | ------- | ----------- | ------------ |\n",
      "| ARAMARK SPORTS AND ENTERTAINME 211 AT AND T CENTER PKWY | Bexar   | SAN ANTONIO | 2,889,877.91 |\n",
      "| GAYLORD TEXAN 1501 GAYLORD TRL                          | Tarrant | GRAPEVINE   | 1,875,121.94 |\n",
      "| SALC, INC. 2201 N STEMMONS FWY FL 1                     | Dallas  | DALLAS      | 1,384,787.91 |\n",
      "| LEVY RESTAURANTS 2500 VICTORY AVE                       | Dallas  | DALLAS      | 1,254,393.88 |\n",
      "| AT&T STADIUM 1 LEGENDS WAY                              | Tarrant | ARLINGTON   | 1,225,221.94 |\n",
      "| WLS BEVERAGE CO 110 E 2ND ST                            | Travis  | AUSTIN      | 1,191,110.90 |\n",
      "| HILTON AMERICAS - HOUSTON 1600 LAMAR ST                 | Harris  | HOUSTON     | 1,169,312.99 |\n",
      "| HOSPITALITY INTERNATIONAL, INC 23808 RESORT PKWY        | Bexar   | SAN ANTONIO | 1,144,965.97 |\n",
      "| LEVY RESTAURANTS AT TOYOTA CEN 1510 POLK ST             | Harris  | HOUSTON     | 1,112,308.96 |\n",
      "| ARAMARK SPORTS & ENTERTAINMENT 8355 KIRBY DR            | Harris  | HOUSTON     | 1,001,301.94 |\n"
     ]
    },
    {
     "name": "stderr",
     "output_type": "stream",
     "text": [
      "/Users/christian/anaconda/envs/mixbev/lib/python3.6/json/encoder.py:199: DeprecationWarning: Interpreting naive datetime as local 2017-03-31 16:47:07.689661. Please add timezone info to timestamps.\n"
     ]
    }
   ],
   "source": [
    "# groups the data based on Establishment and City\n",
    "mixbev_grouped = mixbev_month.group_by('Establishment').group_by('County').group_by('City')\n",
    "# computes the sales based on the grouping\n",
    "state_summary = mixbev_grouped.aggregate([\n",
    "    ('Sales_sum', agate.Sum('Receipts'))\n",
    "])\n",
    "# sorts the results by most sold\n",
    "state_summary_sorted = state_summary.order_by('Sales_sum', reverse=True)\n",
    "# prints the top 10 results\n",
    "state_summary_sorted.limit(10).print_table(max_column_width=80)\n"
   ]
  },
  {
   "cell_type": "markdown",
   "metadata": {},
   "source": [
    "## Overall statewide sum"
   ]
  },
  {
   "cell_type": "code",
   "execution_count": 24,
   "metadata": {
    "collapsed": false
   },
   "outputs": [
    {
     "data": {
      "text/plain": [
       "Decimal('520914084.60')"
      ]
     },
     "execution_count": 24,
     "metadata": {},
     "output_type": "execute_result"
    },
    {
     "name": "stderr",
     "output_type": "stream",
     "text": [
      "/Users/christian/anaconda/envs/mixbev/lib/python3.6/json/encoder.py:199: DeprecationWarning: Interpreting naive datetime as local 2017-03-31 16:47:14.490538. Please add timezone info to timestamps.\n"
     ]
    }
   ],
   "source": [
    "# summing sales statewide for month\n",
    "mixbev_month.aggregate(agate.Sum('Receipts'))"
   ]
  },
  {
   "cell_type": "markdown",
   "metadata": {},
   "source": [
    "## Location sums function\n",
    "\n",
    "This allows us to pass in a city or county name to filter the monthly receipts table and then sum the Tax and Receipts columns. The result can then be acted on to print or aggreggate.\n",
    "\n",
    "See Austin below to see how it works."
   ]
  },
  {
   "cell_type": "code",
   "execution_count": 25,
   "metadata": {
    "collapsed": false
   },
   "outputs": [
    {
     "name": "stderr",
     "output_type": "stream",
     "text": [
      "/Users/christian/anaconda/envs/mixbev/lib/python3.6/json/encoder.py:199: DeprecationWarning: Interpreting naive datetime as local 2017-03-31 16:47:14.527448. Please add timezone info to timestamps.\n"
     ]
    }
   ],
   "source": [
    "# function to group sales by a specific city\n",
    "# City or County passed in should be ALL CAPS\n",
    "# Location_type can be 'City' or 'County'\n",
    "\n",
    "def location_sum(location, location_type):\n",
    "    # Filters the data to the specified city\n",
    "    location_filtered = mixbev_month.where(lambda row: row[location_type].upper() == location)\n",
    "\n",
    "    # groups the data based on Establishment and location\n",
    "    location_grouped = location_filtered.group_by('Establishment').group_by(location_type)\n",
    "    # computes the sales based on the grouping\n",
    "    location_summary = location_grouped.aggregate([\n",
    "        ('Tax_sum', agate.Sum('Tax')),\n",
    "        ('Receipts_sum', agate.Sum('Receipts'))\n",
    "    ])\n",
    "    # sorts the results by most sold\n",
    "    location_summary_sorted = location_summary.order_by('Receipts_sum', reverse=True)\n",
    "    # prints the top 10 results\n",
    "    \n",
    "    return(location_summary_sorted)\n"
   ]
  },
  {
   "cell_type": "markdown",
   "metadata": {},
   "source": [
    "## Austin sales and sums"
   ]
  },
  {
   "cell_type": "code",
   "execution_count": 26,
   "metadata": {
    "collapsed": false
   },
   "outputs": [
    {
     "name": "stdout",
     "output_type": "stream",
     "text": [
      "| Establishment                                      | City   |   Tax_sum | Receipts_sum |\n",
      "| -------------------------------------------------- | ------ | --------- | ------------ |\n",
      "| WLS BEVERAGE CO 110 E 2ND ST                       | AUSTIN | 79,804.43 | 1,191,110.90 |\n",
      "| ROSE ROOM/ 77 DEGREES 11500 ROCK ROSE AVE          | AUSTIN | 29,873.89 |   445,878.96 |\n",
      "| 400 BAR/CUCARACHA/CHUPACABRA/J 400 E 6TH ST        | AUSTIN | 28,395.13 |   423,807.91 |\n",
      "| THE DOGWOOD DOMAIN 11420 ROCK ROSE AVE STE 700     | AUSTIN | 27,372.64 |   408,546.87 |\n",
      "| KUNG FU SALOON 11501 ROCK ROSE AVE STE 140         | AUSTIN | 23,468.15 |   350,270.90 |\n",
      "| BARTON CREEK COUNTRY CLUB 8212 BARTON CLUB DR      | AUSTIN | 23,065.68 |   344,263.88 |\n",
      "| TOP GOLF 2700 ESPERANZA XING                       | AUSTIN | 22,937.51 |   342,350.90 |\n",
      "| SAN JACINTO BEVERAGE COMPANY L 98 SAN JACINTO BLVD | AUSTIN | 22,361.92 |   333,760.00 |\n",
      "| ALAMO DRAFTHOUSE CINEMA 1120 S LAMAR BLVD          | AUSTIN | 22,324.66 |   333,203.88 |\n",
      "| THE PALAZIO 501 E BEN WHITE BLVD                   | AUSTIN | 21,275.24 |   317,540.90 |\n"
     ]
    },
    {
     "name": "stderr",
     "output_type": "stream",
     "text": [
      "/Users/christian/anaconda/envs/mixbev/lib/python3.6/json/encoder.py:199: DeprecationWarning: Interpreting naive datetime as local 2017-03-31 16:47:14.546999. Please add timezone info to timestamps.\n"
     ]
    }
   ],
   "source": [
    "# uses the city_sum function to filter\n",
    "location_sum('AUSTIN', 'City').limit(10).print_table(max_column_width=60)"
   ]
  },
  {
   "cell_type": "code",
   "execution_count": 27,
   "metadata": {
    "collapsed": false
   },
   "outputs": [
    {
     "name": "stdout",
     "output_type": "stream",
     "text": [
      "Establishment                                      Receipts_sum\n",
      "WLS BEVERAGE CO 110 E 2ND ST                       1,191,110.90 ▓░░░░░░░░░      \n",
      "ROSE ROOM/ 77 DEGREES 11500 ROCK ROSE AVE            445,878.96 ▓░░░            \n",
      "400 BAR/CUCARACHA/CHUPACABRA/J 400 E 6TH ST          423,807.91 ▓░░░            \n",
      "THE DOGWOOD DOMAIN 11420 ROCK ROSE AVE STE 700       408,546.87 ▓░░░            \n",
      "KUNG FU SALOON 11501 ROCK ROSE AVE STE 140           350,270.90 ▓░░░            \n",
      "BARTON CREEK COUNTRY CLUB 8212 BARTON CLUB DR        344,263.88 ▓░░░            \n",
      "TOP GOLF 2700 ESPERANZA XING                         342,350.90 ▓░░░            \n",
      "SAN JACINTO BEVERAGE COMPANY L 98 SAN JACINTO BLVD   333,760.00 ▓░░░            \n",
      "ALAMO DRAFTHOUSE CINEMA 1120 S LAMAR BLVD            333,203.88 ▓░░             \n",
      "THE PALAZIO 501 E BEN WHITE BLVD                     317,540.90 ▓░░             \n",
      "                                                                +--------------+\n",
      "                                                                0      2,000,000\n"
     ]
    },
    {
     "name": "stderr",
     "output_type": "stream",
     "text": [
      "/Users/christian/anaconda/envs/mixbev/lib/python3.6/json/encoder.py:199: DeprecationWarning: Interpreting naive datetime as local 2017-03-31 16:47:15.105012. Please add timezone info to timestamps.\n"
     ]
    }
   ],
   "source": [
    "location_sum('AUSTIN', 'City').limit(10).print_bars('Establishment', 'Receipts_sum', width=80)"
   ]
  },
  {
   "cell_type": "markdown",
   "metadata": {},
   "source": [
    "### Total sales Austin"
   ]
  },
  {
   "cell_type": "code",
   "execution_count": 28,
   "metadata": {
    "collapsed": false
   },
   "outputs": [
    {
     "data": {
      "text/plain": [
       "Decimal('55751374.85')"
      ]
     },
     "execution_count": 28,
     "metadata": {},
     "output_type": "execute_result"
    },
    {
     "name": "stderr",
     "output_type": "stream",
     "text": [
      "/Users/christian/anaconda/envs/mixbev/lib/python3.6/json/encoder.py:199: DeprecationWarning: Interpreting naive datetime as local 2017-03-31 16:47:15.557554. Please add timezone info to timestamps.\n"
     ]
    }
   ],
   "source": [
    "# Austin total sales as s city\n",
    "# This sums the grouped table, but it works\n",
    "location_sum('AUSTIN', 'City').aggregate(agate.Sum('Receipts_sum'))"
   ]
  },
  {
   "cell_type": "markdown",
   "metadata": {},
   "source": [
    "## More Central Texas cities"
   ]
  },
  {
   "cell_type": "code",
   "execution_count": 29,
   "metadata": {
    "collapsed": false
   },
   "outputs": [
    {
     "name": "stdout",
     "output_type": "stream",
     "text": [
      "| Establishment                              | City    |  Tax_sum | Receipts_sum |\n",
      "| ------------------------------------------ | ------- | -------- | ------------ |\n",
      "| OLD TOWN RESTURANT AND BAR/PIN 931 MAIN ST | BASTROP | 4,089.61 |    61,038.96 |\n",
      "| CHILI'S GRILL & BAR 734 HIGHWAY 71 W       | BASTROP | 2,659.63 |    39,695.97 |\n",
      "| NEIGHBOR'S 601 CHESTNUT ST UNIT C          | BASTROP | 1,849.13 |    27,598.96 |\n",
      "| LA HACIENDA RESTAURANT 1800 WALNUT ST      | BASTROP | 1,570.01 |    23,432.99 |\n",
      "| VERANDA 910 MAIN ST                        | BASTROP | 1,420.40 |    21,200.00 |\n"
     ]
    },
    {
     "name": "stderr",
     "output_type": "stream",
     "text": [
      "/Users/christian/anaconda/envs/mixbev/lib/python3.6/json/encoder.py:199: DeprecationWarning: Interpreting naive datetime as local 2017-03-31 16:47:15.928289. Please add timezone info to timestamps.\n"
     ]
    }
   ],
   "source": [
    "location_sum('BASTROP', 'City').limit(5).print_table(max_column_width=60)"
   ]
  },
  {
   "cell_type": "code",
   "execution_count": 32,
   "metadata": {
    "collapsed": false
   },
   "outputs": [
    {
     "name": "stdout",
     "output_type": "stream",
     "text": [
      "| Establishment                                       | City     |  Tax_sum | Receipts_sum |\n",
      "| --------------------------------------------------- | -------- | -------- | ------------ |\n",
      "| WOODY TAVERN AND GRILL, INC. 12801 SHOPS PKWY # 100 | BEE CAVE | 5,130.59 |    76,575.97 |\n",
      "| MAUDIE'S HILL COUNTRY, LLC 12506 SHOPS PKWY         | BEE CAVE | 4,982.45 |    74,364.93 |\n",
      "| CAFE BLUE 12800 HILL COUNTRY BLVD STE               | BEE CAVE | 4,913.11 |    73,330.00 |\n"
     ]
    },
    {
     "name": "stderr",
     "output_type": "stream",
     "text": [
      "/Users/christian/anaconda/envs/mixbev/lib/python3.6/json/encoder.py:199: DeprecationWarning: Interpreting naive datetime as local 2017-03-31 16:53:51.385264. Please add timezone info to timestamps.\n"
     ]
    }
   ],
   "source": [
    "location_sum('BEE CAVE', 'City').limit(3).print_table(max_column_width=60)"
   ]
  },
  {
   "cell_type": "code",
   "execution_count": 33,
   "metadata": {
    "collapsed": false
   },
   "outputs": [
    {
     "name": "stdout",
     "output_type": "stream",
     "text": [
      "| Establishment                       | City |  Tax_sum | Receipts_sum |\n",
      "| ----------------------------------- | ---- | -------- | ------------ |\n",
      "| BUCKS BACKYARD 1750 S FM 1626       | BUDA | 8,278.98 |   123,566.87 |\n",
      "| WILLIE'S JOINT 824 MAIN ST          | BUDA | 3,891.36 |    58,080.00 |\n",
      "| BROOKLYN'S DOWN SOUTH 100 N MAIN ST | BUDA | 3,007.83 |    44,892.99 |\n"
     ]
    },
    {
     "name": "stderr",
     "output_type": "stream",
     "text": [
      "/Users/christian/anaconda/envs/mixbev/lib/python3.6/json/encoder.py:199: DeprecationWarning: Interpreting naive datetime as local 2017-03-31 16:53:51.600840. Please add timezone info to timestamps.\n"
     ]
    }
   ],
   "source": [
    "location_sum('BUDA', 'City').limit(3).print_table(max_column_width=60)"
   ]
  },
  {
   "cell_type": "code",
   "execution_count": 34,
   "metadata": {
    "collapsed": false
   },
   "outputs": [
    {
     "name": "stdout",
     "output_type": "stream",
     "text": [
      "| Establishment                                          | City       |  Tax_sum | Receipts_sum |\n",
      "| ------------------------------------------------------ | ---------- | -------- | ------------ |\n",
      "| CHUY'S 4911 183A TOLL RD                               | CEDAR PARK | 6,960.83 |   103,892.99 |\n",
      "| LUPE TORTILLA MEXICAN RESTAURA 4501 183A TOLL RD STE B | CEDAR PARK | 6,852.29 |   102,272.99 |\n",
      "| BJ'S RESTAURANT & BREWERY 1001 E WHITESTONE BLVD       | CEDAR PARK | 6,217.66 |    92,800.90 |\n"
     ]
    },
    {
     "name": "stderr",
     "output_type": "stream",
     "text": [
      "/Users/christian/anaconda/envs/mixbev/lib/python3.6/json/encoder.py:199: DeprecationWarning: Interpreting naive datetime as local 2017-03-31 16:53:51.778658. Please add timezone info to timestamps.\n"
     ]
    }
   ],
   "source": [
    "location_sum('CEDAR PARK', 'City').limit(3).print_table(max_column_width=60)"
   ]
  },
  {
   "cell_type": "code",
   "execution_count": 35,
   "metadata": {
    "collapsed": false
   },
   "outputs": [
    {
     "name": "stdout",
     "output_type": "stream",
     "text": [
      "| Establishment                                       | City             |  Tax_sum | Receipts_sum |\n",
      "| --------------------------------------------------- | ---------------- | -------- | ------------ |\n",
      "| DEEP EDDY DISTILLING CO 2250 E HIGHWAY 290          | DRIPPING SPRINGS | 4,043.11 |    60,344.93 |\n",
      "| TRUDY'S FOUR STAR 13059 FOUR STAR BLVD              | DRIPPING SPRINGS | 3,532.91 |    52,730.00 |\n",
      "| FLORES MEXICAN RESTAURANT 2440 E HIGHWAY 290 BLDG D | DRIPPING SPRINGS | 3,298.87 |    49,236.87 |\n"
     ]
    },
    {
     "name": "stderr",
     "output_type": "stream",
     "text": [
      "/Users/christian/anaconda/envs/mixbev/lib/python3.6/json/encoder.py:199: DeprecationWarning: Interpreting naive datetime as local 2017-03-31 16:53:51.931071. Please add timezone info to timestamps.\n"
     ]
    }
   ],
   "source": [
    "location_sum('DRIPPING SPRINGS', 'City').limit(3).print_table(max_column_width=60)"
   ]
  },
  {
   "cell_type": "code",
   "execution_count": 36,
   "metadata": {
    "collapsed": false
   },
   "outputs": [
    {
     "name": "stdout",
     "output_type": "stream",
     "text": [
      "| Establishment                            | City       |  Tax_sum | Receipts_sum |\n",
      "| ---------------------------------------- | ---------- | -------- | ------------ |\n",
      "| GATEWAY BEVERAGES, INC 1101 WOODLAWN AVE | GEORGETOWN | 5,975.06 |    89,180.00 |\n",
      "| EL MONUMENTO 205 W 2ND ST                | GEORGETOWN | 5,384.79 |    80,370.00 |\n",
      "| HARDTAILS 1515 N IH 35                   | GEORGETOWN | 4,125.72 |    61,577.91 |\n"
     ]
    },
    {
     "name": "stderr",
     "output_type": "stream",
     "text": [
      "/Users/christian/anaconda/envs/mixbev/lib/python3.6/json/encoder.py:199: DeprecationWarning: Interpreting naive datetime as local 2017-03-31 16:53:52.072753. Please add timezone info to timestamps.\n"
     ]
    }
   ],
   "source": [
    "location_sum('GEORGETOWN', 'City').limit(3).print_table(max_column_width=60)"
   ]
  },
  {
   "cell_type": "code",
   "execution_count": 37,
   "metadata": {
    "collapsed": false
   },
   "outputs": [
    {
     "name": "stdout",
     "output_type": "stream",
     "text": [
      "| Establishment                                       | City |  Tax_sum | Receipts_sum |\n",
      "| --------------------------------------------------- | ---- | -------- | ------------ |\n",
      "| CASA GARCIA'S MEXICAN RESTAURA 5401 FM 1626 STE 300 | KYLE | 4,481.69 |    66,890.90 |\n",
      "| EVO ENTERTAINMENT CENTER 3200 KYLE XING             | KYLE | 3,700.34 |    55,228.96 |\n",
      "| CENTERFIELD SPORTS BAR & GRILL 200 W CENTER ST      | KYLE | 2,481.34 |    37,034.93 |\n"
     ]
    },
    {
     "name": "stderr",
     "output_type": "stream",
     "text": [
      "/Users/christian/anaconda/envs/mixbev/lib/python3.6/json/encoder.py:199: DeprecationWarning: Interpreting naive datetime as local 2017-03-31 16:53:52.247335. Please add timezone info to timestamps.\n"
     ]
    }
   ],
   "source": [
    "location_sum('KYLE', 'City').limit(3).print_table(max_column_width=60)"
   ]
  },
  {
   "cell_type": "code",
   "execution_count": 38,
   "metadata": {
    "collapsed": false
   },
   "outputs": [
    {
     "name": "stdout",
     "output_type": "stream",
     "text": [
      "| Establishment                                        | City       |  Tax_sum | Receipts_sum |\n",
      "| ---------------------------------------------------- | ---------- | -------- | ------------ |\n",
      "| COPPERHEAD GRILL 6115 LOHMANS FORD RD                | LAGO VISTA | 1,150.25 |    17,167.91 |\n",
      "| MARIA'S BAR & GRILL MEXICAN RE 20602 FM 1431 STE 102 | LAGO VISTA |   400.05 |     5,970.90 |\n",
      "| NATURE'S POINT LTD 18206 LAKESHORE POINT BLVD        | LAGO VISTA |     0.00 |         0.00 |\n"
     ]
    },
    {
     "name": "stderr",
     "output_type": "stream",
     "text": [
      "/Users/christian/anaconda/envs/mixbev/lib/python3.6/json/encoder.py:199: DeprecationWarning: Interpreting naive datetime as local 2017-03-31 16:53:52.376844. Please add timezone info to timestamps.\n"
     ]
    }
   ],
   "source": [
    "location_sum('LAGO VISTA', 'City').limit(3).print_table(max_column_width=60)"
   ]
  },
  {
   "cell_type": "code",
   "execution_count": 39,
   "metadata": {
    "collapsed": false
   },
   "outputs": [
    {
     "name": "stdout",
     "output_type": "stream",
     "text": [
      "| Establishment                                        | City    |  Tax_sum | Receipts_sum |\n",
      "| ---------------------------------------------------- | ------- | -------- | ------------ |\n",
      "| THE GROVE WINE BAR AND KITCHEN 3001 RANCH ROAD 620 S | LAKEWAY | 6,376.79 |    95,175.97 |\n",
      "| LAKEWAY RESORT AND SPA 101 LAKEWAY DR                | LAKEWAY | 5,644.21 |    84,241.94 |\n",
      "| HIGH 5 ENTERTAINMENT 1502 RANCH ROAD 620 S           | LAKEWAY | 3,940.80 |    58,817.91 |\n"
     ]
    },
    {
     "name": "stderr",
     "output_type": "stream",
     "text": [
      "/Users/christian/anaconda/envs/mixbev/lib/python3.6/json/encoder.py:199: DeprecationWarning: Interpreting naive datetime as local 2017-03-31 16:53:52.499949. Please add timezone info to timestamps.\n"
     ]
    }
   ],
   "source": [
    "location_sum('LAKEWAY', 'City').limit(3).print_table(max_column_width=60)"
   ]
  },
  {
   "cell_type": "code",
   "execution_count": 40,
   "metadata": {
    "collapsed": false
   },
   "outputs": [
    {
     "name": "stdout",
     "output_type": "stream",
     "text": [
      "| Establishment                                        | City    |  Tax_sum | Receipts_sum |\n",
      "| ---------------------------------------------------- | ------- | -------- | ------------ |\n",
      "| BROOKLYN HEIGHTS PIZZERIA 3550 LAKELINE BLVD STE 135 | LEANDER | 3,345.84 |    49,937.91 |\n",
      "| JARDIN DEL REY 703 S HIGHWAY 183                     | LEANDER | 2,296.82 |    34,280.90 |\n",
      "| TAPATIA JALISCO #3 LLC 651 N US 183                  | LEANDER |   697.93 |    10,416.87 |\n"
     ]
    },
    {
     "name": "stderr",
     "output_type": "stream",
     "text": [
      "/Users/christian/anaconda/envs/mixbev/lib/python3.6/json/encoder.py:199: DeprecationWarning: Interpreting naive datetime as local 2017-03-31 16:53:52.624101. Please add timezone info to timestamps.\n"
     ]
    }
   ],
   "source": [
    "location_sum('LEANDER', 'City').limit(3).print_table(max_column_width=60)"
   ]
  },
  {
   "cell_type": "code",
   "execution_count": 41,
   "metadata": {
    "collapsed": false
   },
   "outputs": [
    {
     "name": "stdout",
     "output_type": "stream",
     "text": [
      "| Establishment                                   | City         |  Tax_sum | Receipts_sum |\n",
      "| ----------------------------------------------- | ------------ | -------- | ------------ |\n",
      "| JARDIN CORONA 15395 W STATE HIGHWAY 29          | LIBERTY HILL | 2,643.88 |    39,460.90 |\n",
      "| MARGARITA'S RESTAURANT 10280 W STATE HIGHWAY 29 | LIBERTY HILL | 1,745.21 |    26,047.91 |\n",
      "| FIRE OAK DISTILLERY 4600 COUNTY ROAD 207        | LIBERTY HILL |     0.00 |         0.00 |\n"
     ]
    },
    {
     "name": "stderr",
     "output_type": "stream",
     "text": [
      "/Users/christian/anaconda/envs/mixbev/lib/python3.6/json/encoder.py:199: DeprecationWarning: Interpreting naive datetime as local 2017-03-31 16:53:52.769728. Please add timezone info to timestamps.\n"
     ]
    }
   ],
   "source": [
    "location_sum('LIBERTY HILL', 'City').limit(3).print_table(max_column_width=60)"
   ]
  },
  {
   "cell_type": "code",
   "execution_count": 42,
   "metadata": {
    "collapsed": false
   },
   "outputs": [
    {
     "name": "stdout",
     "output_type": "stream",
     "text": [
      "| Establishment                             | City         |  Tax_sum | Receipts_sum |\n",
      "| ----------------------------------------- | ------------ | -------- | ------------ |\n",
      "| MAVERICKS 1700 GRAND AVENUE PKWY STE 2    | PFLUGERVILLE | 8,554.82 |   127,683.88 |\n",
      "| LAST CALL 1615 GRAND AVENUE PKWY STE 2    | PFLUGERVILLE | 3,957.62 |    59,068.96 |\n",
      "| WAGNOR BROTHERS 15505 INTERSTATE 35 STE C | PFLUGERVILLE | 3,683.86 |    54,982.99 |\n"
     ]
    },
    {
     "name": "stderr",
     "output_type": "stream",
     "text": [
      "/Users/christian/anaconda/envs/mixbev/lib/python3.6/json/encoder.py:199: DeprecationWarning: Interpreting naive datetime as local 2017-03-31 16:53:52.886200. Please add timezone info to timestamps.\n"
     ]
    }
   ],
   "source": [
    "location_sum('PFLUGERVILLE', 'City').limit(3).print_table(max_column_width=60)"
   ]
  },
  {
   "cell_type": "code",
   "execution_count": 43,
   "metadata": {
    "collapsed": false
   },
   "outputs": [
    {
     "name": "stdout",
     "output_type": "stream",
     "text": [
      "| Establishment                                | City       |  Tax_sum | Receipts_sum |\n",
      "| -------------------------------------------- | ---------- | -------- | ------------ |\n",
      "| JACK ALLEN'S KITCHEN 2500 HOPPE TRL          | ROUND ROCK | 8,504.24 |   126,928.96 |\n",
      "| TWIN PEAKS RESTAURANT 100 LOUIS HENNA BLVD   | ROUND ROCK | 8,482.93 |   126,610.90 |\n",
      "| RICK'S CABARET 3105 S INTERSTATE 35          | ROUND ROCK | 8,407.29 |   125,481.94 |\n",
      "| FAST EDDIE'S NEIGHBORHOOD BILL 100 PARKER DR | ROUND ROCK | 7,910.75 |   118,070.90 |\n",
      "| SALT TRADERS 2850 N INTERSTATE 35            | ROUND ROCK | 7,894.40 |   117,826.87 |\n"
     ]
    },
    {
     "name": "stderr",
     "output_type": "stream",
     "text": [
      "/Users/christian/anaconda/envs/mixbev/lib/python3.6/json/encoder.py:199: DeprecationWarning: Interpreting naive datetime as local 2017-03-31 16:53:53.023284. Please add timezone info to timestamps.\n"
     ]
    }
   ],
   "source": [
    "location_sum('ROUND ROCK', 'City').limit(5).print_table(max_column_width=60)"
   ]
  },
  {
   "cell_type": "code",
   "execution_count": 44,
   "metadata": {
    "collapsed": false
   },
   "outputs": [
    {
     "name": "stdout",
     "output_type": "stream",
     "text": [
      "| Establishment                                       | City       |  Tax_sum | Receipts_sum |\n",
      "| --------------------------------------------------- | ---------- | -------- | ------------ |\n",
      "| THE MARC 120 E SAN ANTONIO ST                       | SAN MARCOS | 9,731.95 |   145,252.99 |\n",
      "| ZELICKS 336 W HOPKINS ST                            | SAN MARCOS | 8,003.01 |   119,447.91 |\n",
      "| PLUCKERS WING BAR 105 N INTERSTATE 35               | SAN MARCOS | 6,545.02 |    97,686.87 |\n",
      "| 54TH STREET RESTAURANT & DRAFT 1303 S INTERSTATE 35 | SAN MARCOS | 6,093.51 |    90,947.91 |\n",
      "| CHIMY'S SAN MARCOS 217 E HOPKINS ST                 | SAN MARCOS | 6,088.22 |    90,868.96 |\n"
     ]
    },
    {
     "name": "stderr",
     "output_type": "stream",
     "text": [
      "/Users/christian/anaconda/envs/mixbev/lib/python3.6/json/encoder.py:199: DeprecationWarning: Interpreting naive datetime as local 2017-03-31 16:53:53.176420. Please add timezone info to timestamps.\n"
     ]
    }
   ],
   "source": [
    "location_sum('SAN MARCOS', 'City').limit(5).print_table(max_column_width=60)"
   ]
  },
  {
   "cell_type": "code",
   "execution_count": 45,
   "metadata": {
    "collapsed": false
   },
   "outputs": [
    {
     "name": "stdout",
     "output_type": "stream",
     "text": [
      "| Establishment                                      | City      |  Tax_sum | Receipts_sum |\n",
      "| -------------------------------------------------- | --------- | -------- | ------------ |\n",
      "| ANGEL'S ICEHOUSE 21815 W HWY 71                    | SPICEWOOD | 3,114.16 |    46,480.00 |\n",
      "| POODIES HILLTOP ROADHOUSE 22308 STATE HIGHWAY 71 W | SPICEWOOD | 2,998.65 |    44,755.97 |\n",
      "| APIS RESTAURANT 23526 STATE HIGHWAY 71 W           | SPICEWOOD | 2,263.93 |    33,790.00 |\n"
     ]
    },
    {
     "name": "stderr",
     "output_type": "stream",
     "text": [
      "/Users/christian/anaconda/envs/mixbev/lib/python3.6/json/encoder.py:199: DeprecationWarning: Interpreting naive datetime as local 2017-03-31 16:53:53.324753. Please add timezone info to timestamps.\n"
     ]
    }
   ],
   "source": [
    "location_sum('SPICEWOOD', 'City').limit(3).print_table(max_column_width=60)"
   ]
  },
  {
   "cell_type": "code",
   "execution_count": 46,
   "metadata": {
    "collapsed": false
   },
   "outputs": [
    {
     "name": "stdout",
     "output_type": "stream",
     "text": [
      "| Establishment                                        | City          |  Tax_sum | Receipts_sum |\n",
      "| ---------------------------------------------------- | ------------- | -------- | ------------ |\n",
      "| DOC'S BACKYARD 5207 BRODIE LN # 100                  | SUNSET VALLEY | 4,704.07 |    70,210.00 |\n",
      "| BJ'S RESTAURANT AND BREWHOUSE 5207 BRODIE LN STE 300 | SUNSET VALLEY | 4,663.20 |    69,600.00 |\n",
      "| CANE ROSSO 4715 S LAMAR BLVD STE 103                 | SUNSET VALLEY | 1,948.09 |    29,075.97 |\n"
     ]
    },
    {
     "name": "stderr",
     "output_type": "stream",
     "text": [
      "/Users/christian/anaconda/envs/mixbev/lib/python3.6/json/encoder.py:199: DeprecationWarning: Interpreting naive datetime as local 2017-03-31 16:53:53.469337. Please add timezone info to timestamps.\n"
     ]
    }
   ],
   "source": [
    "location_sum('SUNSET VALLEY', 'City').limit(3).print_table(max_column_width=60)"
   ]
  },
  {
   "cell_type": "code",
   "execution_count": 47,
   "metadata": {
    "collapsed": false
   },
   "outputs": [
    {
     "name": "stdout",
     "output_type": "stream",
     "text": [
      "| Establishment                                               | City            |  Tax_sum | Receipts_sum |\n",
      "| ----------------------------------------------------------- | --------------- | -------- | ------------ |\n",
      "| LUPE TORTILLA MEXICAN RESTAURA 701 S CAPITAL OF TEXAS HWY S | WEST LAKE HILLS | 5,737.34 |    85,631.94 |\n",
      "| CHIPOTLE CHIPOTLE MEXICAN GRIL 3300 BEE CAVES RD STE 670    | WEST LAKE HILLS |    25.92 |       386.87 |\n"
     ]
    },
    {
     "name": "stderr",
     "output_type": "stream",
     "text": [
      "/Users/christian/anaconda/envs/mixbev/lib/python3.6/json/encoder.py:199: DeprecationWarning: Interpreting naive datetime as local 2017-03-31 16:53:53.586804. Please add timezone info to timestamps.\n"
     ]
    }
   ],
   "source": [
    "location_sum('WEST LAKE HILLS', 'City').limit(3).print_table(max_column_width=60)"
   ]
  },
  {
   "cell_type": "markdown",
   "metadata": {},
   "source": [
    "## County location example"
   ]
  },
  {
   "cell_type": "code",
   "execution_count": 48,
   "metadata": {
    "collapsed": false
   },
   "outputs": [
    {
     "name": "stdout",
     "output_type": "stream",
     "text": [
      "| Establishment                                      | County |   Tax_sum | Receipts_sum |\n",
      "| -------------------------------------------------- | ------ | --------- | ------------ |\n",
      "| WLS BEVERAGE CO 110 E 2ND ST                       | Travis | 79,804.43 | 1,191,110.90 |\n",
      "| ROSE ROOM/ 77 DEGREES 11500 ROCK ROSE AVE          | Travis | 29,873.89 |   445,878.96 |\n",
      "| 400 BAR/CUCARACHA/CHUPACABRA/J 400 E 6TH ST        | Travis | 28,395.13 |   423,807.91 |\n",
      "| THE DOGWOOD DOMAIN 11420 ROCK ROSE AVE STE 700     | Travis | 27,372.64 |   408,546.87 |\n",
      "| KUNG FU SALOON 11501 ROCK ROSE AVE STE 140         | Travis | 23,468.15 |   350,270.90 |\n",
      "| BARTON CREEK COUNTRY CLUB 8212 BARTON CLUB DR      | Travis | 23,065.68 |   344,263.88 |\n",
      "| TOP GOLF 2700 ESPERANZA XING                       | Travis | 22,937.51 |   342,350.90 |\n",
      "| SAN JACINTO BEVERAGE COMPANY L 98 SAN JACINTO BLVD | Travis | 22,361.92 |   333,760.00 |\n",
      "| ALAMO DRAFTHOUSE CINEMA 1120 S LAMAR BLVD          | Travis | 22,324.66 |   333,203.88 |\n",
      "| THE PALAZIO 501 E BEN WHITE BLVD                   | Travis | 21,275.24 |   317,540.90 |\n"
     ]
    },
    {
     "name": "stderr",
     "output_type": "stream",
     "text": [
      "/Users/christian/anaconda/envs/mixbev/lib/python3.6/json/encoder.py:199: DeprecationWarning: Interpreting naive datetime as local 2017-03-31 16:53:53.710402. Please add timezone info to timestamps.\n"
     ]
    }
   ],
   "source": [
    "location_sum('TRAVIS', 'County').limit(10).print_table(max_column_width=80)"
   ]
  },
  {
   "cell_type": "code",
   "execution_count": null,
   "metadata": {
    "collapsed": true,
    "deletable": true,
    "editable": true
   },
   "outputs": [],
   "source": []
  }
 ],
 "metadata": {
  "kernelspec": {
   "display_name": "Python 3",
   "language": "python",
   "name": "python3"
  },
  "language_info": {
   "codemirror_mode": {
    "name": "ipython",
    "version": 3
   },
   "file_extension": ".py",
   "mimetype": "text/x-python",
   "name": "python",
   "nbconvert_exporter": "python",
   "pygments_lexer": "ipython3",
   "version": "3.6.1"
  }
 },
 "nbformat": 4,
 "nbformat_minor": 2
}
