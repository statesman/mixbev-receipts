{
 "cells": [
  {
   "cell_type": "code",
   "execution_count": 4,
   "metadata": {
    "collapsed": true,
    "deletable": true,
    "editable": true
   },
   "outputs": [],
   "source": [
    "import warnings\n",
    "warnings.filterwarnings('ignore')"
   ]
  },
  {
   "cell_type": "code",
   "execution_count": 5,
   "metadata": {
    "collapsed": false,
    "deletable": true,
    "editable": true
   },
   "outputs": [],
   "source": [
    "import agate"
   ]
  },
  {
   "cell_type": "code",
   "execution_count": 3,
   "metadata": {
    "collapsed": false,
    "deletable": true,
    "editable": true
   },
   "outputs": [
    {
     "name": "stderr",
     "output_type": "stream",
     "text": [
      "  % Total    % Received % Xferd  Average Speed   Time    Time     Time  Current\n",
      "                                 Dload  Upload   Total   Spent    Left  Speed\n",
      "100 2565k  100 2565k    0     0  1379k      0  0:00:01  0:00:01 --:--:-- 1414k\n",
      "/Users/christian/anaconda/envs/mixbev/lib/python3.6/json/encoder.py:199: DeprecationWarning: Interpreting naive datetime as local 2017-03-26 20:00:59.998856. Please add timezone info to timestamps.\n"
     ]
    }
   ],
   "source": [
    "%%bash\n",
    "## download the mixedbev file\n",
    "curl -L -O https://comptroller.texas.gov/auto-data/odc/MIXEDBEV_02_2017.CSV"
   ]
  },
  {
   "cell_type": "code",
   "execution_count": 6,
   "metadata": {
    "collapsed": false,
    "deletable": true,
    "editable": true
   },
   "outputs": [
    {
     "name": "stdout",
     "output_type": "stream",
     "text": [
      "\"MB821424    \",\"ABI-HAUS                      \",\"959 N 2ND ST                  \",\"ABILENE             \",\"TX\",\"79601\",\"221\",\"          \",\"2016/12\", 000000637.97\r\n",
      "\"MB638028    \",\"ABILENE BEEHIVE INC           \",\"442 CEDAR ST STE A            \",\"ABILENE             \",\"TX\",\"79601\",\"221\",\"          \",\"2017/01\", 000002557.12\r\n",
      "\"MB543114    \",\"ABILENE BOWLING LANES INC     \",\"279 RUIDOSA AVE               \",\"ABILENE             \",\"TX\",\"79605\",\"221\",\"          \",\"2017/01\", 000000287.49\r\n",
      "\"MB933130    \",\"ABILENE CABARET LLC           \",\"1918 BUTTERNUT ST             \",\"ABILENE             \",\"TX\",\"79602\",\"221\",\"          \",\"2017/01\", 000000988.04\r\n",
      "\"N 037863    \",\"ABILENE COUNTRY CLUB          \",\"4039 S TREADAWAY BLVD         \",\"ABILENE             \",\"TX\",\"79602\",\"221\",\"          \",\"2017/01\", 000002068.82\r\n"
     ]
    }
   ],
   "source": [
    "%%bash\n",
    "head -n 5 MIXEDBEV_02_2017.CSV"
   ]
  },
  {
   "cell_type": "markdown",
   "metadata": {},
   "source": [
    "### Study variables\n",
    "These are set here depending on what city or county you want to study"
   ]
  },
  {
   "cell_type": "code",
   "execution_count": 111,
   "metadata": {
    "collapsed": true
   },
   "outputs": [],
   "source": [
    "# this is our source file, which may have been downloaded above\n",
    "file = 'MIXEDBEV_02_2017.CSV'\n",
    "\n",
    "# city studied needs to be all caps\n",
    "city_studied = 'ROUND ROCK'\n",
    "\n",
    "# county studied\n",
    "county_studied = 'BASTROP'"
   ]
  },
  {
   "cell_type": "markdown",
   "metadata": {},
   "source": [
    "### Data variables\n",
    "These probalby won't change between analysis or data sets"
   ]
  },
  {
   "cell_type": "code",
   "execution_count": 94,
   "metadata": {
    "collapsed": false,
    "deletable": true,
    "editable": true
   },
   "outputs": [],
   "source": [
    "column_names = [\n",
    "    'TABC Permit Number',\n",
    "    'Trade Name',\n",
    "    'Location Address',\n",
    "    'Location City',\n",
    "    'Location State',\n",
    "    'Location Zip Code',\n",
    "    'Location County Code',\n",
    "    'Blank',\n",
    "    'Report Period',\n",
    "    'Report Tax'\n",
    "]\n",
    "specified_types = {\n",
    "    'Location Zip Code': agate.Text(),\n",
    "    'Location County Code': agate.Text()\n",
    "}"
   ]
  },
  {
   "cell_type": "markdown",
   "metadata": {},
   "source": [
    "### Processing the file"
   ]
  },
  {
   "cell_type": "code",
   "execution_count": 98,
   "metadata": {
    "collapsed": false,
    "deletable": true,
    "editable": true
   },
   "outputs": [
    {
     "name": "stdout",
     "output_type": "stream",
     "text": [
      "| column               | data_type |\n",
      "| -------------------- | --------- |\n",
      "| TABC Permit Number   | Text      |\n",
      "| Trade Name           | Text      |\n",
      "| Location Address     | Text      |\n",
      "| Location City        | Text      |\n",
      "| Location State       | Text      |\n",
      "| Location Zip Code    | Text      |\n",
      "| Location County Code | Text      |\n",
      "| Blank                | Boolean   |\n",
      "| Report Period        | Text      |\n",
      "| Report Tax           | Number    |\n",
      "\n"
     ]
    }
   ],
   "source": [
    "# this imports the file specified above\n",
    "mixbev_raw = agate.Table.from_csv(file, column_names, encoding='iso-8859-1', column_types=specified_types)\n",
    "# prints table fields\n",
    "print(mixbev_raw)"
   ]
  },
  {
   "cell_type": "code",
   "execution_count": 99,
   "metadata": {
    "collapsed": false,
    "deletable": true,
    "editable": true
   },
   "outputs": [],
   "source": [
    "# This creates a new interim table with results of compute function\n",
    "# that takes the four columns that need trimming and strips them\n",
    "# adding them to the end of the table with new names\n",
    "mixbev_trim = mixbev_raw.compute([\n",
    "    ('Permit', agate.Formula(agate.Text(), lambda r: r['TABC Permit Number'].strip())),\n",
    "    ('Name', agate.Formula(agate.Text(), lambda r: r['Trade Name'].strip())),\n",
    "    ('Address', agate.Formula(agate.Text(), lambda r: r['Location Address'].strip())),\n",
    "    ('City', agate.Formula(agate.Text(), lambda r: r['Location City'].strip()))\n",
    "])"
   ]
  },
  {
   "cell_type": "code",
   "execution_count": 11,
   "metadata": {
    "collapsed": false,
    "deletable": true,
    "editable": true
   },
   "outputs": [
    {
     "name": "stdout",
     "output_type": "stream",
     "text": [
      "| column               | data_type |\n",
      "| -------------------- | --------- |\n",
      "| TABC Permit Number   | Text      |\n",
      "| Trade Name           | Text      |\n",
      "| Location Address     | Text      |\n",
      "| Location City        | Text      |\n",
      "| Location State       | Text      |\n",
      "| Location Zip Code    | Text      |\n",
      "| Location County Code | Text      |\n",
      "| Blank                | Boolean   |\n",
      "| Report Period        | Text      |\n",
      "| Report Tax           | Number    |\n",
      "| Permit               | Text      |\n",
      "| Name                 | Text      |\n",
      "| Address              | Text      |\n",
      "| City                 | Text      |\n",
      "\n"
     ]
    }
   ],
   "source": [
    "## shows the new columns added to the interim table\n",
    "print(mixbev_trim)"
   ]
  },
  {
   "cell_type": "code",
   "execution_count": 12,
   "metadata": {
    "collapsed": false,
    "deletable": true,
    "editable": true
   },
   "outputs": [],
   "source": [
    "## creates new table with just stuff we need with clean names\n",
    "# new_table = table.select(['3rd_column_name', '1st_column_name', '2nd_column_name'])\n",
    "mixbev_cleaned = mixbev_trim.select([\n",
    "    'Permit',\n",
    "    'Name',\n",
    "    'Address',\n",
    "    'City',\n",
    "    'Location State',\n",
    "    'Location County Code',\n",
    "    'Report Period',\n",
    "    'Report Tax'\n",
    "]).rename(column_names = {\n",
    "    'Location State': 'State',\n",
    "    'Location County Code': 'CountyCode',\n",
    "    'Report Period': 'Period',\n",
    "    'Report Tax': 'Tax'\n",
    "})"
   ]
  },
  {
   "cell_type": "code",
   "execution_count": 13,
   "metadata": {
    "collapsed": false,
    "deletable": true,
    "editable": true
   },
   "outputs": [
    {
     "name": "stdout",
     "output_type": "stream",
     "text": [
      "| column     | data_type |\n",
      "| ---------- | --------- |\n",
      "| Permit     | Text      |\n",
      "| Name       | Text      |\n",
      "| Address    | Text      |\n",
      "| City       | Text      |\n",
      "| State      | Text      |\n",
      "| CountyCode | Text      |\n",
      "| Period     | Text      |\n",
      "| Tax        | Number    |\n",
      "\n"
     ]
    }
   ],
   "source": [
    "## these are now the columns present in our new column\n",
    "print(mixbev_cleaned)"
   ]
  },
  {
   "cell_type": "code",
   "execution_count": 14,
   "metadata": {
    "collapsed": false,
    "deletable": true,
    "editable": true
   },
   "outputs": [
    {
     "name": "stdout",
     "output_type": "stream",
     "text": [
      "| Permit   | Name                 | Address              | City    | State | CountyCode | ... |\n",
      "| -------- | -------------------- | -------------------- | ------- | ----- | ---------- | --- |\n",
      "| MB638028 | ABILENE BEEHIVE INC  | 442 CEDAR ST STE A   | ABILENE | TX    | 221        | ... |\n",
      "| MB543114 | ABILENE BOWLING L... | 279 RUIDOSA AVE      | ABILENE | TX    | 221        | ... |\n",
      "| MB933130 | ABILENE CABARET LLC  | 1918 BUTTERNUT ST    | ABILENE | TX    | 221        | ... |\n",
      "| N 037863 | ABILENE COUNTRY CLUB | 4039 S TREADAWAY ... | ABILENE | TX    | 221        | ... |\n",
      "| MB200506 | ABILENE SEAFOOD T... | 1882 S CLACK ST      | ABILENE | TX    | 221        | ... |\n"
     ]
    }
   ],
   "source": [
    "# and this peeks at the data\n",
    "# I did send this to_csv and made sure columns were trimmed\n",
    "mixbev_cleaned.limit(5).print_table()"
   ]
  },
  {
   "cell_type": "markdown",
   "metadata": {},
   "source": [
    "### Create establishment column\n",
    "\n",
    "We do this so we make sure we have single establishments instead of grouping trade names together from different addresses, like 'CHILI'S BAR & GRILL'."
   ]
  },
  {
   "cell_type": "code",
   "execution_count": 74,
   "metadata": {
    "collapsed": false
   },
   "outputs": [],
   "source": [
    "mixbev_cleaned_est = mixbev_cleaned.compute([\n",
    "    ('Establishment', agate.Formula(agate.Text(), lambda r: '%(Name)s %(Address)s' % r))\n",
    "])"
   ]
  },
  {
   "cell_type": "code",
   "execution_count": 75,
   "metadata": {
    "collapsed": false
   },
   "outputs": [
    {
     "name": "stdout",
     "output_type": "stream",
     "text": [
      "| column        | data_type |\n",
      "| ------------- | --------- |\n",
      "| Permit        | Text      |\n",
      "| Name          | Text      |\n",
      "| Address       | Text      |\n",
      "| City          | Text      |\n",
      "| State         | Text      |\n",
      "| CountyCode    | Text      |\n",
      "| Period        | Text      |\n",
      "| Tax           | Number    |\n",
      "| Establishment | Text      |\n",
      "\n"
     ]
    }
   ],
   "source": [
    "print(mixbev_cleaned_est)"
   ]
  },
  {
   "cell_type": "code",
   "execution_count": 76,
   "metadata": {
    "collapsed": false
   },
   "outputs": [
    {
     "name": "stdout",
     "output_type": "stream",
     "text": [
      "| Establishment                                      |\n",
      "| -------------------------------------------------- |\n",
      "| ABILENE BEEHIVE INC 442 CEDAR ST STE A             |\n",
      "| ABILENE BOWLING LANES INC 279 RUIDOSA AVE          |\n",
      "| ABILENE CABARET LLC 1918 BUTTERNUT ST              |\n",
      "| ABILENE COUNTRY CLUB 4039 S TREADAWAY BLVD         |\n",
      "| ABILENE SEAFOOD TAVERN 1882 S CLACK ST             |\n",
      "| ABUELO'S BEVERAGE CORPORATION 4782 S 14TH ST       |\n",
      "| ACE IN THE HOLE 133 EPLENS CT                      |\n",
      "| BILLIARDS PLUS 5495 S 7TH ST                       |\n",
      "| BONZAI JAPANESE STEAK HOUSE 1802 S CLACK ST        |\n",
      "| BREAKERS SPORTS BAR 1874 S CLACK ST                |\n",
      "| BUFFALO WILD WINGS GRILL & BAR 1010 E OVERLAND TRL |\n",
      "| BUFFALO WILD WINGS GRILL AND B 4401 RIDGEMONT DR   |\n",
      "| CAHOOTS CATFISH & OYSTER BAR/J 301 S 11TH ST       |\n",
      "| CASA HERRERA 4109 RIDGEMONT DR                     |\n",
      "| CHELSEA'S ST PUB 4310 BUFFALO GAP RD STE 1342      |\n",
      "| CHELSEA'S ST PUB 4310 BUFFALO GAP RD STE 1342      |\n",
      "| CHILI'S GRILL & BAR 4302 S CLACK ST                |\n",
      "| CHILIS GRILL & BAR 1702 HWY 351                    |\n",
      "| COPPER CREEK FINE TEXAS DINING 4401 LOOP 322       |\n",
      "| COURTYARD BY MARRIOTT 4350 RIDGEMONT DR            |\n",
      "| ...                                                |\n"
     ]
    }
   ],
   "source": [
    "mixbev_establishment = mixbev_cleaned_est.select('Establishment')\n",
    "mixbev_establishment.print_table(max_column_width=80)"
   ]
  },
  {
   "cell_type": "code",
   "execution_count": 77,
   "metadata": {
    "collapsed": false,
    "deletable": true,
    "editable": true
   },
   "outputs": [],
   "source": [
    "# importing countes.csv, ensuring that the 'code' column is text\n",
    "counties = agate.Table.from_csv('counties.csv', column_types={'code': agate.Text()}).rename()"
   ]
  },
  {
   "cell_type": "code",
   "execution_count": 78,
   "metadata": {
    "collapsed": false,
    "deletable": true,
    "editable": true
   },
   "outputs": [
    {
     "name": "stdout",
     "output_type": "stream",
     "text": [
      "| column | data_type |\n",
      "| ------ | --------- |\n",
      "| id     | Number    |\n",
      "| county | Text      |\n",
      "| code   | Text      |\n",
      "\n"
     ]
    }
   ],
   "source": [
    "print(counties)"
   ]
  },
  {
   "cell_type": "code",
   "execution_count": 79,
   "metadata": {
    "collapsed": false,
    "deletable": true,
    "editable": true
   },
   "outputs": [
    {
     "name": "stdout",
     "output_type": "stream",
     "text": [
      "| id | county    | code |\n",
      "| -- | --------- | ---- |\n",
      "|  1 | Anderson  | 001  |\n",
      "|  2 | Andrews   | 002  |\n",
      "|  3 | Angelina  | 003  |\n",
      "|  4 | Aransas   | 004  |\n",
      "|  5 | Archer    | 005  |\n",
      "|  6 | Armstrong | 006  |\n",
      "|  7 | Atascosa  | 007  |\n",
      "|  8 | Austin    | 008  |\n",
      "|  9 | Bailey    | 009  |\n",
      "| 10 | Bandera   | 010  |\n",
      "| 11 | Bastrop   | 011  |\n",
      "| 12 | Baylor    | 012  |\n",
      "| 13 | Bee       | 013  |\n",
      "| 14 | Bell      | 014  |\n",
      "| 15 | Bexar     | 015  |\n",
      "| 16 | Blanco    | 016  |\n",
      "| 17 | Borden    | 017  |\n",
      "| 18 | Bosque    | 018  |\n",
      "| 19 | Bowie     | 019  |\n",
      "| 20 | Brazoria  | 020  |\n",
      "| ... | ...       | ...  |\n"
     ]
    }
   ],
   "source": [
    "counties.print_table()"
   ]
  },
  {
   "cell_type": "code",
   "execution_count": 80,
   "metadata": {
    "collapsed": false,
    "deletable": true,
    "editable": true
   },
   "outputs": [],
   "source": [
    "mixbev_joined = mixbev_cleaned_est.join(counties, 'CountyCode', 'code')"
   ]
  },
  {
   "cell_type": "code",
   "execution_count": 81,
   "metadata": {
    "collapsed": false,
    "deletable": true,
    "editable": true
   },
   "outputs": [
    {
     "name": "stdout",
     "output_type": "stream",
     "text": [
      "| column        | data_type |\n",
      "| ------------- | --------- |\n",
      "| Permit        | Text      |\n",
      "| Name          | Text      |\n",
      "| Address       | Text      |\n",
      "| City          | Text      |\n",
      "| State         | Text      |\n",
      "| CountyCode    | Text      |\n",
      "| Period        | Text      |\n",
      "| Tax           | Number    |\n",
      "| Establishment | Text      |\n",
      "| id            | Number    |\n",
      "| county        | Text      |\n",
      "\n"
     ]
    }
   ],
   "source": [
    "print(mixbev_joined)"
   ]
  },
  {
   "cell_type": "code",
   "execution_count": 82,
   "metadata": {
    "collapsed": false,
    "deletable": true,
    "editable": true
   },
   "outputs": [],
   "source": [
    "mixbev = mixbev_joined.select([\n",
    "    'Permit',\n",
    "    'Name',\n",
    "    'Address',\n",
    "    'Establishment',\n",
    "    'City',\n",
    "    'State',\n",
    "    'county',\n",
    "    'Period',\n",
    "    'Tax'\n",
    "]).rename(column_names = {\n",
    "    'county': 'County'\n",
    "})"
   ]
  },
  {
   "cell_type": "code",
   "execution_count": 83,
   "metadata": {
    "collapsed": false,
    "deletable": true,
    "editable": true
   },
   "outputs": [
    {
     "name": "stdout",
     "output_type": "stream",
     "text": [
      "| column        | data_type |\n",
      "| ------------- | --------- |\n",
      "| Permit        | Text      |\n",
      "| Name          | Text      |\n",
      "| Address       | Text      |\n",
      "| Establishment | Text      |\n",
      "| City          | Text      |\n",
      "| State         | Text      |\n",
      "| County        | Text      |\n",
      "| Period        | Text      |\n",
      "| Tax           | Number    |\n",
      "\n"
     ]
    }
   ],
   "source": [
    "print(mixbev)"
   ]
  },
  {
   "cell_type": "code",
   "execution_count": 84,
   "metadata": {
    "collapsed": false,
    "deletable": true,
    "editable": true
   },
   "outputs": [
    {
     "name": "stdout",
     "output_type": "stream",
     "text": [
      "| Permit   | Name                 | Address              | Establishment        | City    | State | ... |\n",
      "| -------- | -------------------- | -------------------- | -------------------- | ------- | ----- | --- |\n",
      "| MB638028 | ABILENE BEEHIVE INC  | 442 CEDAR ST STE A   | ABILENE BEEHIVE I... | ABILENE | TX    | ... |\n",
      "| MB543114 | ABILENE BOWLING L... | 279 RUIDOSA AVE      | ABILENE BOWLING L... | ABILENE | TX    | ... |\n",
      "| MB933130 | ABILENE CABARET LLC  | 1918 BUTTERNUT ST    | ABILENE CABARET L... | ABILENE | TX    | ... |\n",
      "| N 037863 | ABILENE COUNTRY CLUB | 4039 S TREADAWAY ... | ABILENE COUNTRY C... | ABILENE | TX    | ... |\n",
      "| MB200506 | ABILENE SEAFOOD T... | 1882 S CLACK ST      | ABILENE SEAFOOD T... | ABILENE | TX    | ... |\n",
      "| MB541702 | ABUELO'S BEVERAGE... | 4782 S 14TH ST       | ABUELO'S BEVERAGE... | ABILENE | TX    | ... |\n",
      "| MB932373 | ACE IN THE HOLE      | 133 EPLENS CT        | ACE IN THE HOLE 1... | ABILENE | TX    | ... |\n",
      "| MB248134 | BILLIARDS PLUS       | 5495 S 7TH ST        | BILLIARDS PLUS 54... | ABILENE | TX    | ... |\n",
      "| MB685388 | BONZAI JAPANESE S... | 1802 S CLACK ST      | BONZAI JAPANESE S... | ABILENE | TX    | ... |\n",
      "| MB701733 | BREAKERS SPORTS BAR  | 1874 S CLACK ST      | BREAKERS SPORTS B... | ABILENE | TX    | ... |\n",
      "| MB937950 | BUFFALO WILD WING... | 1010 E OVERLAND TRL  | BUFFALO WILD WING... | ABILENE | TX    | ... |\n",
      "| MB537755 | BUFFALO WILD WING... | 4401 RIDGEMONT DR    | BUFFALO WILD WING... | ABILENE | TX    | ... |\n",
      "| MB139550 | CAHOOTS CATFISH &... | 301 S 11TH ST        | CAHOOTS CATFISH &... | ABILENE | TX    | ... |\n",
      "| MB121979 | CASA HERRERA         | 4109 RIDGEMONT DR    | CASA HERRERA 4109... | ABILENE | TX    | ... |\n",
      "| MB892940 | CHELSEA'S ST PUB     | 4310 BUFFALO GAP ... | CHELSEA'S ST PUB ... | ABILENE | TX    | ... |\n",
      "| MB892940 | CHELSEA'S ST PUB     | 4310 BUFFALO GAP ... | CHELSEA'S ST PUB ... | ABILENE | TX    | ... |\n",
      "| MB232328 | CHILI'S GRILL & BAR  | 4302 S CLACK ST      | CHILI'S GRILL & B... | ABILENE | TX    | ... |\n",
      "| MB163912 | CHILIS GRILL & BAR   | 1702 HWY 351         | CHILIS GRILL & BA... | ABILENE | TX    | ... |\n",
      "| MB580409 | COPPER CREEK FINE... | 4401 LOOP 322        | COPPER CREEK FINE... | ABILENE | TX    | ... |\n",
      "| MB864640 | COURTYARD BY MARR... | 4350 RIDGEMONT DR    | COURTYARD BY MARR... | ABILENE | TX    | ... |\n",
      "| ...      | ...                  | ...                  | ...                  | ...     | ...   | ... |\n"
     ]
    }
   ],
   "source": [
    "mixbev.print_table()"
   ]
  },
  {
   "cell_type": "markdown",
   "metadata": {},
   "source": [
    "### Looking at dates of the records\n",
    "\n",
    "Here we have to:\n",
    "- create a tableset using group_by by the period\n",
    "- creaet a table using aggregate function to count\n",
    "- create a table to sort the period in reverse order\n",
    "- Then print the sorted table (top 10 rows)"
   ]
  },
  {
   "cell_type": "code",
   "execution_count": 86,
   "metadata": {
    "collapsed": false,
    "deletable": true,
    "editable": true
   },
   "outputs": [
    {
     "name": "stdout",
     "output_type": "stream",
     "text": [
      "| Period  |  count |\n",
      "| ------- | ------ |\n",
      "| 2017/01 | 14,317 |\n",
      "| 2016/12 |  1,573 |\n",
      "| 2016/11 |    198 |\n",
      "| 2016/10 |     71 |\n",
      "| 2017/02 |     33 |\n",
      "| 2016/09 |     28 |\n",
      "| 2016/08 |     17 |\n",
      "| 2016/07 |     10 |\n",
      "| 2016/03 |      9 |\n",
      "| 2016/04 |      7 |\n"
     ]
    }
   ],
   "source": [
    "by_period = mixbev.group_by('Period')\n",
    "\n",
    "period_totals = by_period.aggregate([\n",
    "    ('count', agate.Count())\n",
    "])\n",
    "\n",
    "period_totals_sorted = period_totals.order_by('count', reverse=True)\n",
    "\n",
    "period_totals_sorted.limit(10).print_table(max_rows=None)\n"
   ]
  },
  {
   "cell_type": "markdown",
   "metadata": {},
   "source": [
    "We have an answer here that we need for the future, and that is the period of time that has the most records. If we are studying a particular month of records, we need to set that so we can change it later with a different dataset."
   ]
  },
  {
   "cell_type": "code",
   "execution_count": 39,
   "metadata": {
    "collapsed": true
   },
   "outputs": [],
   "source": [
    "# setting the month_studied var:\n",
    "month_studied = '2017/01'"
   ]
  },
  {
   "cell_type": "markdown",
   "metadata": {},
   "source": [
    "Now we can filter or select the records where the month equals what we want."
   ]
  },
  {
   "cell_type": "code",
   "execution_count": 87,
   "metadata": {
    "collapsed": false
   },
   "outputs": [
    {
     "data": {
      "text/plain": [
       "14317"
      ]
     },
     "execution_count": 87,
     "metadata": {},
     "output_type": "execute_result"
    }
   ],
   "source": [
    "mixbev_month = mixbev.where(lambda row: row['Period'] == month_studied)\n",
    "len(mixbev_month)"
   ]
  },
  {
   "cell_type": "markdown",
   "metadata": {},
   "source": [
    "### Tops sales in a city\n",
    "\n",
    "Uses the `city_studied` variable at the top of the workbook"
   ]
  },
  {
   "cell_type": "code",
   "execution_count": 115,
   "metadata": {
    "collapsed": false
   },
   "outputs": [
    {
     "name": "stdout",
     "output_type": "stream",
     "text": [
      "| Establishment                                           | City       | total_sales |\n",
      "| ------------------------------------------------------- | ---------- | ----------- |\n",
      "| THIRD BASE ROUND ROCK, LLC 3107 S INTERSTATE 35 STE 810 | ROUND ROCK |    9,368.81 |\n",
      "| JACK ALLEN'S KITCHEN 2500 HOPPE TRL                     | ROUND ROCK |    8,730.10 |\n",
      "| RICK'S CABARET 3105 S INTERSTATE 35                     | ROUND ROCK |    8,359.45 |\n",
      "| CHUY'S ROUND ROCK 2320 N INTERSTATE 35                  | ROUND ROCK |    8,273.96 |\n",
      "| SALT TRADERS 2850 N INTERSTATE 35                       | ROUND ROCK |    8,109.21 |\n",
      "| TWIN PEAKS RESTAURANT 100 LOUIS HENNA BLVD              | ROUND ROCK |    7,917.25 |\n",
      "| FAST EDDIE'S NEIGHBORHOOD BILL 100 PARKER DR            | ROUND ROCK |    7,671.96 |\n",
      "| PLUCKERS WING BAR 300 MAYS XING STE 300                 | ROUND ROCK |    7,358.00 |\n",
      "| COVER 3 2800 N INTERSTATE 35 STE 200                    | ROUND ROCK |    6,212.37 |\n",
      "| THE BRASS TAP 204 E MAIN ST                             | ROUND ROCK |    5,911.67 |\n"
     ]
    }
   ],
   "source": [
    "# Filters the data to the specified city\n",
    "mixbev_city = mixbev_month.where(lambda row: row['City'] == city_studied)\n",
    "\n",
    "# groups the data based on Establishment and City\n",
    "city_grouped = mixbev_city.group_by('Establishment').group_by('City')\n",
    "# computes the sales based on the grouping\n",
    "summary = city_grouped.aggregate([\n",
    "    ('total_sales', agate.Sum('Tax'))\n",
    "])\n",
    "# sorts the results by most sold\n",
    "summary_sorted = summary.order_by('total_sales', reverse=True)\n",
    "# prints the top 10 results\n",
    "summary_sorted.limit(10).print_table(max_column_width=80)\n"
   ]
  },
  {
   "cell_type": "code",
   "execution_count": null,
   "metadata": {
    "collapsed": true
   },
   "outputs": [],
   "source": []
  }
 ],
 "metadata": {
  "kernelspec": {
   "display_name": "Python 3",
   "language": "python",
   "name": "python3"
  },
  "language_info": {
   "codemirror_mode": {
    "name": "ipython",
    "version": 3
   },
   "file_extension": ".py",
   "mimetype": "text/x-python",
   "name": "python",
   "nbconvert_exporter": "python",
   "pygments_lexer": "ipython3",
   "version": "3.6.1"
  }
 },
 "nbformat": 4,
 "nbformat_minor": 2
}
