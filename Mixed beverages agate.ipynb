{
 "cells": [
  {
   "cell_type": "markdown",
   "metadata": {
    "deletable": true,
    "editable": true
   },
   "source": [
    "# Processing mixed beverage data\n",
    "This python notebook uses a python library called [agate](http://agate.readthedocs.io/) to download, clean and process a monthly [Mixed Beverage Gross Receipts](https://comptroller.texas.gov/taxes/mixed-beverage/receipts.php) files from the Texas Comptroller's [data center](https://comptroller.texas.gov/transparency/open-data/search-datasets/) to support [stories similar to this one](http://www.mystatesman.com/business/austin-alcohol-sales-percent-february/Oo2txZUkuDlqBl0rU9O1lJ/) on monthly alcohol sales.\n",
    "\n",
    "This first part of this pulls in python modules that we will use:"
   ]
  },
  {
   "cell_type": "code",
   "execution_count": 1,
   "metadata": {
    "collapsed": false,
    "deletable": true,
    "editable": true
   },
   "outputs": [
    {
     "name": "stderr",
     "output_type": "stream",
     "text": [
      "/Users/christian/anaconda/envs/mixbev/lib/python3.6/json/encoder.py:199: DeprecationWarning: Interpreting naive datetime as local 2017-03-29 09:59:47.596334. Please add timezone info to timestamps.\n"
     ]
    }
   ],
   "source": [
    "import agate\n",
    "import re"
   ]
  },
  {
   "cell_type": "code",
   "execution_count": 2,
   "metadata": {
    "collapsed": true,
    "deletable": true,
    "editable": true
   },
   "outputs": [],
   "source": [
    "# this surpresses the timezone warning\n",
    "import warnings\n",
    "warnings.filterwarnings('ignore')"
   ]
  },
  {
   "cell_type": "markdown",
   "metadata": {
    "deletable": true,
    "editable": true
   },
   "source": [
    "### Downloading the file"
   ]
  },
  {
   "cell_type": "code",
   "execution_count": 3,
   "metadata": {
    "collapsed": false,
    "deletable": true,
    "editable": true
   },
   "outputs": [
    {
     "name": "stderr",
     "output_type": "stream",
     "text": [
      "  % Total    % Received % Xferd  Average Speed   Time    Time     Time  Current\n",
      "                                 Dload  Upload   Total   Spent    Left  Speed\n",
      "\r",
      "  0     0    0     0    0     0      0      0 --:--:-- --:--:-- --:--:--     0\r",
      " 13 2493k   13  331k    0     0   391k      0  0:00:06 --:--:--  0:00:06  391k\r",
      "100 2493k  100 2493k    0     0  1537k      0  0:00:01  0:00:01 --:--:-- 1537k\n"
     ]
    }
   ],
   "source": [
    "%%bash\n",
    "## downloads the mixedbev file\n",
    "## You have to set this URL based on the data center\n",
    "curl -O https://comptroller.texas.gov/auto-data/odc/MIXEDBEV_03_2017.CSV"
   ]
  },
  {
   "cell_type": "markdown",
   "metadata": {
    "deletable": true,
    "editable": true
   },
   "source": [
    "\n",
    "There is supposedly a way to call a file from a [remote url](http://agate-remote.readthedocs.io/en/0.2.0/) into agate, but I use bash above to curl the file and store it locally instead.\n",
    "\n",
    "Next, we'll use a bash command to peek at the data, which we know is a mess:"
   ]
  },
  {
   "cell_type": "code",
   "execution_count": 4,
   "metadata": {
    "collapsed": false,
    "deletable": true,
    "editable": true
   },
   "outputs": [
    {
     "name": "stdout",
     "output_type": "stream",
     "text": [
      "\"MB821424    \",\"ABI-HAUS                      \",\"959 N 2ND ST                  \",\"ABILENE             \",\"TX\",\"79601\",\"221\",\"          \",\"2017/01\", 000000523.40\r\n",
      "\"MB638028    \",\"ABILENE BEEHIVE INC           \",\"442 CEDAR ST STE A            \",\"ABILENE             \",\"TX\",\"79601\",\"221\",\"          \",\"2017/02\", 000002610.52\r\n",
      "\"MB543114    \",\"ABILENE BOWLING LANES INC     \",\"279 RUIDOSA AVE               \",\"ABILENE             \",\"TX\",\"79605\",\"221\",\"          \",\"2017/02\", 000000256.27\r\n",
      "\"MB933130    \",\"ABILENE CABARET LLC           \",\"1918 BUTTERNUT ST             \",\"ABILENE             \",\"TX\",\"79602\",\"221\",\"          \",\"2017/02\", 000000699.41\r\n",
      "\"N 037863    \",\"ABILENE COUNTRY CLUB          \",\"4039 S TREADAWAY BLVD         \",\"ABILENE             \",\"TX\",\"79602\",\"221\",\"          \",\"2017/02\", 000001801.63\r\n"
     ]
    }
   ],
   "source": [
    "%%bash\n",
    "head -n 5 MIXEDBEV_03_2017.CSV"
   ]
  },
  {
   "cell_type": "markdown",
   "metadata": {
    "deletable": true,
    "editable": true
   },
   "source": [
    "### Study variables\n",
    "\n",
    "This is where you set which file you are working with, and which month you want to study, etc.\n",
    "\n",
    "First, we'll list the files in our directory that we have downloaded so far so we can get the filename"
   ]
  },
  {
   "cell_type": "code",
   "execution_count": 5,
   "metadata": {
    "collapsed": false,
    "deletable": true,
    "editable": true
   },
   "outputs": [
    {
     "name": "stdout",
     "output_type": "stream",
     "text": [
      "MIXEDBEV_02_2017.CSV         counties.csv\r\n",
      "MIXEDBEV_03_2017.CSV         headers.txt\r\n",
      "Mixed beverages agate.ipynb  mixbev-env.txt\r\n",
      "README.md\r\n"
     ]
    }
   ],
   "source": [
    "ls"
   ]
  },
  {
   "cell_type": "markdown",
   "metadata": {
    "deletable": true,
    "editable": true
   },
   "source": [
    "Then we set some values based on those.\n",
    "\n",
    "- The `file` is the name of the file we want to process\n",
    "- The `month_studied` is the YYYY/MM designation for the month before the file release. The file released in February has mostly records from January, but can also have any other month, so we set here the specific month we want. Note there is a check later on that counts the number of files by month, which is worth checking.\n",
    "- The `city_studied` is a variable to study a specific city, if needed.\n",
    "- The `county_studied` is a variable if you want a county other than Bastrop, Hays, Travis or Williamson."
   ]
  },
  {
   "cell_type": "code",
   "execution_count": 6,
   "metadata": {
    "collapsed": false,
    "deletable": true,
    "editable": true
   },
   "outputs": [],
   "source": [
    "# this is our source file, which may have been downloaded above\n",
    "file = 'MIXEDBEV_03_2017.CSV'\n",
    "\n",
    "# setting the month_studied var.\n",
    "# This should be checked in the table below that counts records by month\n",
    "month_studied = '2017/02'\n",
    "\n",
    "# city studied needs to be ALL CAPS, as that's how the data comes\n",
    "specific_city = 'AUSTIN'\n",
    "\n",
    "# county studied should be ALL CAPS, as we set it to search that way\n",
    "specific_county = 'CALDWELL'"
   ]
  },
  {
   "cell_type": "markdown",
   "metadata": {
    "deletable": true,
    "editable": true
   },
   "source": [
    "### Data variables\n",
    "These probalby won't change between analysis or data sets"
   ]
  },
  {
   "cell_type": "code",
   "execution_count": 7,
   "metadata": {
    "collapsed": false,
    "deletable": true,
    "editable": true
   },
   "outputs": [],
   "source": [
    "column_names = [\n",
    "    'TABC Permit Number',\n",
    "    'Trade Name',\n",
    "    'Location Address',\n",
    "    'Location City',\n",
    "    'Location State',\n",
    "    'Location Zip Code',\n",
    "    'Location County Code',\n",
    "    'Blank',\n",
    "    'Report Period',\n",
    "    'Report Tax'\n",
    "]\n",
    "specified_types = {\n",
    "    'Location Zip Code': agate.Text(),\n",
    "    'Location County Code': agate.Text()\n",
    "}"
   ]
  },
  {
   "cell_type": "markdown",
   "metadata": {
    "deletable": true,
    "editable": true
   },
   "source": [
    "### Import the file\n"
   ]
  },
  {
   "cell_type": "code",
   "execution_count": 8,
   "metadata": {
    "collapsed": false,
    "deletable": true,
    "editable": true
   },
   "outputs": [
    {
     "name": "stdout",
     "output_type": "stream",
     "text": [
      "| column               | data_type |\n",
      "| -------------------- | --------- |\n",
      "| TABC Permit Number   | Text      |\n",
      "| Trade Name           | Text      |\n",
      "| Location Address     | Text      |\n",
      "| Location City        | Text      |\n",
      "| Location State       | Text      |\n",
      "| Location Zip Code    | Text      |\n",
      "| Location County Code | Text      |\n",
      "| Blank                | Boolean   |\n",
      "| Report Period        | Text      |\n",
      "| Report Tax           | Number    |\n",
      "\n"
     ]
    }
   ],
   "source": [
    "# this imports the file specified above\n",
    "mixbev_raw = agate.Table.from_csv(file, column_names, encoding='iso-8859-1', column_types=specified_types)\n",
    "\n",
    "# prints table fields\n",
    "print(mixbev_raw)"
   ]
  },
  {
   "cell_type": "markdown",
   "metadata": {
    "deletable": true,
    "editable": true
   },
   "source": [
    "### Clean up text fields"
   ]
  },
  {
   "cell_type": "code",
   "execution_count": 9,
   "metadata": {
    "collapsed": false,
    "deletable": true,
    "editable": true
   },
   "outputs": [],
   "source": [
    "# This creates a new interim table with results of compute function\n",
    "# that takes the four columns that need trimming and strips them\n",
    "# adding them to the end of the table with new names\n",
    "mixbev_trim = mixbev_raw.compute([\n",
    "    ('Permit', agate.Formula(agate.Text(), lambda r: r['TABC Permit Number'].strip())),\n",
    "    ('Name', agate.Formula(agate.Text(), lambda r: r['Trade Name'].strip())),\n",
    "    ('Address', agate.Formula(agate.Text(), lambda r: r['Location Address'].strip())),\n",
    "    ('City', agate.Formula(agate.Text(), lambda r: r['Location City'].strip()))\n",
    "])"
   ]
  },
  {
   "cell_type": "code",
   "execution_count": 10,
   "metadata": {
    "collapsed": false,
    "deletable": true,
    "editable": true
   },
   "outputs": [
    {
     "name": "stdout",
     "output_type": "stream",
     "text": [
      "| column               | data_type |\n",
      "| -------------------- | --------- |\n",
      "| TABC Permit Number   | Text      |\n",
      "| Trade Name           | Text      |\n",
      "| Location Address     | Text      |\n",
      "| Location City        | Text      |\n",
      "| Location State       | Text      |\n",
      "| Location Zip Code    | Text      |\n",
      "| Location County Code | Text      |\n",
      "| Blank                | Boolean   |\n",
      "| Report Period        | Text      |\n",
      "| Report Tax           | Number    |\n",
      "| Permit               | Text      |\n",
      "| Name                 | Text      |\n",
      "| Address              | Text      |\n",
      "| City                 | Text      |\n",
      "\n"
     ]
    }
   ],
   "source": [
    "## shows the new columns added to the interim table\n",
    "print(mixbev_trim)"
   ]
  },
  {
   "cell_type": "code",
   "execution_count": 11,
   "metadata": {
    "collapsed": false,
    "deletable": true,
    "editable": true
   },
   "outputs": [],
   "source": [
    "## creates new table with just stuff we need with clean names\n",
    "# new_table = table.select(['3rd_column_name', '1st_column_name', '2nd_column_name'])\n",
    "mixbev_cleaned = mixbev_trim.select([\n",
    "    'Permit',\n",
    "    'Name',\n",
    "    'Address',\n",
    "    'City',\n",
    "    'Location State',\n",
    "    'Location County Code',\n",
    "    'Report Period',\n",
    "    'Report Tax'\n",
    "]).rename(column_names = {\n",
    "    'Location State': 'State',\n",
    "    'Location County Code': 'CountyCode',\n",
    "    'Report Period': 'Period',\n",
    "    'Report Tax': 'Tax'\n",
    "})"
   ]
  },
  {
   "cell_type": "code",
   "execution_count": 12,
   "metadata": {
    "collapsed": false,
    "deletable": true,
    "editable": true
   },
   "outputs": [
    {
     "name": "stdout",
     "output_type": "stream",
     "text": [
      "| column     | data_type |\n",
      "| ---------- | --------- |\n",
      "| Permit     | Text      |\n",
      "| Name       | Text      |\n",
      "| Address    | Text      |\n",
      "| City       | Text      |\n",
      "| State      | Text      |\n",
      "| CountyCode | Text      |\n",
      "| Period     | Text      |\n",
      "| Tax        | Number    |\n",
      "\n"
     ]
    }
   ],
   "source": [
    "## these are now the columns present in our new column\n",
    "print(mixbev_cleaned)"
   ]
  },
  {
   "cell_type": "code",
   "execution_count": 13,
   "metadata": {
    "collapsed": false,
    "deletable": true,
    "editable": true
   },
   "outputs": [
    {
     "name": "stdout",
     "output_type": "stream",
     "text": [
      "| Permit   | Name                 | Address              | City    | State | CountyCode | ... |\n",
      "| -------- | -------------------- | -------------------- | ------- | ----- | ---------- | --- |\n",
      "| MB638028 | ABILENE BEEHIVE INC  | 442 CEDAR ST STE A   | ABILENE | TX    | 221        | ... |\n",
      "| MB543114 | ABILENE BOWLING L... | 279 RUIDOSA AVE      | ABILENE | TX    | 221        | ... |\n",
      "| MB933130 | ABILENE CABARET LLC  | 1918 BUTTERNUT ST    | ABILENE | TX    | 221        | ... |\n",
      "| N 037863 | ABILENE COUNTRY CLUB | 4039 S TREADAWAY ... | ABILENE | TX    | 221        | ... |\n",
      "| MB200506 | ABILENE SEAFOOD T... | 1882 S CLACK ST      | ABILENE | TX    | 221        | ... |\n"
     ]
    }
   ],
   "source": [
    "# and this peeks at the data\n",
    "# I did send this to_csv and made sure columns were trimmed\n",
    "mixbev_cleaned.limit(5).print_table()"
   ]
  },
  {
   "cell_type": "markdown",
   "metadata": {
    "deletable": true,
    "editable": true
   },
   "source": [
    "### Create establishment column\n",
    "\n",
    "We do this so we make sure we have single establishments instead of grouping trade names together from different addresses, like 'CHILI'S BAR & GRILL'."
   ]
  },
  {
   "cell_type": "code",
   "execution_count": 14,
   "metadata": {
    "collapsed": false,
    "deletable": true,
    "editable": true
   },
   "outputs": [
    {
     "name": "stdout",
     "output_type": "stream",
     "text": [
      "| column        | data_type |\n",
      "| ------------- | --------- |\n",
      "| Permit        | Text      |\n",
      "| Name          | Text      |\n",
      "| Address       | Text      |\n",
      "| City          | Text      |\n",
      "| State         | Text      |\n",
      "| CountyCode    | Text      |\n",
      "| Period        | Text      |\n",
      "| Tax           | Number    |\n",
      "| Establishment | Text      |\n",
      "\n"
     ]
    }
   ],
   "source": [
    "# Concatenates the name and address\n",
    "mixbev_cleaned_est = mixbev_cleaned.compute([\n",
    "    ('Establishment', agate.Formula(agate.Text(), lambda r: '%(Name)s %(Address)s' % r))\n",
    "])\n",
    "\n",
    "# Prints columns so you see it is there\n",
    "print(mixbev_cleaned_est)"
   ]
  },
  {
   "cell_type": "code",
   "execution_count": 15,
   "metadata": {
    "collapsed": false,
    "deletable": true,
    "editable": true
   },
   "outputs": [
    {
     "name": "stdout",
     "output_type": "stream",
     "text": [
      "| Establishment                                      |\n",
      "| -------------------------------------------------- |\n",
      "| ABILENE BEEHIVE INC 442 CEDAR ST STE A             |\n",
      "| ABILENE BOWLING LANES INC 279 RUIDOSA AVE          |\n",
      "| ABILENE CABARET LLC 1918 BUTTERNUT ST              |\n",
      "| ABILENE COUNTRY CLUB 4039 S TREADAWAY BLVD         |\n",
      "| ABILENE SEAFOOD TAVERN 1882 S CLACK ST             |\n",
      "| ABUELO'S BEVERAGE CORPORATION 4782 S 14TH ST       |\n",
      "| ACE IN THE HOLE 133 EPLENS CT                      |\n",
      "| AMNESIA, LLC. 1850 S CLACK ST                      |\n",
      "| BILLIARDS PLUS 5495 S 7TH ST                       |\n",
      "| BONZAI JAPANESE STEAK HOUSE 1802 S CLACK ST        |\n",
      "| BREAKERS SPORTS BAR 1874 S CLACK ST                |\n",
      "| BUFFALO WILD WINGS GRILL & BAR 1010 E OVERLAND TRL |\n",
      "| BUFFALO WILD WINGS GRILL AND B 4401 RIDGEMONT DR   |\n",
      "| CAHOOTS CATFISH & OYSTER BAR/J 301 S 11TH ST       |\n",
      "| CHELSEA'S ST PUB 4310 BUFFALO GAP RD STE 1342      |\n",
      "| CHILI'S GRILL & BAR 4302 S CLACK ST                |\n",
      "| CHILIS GRILL & BAR 1702 HWY 351                    |\n",
      "| COPPER CREEK FINE TEXAS DINING 4401 LOOP 322       |\n",
      "| COURTYARD BY MARRIOTT 4350 RIDGEMONT DR            |\n",
      "| COURTYARD BY MARRIOTT ABILENE 2141 SCOTTISH RD     |\n",
      "| ...                                                |\n"
     ]
    }
   ],
   "source": [
    "# selects and prints Establishment to check what is looks like\n",
    "mixbev_establishment = mixbev_cleaned_est.select('Establishment')\n",
    "mixbev_establishment.print_table(max_column_width=80)"
   ]
  },
  {
   "cell_type": "markdown",
   "metadata": {
    "deletable": true,
    "editable": true
   },
   "source": [
    "### Import and merge counties lookup table\n",
    "We do this to get county names"
   ]
  },
  {
   "cell_type": "code",
   "execution_count": 16,
   "metadata": {
    "collapsed": false,
    "deletable": true,
    "editable": true
   },
   "outputs": [
    {
     "name": "stdout",
     "output_type": "stream",
     "text": [
      "| column | data_type |\n",
      "| ------ | --------- |\n",
      "| id     | Number    |\n",
      "| county | Text      |\n",
      "| code   | Text      |\n",
      "\n"
     ]
    }
   ],
   "source": [
    "# importing countes.csv, ensuring that the 'code' column is text\n",
    "counties = agate.Table.from_csv('counties.csv', column_types={'code': agate.Text()}).rename()\n",
    "\n",
    "# peek at the column names\n",
    "print(counties)"
   ]
  },
  {
   "cell_type": "code",
   "execution_count": 17,
   "metadata": {
    "collapsed": false,
    "deletable": true,
    "editable": true
   },
   "outputs": [
    {
     "name": "stdout",
     "output_type": "stream",
     "text": [
      "| id | county    | code |\n",
      "| -- | --------- | ---- |\n",
      "|  1 | Anderson  | 001  |\n",
      "|  2 | Andrews   | 002  |\n",
      "|  3 | Angelina  | 003  |\n",
      "|  4 | Aransas   | 004  |\n",
      "|  5 | Archer    | 005  |\n",
      "|  6 | Armstrong | 006  |\n",
      "|  7 | Atascosa  | 007  |\n",
      "|  8 | Austin    | 008  |\n",
      "|  9 | Bailey    | 009  |\n",
      "| 10 | Bandera   | 010  |\n",
      "| 11 | Bastrop   | 011  |\n",
      "| 12 | Baylor    | 012  |\n",
      "| 13 | Bee       | 013  |\n",
      "| 14 | Bell      | 014  |\n",
      "| 15 | Bexar     | 015  |\n",
      "| 16 | Blanco    | 016  |\n",
      "| 17 | Borden    | 017  |\n",
      "| 18 | Bosque    | 018  |\n",
      "| 19 | Bowie     | 019  |\n",
      "| 20 | Brazoria  | 020  |\n",
      "| ... | ...       | ...  |\n"
     ]
    }
   ],
   "source": [
    "# peek at the data\n",
    "counties.print_table()"
   ]
  },
  {
   "cell_type": "code",
   "execution_count": 18,
   "metadata": {
    "collapsed": false,
    "deletable": true,
    "editable": true
   },
   "outputs": [
    {
     "name": "stdout",
     "output_type": "stream",
     "text": [
      "| column        | data_type |\n",
      "| ------------- | --------- |\n",
      "| Permit        | Text      |\n",
      "| Name          | Text      |\n",
      "| Address       | Text      |\n",
      "| City          | Text      |\n",
      "| State         | Text      |\n",
      "| CountyCode    | Text      |\n",
      "| Period        | Text      |\n",
      "| Tax           | Number    |\n",
      "| Establishment | Text      |\n",
      "| id            | Number    |\n",
      "| county        | Text      |\n",
      "\n"
     ]
    }
   ],
   "source": [
    "# joines the counties table to the mixed bev cleaned data with establishments\n",
    "mixbev_joined = mixbev_cleaned_est.join(counties, 'CountyCode', 'code')\n",
    "\n",
    "# check that the merge was succesful \n",
    "print(mixbev_joined)"
   ]
  },
  {
   "cell_type": "code",
   "execution_count": 19,
   "metadata": {
    "collapsed": false,
    "deletable": true,
    "editable": true
   },
   "outputs": [
    {
     "name": "stdout",
     "output_type": "stream",
     "text": [
      "| column        | data_type |\n",
      "| ------------- | --------- |\n",
      "| Permit        | Text      |\n",
      "| Name          | Text      |\n",
      "| Address       | Text      |\n",
      "| Establishment | Text      |\n",
      "| City          | Text      |\n",
      "| State         | Text      |\n",
      "| County        | Text      |\n",
      "| Period        | Text      |\n",
      "| Tax           | Number    |\n",
      "\n"
     ]
    }
   ],
   "source": [
    "# get just the columns we need and rename county\n",
    "# THIS is the finished, cleaned mixbev table\n",
    "mixbev = mixbev_joined.select([\n",
    "    'Permit',\n",
    "    'Name',\n",
    "    'Address',\n",
    "    'Establishment',\n",
    "    'City',\n",
    "    'State',\n",
    "    'county',\n",
    "    'Period',\n",
    "    'Tax'\n",
    "]).rename(column_names = {\n",
    "    'county': 'County'\n",
    "})\n",
    "\n",
    "# peek at the column names\n",
    "print(mixbev)"
   ]
  },
  {
   "cell_type": "code",
   "execution_count": 20,
   "metadata": {
    "collapsed": false,
    "deletable": true,
    "editable": true
   },
   "outputs": [
    {
     "name": "stdout",
     "output_type": "stream",
     "text": [
      "| Permit   | Name                 | Address              | Establishment        | City    | State | ... |\n",
      "| -------- | -------------------- | -------------------- | -------------------- | ------- | ----- | --- |\n",
      "| MB638028 | ABILENE BEEHIVE INC  | 442 CEDAR ST STE A   | ABILENE BEEHIVE I... | ABILENE | TX    | ... |\n",
      "| MB543114 | ABILENE BOWLING L... | 279 RUIDOSA AVE      | ABILENE BOWLING L... | ABILENE | TX    | ... |\n",
      "| MB933130 | ABILENE CABARET LLC  | 1918 BUTTERNUT ST    | ABILENE CABARET L... | ABILENE | TX    | ... |\n",
      "| N 037863 | ABILENE COUNTRY CLUB | 4039 S TREADAWAY ... | ABILENE COUNTRY C... | ABILENE | TX    | ... |\n",
      "| MB200506 | ABILENE SEAFOOD T... | 1882 S CLACK ST      | ABILENE SEAFOOD T... | ABILENE | TX    | ... |\n"
     ]
    }
   ],
   "source": [
    "# peek at the table\n",
    "mixbev.limit(5).print_table()"
   ]
  },
  {
   "cell_type": "markdown",
   "metadata": {
    "deletable": true,
    "editable": true
   },
   "source": [
    "### Looking at dates of the records\n",
    "\n",
    "Here we have to:\n",
    "- create a tableset using group_by by the period\n",
    "- create a table using aggregate function to count\n",
    "- create a table to sort the period in reverse order\n",
    "- Then print the sorted table (top 10 rows)"
   ]
  },
  {
   "cell_type": "code",
   "execution_count": 21,
   "metadata": {
    "collapsed": false,
    "deletable": true,
    "editable": true
   },
   "outputs": [
    {
     "name": "stdout",
     "output_type": "stream",
     "text": [
      "| Period  |  count |\n",
      "| ------- | ------ |\n",
      "| 2017/02 | 14,090 |\n",
      "| 2017/01 |  1,423 |\n",
      "| 2016/12 |    141 |\n",
      "| 2016/11 |     52 |\n",
      "| 2017/03 |     32 |\n",
      "| 2016/10 |     26 |\n",
      "| 2016/09 |     21 |\n",
      "| 2016/08 |     13 |\n",
      "| 2016/07 |      9 |\n",
      "| 2016/05 |      8 |\n",
      "| 2016/06 |      8 |\n",
      "| 2016/04 |      5 |\n",
      "| 2016/03 |      4 |\n",
      "| 2015/02 |      4 |\n",
      "| 2016/02 |      3 |\n",
      "| 2014/12 |      3 |\n",
      "| 2014/11 |      3 |\n",
      "| 2015/12 |      2 |\n",
      "| 2009/01 |      2 |\n",
      "| 2014/10 |      2 |\n",
      "| 2015/01 |      2 |\n",
      "| 2015/03 |      2 |\n",
      "| 2015/11 |      1 |\n",
      "| 2011/05 |      1 |\n",
      "| 2011/10 |      1 |\n",
      "| 2016/01 |      1 |\n",
      "| 2014/07 |      1 |\n",
      "| 2015/10 |      1 |\n"
     ]
    }
   ],
   "source": [
    "by_period = mixbev.group_by('Period')\n",
    "\n",
    "period_totals = by_period.aggregate([\n",
    "    ('count', agate.Count())\n",
    "])\n",
    "\n",
    "period_totals_sorted = period_totals.order_by('count', reverse=True)\n",
    "\n",
    "# prints the table of period and number of records\n",
    "period_totals_sorted.print_table(max_rows=None)\n"
   ]
  },
  {
   "cell_type": "markdown",
   "metadata": {
    "deletable": true,
    "editable": true
   },
   "source": [
    "The top value in the table above is typically the month before the reporting date. This shows how many records are filed for OTHER months as well. We want to make sure the top month value is included as the **month_studied** variable at the top of this file.\n",
    "\n",
    "So, now we can filter the data to our specific month, which will use for the rest of the analysis:"
   ]
  },
  {
   "cell_type": "code",
   "execution_count": 22,
   "metadata": {
    "collapsed": false,
    "deletable": true,
    "editable": true
   },
   "outputs": [
    {
     "data": {
      "text/plain": [
       "14090"
      ]
     },
     "execution_count": 22,
     "metadata": {},
     "output_type": "execute_result"
    }
   ],
   "source": [
    "## filters the records to our month_studied\n",
    "mixbev_month = mixbev.where(lambda row: row['Period'] == month_studied)\n",
    "\n",
    "## The number of records in our month\n",
    "len(mixbev_month)"
   ]
  },
  {
   "cell_type": "markdown",
   "metadata": {
    "deletable": true,
    "editable": true
   },
   "source": [
    "## Top sales statewide"
   ]
  },
  {
   "cell_type": "code",
   "execution_count": 23,
   "metadata": {
    "collapsed": false,
    "deletable": true,
    "editable": true
   },
   "outputs": [
    {
     "name": "stdout",
     "output_type": "stream",
     "text": [
      "| Establishment                                           | County  | City        | total_sales |\n",
      "| ------------------------------------------------------- | ------- | ----------- | ----------- |\n",
      "| ARAMARK SPORTS AND ENTERTAINME 211 AT AND T CENTER PKWY | Bexar   | SAN ANTONIO |  193,621.82 |\n",
      "| GAYLORD TEXAN 1501 GAYLORD TRL                          | Tarrant | GRAPEVINE   |  125,633.17 |\n",
      "| SALC, INC. 2201 N STEMMONS FWY FL 1                     | Dallas  | DALLAS      |   92,780.79 |\n",
      "| LEVY RESTAURANTS 2500 VICTORY AVE                       | Dallas  | DALLAS      |   84,044.39 |\n",
      "| AT&T STADIUM 1 LEGENDS WAY                              | Tarrant | ARLINGTON   |   82,089.87 |\n",
      "| WLS BEVERAGE CO 110 E 2ND ST                            | Travis  | AUSTIN      |   79,804.43 |\n",
      "| HILTON AMERICAS - HOUSTON 1600 LAMAR ST                 | Harris  | HOUSTON     |   78,343.97 |\n",
      "| HOSPITALITY INTERNATIONAL, INC 23808 RESORT PKWY        | Bexar   | SAN ANTONIO |   76,712.72 |\n",
      "| LEVY RESTAURANTS AT TOYOTA CEN 1510 POLK ST             | Harris  | HOUSTON     |   74,524.70 |\n",
      "| ARAMARK SPORTS & ENTERTAINMENT 8355 KIRBY DR            | Harris  | HOUSTON     |   67,087.23 |\n"
     ]
    }
   ],
   "source": [
    "# groups the data based on Establishment and City\n",
    "mixbev_grouped = mixbev.group_by('Establishment').group_by('County').group_by('City')\n",
    "# computes the sales based on the grouping\n",
    "state_summary = mixbev_grouped.aggregate([\n",
    "    ('total_sales', agate.Sum('Tax'))\n",
    "])\n",
    "# sorts the results by most sold\n",
    "state_summary_sorted = state_summary.order_by('total_sales', reverse=True)\n",
    "# prints the top 10 results\n",
    "state_summary_sorted.limit(10).print_table(max_column_width=80)\n"
   ]
  },
  {
   "cell_type": "markdown",
   "metadata": {
    "deletable": true,
    "editable": true
   },
   "source": [
    "## Tops sales in a specific city\n",
    "\n",
    "Uses the `city_studied` variable at the top of the workbook."
   ]
  },
  {
   "cell_type": "code",
   "execution_count": 24,
   "metadata": {
    "collapsed": false,
    "deletable": true,
    "editable": true
   },
   "outputs": [
    {
     "name": "stdout",
     "output_type": "stream",
     "text": [
      "| Establishment                                      | City   | total_sales |\n",
      "| -------------------------------------------------- | ------ | ----------- |\n",
      "| WLS BEVERAGE CO 110 E 2ND ST                       | AUSTIN |   79,804.43 |\n",
      "| ROSE ROOM/ 77 DEGREES 11500 ROCK ROSE AVE          | AUSTIN |   29,873.89 |\n",
      "| 400 BAR/CUCARACHA/CHUPACABRA/J 400 E 6TH ST        | AUSTIN |   28,395.13 |\n",
      "| THE DOGWOOD DOMAIN 11420 ROCK ROSE AVE STE 700     | AUSTIN |   27,372.64 |\n",
      "| KUNG FU SALOON 11501 ROCK ROSE AVE STE 140         | AUSTIN |   23,468.15 |\n",
      "| BARTON CREEK COUNTRY CLUB 8212 BARTON CLUB DR      | AUSTIN |   23,065.68 |\n",
      "| TOP GOLF 2700 ESPERANZA XING                       | AUSTIN |   22,937.51 |\n",
      "| SAN JACINTO BEVERAGE COMPANY L 98 SAN JACINTO BLVD | AUSTIN |   22,361.92 |\n",
      "| ALAMO DRAFTHOUSE CINEMA 1120 S LAMAR BLVD          | AUSTIN |   22,324.66 |\n",
      "| THE PALAZIO 501 E BEN WHITE BLVD                   | AUSTIN |   21,275.24 |\n"
     ]
    }
   ],
   "source": [
    "# Filters the data to the specified city\n",
    "mixbev_city = mixbev_month.where(lambda row: row['City'] == specific_city)\n",
    "\n",
    "# groups the data based on Establishment and City\n",
    "city_grouped = mixbev_city.group_by('Establishment').group_by('City')\n",
    "# computes the sales based on the grouping\n",
    "summary = city_grouped.aggregate([\n",
    "    ('total_sales', agate.Sum('Tax'))\n",
    "])\n",
    "# sorts the results by most sold\n",
    "summary_sorted = summary.order_by('total_sales', reverse=True)\n",
    "# prints the top 10 results\n",
    "summary_sorted.limit(10).print_table(max_column_width=80)\n"
   ]
  },
  {
   "cell_type": "code",
   "execution_count": 25,
   "metadata": {
    "collapsed": false,
    "deletable": true,
    "editable": true
   },
   "outputs": [
    {
     "name": "stdout",
     "output_type": "stream",
     "text": [
      "Establishment                                      total_sales\n",
      "WLS BEVERAGE CO 110 E 2ND ST                         79,804.43 ▓░░░░░░░░░░░░░░░░\n",
      "ROSE ROOM/ 77 DEGREES 11500 ROCK ROSE AVE            29,873.89 ▓░░░░░░          \n",
      "400 BAR/CUCARACHA/CHUPACABRA/J 400 E 6TH ST          28,395.13 ▓░░░░░░          \n",
      "THE DOGWOOD DOMAIN 11420 ROCK ROSE AVE STE 700       27,372.64 ▓░░░░░           \n",
      "KUNG FU SALOON 11501 ROCK ROSE AVE STE 140           23,468.15 ▓░░░░░           \n",
      "BARTON CREEK COUNTRY CLUB 8212 BARTON CLUB DR        23,065.68 ▓░░░░░           \n",
      "TOP GOLF 2700 ESPERANZA XING                         22,937.51 ▓░░░░░           \n",
      "SAN JACINTO BEVERAGE COMPANY L 98 SAN JACINTO BLVD   22,361.92 ▓░░░░            \n",
      "ALAMO DRAFTHOUSE CINEMA 1120 S LAMAR BLVD            22,324.66 ▓░░░░            \n",
      "THE PALAZIO 501 E BEN WHITE BLVD                     21,275.24 ▓░░░░            \n",
      "                                                               +---------------+\n",
      "                                                               0          80,000\n"
     ]
    }
   ],
   "source": [
    "summary_sorted.limit(10).print_bars('Establishment', 'total_sales', width=80)"
   ]
  },
  {
   "cell_type": "markdown",
   "metadata": {
    "deletable": true,
    "editable": true
   },
   "source": [
    "## Top sales in a specific county"
   ]
  },
  {
   "cell_type": "code",
   "execution_count": 26,
   "metadata": {
    "collapsed": false,
    "deletable": true,
    "editable": true
   },
   "outputs": [
    {
     "name": "stdout",
     "output_type": "stream",
     "text": [
      "| Establishment                                             | County   | total_sales |\n",
      "| --------------------------------------------------------- | -------- | ----------- |\n",
      "| GUADALAJARA MEXICAN RESTAURANT 1710 S COLORADO ST STE 110 | Caldwell |    1,149.78 |\n",
      "| THE PEARL 110 N MAIN ST                                   | Caldwell |      617.74 |\n",
      "| BRMJ, LLC 831 S COLORADO ST                               | Caldwell |      555.29 |\n",
      "| MR TACO 1132 E PIERCE ST                                  | Caldwell |      511.81 |\n",
      "| AUSTRIAN FARMS OF TEXAS LLC 4607 FM 86                    | Caldwell |        0.00 |\n"
     ]
    }
   ],
   "source": [
    "# Filters the data to the specified city\n",
    "mixbev_county = mixbev_month.where(lambda row: row['County'].upper() == specific_county)\n",
    "\n",
    "# groups the data based on Establishment and City\n",
    "county_grouped = mixbev_county.group_by('Establishment').group_by('County')\n",
    "# computes the sales based on the grouping\n",
    "cn_summary = county_grouped.aggregate([\n",
    "    ('total_sales', agate.Sum('Tax'))\n",
    "])\n",
    "# sorts the results by most sold\n",
    "cn_summary_sorted = cn_summary.order_by('total_sales', reverse=True)\n",
    "# prints the top 10 results\n",
    "cn_summary_sorted.limit(10).print_table(max_column_width=80)\n"
   ]
  },
  {
   "cell_type": "code",
   "execution_count": 27,
   "metadata": {
    "collapsed": false,
    "deletable": true,
    "editable": true
   },
   "outputs": [
    {
     "name": "stdout",
     "output_type": "stream",
     "text": [
      "Establishment                                             total_sales\n",
      "GUADALAJARA MEXICAN RESTAURANT 1710 S COLORADO ST STE 110    1,149.78 ▓░░░░░    \n",
      "THE PEARL 110 N MAIN ST                                        617.74 ▓░░░      \n",
      "BRMJ, LLC 831 S COLORADO ST                                    555.29 ▓░░       \n",
      "MR TACO 1132 E PIERCE ST                                       511.81 ▓░░       \n",
      "AUSTRIAN FARMS OF TEXAS LLC 4607 FM 86                           0.00 ▓         \n",
      "                                                                      +--------+\n",
      "                                                                      0    2,000\n"
     ]
    }
   ],
   "source": [
    "cn_summary_sorted.limit(10).print_bars('Establishment', 'total_sales', width=80)"
   ]
  },
  {
   "cell_type": "markdown",
   "metadata": {
    "deletable": true,
    "editable": true
   },
   "source": [
    "## Bastrop"
   ]
  },
  {
   "cell_type": "code",
   "execution_count": 28,
   "metadata": {
    "collapsed": false,
    "deletable": true,
    "editable": true
   },
   "outputs": [
    {
     "name": "stdout",
     "output_type": "stream",
     "text": [
      "| Establishment                                     | County  | total_sales |\n",
      "| ------------------------------------------------- | ------- | ----------- |\n",
      "| LOST PINES BEVERAGE LLC 575 HYATT LOST PINES ROAD | Bastrop |   28,824.53 |\n",
      "| OLD TOWN RESTURANT AND BAR/PIN 931 MAIN ST        | Bastrop |    4,089.61 |\n",
      "| CHILI'S GRILL & BAR 734 HIGHWAY 71 W              | Bastrop |    2,659.63 |\n",
      "| NEIGHBOR'S 601 CHESTNUT ST UNIT C                 | Bastrop |    1,849.13 |\n",
      "| RED ROCK STEAKHOUSE & SALOON 101 S LENTZ ST       | Bastrop |    1,712.92 |\n",
      "| LA HACIENDA RESTAURANT 1800 WALNUT ST             | Bastrop |    1,570.01 |\n",
      "| VERANDA 910 MAIN ST                               | Bastrop |    1,420.40 |\n",
      "| MORELIA MEXICAN CAFE 608 W ALAMO ST               | Bastrop |    1,225.89 |\n",
      "| JALISCO MEXICAN RESTAURANT 244 HIGHWAY 290 W      | Bastrop |    1,135.31 |\n",
      "| SP BASTROP THEATRE, LP 1600 CHESTNUT ST           | Bastrop |    1,113.87 |\n"
     ]
    }
   ],
   "source": [
    "# Filters the data to the specified city\n",
    "mixbev_bastrop = mixbev_month.where(lambda row: row['County'].upper() == 'BASTROP')\n",
    "\n",
    "# groups the data based on Establishment and City\n",
    "bastrop_grouped = mixbev_bastrop.group_by('Establishment').group_by('County')\n",
    "# computes the sales based on the grouping\n",
    "bastrop_summary = bastrop_grouped.aggregate([\n",
    "    ('total_sales', agate.Sum('Tax'))\n",
    "])\n",
    "# sorts the results by most sold\n",
    "bastrop_summary_sorted = bastrop_summary.order_by('total_sales', reverse=True)\n",
    "# prints the top 10 results\n",
    "bastrop_summary_sorted.limit(10).print_table(max_column_width=80)\n"
   ]
  },
  {
   "cell_type": "markdown",
   "metadata": {
    "deletable": true,
    "editable": true
   },
   "source": [
    "## Hays"
   ]
  },
  {
   "cell_type": "code",
   "execution_count": 29,
   "metadata": {
    "collapsed": false,
    "deletable": true,
    "editable": true
   },
   "outputs": [
    {
     "name": "stdout",
     "output_type": "stream",
     "text": [
      "| Establishment                                       | County | total_sales |\n",
      "| --------------------------------------------------- | ------ | ----------- |\n",
      "| THE MARC 120 E SAN ANTONIO ST                       | Hays   |    9,731.95 |\n",
      "| BUCKS BACKYARD 1750 S FM 1626                       | Hays   |    8,278.98 |\n",
      "| ZELICKS 336 W HOPKINS ST                            | Hays   |    8,003.01 |\n",
      "| PLUCKERS WING BAR 105 N INTERSTATE 35               | Hays   |    6,545.02 |\n",
      "| 54TH STREET RESTAURANT & DRAFT 1303 S INTERSTATE 35 | Hays   |    6,093.51 |\n",
      "| CHIMY'S SAN MARCOS 217 E HOPKINS ST                 | Hays   |    6,088.22 |\n",
      "| BLACK RABBIT SALOON / SHADE RO 127 E HOPKINS ST     | Hays   |    6,005.81 |\n",
      "| TRATTORIA LISINA 13308 FM 150 W                     | Hays   |    5,696.07 |\n",
      "| THE TAP ROOM & THE PORCH ON HO 129 E HOPKINS ST     | Hays   |    5,648.56 |\n",
      "| CHUY'S SAN MARCOS 1121 N INTERSTATE 35              | Hays   |    5,637.78 |\n"
     ]
    }
   ],
   "source": [
    "# Filters the data to the specified city\n",
    "mixbev_hays = mixbev_month.where(lambda row: row['County'].upper() == 'HAYS')\n",
    "\n",
    "# groups the data based on Establishment and City\n",
    "hays_grouped = mixbev_hays.group_by('Establishment').group_by('County')\n",
    "# computes the sales based on the grouping\n",
    "hays_summary = hays_grouped.aggregate([\n",
    "    ('total_sales', agate.Sum('Tax'))\n",
    "])\n",
    "# sorts the results by most sold\n",
    "hays_summary_sorted = hays_summary.order_by('total_sales', reverse=True)\n",
    "# prints the top 10 results\n",
    "hays_summary_sorted.limit(10).print_table(max_column_width=80)\n"
   ]
  },
  {
   "cell_type": "markdown",
   "metadata": {
    "deletable": true,
    "editable": true
   },
   "source": [
    "## Travis"
   ]
  },
  {
   "cell_type": "code",
   "execution_count": 30,
   "metadata": {
    "collapsed": false,
    "deletable": true,
    "editable": true
   },
   "outputs": [
    {
     "name": "stdout",
     "output_type": "stream",
     "text": [
      "| Establishment                                      | County | total_sales |\n",
      "| -------------------------------------------------- | ------ | ----------- |\n",
      "| WLS BEVERAGE CO 110 E 2ND ST                       | Travis |   79,804.43 |\n",
      "| ROSE ROOM/ 77 DEGREES 11500 ROCK ROSE AVE          | Travis |   29,873.89 |\n",
      "| 400 BAR/CUCARACHA/CHUPACABRA/J 400 E 6TH ST        | Travis |   28,395.13 |\n",
      "| THE DOGWOOD DOMAIN 11420 ROCK ROSE AVE STE 700     | Travis |   27,372.64 |\n",
      "| KUNG FU SALOON 11501 ROCK ROSE AVE STE 140         | Travis |   23,468.15 |\n",
      "| BARTON CREEK COUNTRY CLUB 8212 BARTON CLUB DR      | Travis |   23,065.68 |\n",
      "| TOP GOLF 2700 ESPERANZA XING                       | Travis |   22,937.51 |\n",
      "| SAN JACINTO BEVERAGE COMPANY L 98 SAN JACINTO BLVD | Travis |   22,361.92 |\n",
      "| ALAMO DRAFTHOUSE CINEMA 1120 S LAMAR BLVD          | Travis |   22,324.66 |\n",
      "| THE PALAZIO 501 E BEN WHITE BLVD                   | Travis |   21,275.24 |\n"
     ]
    }
   ],
   "source": [
    "# Filters the data to the specified city\n",
    "mixbev_travis = mixbev_month.where(lambda row: row['County'].upper() == 'TRAVIS')\n",
    "\n",
    "# groups the data based on Establishment and City\n",
    "travis_grouped = mixbev_travis.group_by('Establishment').group_by('County')\n",
    "# computes the sales based on the grouping\n",
    "travis_summary = travis_grouped.aggregate([\n",
    "    ('total_sales', agate.Sum('Tax'))\n",
    "])\n",
    "# sorts the results by most sold\n",
    "travis_summary_sorted = travis_summary.order_by('total_sales', reverse=True)\n",
    "# prints the top 10 results\n",
    "travis_summary_sorted.limit(10).print_table(max_column_width=80)\n"
   ]
  },
  {
   "cell_type": "markdown",
   "metadata": {
    "deletable": true,
    "editable": true
   },
   "source": [
    "## Williamson"
   ]
  },
  {
   "cell_type": "code",
   "execution_count": 31,
   "metadata": {
    "collapsed": false,
    "deletable": true,
    "editable": true
   },
   "outputs": [
    {
     "name": "stdout",
     "output_type": "stream",
     "text": [
      "| Establishment                                          | County     | total_sales |\n",
      "| ------------------------------------------------------ | ---------- | ----------- |\n",
      "| ALAMO DRAFTHOUSE CINEMA 14028 N HIGHWAY 183 BLDG F     | Williamson |   12,123.31 |\n",
      "| JACK ALLEN'S KITCHEN 2500 HOPPE TRL                    | Williamson |    8,504.24 |\n",
      "| TWIN PEAKS RESTAURANT 100 LOUIS HENNA BLVD             | Williamson |    8,482.93 |\n",
      "| SALT TRADERS 2850 N INTERSTATE 35                      | Williamson |    7,894.40 |\n",
      "| CHUY'S ROUND ROCK 2320 N INTERSTATE 35                 | Williamson |    7,647.44 |\n",
      "| CHUY'S 4911 183A TOLL RD                               | Williamson |    6,960.83 |\n",
      "| LUPE TORTILLA MEXICAN RESTAURA 4501 183A TOLL RD STE B | Williamson |    6,852.29 |\n",
      "| THE BRASS TAP 204 E MAIN ST                            | Williamson |    6,455.18 |\n",
      "| BJ'S RESTAURANT & BREWERY 1001 E WHITESTONE BLVD       | Williamson |    6,217.66 |\n",
      "| GATEWAY BEVERAGES, INC 1101 WOODLAWN AVE               | Williamson |    5,975.06 |\n"
     ]
    }
   ],
   "source": [
    "# Filters the data to the specified city\n",
    "mixbev_williamson = mixbev_month.where(lambda row: row['County'].upper() == 'WILLIAMSON')\n",
    "\n",
    "# groups the data based on Establishment and City\n",
    "williamson_grouped = mixbev_williamson.group_by('Establishment').group_by('County')\n",
    "# computes the sales based on the grouping\n",
    "williamson_summary = williamson_grouped.aggregate([\n",
    "    ('total_sales', agate.Sum('Tax'))\n",
    "])\n",
    "# sorts the results by most sold\n",
    "williamson_summary_sorted = williamson_summary.order_by('total_sales', reverse=True)\n",
    "# prints the top 10 results\n",
    "williamson_summary_sorted.limit(10).print_table(max_column_width=80)\n"
   ]
  },
  {
   "cell_type": "code",
   "execution_count": null,
   "metadata": {
    "collapsed": true,
    "deletable": true,
    "editable": true
   },
   "outputs": [],
   "source": []
  }
 ],
 "metadata": {
  "kernelspec": {
   "display_name": "Python 3",
   "language": "python",
   "name": "python3"
  },
  "language_info": {
   "codemirror_mode": {
    "name": "ipython",
    "version": 3
   },
   "file_extension": ".py",
   "mimetype": "text/x-python",
   "name": "python",
   "nbconvert_exporter": "python",
   "pygments_lexer": "ipython3",
   "version": "3.6.1"
  }
 },
 "nbformat": 4,
 "nbformat_minor": 2
}
