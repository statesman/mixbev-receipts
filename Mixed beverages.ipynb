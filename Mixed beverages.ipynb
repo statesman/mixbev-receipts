{
 "cells": [
  {
   "cell_type": "code",
   "execution_count": 20,
   "metadata": {
    "collapsed": true
   },
   "outputs": [],
   "source": [
    "import warnings\n",
    "warnings.filterwarnings('ignore')"
   ]
  },
  {
   "cell_type": "code",
   "execution_count": 21,
   "metadata": {
    "collapsed": false,
    "deletable": true,
    "editable": true
   },
   "outputs": [],
   "source": [
    "import agate"
   ]
  },
  {
   "cell_type": "code",
   "execution_count": 22,
   "metadata": {
    "collapsed": false,
    "deletable": true,
    "editable": true
   },
   "outputs": [
    {
     "name": "stderr",
     "output_type": "stream",
     "text": [
      "  % Total    % Received % Xferd  Average Speed   Time    Time     Time  Current\n",
      "                                 Dload  Upload   Total   Spent    Left  Speed\n",
      "\r",
      "  0     0    0     0    0     0      0      0 --:--:-- --:--:-- --:--:--     0\r",
      " 21 2565k   21  553k    0     0   810k      0  0:00:03 --:--:--  0:00:03  873k\r",
      "100 2565k  100 2565k    0     0  2789k      0 --:--:-- --:--:-- --:--:-- 2949k\n"
     ]
    }
   ],
   "source": [
    "%%bash\n",
    "## download the mixedbev file\n",
    "curl -L -O https://comptroller.texas.gov/auto-data/odc/MIXEDBEV_02_2017.CSV"
   ]
  },
  {
   "cell_type": "code",
   "execution_count": 40,
   "metadata": {
    "collapsed": false,
    "deletable": true,
    "editable": true
   },
   "outputs": [
    {
     "name": "stdout",
     "output_type": "stream",
     "text": [
      "\"MB821424    \",\"ABI-HAUS                      \",\"959 N 2ND ST                  \",\"ABILENE             \",\"TX\",\"79601\",\"221\",\"          \",\"2016/12\", 000000637.97\r\n",
      "\"MB638028    \",\"ABILENE BEEHIVE INC           \",\"442 CEDAR ST STE A            \",\"ABILENE             \",\"TX\",\"79601\",\"221\",\"          \",\"2017/01\", 000002557.12\r\n",
      "\"MB543114    \",\"ABILENE BOWLING LANES INC     \",\"279 RUIDOSA AVE               \",\"ABILENE             \",\"TX\",\"79605\",\"221\",\"          \",\"2017/01\", 000000287.49\r\n",
      "\"MB933130    \",\"ABILENE CABARET LLC           \",\"1918 BUTTERNUT ST             \",\"ABILENE             \",\"TX\",\"79602\",\"221\",\"          \",\"2017/01\", 000000988.04\r\n",
      "\"N 037863    \",\"ABILENE COUNTRY CLUB          \",\"4039 S TREADAWAY BLVD         \",\"ABILENE             \",\"TX\",\"79602\",\"221\",\"          \",\"2017/01\", 000002068.82\r\n"
     ]
    }
   ],
   "source": [
    "%%bash\n",
    "head -n 5 MIXEDBEV_02_2017.CSV"
   ]
  },
  {
   "cell_type": "code",
   "execution_count": 35,
   "metadata": {
    "collapsed": false,
    "deletable": true,
    "editable": true
   },
   "outputs": [],
   "source": [
    "file = 'MIXEDBEV_02_2017.CSV'\n",
    "column_names = [\n",
    "    'TABC Permit Number',\n",
    "    'Trade Name',\n",
    "    'Location Address',\n",
    "    'Location City',\n",
    "    'Location State',\n",
    "    'Location Zip Code',\n",
    "    'Location County Code',\n",
    "    'Blank',\n",
    "    'Report Period',\n",
    "    'Report Tax'\n",
    "]\n",
    "specified_types = {\n",
    "    'Location Zip Code': agate.Text(),\n",
    "    'Location County Code': agate.Text()\n",
    "}"
   ]
  },
  {
   "cell_type": "code",
   "execution_count": 36,
   "metadata": {
    "collapsed": false,
    "deletable": true,
    "editable": true
   },
   "outputs": [],
   "source": [
    "mixbev = agate.Table.from_csv(file, column_names, encoding='iso-8859-1', column_types=specified_types)"
   ]
  },
  {
   "cell_type": "code",
   "execution_count": 37,
   "metadata": {
    "collapsed": false,
    "deletable": true,
    "editable": true
   },
   "outputs": [
    {
     "name": "stdout",
     "output_type": "stream",
     "text": [
      "| column               | data_type |\n",
      "| -------------------- | --------- |\n",
      "| TABC Permit Number   | Text      |\n",
      "| Trade Name           | Text      |\n",
      "| Location Address     | Text      |\n",
      "| Location City        | Text      |\n",
      "| Location State       | Text      |\n",
      "| Location Zip Code    | Text      |\n",
      "| Location County Code | Text      |\n",
      "| Blank                | Boolean   |\n",
      "| Report Period        | Text      |\n",
      "| Report Tax           | Number    |\n",
      "\n"
     ]
    }
   ],
   "source": [
    "print(mixbev)"
   ]
  },
  {
   "cell_type": "code",
   "execution_count": 42,
   "metadata": {
    "collapsed": false
   },
   "outputs": [
    {
     "name": "stdout",
     "output_type": "stream",
     "text": [
      "| TABC Permit Number | Trade Name           | Location Address     | Location City        | Location State | Location Zip Code | ... |\n",
      "| ------------------ | -------------------- | -------------------- | -------------------- | -------------- | ----------------- | --- |\n",
      "| MB638028           | ABILENE BEEHIVE I... | 442 CEDAR ST STE ... | ABILENE              | TX             | 79601             | ... |\n",
      "| MB543114           | ABILENE BOWLING L... | 279 RUIDOSA AVE  ... | ABILENE              | TX             | 79605             | ... |\n",
      "| MB933130           | ABILENE CABARET L... | 1918 BUTTERNUT ST... | ABILENE              | TX             | 79602             | ... |\n",
      "| N 037863           | ABILENE COUNTRY C... | 4039 S TREADAWAY ... | ABILENE              | TX             | 79602             | ... |\n",
      "| MB200506           | ABILENE SEAFOOD T... | 1882 S CLACK ST  ... | ABILENE              | TX             | 79605             | ... |\n"
     ]
    }
   ],
   "source": [
    "mixbev.limit(5).print_table()"
   ]
  },
  {
   "cell_type": "code",
   "execution_count": 47,
   "metadata": {
    "collapsed": false
   },
   "outputs": [
    {
     "ename": "NameError",
     "evalue": "name 'text_type' is not defined",
     "output_type": "error",
     "traceback": [
      "\u001b[0;31m---------------------------------------------------------------------------\u001b[0m",
      "\u001b[0;31mNameError\u001b[0m                                 Traceback (most recent call last)",
      "\u001b[0;32m<ipython-input-47-d9b9ddc8c71c>\u001b[0m in \u001b[0;36m<module>\u001b[0;34m()\u001b[0m\n\u001b[1;32m      1\u001b[0m new_table = mixbev.compute([\n\u001b[0;32m----> 2\u001b[0;31m     \u001b[0;34m(\u001b[0m\u001b[0;34m'name_stripped'\u001b[0m\u001b[0;34m,\u001b[0m \u001b[0magate\u001b[0m\u001b[0;34m.\u001b[0m\u001b[0mFormula\u001b[0m\u001b[0;34m(\u001b[0m\u001b[0mtext_type\u001b[0m\u001b[0;34m,\u001b[0m \u001b[0;32mlambda\u001b[0m \u001b[0mr\u001b[0m\u001b[0;34m:\u001b[0m \u001b[0mr\u001b[0m\u001b[0;34m[\u001b[0m\u001b[0;34m'Trade Name'\u001b[0m\u001b[0;34m]\u001b[0m\u001b[0;34m.\u001b[0m\u001b[0mstrip\u001b[0m\u001b[0;34m(\u001b[0m\u001b[0;34m)\u001b[0m\u001b[0;34m)\u001b[0m\u001b[0;34m)\u001b[0m\u001b[0;34m\u001b[0m\u001b[0m\n\u001b[0m\u001b[1;32m      3\u001b[0m ])\n",
      "\u001b[0;31mNameError\u001b[0m: name 'text_type' is not defined"
     ]
    }
   ],
   "source": [
    "new_table = mixbev.compute([\n",
    "    ('name_stripped', agate.Formula(text_type, lambda r: r['Trade Name'].strip()))\n",
    "])"
   ]
  },
  {
   "cell_type": "code",
   "execution_count": 48,
   "metadata": {
    "collapsed": false
   },
   "outputs": [
    {
     "ename": "NameError",
     "evalue": "name 'new_table' is not defined",
     "output_type": "error",
     "traceback": [
      "\u001b[0;31m---------------------------------------------------------------------------\u001b[0m",
      "\u001b[0;31mNameError\u001b[0m                                 Traceback (most recent call last)",
      "\u001b[0;32m<ipython-input-48-2eafa0a25619>\u001b[0m in \u001b[0;36m<module>\u001b[0;34m()\u001b[0m\n\u001b[0;32m----> 1\u001b[0;31m \u001b[0mnew_table\u001b[0m\u001b[0;34m.\u001b[0m\u001b[0mprint_table\u001b[0m\u001b[0;34m(\u001b[0m\u001b[0;34m)\u001b[0m\u001b[0;34m\u001b[0m\u001b[0m\n\u001b[0m",
      "\u001b[0;31mNameError\u001b[0m: name 'new_table' is not defined"
     ]
    }
   ],
   "source": [
    "new_table.print_table()"
   ]
  },
  {
   "cell_type": "code",
   "execution_count": null,
   "metadata": {
    "collapsed": true
   },
   "outputs": [],
   "source": []
  }
 ],
 "metadata": {
  "kernelspec": {
   "display_name": "Python 3",
   "language": "python",
   "name": "python3"
  },
  "language_info": {
   "codemirror_mode": {
    "name": "ipython",
    "version": 3
   },
   "file_extension": ".py",
   "mimetype": "text/x-python",
   "name": "python",
   "nbconvert_exporter": "python",
   "pygments_lexer": "ipython3",
   "version": "3.6.1"
  }
 },
 "nbformat": 4,
 "nbformat_minor": 2
}
